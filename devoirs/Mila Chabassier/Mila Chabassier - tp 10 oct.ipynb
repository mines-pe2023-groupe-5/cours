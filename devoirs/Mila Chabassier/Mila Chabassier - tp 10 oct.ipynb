{
 "cells": [
  {
   "cell_type": "markdown",
   "id": "1ceefbce",
   "metadata": {},
   "source": [
    "Dans ce notebook, je vous propose d'étudier une base de données portant sur les Pokemon et leurs capacités. J'y étudie leurs statistiques en fonction notamment de leur génération et de leur type."
   ]
  },
  {
   "cell_type": "code",
   "execution_count": 2,
   "id": "ac3e777d",
   "metadata": {},
   "outputs": [
    {
     "data": {
      "text/html": [
       "<div>\n",
       "<style scoped>\n",
       "    .dataframe tbody tr th:only-of-type {\n",
       "        vertical-align: middle;\n",
       "    }\n",
       "\n",
       "    .dataframe tbody tr th {\n",
       "        vertical-align: top;\n",
       "    }\n",
       "\n",
       "    .dataframe thead th {\n",
       "        text-align: right;\n",
       "    }\n",
       "</style>\n",
       "<table border=\"1\" class=\"dataframe\">\n",
       "  <thead>\n",
       "    <tr style=\"text-align: right;\">\n",
       "      <th></th>\n",
       "      <th>#</th>\n",
       "      <th>Name</th>\n",
       "      <th>Type 1</th>\n",
       "      <th>Type 2</th>\n",
       "      <th>Total</th>\n",
       "      <th>HP</th>\n",
       "      <th>Attack</th>\n",
       "      <th>Defense</th>\n",
       "      <th>Sp. Atk</th>\n",
       "      <th>Sp. Def</th>\n",
       "      <th>Speed</th>\n",
       "      <th>Generation</th>\n",
       "      <th>Legendary</th>\n",
       "    </tr>\n",
       "  </thead>\n",
       "  <tbody>\n",
       "    <tr>\n",
       "      <th>0</th>\n",
       "      <td>1</td>\n",
       "      <td>Bulbasaur</td>\n",
       "      <td>Grass</td>\n",
       "      <td>Poison</td>\n",
       "      <td>318</td>\n",
       "      <td>45</td>\n",
       "      <td>49</td>\n",
       "      <td>49</td>\n",
       "      <td>65</td>\n",
       "      <td>65</td>\n",
       "      <td>45</td>\n",
       "      <td>1</td>\n",
       "      <td>False</td>\n",
       "    </tr>\n",
       "    <tr>\n",
       "      <th>1</th>\n",
       "      <td>2</td>\n",
       "      <td>Ivysaur</td>\n",
       "      <td>Grass</td>\n",
       "      <td>Poison</td>\n",
       "      <td>405</td>\n",
       "      <td>60</td>\n",
       "      <td>62</td>\n",
       "      <td>63</td>\n",
       "      <td>80</td>\n",
       "      <td>80</td>\n",
       "      <td>60</td>\n",
       "      <td>1</td>\n",
       "      <td>False</td>\n",
       "    </tr>\n",
       "    <tr>\n",
       "      <th>2</th>\n",
       "      <td>3</td>\n",
       "      <td>Venusaur</td>\n",
       "      <td>Grass</td>\n",
       "      <td>Poison</td>\n",
       "      <td>525</td>\n",
       "      <td>80</td>\n",
       "      <td>82</td>\n",
       "      <td>83</td>\n",
       "      <td>100</td>\n",
       "      <td>100</td>\n",
       "      <td>80</td>\n",
       "      <td>1</td>\n",
       "      <td>False</td>\n",
       "    </tr>\n",
       "    <tr>\n",
       "      <th>3</th>\n",
       "      <td>3</td>\n",
       "      <td>VenusaurMega Venusaur</td>\n",
       "      <td>Grass</td>\n",
       "      <td>Poison</td>\n",
       "      <td>625</td>\n",
       "      <td>80</td>\n",
       "      <td>100</td>\n",
       "      <td>123</td>\n",
       "      <td>122</td>\n",
       "      <td>120</td>\n",
       "      <td>80</td>\n",
       "      <td>1</td>\n",
       "      <td>False</td>\n",
       "    </tr>\n",
       "    <tr>\n",
       "      <th>4</th>\n",
       "      <td>4</td>\n",
       "      <td>Charmander</td>\n",
       "      <td>Fire</td>\n",
       "      <td>NaN</td>\n",
       "      <td>309</td>\n",
       "      <td>39</td>\n",
       "      <td>52</td>\n",
       "      <td>43</td>\n",
       "      <td>60</td>\n",
       "      <td>50</td>\n",
       "      <td>65</td>\n",
       "      <td>1</td>\n",
       "      <td>False</td>\n",
       "    </tr>\n",
       "  </tbody>\n",
       "</table>\n",
       "</div>"
      ],
      "text/plain": [
       "   #                   Name Type 1  Type 2  Total  HP  Attack  Defense  \\\n",
       "0  1              Bulbasaur  Grass  Poison    318  45      49       49   \n",
       "1  2                Ivysaur  Grass  Poison    405  60      62       63   \n",
       "2  3               Venusaur  Grass  Poison    525  80      82       83   \n",
       "3  3  VenusaurMega Venusaur  Grass  Poison    625  80     100      123   \n",
       "4  4             Charmander   Fire     NaN    309  39      52       43   \n",
       "\n",
       "   Sp. Atk  Sp. Def  Speed  Generation  Legendary  \n",
       "0       65       65     45           1      False  \n",
       "1       80       80     60           1      False  \n",
       "2      100      100     80           1      False  \n",
       "3      122      120     80           1      False  \n",
       "4       60       50     65           1      False  "
      ]
     },
     "execution_count": 2,
     "metadata": {},
     "output_type": "execute_result"
    }
   ],
   "source": [
    "import pandas as pd\n",
    "\n",
    "lien = \"https://gist.githubusercontent.com/armgilles/194bcff35001e7eb53a2a8b441e8b2c6/raw/92200bc0a673d5ce2110aaad4544ed6c4010f687/pokemon.csv\"\n",
    "\n",
    "fichier = pd.read_csv(lien)\n",
    "fichier.head()"
   ]
  },
  {
   "cell_type": "markdown",
   "id": "7edc89d2",
   "metadata": {},
   "source": [
    "# Génération"
   ]
  },
  {
   "cell_type": "markdown",
   "id": "86057bd1",
   "metadata": {},
   "source": [
    "Dans cette partie, je m'intéresse à la distinction des Pokemon par génération, en commençant par le nombre de Pokemon par génération"
   ]
  },
  {
   "cell_type": "code",
   "execution_count": 3,
   "id": "bed43406",
   "metadata": {},
   "outputs": [
    {
     "data": {
      "text/html": [
       "<div>\n",
       "<style scoped>\n",
       "    .dataframe tbody tr th:only-of-type {\n",
       "        vertical-align: middle;\n",
       "    }\n",
       "\n",
       "    .dataframe tbody tr th {\n",
       "        vertical-align: top;\n",
       "    }\n",
       "\n",
       "    .dataframe thead th {\n",
       "        text-align: right;\n",
       "    }\n",
       "</style>\n",
       "<table border=\"1\" class=\"dataframe\">\n",
       "  <thead>\n",
       "    <tr style=\"text-align: right;\">\n",
       "      <th></th>\n",
       "      <th>#</th>\n",
       "      <th>Name</th>\n",
       "      <th>Type 1</th>\n",
       "      <th>Type 2</th>\n",
       "      <th>Total</th>\n",
       "      <th>HP</th>\n",
       "      <th>Attack</th>\n",
       "      <th>Defense</th>\n",
       "      <th>Sp. Atk</th>\n",
       "      <th>Sp. Def</th>\n",
       "      <th>Speed</th>\n",
       "      <th>Legendary</th>\n",
       "    </tr>\n",
       "    <tr>\n",
       "      <th>Generation</th>\n",
       "      <th></th>\n",
       "      <th></th>\n",
       "      <th></th>\n",
       "      <th></th>\n",
       "      <th></th>\n",
       "      <th></th>\n",
       "      <th></th>\n",
       "      <th></th>\n",
       "      <th></th>\n",
       "      <th></th>\n",
       "      <th></th>\n",
       "      <th></th>\n",
       "    </tr>\n",
       "  </thead>\n",
       "  <tbody>\n",
       "    <tr>\n",
       "      <th>1</th>\n",
       "      <td>166</td>\n",
       "      <td>166</td>\n",
       "      <td>166</td>\n",
       "      <td>78</td>\n",
       "      <td>166</td>\n",
       "      <td>166</td>\n",
       "      <td>166</td>\n",
       "      <td>166</td>\n",
       "      <td>166</td>\n",
       "      <td>166</td>\n",
       "      <td>166</td>\n",
       "      <td>166</td>\n",
       "    </tr>\n",
       "    <tr>\n",
       "      <th>2</th>\n",
       "      <td>106</td>\n",
       "      <td>106</td>\n",
       "      <td>106</td>\n",
       "      <td>55</td>\n",
       "      <td>106</td>\n",
       "      <td>106</td>\n",
       "      <td>106</td>\n",
       "      <td>106</td>\n",
       "      <td>106</td>\n",
       "      <td>106</td>\n",
       "      <td>106</td>\n",
       "      <td>106</td>\n",
       "    </tr>\n",
       "    <tr>\n",
       "      <th>3</th>\n",
       "      <td>160</td>\n",
       "      <td>160</td>\n",
       "      <td>160</td>\n",
       "      <td>82</td>\n",
       "      <td>160</td>\n",
       "      <td>160</td>\n",
       "      <td>160</td>\n",
       "      <td>160</td>\n",
       "      <td>160</td>\n",
       "      <td>160</td>\n",
       "      <td>160</td>\n",
       "      <td>160</td>\n",
       "    </tr>\n",
       "    <tr>\n",
       "      <th>4</th>\n",
       "      <td>121</td>\n",
       "      <td>121</td>\n",
       "      <td>121</td>\n",
       "      <td>67</td>\n",
       "      <td>121</td>\n",
       "      <td>121</td>\n",
       "      <td>121</td>\n",
       "      <td>121</td>\n",
       "      <td>121</td>\n",
       "      <td>121</td>\n",
       "      <td>121</td>\n",
       "      <td>121</td>\n",
       "    </tr>\n",
       "    <tr>\n",
       "      <th>5</th>\n",
       "      <td>165</td>\n",
       "      <td>165</td>\n",
       "      <td>165</td>\n",
       "      <td>82</td>\n",
       "      <td>165</td>\n",
       "      <td>165</td>\n",
       "      <td>165</td>\n",
       "      <td>165</td>\n",
       "      <td>165</td>\n",
       "      <td>165</td>\n",
       "      <td>165</td>\n",
       "      <td>165</td>\n",
       "    </tr>\n",
       "    <tr>\n",
       "      <th>6</th>\n",
       "      <td>82</td>\n",
       "      <td>82</td>\n",
       "      <td>82</td>\n",
       "      <td>50</td>\n",
       "      <td>82</td>\n",
       "      <td>82</td>\n",
       "      <td>82</td>\n",
       "      <td>82</td>\n",
       "      <td>82</td>\n",
       "      <td>82</td>\n",
       "      <td>82</td>\n",
       "      <td>82</td>\n",
       "    </tr>\n",
       "  </tbody>\n",
       "</table>\n",
       "</div>"
      ],
      "text/plain": [
       "              #  Name  Type 1  Type 2  Total   HP  Attack  Defense  Sp. Atk  \\\n",
       "Generation                                                                    \n",
       "1           166   166     166      78    166  166     166      166      166   \n",
       "2           106   106     106      55    106  106     106      106      106   \n",
       "3           160   160     160      82    160  160     160      160      160   \n",
       "4           121   121     121      67    121  121     121      121      121   \n",
       "5           165   165     165      82    165  165     165      165      165   \n",
       "6            82    82      82      50     82   82      82       82       82   \n",
       "\n",
       "            Sp. Def  Speed  Legendary  \n",
       "Generation                             \n",
       "1               166    166        166  \n",
       "2               106    106        106  \n",
       "3               160    160        160  \n",
       "4               121    121        121  \n",
       "5               165    165        165  \n",
       "6                82     82         82  "
      ]
     },
     "execution_count": 3,
     "metadata": {},
     "output_type": "execute_result"
    }
   ],
   "source": [
    "fichier['Name']\n",
    "f_nb_gen=fichier.groupby(by='Generation').count()\n",
    "f_nb_gen"
   ]
  },
  {
   "cell_type": "code",
   "execution_count": 4,
   "id": "855f7dae",
   "metadata": {},
   "outputs": [
    {
     "data": {
      "text/plain": [
       "<AxesSubplot:title={'center':'Répartition du nombre de Pokemon en fonction de leur génération'}, ylabel='#'>"
      ]
     },
     "execution_count": 4,
     "metadata": {},
     "output_type": "execute_result"
    },
    {
     "data": {
      "image/png": "[encoded data removed]",
      "text/plain": [
       "<Figure size 432x288 with 1 Axes>"
      ]
     },
     "metadata": {},
     "output_type": "display_data"
    }
   ],
   "source": [
    "f_nb_gen['#'].plot(kind=\"pie\",title='Répartition du nombre de Pokemon en fonction de leur génération')"
   ]
  },
  {
   "cell_type": "code",
   "execution_count": 5,
   "id": "52edd4de",
   "metadata": {},
   "outputs": [
    {
     "name": "stdout",
     "output_type": "stream",
     "text": [
      "Le nombre total de légendaires sur les 6 générations est 65\n"
     ]
    }
   ],
   "source": [
    "f_nb_leg=fichier.groupby(by='Legendary').count()\n",
    "print('Le nombre total de légendaires sur les 6 générations est',f_nb_leg['#'].iloc[1])"
   ]
  },
  {
   "cell_type": "markdown",
   "id": "ce75c373",
   "metadata": {},
   "source": [
    "# Meilleures statistiques par type"
   ]
  },
  {
   "cell_type": "markdown",
   "id": "cab15510",
   "metadata": {},
   "source": [
    "Dans cette partie, je fais ressortir les meilleurs statistiques, d'abord celles pour tous les Pokemon, puis je distingue les statistiques par type. "
   ]
  },
  {
   "cell_type": "code",
   "execution_count": 6,
   "id": "cb0bc455",
   "metadata": {},
   "outputs": [
    {
     "name": "stdout",
     "output_type": "stream",
     "text": [
      "Le pokémon avec la défense la plus élevée est SteelixMega Steelix\n"
     ]
    }
   ],
   "source": [
    "#défense\n",
    "def_max=fichier[\"Defense\"].max()\n",
    "pkm_def_max=fichier[fichier['Defense']==def_max]\n",
    "print(\"Le pokémon avec la défense la plus élevée est\",pkm_def_max[\"Name\"].iloc[0])"
   ]
  },
  {
   "cell_type": "code",
   "execution_count": 7,
   "id": "61dea312",
   "metadata": {
    "scrolled": true
   },
   "outputs": [
    {
     "name": "stdout",
     "output_type": "stream",
     "text": [
      "Le pokémon avec l'attaque la plus élevée est MewtwoMega Mewtwo X\n"
     ]
    }
   ],
   "source": [
    "#attaque\n",
    "atk_max=fichier[\"Attack\"].max()\n",
    "pkm_atk_max=fichier[fichier['Attack']==atk_max]\n",
    "print(\"Le pokémon avec l'attaque la plus élevée est\",pkm_atk_max[\"Name\"].iloc[0])"
   ]
  },
  {
   "cell_type": "markdown",
   "id": "6a1f2336",
   "metadata": {},
   "source": [
    "Désormais, je me penche sur la distinction des Pokemon par type . J'étudie leurs différences de statistiques (attaque, défense, vitesse) en fonction de leur premier type."
   ]
  },
  {
   "cell_type": "code",
   "execution_count": 8,
   "id": "fd08dec8",
   "metadata": {
    "scrolled": false
   },
   "outputs": [],
   "source": [
    "#je crée une dataframe qui donne une moyenne des statistiques défense, attaque, vitesse pour chaque type\n",
    "f_type1_atk=fichier.groupby('Type 1')['Attack'].mean()\n",
    "f_type1_def=fichier.groupby('Type 1')['Defense'].mean()\n",
    "f_type1_speed=fichier.groupby('Type 1')['Speed'].mean()"
   ]
  },
  {
   "cell_type": "code",
   "execution_count": 9,
   "id": "bdd73da9",
   "metadata": {},
   "outputs": [],
   "source": [
    "#j'enregistre dans des listes les valeurs de ces moyennes par type pou rpouvoir les afficher sur un même graphe\n",
    "types=f_type1_atk.keys()\n",
    "n=len(types)\n",
    "\n",
    "f_type1_atk_valeurs=[f_type1_atk.iloc[i] for i in range(n)]\n",
    "f_type1_def_valeurs=[f_type1_def.iloc[i] for i in range(n)]\n",
    "f_type1_speed_valeurs=[f_type1_speed.iloc[i] for i in range(n)]\n",
    "\n",
    "list_types=[i for i in types]\n"
   ]
  },
  {
   "cell_type": "code",
   "execution_count": 10,
   "id": "ee4bc798",
   "metadata": {},
   "outputs": [
    {
     "data": {
      "text/plain": [
       "<AxesSubplot:title={'center':'Statistiques moyennes par type'}>"
      ]
     },
     "execution_count": 10,
     "metadata": {},
     "output_type": "execute_result"
    },
    {
     "data": {
      "image/png": "[encoded data removed]",
      "text/plain": [
       "<Figure size 432x288 with 1 Axes>"
      ]
     },
     "metadata": {
      "needs_background": "light"
     },
     "output_type": "display_data"
    }
   ],
   "source": [
    "dico_atk_def={'attaque':f_type1_atk_valeurs,'défense':f_type1_def_valeurs,'vitesse':f_type1_speed_valeurs}\n",
    "atk_def=pd.DataFrame(dico_atk_def,index=list_types)\n",
    "atk_def.plot(kind='barh',xlim=(20,140),title='Statistiques moyennes par type',color=('yellow','lime','pink'))"
   ]
  },
  {
   "cell_type": "markdown",
   "id": "e0bc777b",
   "metadata": {},
   "source": [
    "# Catégories de vitesses"
   ]
  },
  {
   "cell_type": "markdown",
   "id": "8092d0e4",
   "metadata": {},
   "source": [
    "Enfin, je cherche à diviser les Pokemon en trois catégories en focntion de leur vitesse, qu'elle soit lente, rapide ou moyenne"
   ]
  },
  {
   "cell_type": "code",
   "execution_count": 11,
   "id": "b8b31d7f",
   "metadata": {
    "scrolled": true
   },
   "outputs": [
    {
     "name": "stdout",
     "output_type": "stream",
     "text": [
      "La vitesse minimale qu'un Pokemon peut avoir est 5\n",
      "La vitesse maximale est 180\n"
     ]
    }
   ],
   "source": [
    "#je cherche la vitesse minimale et maximale de tous les Pokemon pour la diviser en trois catégories régulièrement espacées\n",
    "vitesse_min=fichier['Speed'].min()\n",
    "vitesse_max=fichier['Speed'].max()\n",
    "\n",
    "print('La vitesse minimale qu\\'un Pokemon peut avoir est',vitesse_min)\n",
    "print('La vitesse maximale est',vitesse_max)\n",
    "\n",
    "vitesse_quartile1=int(vitesse_min+(vitesse_max-vitesse_min)/3)\n",
    "vitesse_quartile3=int(vitesse_max-(vitesse_max-vitesse_min)/3)"
   ]
  },
  {
   "cell_type": "code",
   "execution_count": 12,
   "id": "f8b25f2c",
   "metadata": {},
   "outputs": [],
   "source": [
    "#je divise les Pokemon en 3 catégories dans des listes\n",
    "lent=[]\n",
    "moyen=[]\n",
    "rapide=[]\n",
    "\n",
    "for i in range(len(fichier['#'])):\n",
    "    if fichier['Speed'].iloc[i]<=vitesse_quartile1:\n",
    "        lent.append(fichier['Name'].iloc[i])\n",
    "    elif fichier['Speed'].iloc[i]>=vitesse_quartile3:\n",
    "        rapide.append(fichier['Name'].iloc[i])\n",
    "    else:\n",
    "        moyen.append(fichier['Name'].iloc[i])"
   ]
  },
  {
   "cell_type": "code",
   "execution_count": 13,
   "id": "7bb219e8",
   "metadata": {},
   "outputs": [
    {
     "data": {
      "text/plain": [
       "<AxesSubplot:title={'center':'Répartition du nombre de Pokemon en fonction de leur vitesse'}>"
      ]
     },
     "execution_count": 13,
     "metadata": {},
     "output_type": "execute_result"
    },
    {
     "data": {
      "image/png": "[encoded data removed]",
      "text/plain": [
       "<Figure size 432x288 with 1 Axes>"
      ]
     },
     "metadata": {
      "needs_background": "light"
     },
     "output_type": "display_data"
    }
   ],
   "source": [
    "dico_speed={'nb de Pokemon':[len(lent),len(moyen),len(rapide)]}\n",
    "df_vitesse=pd.DataFrame(dico_speed,index=['Lente','Moyenne','Rapide'])\n",
    "df_vitesse.plot(kind='bar',title='Répartition du nombre de Pokemon en fonction de leur vitesse',color='lime')"
   ]
  },
  {
   "cell_type": "markdown",
   "id": "a3cdbfee",
   "metadata": {},
   "source": [
    "# Conclusion"
   ]
  },
  {
   "cell_type": "markdown",
   "id": "e851bd84",
   "metadata": {},
   "source": [
    "Pour constituer une équipe de Pokemon, il est très important de connaître leurs statistiques, que ce soit leur attaque, leur défense, leur vitesse ou encore leur type. Il est important de mélanger les types dans son équipe, d'une part, pour avoir les types qui affaiblissent au mieux les Pokemon de son adversaire, d'autre part, car les statistiques des Pokemon sont très variables en fonction de leur type. Ainsi, si les Pokemon de type acier ont la meilleure défense, les types Dragon ont la meilleure attaque. Enfin concernant la vitesse, les Pokemon de type vol sont de loin les plus rapides, et comme on peut le constater, les Pokemon sont essentiellement de vitesse moyenne ou lente, très peu d'entre eux sont en réalité rapides."
   ]
  }
 ],
 "metadata": {
  "kernelspec": {
   "display_name": "Python 3 (ipykernel)",
   "language": "python",
   "name": "python3"
  },
  "language_info": {
   "codemirror_mode": {
    "name": "ipython",
    "version": 3
   },
   "file_extension": ".py",
   "mimetype": "text/x-python",
   "name": "python",
   "nbconvert_exporter": "python",
   "pygments_lexer": "ipython3",
   "version": "3.8.8"
  }
 },
 "nbformat": 4,
 "nbformat_minor": 5
}
