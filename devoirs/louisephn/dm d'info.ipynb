{
 "cells": [
  {
   "cell_type": "markdown",
   "id": "7c80b7dd-c4b8-467e-a13b-0ce1756a1b79",
   "metadata": {},
   "source": [
    "DM d'informatique: Louise PHILIBERT-NICOL\n",
    "J'ai décié de m'intéresser à la pollution de l'air, pour cela j'ai récupéré une base de donnée contenant les staux de NO2 et O3 heure par heure dans l'air à Paris entre les années 2008 et 2016. Les données sont en microgrammes par mètres cube\n",
    "Commençons tout d'abord par importer les données :\n"
   ]
  },
  {
   "cell_type": "code",
   "execution_count": 1,
   "id": "5419d92c-2b71-43fa-8763-f0de37df03d7",
   "metadata": {},
   "outputs": [
    {
     "name": "stdout",
     "output_type": "stream",
     "text": [
      "Replace is False and data exists, so doing nothing. Use replace=True to re-download the data.\n"
     ]
    }
   ],
   "source": [
    "import numpy as np\n",
    "import pandas as pd\n",
    "from download import download\n",
    "url = \"http://josephsalmon.eu/enseignement/datasets/20080421_20160927-PA13_auto.csv\"\n",
    "path_target = \"./20080421_20160927-PA13_auto.csv\"\n",
    "download(url, path_target, replace=False)\n",
    "\n",
    "df = pd.read_csv('20080421_20160927-PA13_auto.csv', sep=';',comment='#', na_values=\"n/d\",converters={'heure': str})\n",
    "\n",
    "\n",
    "\n"
   ]
  },
  {
   "cell_type": "markdown",
   "id": "e1c64849-cee4-43c1-8434-fa8e8d05434b",
   "metadata": {},
   "source": [
    "Affichons les 25 premières lignes de notre tableau de données"
   ]
  },
  {
   "cell_type": "code",
   "execution_count": 2,
   "id": "8d155948-1072-4254-ba99-66a62e422700",
   "metadata": {},
   "outputs": [
    {
     "data": {
      "text/html": [
       "<div>\n",
       "<style scoped>\n",
       "    .dataframe tbody tr th:only-of-type {\n",
       "        vertical-align: middle;\n",
       "    }\n",
       "\n",
       "    .dataframe tbody tr th {\n",
       "        vertical-align: top;\n",
       "    }\n",
       "\n",
       "    .dataframe thead th {\n",
       "        text-align: right;\n",
       "    }\n",
       "</style>\n",
       "<table border=\"1\" class=\"dataframe\">\n",
       "  <thead>\n",
       "    <tr style=\"text-align: right;\">\n",
       "      <th></th>\n",
       "      <th>date</th>\n",
       "      <th>heure</th>\n",
       "      <th>NO2</th>\n",
       "      <th>O3</th>\n",
       "    </tr>\n",
       "  </thead>\n",
       "  <tbody>\n",
       "    <tr>\n",
       "      <th>0</th>\n",
       "      <td>21/04/2008</td>\n",
       "      <td>1</td>\n",
       "      <td>13.0</td>\n",
       "      <td>74.0</td>\n",
       "    </tr>\n",
       "    <tr>\n",
       "      <th>1</th>\n",
       "      <td>21/04/2008</td>\n",
       "      <td>2</td>\n",
       "      <td>11.0</td>\n",
       "      <td>73.0</td>\n",
       "    </tr>\n",
       "    <tr>\n",
       "      <th>2</th>\n",
       "      <td>21/04/2008</td>\n",
       "      <td>3</td>\n",
       "      <td>13.0</td>\n",
       "      <td>64.0</td>\n",
       "    </tr>\n",
       "    <tr>\n",
       "      <th>3</th>\n",
       "      <td>21/04/2008</td>\n",
       "      <td>4</td>\n",
       "      <td>23.0</td>\n",
       "      <td>46.0</td>\n",
       "    </tr>\n",
       "    <tr>\n",
       "      <th>4</th>\n",
       "      <td>21/04/2008</td>\n",
       "      <td>5</td>\n",
       "      <td>47.0</td>\n",
       "      <td>24.0</td>\n",
       "    </tr>\n",
       "    <tr>\n",
       "      <th>5</th>\n",
       "      <td>21/04/2008</td>\n",
       "      <td>6</td>\n",
       "      <td>70.0</td>\n",
       "      <td>11.0</td>\n",
       "    </tr>\n",
       "    <tr>\n",
       "      <th>6</th>\n",
       "      <td>21/04/2008</td>\n",
       "      <td>7</td>\n",
       "      <td>70.0</td>\n",
       "      <td>17.0</td>\n",
       "    </tr>\n",
       "    <tr>\n",
       "      <th>7</th>\n",
       "      <td>21/04/2008</td>\n",
       "      <td>8</td>\n",
       "      <td>76.0</td>\n",
       "      <td>16.0</td>\n",
       "    </tr>\n",
       "    <tr>\n",
       "      <th>8</th>\n",
       "      <td>21/04/2008</td>\n",
       "      <td>9</td>\n",
       "      <td>NaN</td>\n",
       "      <td>NaN</td>\n",
       "    </tr>\n",
       "    <tr>\n",
       "      <th>9</th>\n",
       "      <td>21/04/2008</td>\n",
       "      <td>10</td>\n",
       "      <td>NaN</td>\n",
       "      <td>NaN</td>\n",
       "    </tr>\n",
       "    <tr>\n",
       "      <th>10</th>\n",
       "      <td>21/04/2008</td>\n",
       "      <td>11</td>\n",
       "      <td>NaN</td>\n",
       "      <td>NaN</td>\n",
       "    </tr>\n",
       "    <tr>\n",
       "      <th>11</th>\n",
       "      <td>21/04/2008</td>\n",
       "      <td>12</td>\n",
       "      <td>33.0</td>\n",
       "      <td>60.0</td>\n",
       "    </tr>\n",
       "    <tr>\n",
       "      <th>12</th>\n",
       "      <td>21/04/2008</td>\n",
       "      <td>13</td>\n",
       "      <td>31.0</td>\n",
       "      <td>61.0</td>\n",
       "    </tr>\n",
       "    <tr>\n",
       "      <th>13</th>\n",
       "      <td>21/04/2008</td>\n",
       "      <td>14</td>\n",
       "      <td>37.0</td>\n",
       "      <td>61.0</td>\n",
       "    </tr>\n",
       "    <tr>\n",
       "      <th>14</th>\n",
       "      <td>21/04/2008</td>\n",
       "      <td>15</td>\n",
       "      <td>20.0</td>\n",
       "      <td>78.0</td>\n",
       "    </tr>\n",
       "    <tr>\n",
       "      <th>15</th>\n",
       "      <td>21/04/2008</td>\n",
       "      <td>16</td>\n",
       "      <td>29.0</td>\n",
       "      <td>71.0</td>\n",
       "    </tr>\n",
       "    <tr>\n",
       "      <th>16</th>\n",
       "      <td>21/04/2008</td>\n",
       "      <td>17</td>\n",
       "      <td>30.0</td>\n",
       "      <td>70.0</td>\n",
       "    </tr>\n",
       "    <tr>\n",
       "      <th>17</th>\n",
       "      <td>21/04/2008</td>\n",
       "      <td>18</td>\n",
       "      <td>38.0</td>\n",
       "      <td>58.0</td>\n",
       "    </tr>\n",
       "    <tr>\n",
       "      <th>18</th>\n",
       "      <td>21/04/2008</td>\n",
       "      <td>19</td>\n",
       "      <td>52.0</td>\n",
       "      <td>40.0</td>\n",
       "    </tr>\n",
       "    <tr>\n",
       "      <th>19</th>\n",
       "      <td>21/04/2008</td>\n",
       "      <td>20</td>\n",
       "      <td>56.0</td>\n",
       "      <td>29.0</td>\n",
       "    </tr>\n",
       "    <tr>\n",
       "      <th>20</th>\n",
       "      <td>21/04/2008</td>\n",
       "      <td>21</td>\n",
       "      <td>39.0</td>\n",
       "      <td>40.0</td>\n",
       "    </tr>\n",
       "    <tr>\n",
       "      <th>21</th>\n",
       "      <td>21/04/2008</td>\n",
       "      <td>22</td>\n",
       "      <td>31.0</td>\n",
       "      <td>42.0</td>\n",
       "    </tr>\n",
       "    <tr>\n",
       "      <th>22</th>\n",
       "      <td>21/04/2008</td>\n",
       "      <td>23</td>\n",
       "      <td>29.0</td>\n",
       "      <td>42.0</td>\n",
       "    </tr>\n",
       "    <tr>\n",
       "      <th>23</th>\n",
       "      <td>21/04/2008</td>\n",
       "      <td>24</td>\n",
       "      <td>28.0</td>\n",
       "      <td>36.0</td>\n",
       "    </tr>\n",
       "    <tr>\n",
       "      <th>24</th>\n",
       "      <td>22/04/2008</td>\n",
       "      <td>1</td>\n",
       "      <td>46.0</td>\n",
       "      <td>16.0</td>\n",
       "    </tr>\n",
       "  </tbody>\n",
       "</table>\n",
       "</div>"
      ],
      "text/plain": [
       "          date heure   NO2    O3\n",
       "0   21/04/2008     1  13.0  74.0\n",
       "1   21/04/2008     2  11.0  73.0\n",
       "2   21/04/2008     3  13.0  64.0\n",
       "3   21/04/2008     4  23.0  46.0\n",
       "4   21/04/2008     5  47.0  24.0\n",
       "5   21/04/2008     6  70.0  11.0\n",
       "6   21/04/2008     7  70.0  17.0\n",
       "7   21/04/2008     8  76.0  16.0\n",
       "8   21/04/2008     9   NaN   NaN\n",
       "9   21/04/2008    10   NaN   NaN\n",
       "10  21/04/2008    11   NaN   NaN\n",
       "11  21/04/2008    12  33.0  60.0\n",
       "12  21/04/2008    13  31.0  61.0\n",
       "13  21/04/2008    14  37.0  61.0\n",
       "14  21/04/2008    15  20.0  78.0\n",
       "15  21/04/2008    16  29.0  71.0\n",
       "16  21/04/2008    17  30.0  70.0\n",
       "17  21/04/2008    18  38.0  58.0\n",
       "18  21/04/2008    19  52.0  40.0\n",
       "19  21/04/2008    20  56.0  29.0\n",
       "20  21/04/2008    21  39.0  40.0\n",
       "21  21/04/2008    22  31.0  42.0\n",
       "22  21/04/2008    23  29.0  42.0\n",
       "23  21/04/2008    24  28.0  36.0\n",
       "24  22/04/2008     1  46.0  16.0"
      ]
     },
     "execution_count": 2,
     "metadata": {},
     "output_type": "execute_result"
    }
   ],
   "source": [
    "df.head(25)"
   ]
  },
  {
   "cell_type": "markdown",
   "id": "0781fbec-9903-4e5b-b04b-79928d39acff",
   "metadata": {},
   "source": [
    "Intéressons nous maintenant aux statistiques que l'on peut tirer de nos données. "
   ]
  },
  {
   "cell_type": "code",
   "execution_count": 3,
   "id": "400e01bf-a4ea-47e5-a814-42985693899f",
   "metadata": {},
   "outputs": [
    {
     "data": {
      "text/html": [
       "<div>\n",
       "<style scoped>\n",
       "    .dataframe tbody tr th:only-of-type {\n",
       "        vertical-align: middle;\n",
       "    }\n",
       "\n",
       "    .dataframe tbody tr th {\n",
       "        vertical-align: top;\n",
       "    }\n",
       "\n",
       "    .dataframe thead th {\n",
       "        text-align: right;\n",
       "    }\n",
       "</style>\n",
       "<table border=\"1\" class=\"dataframe\">\n",
       "  <thead>\n",
       "    <tr style=\"text-align: right;\">\n",
       "      <th></th>\n",
       "      <th>NO2</th>\n",
       "      <th>O3</th>\n",
       "    </tr>\n",
       "  </thead>\n",
       "  <tbody>\n",
       "    <tr>\n",
       "      <th>count</th>\n",
       "      <td>71008.000000</td>\n",
       "      <td>71452.000000</td>\n",
       "    </tr>\n",
       "    <tr>\n",
       "      <th>mean</th>\n",
       "      <td>34.453414</td>\n",
       "      <td>39.610046</td>\n",
       "    </tr>\n",
       "    <tr>\n",
       "      <th>std</th>\n",
       "      <td>20.380702</td>\n",
       "      <td>28.837333</td>\n",
       "    </tr>\n",
       "    <tr>\n",
       "      <th>min</th>\n",
       "      <td>1.000000</td>\n",
       "      <td>0.000000</td>\n",
       "    </tr>\n",
       "    <tr>\n",
       "      <th>25%</th>\n",
       "      <td>19.000000</td>\n",
       "      <td>16.000000</td>\n",
       "    </tr>\n",
       "    <tr>\n",
       "      <th>50%</th>\n",
       "      <td>30.000000</td>\n",
       "      <td>38.000000</td>\n",
       "    </tr>\n",
       "    <tr>\n",
       "      <th>75%</th>\n",
       "      <td>46.000000</td>\n",
       "      <td>58.000000</td>\n",
       "    </tr>\n",
       "    <tr>\n",
       "      <th>max</th>\n",
       "      <td>167.000000</td>\n",
       "      <td>211.000000</td>\n",
       "    </tr>\n",
       "  </tbody>\n",
       "</table>\n",
       "</div>"
      ],
      "text/plain": [
       "                NO2            O3\n",
       "count  71008.000000  71452.000000\n",
       "mean      34.453414     39.610046\n",
       "std       20.380702     28.837333\n",
       "min        1.000000      0.000000\n",
       "25%       19.000000     16.000000\n",
       "50%       30.000000     38.000000\n",
       "75%       46.000000     58.000000\n",
       "max      167.000000    211.000000"
      ]
     },
     "execution_count": 3,
     "metadata": {},
     "output_type": "execute_result"
    }
   ],
   "source": [
    "df.describe()"
   ]
  },
  {
   "cell_type": "markdown",
   "id": "adcb3031-752f-4942-83e8-cbf106332bf2",
   "metadata": {},
   "source": [
    "On peut comparer les résultats obtenus avec les objectifs annoncés de qualité de l'air . L'objectif est de ne pas dépasser 40 microgrammes de NO2 par mètre cube ce qui est en moyenne bien respecté. Le seuil d'aletre de 400 microgramme par mètres cubes de NO2 n'est pas dépassé non plus. Concernant l'ozone le seuil d'aletre de 240 microgramme par mètres cubes n'est pas dépassé non plus. \n",
    "Intéressons nous maintenant à la taille de notre tableau de données"
   ]
  },
  {
   "cell_type": "code",
   "execution_count": 4,
   "id": "7944d609-905f-4d40-8a12-26262c8503b3",
   "metadata": {},
   "outputs": [
    {
     "data": {
      "text/plain": [
       "(73920, 4)"
      ]
     },
     "execution_count": 4,
     "metadata": {},
     "output_type": "execute_result"
    }
   ],
   "source": [
    "df.shape"
   ]
  },
  {
   "cell_type": "markdown",
   "id": "459ad3b3-8e35-4806-8608-17e078041ca0",
   "metadata": {},
   "source": [
    "Intéressons nous au nombre d'heures passées au dessus du seuil de 40 microgrammes de NO2 par mètre cube"
   ]
  },
  {
   "cell_type": "code",
   "execution_count": 5,
   "id": "7cf37b8c-4054-4f32-89c4-00909c5907d4",
   "metadata": {},
   "outputs": [
    {
     "data": {
      "text/plain": [
       "23138"
      ]
     },
     "execution_count": 5,
     "metadata": {},
     "output_type": "execute_result"
    }
   ],
   "source": [
    "limite_dépassée_NO2 = (df['NO2'] >40) \n",
    "nb_heures_NO2=limite_dépassée_NO2.sum()\n",
    "nb_heures_NO2"
   ]
  },
  {
   "cell_type": "markdown",
   "id": "aef2aff6-4de7-4a9b-82dc-d4baf5345867",
   "metadata": {},
   "source": [
    "Concernant l'ozone l'objectif est de ne pas dépasser 120 microgrammes par mètre cube, regardons le nombre d'heures passées au dessus de cette limite entre 2008 et 2016"
   ]
  },
  {
   "cell_type": "code",
   "execution_count": 6,
   "id": "49bf3f7d-5c53-4762-8f9c-c39c77dd4934",
   "metadata": {},
   "outputs": [
    {
     "data": {
      "text/plain": [
       "757"
      ]
     },
     "execution_count": 6,
     "metadata": {},
     "output_type": "execute_result"
    }
   ],
   "source": [
    "limite_dépassée_O3 = (df['O3'] >120) \n",
    "nb_heures_O3=limite_dépassée_O3.sum()\n",
    "nb_heures_O3"
   ]
  },
  {
   "cell_type": "markdown",
   "id": "d110e34e-0226-4f07-a4cd-6cc4b1aa4991",
   "metadata": {},
   "source": [
    "Regardons l'évolution du taux de NO2 au cours du temps"
   ]
  },
  {
   "cell_type": "code",
   "execution_count": 7,
   "id": "ca845b34-73fc-41c6-842b-fbe58361104c",
   "metadata": {},
   "outputs": [
    {
     "data": {
      "text/plain": [
       "<Axes: >"
      ]
     },
     "execution_count": 7,
     "metadata": {},
     "output_type": "execute_result"
    },
    {
     "data": {
      "image/png": "[encoded data removed]",
      "text/plain": [
       "<Figure size 640x480 with 1 Axes>"
      ]
     },
     "metadata": {},
     "output_type": "display_data"
    }
   ],
   "source": [
    "df.NO2.plot()"
   ]
  },
  {
   "cell_type": "markdown",
   "id": "365e431f-e2a5-444d-bbb4-4d82b57990ff",
   "metadata": {},
   "source": [
    "Regardons l'évolution du taux d'ozone au cours du temps"
   ]
  },
  {
   "cell_type": "code",
   "execution_count": 8,
   "id": "9f9f078e-8091-4009-8aea-9526a9b18c68",
   "metadata": {},
   "outputs": [
    {
     "data": {
      "text/plain": [
       "<Axes: >"
      ]
     },
     "execution_count": 8,
     "metadata": {},
     "output_type": "execute_result"
    },
    {
     "data": {
      "image/png": "[encoded data removed]",
      "text/plain": [
       "<Figure size 640x480 with 1 Axes>"
      ]
     },
     "metadata": {},
     "output_type": "display_data"
    }
   ],
   "source": [
    "df.O3.plot()"
   ]
  },
  {
   "cell_type": "markdown",
   "id": "12e8af96-abd7-4814-8e70-002f0c64bd66",
   "metadata": {},
   "source": [
    "Regardons cette fois la répartition des taux de NO2 enregistrés"
   ]
  },
  {
   "cell_type": "code",
   "execution_count": 9,
   "id": "20371268-f790-4889-974e-3f575626ba83",
   "metadata": {},
   "outputs": [
    {
     "data": {
      "image/png": "[encoded data removed]",
      "text/plain": [
       "<Figure size 640x480 with 1 Axes>"
      ]
     },
     "metadata": {},
     "output_type": "display_data"
    }
   ],
   "source": [
    "test=df[\"NO2\"].hist()"
   ]
  },
  {
   "cell_type": "markdown",
   "id": "74a58a85-dcb8-4b45-9ef5-d45b166522a8",
   "metadata": {},
   "source": [
    "Et maintenant la même chose pour l'ozone"
   ]
  },
  {
   "cell_type": "code",
   "execution_count": 10,
   "id": "5ead7ec0-b9bc-4350-8c43-d774503c2fe2",
   "metadata": {},
   "outputs": [
    {
     "data": {
      "image/png": "[encoded data removed]",
      "text/plain": [
       "<Figure size 640x480 with 1 Axes>"
      ]
     },
     "metadata": {},
     "output_type": "display_data"
    }
   ],
   "source": [
    "test2=df[\"O3\"].hist()"
   ]
  },
  {
   "cell_type": "markdown",
   "id": "beb840eb-34e7-459b-b6b5-7fdc6f05f24c",
   "metadata": {},
   "source": [
    "Nous aurions pu afficher ces deux histogrammes en une seule fois:"
   ]
  },
  {
   "cell_type": "code",
   "execution_count": 11,
   "id": "fbec4b4a-2290-4dca-8b6c-20c9e6e12324",
   "metadata": {},
   "outputs": [
    {
     "data": {
      "text/plain": [
       "array([[<Axes: title={'center': 'NO2'}>, <Axes: title={'center': 'O3'}>]],\n",
       "      dtype=object)"
      ]
     },
     "execution_count": 11,
     "metadata": {},
     "output_type": "execute_result"
    },
    {
     "data": {
      "image/png": "[encoded data removed]",
      "text/plain": [
       "<Figure size 640x480 with 2 Axes>"
      ]
     },
     "metadata": {},
     "output_type": "display_data"
    }
   ],
   "source": [
    "df.hist()\n"
   ]
  },
  {
   "cell_type": "markdown",
   "id": "5b5e23f2-fd42-4e31-bf58-4bcb2e44d065",
   "metadata": {},
   "source": [
    "Essayons maintenant de nous intéresser au nombre de jours où l'objectif pour les atux de NO2 et d'ozone ont étés dépassés. Commençons avec le NO2. L'idée est qu'on regarde heure par heure si le taux enregistré est supérieur au seuil, et si oui si c'est le premier dépassement de la journée. On crée ensuite une nouvelle colonne à notre tableau de données contenant un 1 si l'heure associée correspond au premier dépassement de seuil de la journée et 0 sinon."
   ]
  },
  {
   "cell_type": "code",
   "execution_count": 12,
   "id": "7903369d-f7d8-471a-bc52-e87b2605ac8f",
   "metadata": {},
   "outputs": [
    {
     "name": "stdout",
     "output_type": "stream",
     "text": [
      "Le seuil en NO2 a été dépassé  2392  jours\n"
     ]
    }
   ],
   "source": [
    "longueur = df.shape [0]\n",
    "liste_date = []\n",
    "liste_valeurs = []\n",
    "for i in range(longueur):\n",
    "    if df.loc[i,'NO2'] > 40 and df.loc[i,'date'] not in liste_date:\n",
    "        liste_valeurs.append(1)\n",
    "        liste_date.append(df.loc[i,'date'])\n",
    "    else:\n",
    "        liste_valeurs.append(0)\n",
    "\n",
    "\n",
    "df['premier dépassement NO2'] = [k for k in liste_valeurs]\n",
    "\n",
    "nb_jours_limite_dépassée_NO2 = (df['premier dépassement NO2'] > 0) \n",
    "nb_jours_NO2=nb_jours_limite_dépassée_NO2.sum()\n",
    "print('Le seuil en NO2 a été dépassé ',nb_jours_NO2,' jours')       "
   ]
  },
  {
   "cell_type": "code",
   "execution_count": 13,
   "id": "1e9b86f3-890a-49ad-8502-4109d8ac109e",
   "metadata": {},
   "outputs": [
    {
     "name": "stdout",
     "output_type": "stream",
     "text": [
      "Soit en moyenne  9.673076923076923  heures où le seuil est dépassé par jour où le seuil en NO2 est dépassé\n"
     ]
    }
   ],
   "source": [
    "print('Soit en moyenne ', nb_heures_NO2/nb_jours_NO2, ' heures où le seuil est dépassé par jour où le seuil en NO2 est dépassé')"
   ]
  },
  {
   "cell_type": "code",
   "execution_count": 14,
   "id": "ed01fc13-004a-4989-916e-04a85329675a",
   "metadata": {},
   "outputs": [
    {
     "name": "stdout",
     "output_type": "stream",
     "text": [
      "Le seuil en O3 a été dépassé  148  jours\n"
     ]
    }
   ],
   "source": [
    "longueur = df.shape [0]\n",
    "liste_date = []\n",
    "liste_valeurs = []\n",
    "for i in range(longueur):\n",
    "    if df.loc[i,'O3'] > 120 and df.loc[i,'date'] not in liste_date:\n",
    "        liste_valeurs.append(1)\n",
    "        liste_date.append(df.loc[i,'date'])\n",
    "    else:\n",
    "        liste_valeurs.append(0)\n",
    "\n",
    "\n",
    "df['premier dépassement O3'] = [k for k in liste_valeurs]\n",
    "\n",
    "nb_jours_limite_dépassée_O3 = (df['premier dépassement O3'] > 0) \n",
    "nb_jours_O3=nb_jours_limite_dépassée_O3.sum()\n",
    "\n",
    "print('Le seuil en O3 a été dépassé ',nb_jours_O3,' jours')"
   ]
  },
  {
   "cell_type": "code",
   "execution_count": 15,
   "id": "97fbe1b0-ceee-4e41-8662-5f45a8069c0c",
   "metadata": {},
   "outputs": [
    {
     "name": "stdout",
     "output_type": "stream",
     "text": [
      "Soit en moyenne  5.114864864864865  heures où le seuil est dépassé par jour où le seuil en O3 est dépassé\n"
     ]
    }
   ],
   "source": [
    "print('Soit en moyenne ', nb_heures_O3/nb_jours_O3, ' heures où le seuil est dépassé par jour où le seuil en O3 est dépassé')"
   ]
  },
  {
   "cell_type": "code",
   "execution_count": null,
   "id": "c48fb006-8de6-48c6-b52f-f3f67cba00d5",
   "metadata": {},
   "outputs": [],
   "source": []
  },
  {
   "cell_type": "code",
   "execution_count": null,
   "id": "d7c6d5ab-ee32-42de-b178-9185ff966ccf",
   "metadata": {},
   "outputs": [],
   "source": []
  }
 ],
 "metadata": {
  "kernelspec": {
   "display_name": "Python 3 (ipykernel)",
   "language": "python",
   "name": "python3"
  },
  "language_info": {
   "codemirror_mode": {
    "name": "ipython",
    "version": 3
   },
   "file_extension": ".py",
   "mimetype": "text/x-python",
   "name": "python",
   "nbconvert_exporter": "python",
   "pygments_lexer": "ipython3",
   "version": "3.11.4"
  }
 },
 "nbformat": 4,
 "nbformat_minor": 5
}
