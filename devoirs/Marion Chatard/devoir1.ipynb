{
 "cells": [
  {
   "cell_type": "code",
   "execution_count": 135,
   "id": "779e19ba-23b3-4a38-803b-52d16284e90f",
   "metadata": {},
   "outputs": [],
   "source": [
    "import pandas as pd\n",
    "from matplotlib import pyplot as plt"
   ]
  },
  {
   "cell_type": "code",
   "execution_count": 136,
   "id": "48681d9b-6c49-4c65-a299-73f943839fc1",
   "metadata": {},
   "outputs": [],
   "source": [
    "url = \"https://public.tableau.com/app/sample-data/HollywoodsMostProfitableStories.csv\"\n",
    "df = pd.read_csv(url)"
   ]
  },
  {
   "cell_type": "code",
   "execution_count": 137,
   "id": "1248cfe3-72c6-40de-a4cc-ca6d09b4e3bf",
   "metadata": {},
   "outputs": [
    {
     "data": {
      "text/html": [
       "<div>\n",
       "<style scoped>\n",
       "    .dataframe tbody tr th:only-of-type {\n",
       "        vertical-align: middle;\n",
       "    }\n",
       "\n",
       "    .dataframe tbody tr th {\n",
       "        vertical-align: top;\n",
       "    }\n",
       "\n",
       "    .dataframe thead th {\n",
       "        text-align: right;\n",
       "    }\n",
       "</style>\n",
       "<table border=\"1\" class=\"dataframe\">\n",
       "  <thead>\n",
       "    <tr style=\"text-align: right;\">\n",
       "      <th></th>\n",
       "      <th>Film</th>\n",
       "      <th>Genre</th>\n",
       "      <th>Lead Studio</th>\n",
       "      <th>Audience  score %</th>\n",
       "      <th>Profitability</th>\n",
       "      <th>Rotten Tomatoes %</th>\n",
       "      <th>Worldwide Gross</th>\n",
       "      <th>Year</th>\n",
       "    </tr>\n",
       "  </thead>\n",
       "  <tbody>\n",
       "    <tr>\n",
       "      <th>0</th>\n",
       "      <td>27 Dresses</td>\n",
       "      <td>Comedy</td>\n",
       "      <td>Fox</td>\n",
       "      <td>71.0</td>\n",
       "      <td>5.343622</td>\n",
       "      <td>40.0</td>\n",
       "      <td>160.308654</td>\n",
       "      <td>2008</td>\n",
       "    </tr>\n",
       "    <tr>\n",
       "      <th>1</th>\n",
       "      <td>(500) Days of Summer</td>\n",
       "      <td>Comedy</td>\n",
       "      <td>Fox</td>\n",
       "      <td>81.0</td>\n",
       "      <td>8.096000</td>\n",
       "      <td>87.0</td>\n",
       "      <td>60.720000</td>\n",
       "      <td>2009</td>\n",
       "    </tr>\n",
       "    <tr>\n",
       "      <th>2</th>\n",
       "      <td>A Dangerous Method</td>\n",
       "      <td>Drama</td>\n",
       "      <td>Independent</td>\n",
       "      <td>89.0</td>\n",
       "      <td>0.448645</td>\n",
       "      <td>79.0</td>\n",
       "      <td>8.972895</td>\n",
       "      <td>2011</td>\n",
       "    </tr>\n",
       "    <tr>\n",
       "      <th>3</th>\n",
       "      <td>A Serious Man</td>\n",
       "      <td>Drama</td>\n",
       "      <td>Universal</td>\n",
       "      <td>64.0</td>\n",
       "      <td>4.382857</td>\n",
       "      <td>89.0</td>\n",
       "      <td>30.680000</td>\n",
       "      <td>2009</td>\n",
       "    </tr>\n",
       "    <tr>\n",
       "      <th>4</th>\n",
       "      <td>Across the Universe</td>\n",
       "      <td>Romance</td>\n",
       "      <td>Independent</td>\n",
       "      <td>84.0</td>\n",
       "      <td>0.652603</td>\n",
       "      <td>54.0</td>\n",
       "      <td>29.367143</td>\n",
       "      <td>2007</td>\n",
       "    </tr>\n",
       "  </tbody>\n",
       "</table>\n",
       "</div>"
      ],
      "text/plain": [
       "                   Film    Genre  Lead Studio  Audience  score %  \\\n",
       "0            27 Dresses   Comedy          Fox               71.0   \n",
       "1  (500) Days of Summer   Comedy          Fox               81.0   \n",
       "2    A Dangerous Method    Drama  Independent               89.0   \n",
       "3         A Serious Man    Drama    Universal               64.0   \n",
       "4   Across the Universe  Romance  Independent               84.0   \n",
       "\n",
       "   Profitability  Rotten Tomatoes %  Worldwide Gross  Year  \n",
       "0       5.343622               40.0       160.308654  2008  \n",
       "1       8.096000               87.0        60.720000  2009  \n",
       "2       0.448645               79.0         8.972895  2011  \n",
       "3       4.382857               89.0        30.680000  2009  \n",
       "4       0.652603               54.0        29.367143  2007  "
      ]
     },
     "execution_count": 137,
     "metadata": {},
     "output_type": "execute_result"
    }
   ],
   "source": [
    "df.head()"
   ]
  },
  {
   "cell_type": "code",
   "execution_count": 138,
   "id": "fef0f41f-0e75-48eb-a8d3-d2b89d9f1f34",
   "metadata": {},
   "outputs": [
    {
     "data": {
      "text/plain": [
       "Film                 0\n",
       "Genre                0\n",
       "Lead Studio          1\n",
       "Audience  score %    1\n",
       "Profitability        3\n",
       "Rotten Tomatoes %    1\n",
       "Worldwide Gross      0\n",
       "Year                 0\n",
       "dtype: int64"
      ]
     },
     "execution_count": 138,
     "metadata": {},
     "output_type": "execute_result"
    }
   ],
   "source": [
    "df.isnull().sum()"
   ]
  },
  {
   "cell_type": "code",
   "execution_count": 139,
   "id": "0d9c326d-f034-465a-99aa-8973792cffd7",
   "metadata": {},
   "outputs": [
    {
     "data": {
      "text/html": [
       "<div>\n",
       "<style scoped>\n",
       "    .dataframe tbody tr th:only-of-type {\n",
       "        vertical-align: middle;\n",
       "    }\n",
       "\n",
       "    .dataframe tbody tr th {\n",
       "        vertical-align: top;\n",
       "    }\n",
       "\n",
       "    .dataframe thead th {\n",
       "        text-align: right;\n",
       "    }\n",
       "</style>\n",
       "<table border=\"1\" class=\"dataframe\">\n",
       "  <thead>\n",
       "    <tr style=\"text-align: right;\">\n",
       "      <th></th>\n",
       "      <th>Film</th>\n",
       "      <th>Genre</th>\n",
       "      <th>Lead Studio</th>\n",
       "      <th>Audience  score %</th>\n",
       "      <th>Profitability</th>\n",
       "      <th>Rotten Tomatoes %</th>\n",
       "      <th>Worldwide Gross</th>\n",
       "      <th>Year</th>\n",
       "    </tr>\n",
       "  </thead>\n",
       "  <tbody>\n",
       "    <tr>\n",
       "      <th>71</th>\n",
       "      <td>You Will Meet a Tall Dark Stranger</td>\n",
       "      <td>Comedy</td>\n",
       "      <td>Independent</td>\n",
       "      <td>35.0</td>\n",
       "      <td>1.211818</td>\n",
       "      <td>43.0</td>\n",
       "      <td>26.660000</td>\n",
       "      <td>2010</td>\n",
       "    </tr>\n",
       "    <tr>\n",
       "      <th>27</th>\n",
       "      <td>Love Happens</td>\n",
       "      <td>Drama</td>\n",
       "      <td>Universal</td>\n",
       "      <td>40.0</td>\n",
       "      <td>2.004444</td>\n",
       "      <td>18.0</td>\n",
       "      <td>36.080000</td>\n",
       "      <td>2009</td>\n",
       "    </tr>\n",
       "    <tr>\n",
       "      <th>55</th>\n",
       "      <td>The Heartbreak Kid</td>\n",
       "      <td>Comedy</td>\n",
       "      <td>Paramount</td>\n",
       "      <td>41.0</td>\n",
       "      <td>2.129444</td>\n",
       "      <td>30.0</td>\n",
       "      <td>127.766650</td>\n",
       "      <td>2007</td>\n",
       "    </tr>\n",
       "    <tr>\n",
       "      <th>70</th>\n",
       "      <td>When in Rome</td>\n",
       "      <td>Comedy</td>\n",
       "      <td>Disney</td>\n",
       "      <td>44.0</td>\n",
       "      <td>NaN</td>\n",
       "      <td>15.0</td>\n",
       "      <td>43.040000</td>\n",
       "      <td>2010</td>\n",
       "    </tr>\n",
       "    <tr>\n",
       "      <th>20</th>\n",
       "      <td>Killers</td>\n",
       "      <td>Action</td>\n",
       "      <td>Lionsgate</td>\n",
       "      <td>45.0</td>\n",
       "      <td>1.245333</td>\n",
       "      <td>11.0</td>\n",
       "      <td>93.400000</td>\n",
       "      <td>2010</td>\n",
       "    </tr>\n",
       "    <tr>\n",
       "      <th>...</th>\n",
       "      <td>...</td>\n",
       "      <td>...</td>\n",
       "      <td>...</td>\n",
       "      <td>...</td>\n",
       "      <td>...</td>\n",
       "      <td>...</td>\n",
       "      <td>...</td>\n",
       "      <td>...</td>\n",
       "    </tr>\n",
       "    <tr>\n",
       "      <th>35</th>\n",
       "      <td>My Week with Marilyn</td>\n",
       "      <td>Drama</td>\n",
       "      <td>The Weinstein Company</td>\n",
       "      <td>84.0</td>\n",
       "      <td>0.825800</td>\n",
       "      <td>83.0</td>\n",
       "      <td>8.258000</td>\n",
       "      <td>2011</td>\n",
       "    </tr>\n",
       "    <tr>\n",
       "      <th>51</th>\n",
       "      <td>Tangled</td>\n",
       "      <td>Animation</td>\n",
       "      <td>Disney</td>\n",
       "      <td>88.0</td>\n",
       "      <td>1.365692</td>\n",
       "      <td>89.0</td>\n",
       "      <td>355.080000</td>\n",
       "      <td>2010</td>\n",
       "    </tr>\n",
       "    <tr>\n",
       "      <th>67</th>\n",
       "      <td>WALL-E</td>\n",
       "      <td>Animation</td>\n",
       "      <td>Disney</td>\n",
       "      <td>89.0</td>\n",
       "      <td>2.896019</td>\n",
       "      <td>96.0</td>\n",
       "      <td>521.283432</td>\n",
       "      <td>2008</td>\n",
       "    </tr>\n",
       "    <tr>\n",
       "      <th>2</th>\n",
       "      <td>A Dangerous Method</td>\n",
       "      <td>Drama</td>\n",
       "      <td>Independent</td>\n",
       "      <td>89.0</td>\n",
       "      <td>0.448645</td>\n",
       "      <td>79.0</td>\n",
       "      <td>8.972895</td>\n",
       "      <td>2011</td>\n",
       "    </tr>\n",
       "    <tr>\n",
       "      <th>50</th>\n",
       "      <td>Something Borrowed</td>\n",
       "      <td>Romance</td>\n",
       "      <td>Independent</td>\n",
       "      <td>NaN</td>\n",
       "      <td>1.719514</td>\n",
       "      <td>NaN</td>\n",
       "      <td>60.183000</td>\n",
       "      <td>2011</td>\n",
       "    </tr>\n",
       "  </tbody>\n",
       "</table>\n",
       "<p>74 rows × 8 columns</p>\n",
       "</div>"
      ],
      "text/plain": [
       "                                  Film      Genre            Lead Studio  \\\n",
       "71  You Will Meet a Tall Dark Stranger     Comedy            Independent   \n",
       "27                        Love Happens      Drama              Universal   \n",
       "55                  The Heartbreak Kid     Comedy              Paramount   \n",
       "70                        When in Rome     Comedy                 Disney   \n",
       "20                             Killers     Action              Lionsgate   \n",
       "..                                 ...        ...                    ...   \n",
       "35                My Week with Marilyn      Drama  The Weinstein Company   \n",
       "51                             Tangled  Animation                 Disney   \n",
       "67                              WALL-E  Animation                 Disney   \n",
       "2                   A Dangerous Method      Drama            Independent   \n",
       "50                  Something Borrowed    Romance            Independent   \n",
       "\n",
       "    Audience  score %  Profitability  Rotten Tomatoes %  Worldwide Gross  Year  \n",
       "71               35.0       1.211818               43.0        26.660000  2010  \n",
       "27               40.0       2.004444               18.0        36.080000  2009  \n",
       "55               41.0       2.129444               30.0       127.766650  2007  \n",
       "70               44.0            NaN               15.0        43.040000  2010  \n",
       "20               45.0       1.245333               11.0        93.400000  2010  \n",
       "..                ...            ...                ...              ...   ...  \n",
       "35               84.0       0.825800               83.0         8.258000  2011  \n",
       "51               88.0       1.365692               89.0       355.080000  2010  \n",
       "67               89.0       2.896019               96.0       521.283432  2008  \n",
       "2                89.0       0.448645               79.0         8.972895  2011  \n",
       "50                NaN       1.719514                NaN        60.183000  2011  \n",
       "\n",
       "[74 rows x 8 columns]"
      ]
     },
     "execution_count": 139,
     "metadata": {},
     "output_type": "execute_result"
    }
   ],
   "source": [
    "df.sort_values(by= [\"Audience  score %\"])\n",
    "#je veux trier les films selon le pourcentage donné par l'audience"
   ]
  },
  {
   "cell_type": "code",
   "execution_count": 140,
   "id": "487f6a1c-f79c-45fc-9f48-7e725e5020f0",
   "metadata": {},
   "outputs": [],
   "source": [
    "df.rename(columns={ \"Lead Studio\": \"Lead_studio\"}, inplace=True)"
   ]
  },
  {
   "cell_type": "code",
   "execution_count": 141,
   "id": "a81d05b5-0b94-414f-b83a-d8ec5b655a05",
   "metadata": {},
   "outputs": [
    {
     "data": {
      "text/html": [
       "<div>\n",
       "<style scoped>\n",
       "    .dataframe tbody tr th:only-of-type {\n",
       "        vertical-align: middle;\n",
       "    }\n",
       "\n",
       "    .dataframe tbody tr th {\n",
       "        vertical-align: top;\n",
       "    }\n",
       "\n",
       "    .dataframe thead th {\n",
       "        text-align: right;\n",
       "    }\n",
       "</style>\n",
       "<table border=\"1\" class=\"dataframe\">\n",
       "  <thead>\n",
       "    <tr style=\"text-align: right;\">\n",
       "      <th></th>\n",
       "      <th>Film</th>\n",
       "      <th>Genre</th>\n",
       "      <th>Lead_studio</th>\n",
       "      <th>Audience  score %</th>\n",
       "      <th>Profitability</th>\n",
       "      <th>Rotten Tomatoes %</th>\n",
       "      <th>Worldwide Gross</th>\n",
       "      <th>Year</th>\n",
       "    </tr>\n",
       "  </thead>\n",
       "  <tbody>\n",
       "    <tr>\n",
       "      <th>0</th>\n",
       "      <td>27 Dresses</td>\n",
       "      <td>Comedy</td>\n",
       "      <td>Fox</td>\n",
       "      <td>71.0</td>\n",
       "      <td>5.343622</td>\n",
       "      <td>40.0</td>\n",
       "      <td>160.308654</td>\n",
       "      <td>2008</td>\n",
       "    </tr>\n",
       "    <tr>\n",
       "      <th>1</th>\n",
       "      <td>(500) Days of Summer</td>\n",
       "      <td>Comedy</td>\n",
       "      <td>Fox</td>\n",
       "      <td>81.0</td>\n",
       "      <td>8.096000</td>\n",
       "      <td>87.0</td>\n",
       "      <td>60.720000</td>\n",
       "      <td>2009</td>\n",
       "    </tr>\n",
       "    <tr>\n",
       "      <th>2</th>\n",
       "      <td>A Dangerous Method</td>\n",
       "      <td>Drama</td>\n",
       "      <td>Independent</td>\n",
       "      <td>89.0</td>\n",
       "      <td>0.448645</td>\n",
       "      <td>79.0</td>\n",
       "      <td>8.972895</td>\n",
       "      <td>2011</td>\n",
       "    </tr>\n",
       "    <tr>\n",
       "      <th>3</th>\n",
       "      <td>A Serious Man</td>\n",
       "      <td>Drama</td>\n",
       "      <td>Universal</td>\n",
       "      <td>64.0</td>\n",
       "      <td>4.382857</td>\n",
       "      <td>89.0</td>\n",
       "      <td>30.680000</td>\n",
       "      <td>2009</td>\n",
       "    </tr>\n",
       "    <tr>\n",
       "      <th>4</th>\n",
       "      <td>Across the Universe</td>\n",
       "      <td>Romance</td>\n",
       "      <td>Independent</td>\n",
       "      <td>84.0</td>\n",
       "      <td>0.652603</td>\n",
       "      <td>54.0</td>\n",
       "      <td>29.367143</td>\n",
       "      <td>2007</td>\n",
       "    </tr>\n",
       "  </tbody>\n",
       "</table>\n",
       "</div>"
      ],
      "text/plain": [
       "                   Film    Genre  Lead_studio  Audience  score %  \\\n",
       "0            27 Dresses   Comedy          Fox               71.0   \n",
       "1  (500) Days of Summer   Comedy          Fox               81.0   \n",
       "2    A Dangerous Method    Drama  Independent               89.0   \n",
       "3         A Serious Man    Drama    Universal               64.0   \n",
       "4   Across the Universe  Romance  Independent               84.0   \n",
       "\n",
       "   Profitability  Rotten Tomatoes %  Worldwide Gross  Year  \n",
       "0       5.343622               40.0       160.308654  2008  \n",
       "1       8.096000               87.0        60.720000  2009  \n",
       "2       0.448645               79.0         8.972895  2011  \n",
       "3       4.382857               89.0        30.680000  2009  \n",
       "4       0.652603               54.0        29.367143  2007  "
      ]
     },
     "execution_count": 141,
     "metadata": {},
     "output_type": "execute_result"
    }
   ],
   "source": [
    "df.head()\n",
    "#Je vérifie que la colonne a bien été renommée."
   ]
  },
  {
   "cell_type": "code",
   "execution_count": 142,
   "id": "1880ea76-3ae4-44d0-8b1c-ce2ee777c527",
   "metadata": {},
   "outputs": [
    {
     "data": {
      "text/plain": [
       "0     5.343622\n",
       "1     8.096000\n",
       "2     0.448645\n",
       "3     4.382857\n",
       "4     0.652603\n",
       "        ...   \n",
       "69    6.267647\n",
       "70    0.000000\n",
       "71    1.211818\n",
       "72    1.090000\n",
       "73    1.747542\n",
       "Name: Profitability, Length: 74, dtype: float64"
      ]
     },
     "execution_count": 142,
     "metadata": {},
     "output_type": "execute_result"
    }
   ],
   "source": [
    "df.Profitability.fillna(0)"
   ]
  },
  {
   "cell_type": "code",
   "execution_count": 143,
   "id": "f1e1ab18-deb7-420b-ac00-7922a8a96133",
   "metadata": {},
   "outputs": [],
   "source": [
    "mean_AS = df[\"Audience  score %\"].mean()"
   ]
  },
  {
   "cell_type": "code",
   "execution_count": 144,
   "id": "1ecf9941-db6f-4524-be32-a017a2bb3a45",
   "metadata": {},
   "outputs": [
    {
     "name": "stdout",
     "output_type": "stream",
     "text": [
      "64.13698630136986\n"
     ]
    }
   ],
   "source": [
    "print(mean_AS)\n",
    "#Je veux voir la valeur moyenne en pourcentage sur le score de l'audience."
   ]
  },
  {
   "cell_type": "code",
   "execution_count": 145,
   "id": "0738d26e-ea40-4ad4-a9a9-cb1733b62c13",
   "metadata": {},
   "outputs": [],
   "source": [
    "max_AS = df[\"Audience  score %\"].max()"
   ]
  },
  {
   "cell_type": "code",
   "execution_count": 146,
   "id": "c18e3ab3-3b53-481d-b970-717356eba89b",
   "metadata": {},
   "outputs": [
    {
     "name": "stdout",
     "output_type": "stream",
     "text": [
      "89.0\n"
     ]
    }
   ],
   "source": [
    "print(max_AS)\n",
    "#De même pour la valeur maximale, ce qui permet de voir que jamais il n'y a eu de 100% par exemple."
   ]
  },
  {
   "cell_type": "code",
   "execution_count": 147,
   "id": "312d52fa-629d-41d7-9b27-da154eaebf22",
   "metadata": {},
   "outputs": [
    {
     "data": {
      "text/plain": [
       "Film                  object\n",
       "Genre                 object\n",
       "Lead_studio           object\n",
       "Audience  score %    float64\n",
       "Profitability        float64\n",
       "Rotten Tomatoes %    float64\n",
       "Worldwide Gross      float64\n",
       "Year                   int64\n",
       "dtype: object"
      ]
     },
     "execution_count": 147,
     "metadata": {},
     "output_type": "execute_result"
    }
   ],
   "source": [
    "df.dtypes"
   ]
  },
  {
   "cell_type": "code",
   "execution_count": 148,
   "id": "34109268-609a-4633-9a58-91c99aa6eb1f",
   "metadata": {},
   "outputs": [
    {
     "data": {
      "text/plain": [
       "array([2008, 2009, 2011, 2007, 2010], dtype=int64)"
      ]
     },
     "execution_count": 148,
     "metadata": {},
     "output_type": "execute_result"
    }
   ],
   "source": [
    "df.Year.unique()\n",
    "#Cela permet de voir les différentes années sur lesquelles les films ont été évalués."
   ]
  },
  {
   "cell_type": "code",
   "execution_count": 149,
   "id": "9c4ae28a-b160-4f57-b6ef-f3e08f81ad62",
   "metadata": {},
   "outputs": [
    {
     "data": {
      "text/plain": [
       "array(['Fox', 'Independent', 'Universal', 'Sony', 'Disney',\n",
       "       'Warner Bros.', 'Lionsgate', 'Summit', '20th Century Fox',\n",
       "       'The Weinstein Company', nan, 'New Line', 'Paramount', 'CBS'],\n",
       "      dtype=object)"
      ]
     },
     "execution_count": 149,
     "metadata": {},
     "output_type": "execute_result"
    }
   ],
   "source": [
    "df.Lead_studio.unique()\n",
    "#Je récupère la liste des différents studios "
   ]
  },
  {
   "cell_type": "code",
   "execution_count": 150,
   "id": "8a32f94f-31bc-4e9e-a516-dcacbad7877e",
   "metadata": {},
   "outputs": [],
   "source": [
    "LS = ['Fox', 'Independent', 'Universal', 'Sony', 'Disney',\n",
    "       'Warner Bros.', 'Lionsgate', 'Summit', '20th Century Fox',\n",
    "       'The Weinstein Company', 'New Line', 'Paramount', 'CBS']"
   ]
  },
  {
   "cell_type": "code",
   "execution_count": 151,
   "id": "31b79280-88e2-4089-90da-3ac049aa6b72",
   "metadata": {},
   "outputs": [
    {
     "name": "stdout",
     "output_type": "stream",
     "text": [
      "6 ont lieu au studio Fox\n",
      "19 ont lieu au studio Independent\n",
      "7 ont lieu au studio Universal\n",
      "4 ont lieu au studio Sony\n",
      "7 ont lieu au studio Disney\n",
      "12 ont lieu au studio Warner Bros.\n",
      "2 ont lieu au studio Lionsgate\n",
      "5 ont lieu au studio Summit\n",
      "2 ont lieu au studio 20th Century Fox\n",
      "3 ont lieu au studio The Weinstein Company\n",
      "1 ont lieu au studio New Line\n",
      "4 ont lieu au studio Paramount\n",
      "1 ont lieu au studio CBS\n"
     ]
    }
   ],
   "source": [
    "    for studio in LS:\n",
    "        count=0\n",
    "        for i in range(74):\n",
    "            if df.iloc[i-1,2] == studio :\n",
    "                count += 1\n",
    "        print(f\"{count} ont lieu au studio {studio}\")\n",
    "\n",
    "#Je cherche le nombre de films réalisés dans chaque studio"
   ]
  },
  {
   "cell_type": "code",
   "execution_count": 152,
   "id": "6af58851-71b7-440c-a078-0622ea1619ea",
   "metadata": {},
   "outputs": [],
   "source": [
    "#Je peux également compter les studios d'une autre manière en utilisant group by"
   ]
  },
  {
   "cell_type": "code",
   "execution_count": 153,
   "id": "9ff76529-24fd-4879-9361-3d3e3f512d2b",
   "metadata": {},
   "outputs": [],
   "source": [
    "by_studio= df.groupby(by=\"Lead_studio\")"
   ]
  },
  {
   "cell_type": "code",
   "execution_count": 154,
   "id": "44dabc7f-0f00-449d-a691-8750a7695c97",
   "metadata": {},
   "outputs": [
    {
     "data": {
      "text/plain": [
       "Lead_studio\n",
       "20th Century Fox          2\n",
       "CBS                       1\n",
       "Disney                    7\n",
       "Fox                       6\n",
       "Independent              19\n",
       "Lionsgate                 2\n",
       "New Line                  1\n",
       "Paramount                 4\n",
       "Sony                      4\n",
       "Summit                    5\n",
       "The Weinstein Company     3\n",
       "Universal                 7\n",
       "Warner Bros.             12\n",
       "dtype: int64"
      ]
     },
     "execution_count": 154,
     "metadata": {},
     "output_type": "execute_result"
    }
   ],
   "source": [
    "by_studio.size()"
   ]
  },
  {
   "cell_type": "code",
   "execution_count": 155,
   "id": "88629f0a-4908-4d4d-aed0-5c4fc4102476",
   "metadata": {},
   "outputs": [],
   "source": [
    "#On retrouve bien les mêmes résultats avec les deux méthodes, bien que la deuxième soit plus rapide/facile."
   ]
  },
  {
   "cell_type": "code",
   "execution_count": 156,
   "id": "42379c16-795c-4712-9628-ba95511ce951",
   "metadata": {},
   "outputs": [
    {
     "data": {
      "text/html": [
       "<div>\n",
       "<style scoped>\n",
       "    .dataframe tbody tr th:only-of-type {\n",
       "        vertical-align: middle;\n",
       "    }\n",
       "\n",
       "    .dataframe tbody tr th {\n",
       "        vertical-align: top;\n",
       "    }\n",
       "\n",
       "    .dataframe thead th {\n",
       "        text-align: right;\n",
       "    }\n",
       "</style>\n",
       "<table border=\"1\" class=\"dataframe\">\n",
       "  <thead>\n",
       "    <tr style=\"text-align: right;\">\n",
       "      <th></th>\n",
       "      <th>Film</th>\n",
       "      <th>Genre</th>\n",
       "      <th>Lead_studio</th>\n",
       "      <th>Audience  score %</th>\n",
       "      <th>Profitability</th>\n",
       "      <th>Rotten Tomatoes %</th>\n",
       "      <th>Worldwide Gross</th>\n",
       "      <th>Year</th>\n",
       "    </tr>\n",
       "  </thead>\n",
       "  <tbody>\n",
       "    <tr>\n",
       "      <th>69</th>\n",
       "      <td>What Happens in Vegas</td>\n",
       "      <td>Comedy</td>\n",
       "      <td>Fox</td>\n",
       "      <td>72.0</td>\n",
       "      <td>6.267647</td>\n",
       "      <td>28.0</td>\n",
       "      <td>219.367646</td>\n",
       "      <td>2008</td>\n",
       "    </tr>\n",
       "    <tr>\n",
       "      <th>70</th>\n",
       "      <td>When in Rome</td>\n",
       "      <td>Comedy</td>\n",
       "      <td>Disney</td>\n",
       "      <td>44.0</td>\n",
       "      <td>NaN</td>\n",
       "      <td>15.0</td>\n",
       "      <td>43.040000</td>\n",
       "      <td>2010</td>\n",
       "    </tr>\n",
       "    <tr>\n",
       "      <th>71</th>\n",
       "      <td>You Will Meet a Tall Dark Stranger</td>\n",
       "      <td>Comedy</td>\n",
       "      <td>Independent</td>\n",
       "      <td>35.0</td>\n",
       "      <td>1.211818</td>\n",
       "      <td>43.0</td>\n",
       "      <td>26.660000</td>\n",
       "      <td>2010</td>\n",
       "    </tr>\n",
       "    <tr>\n",
       "      <th>72</th>\n",
       "      <td>Youth in Revolt</td>\n",
       "      <td>Comedy</td>\n",
       "      <td>The Weinstein Company</td>\n",
       "      <td>52.0</td>\n",
       "      <td>1.090000</td>\n",
       "      <td>68.0</td>\n",
       "      <td>19.620000</td>\n",
       "      <td>2010</td>\n",
       "    </tr>\n",
       "    <tr>\n",
       "      <th>73</th>\n",
       "      <td>Zack and Miri Make a Porno</td>\n",
       "      <td>Romance</td>\n",
       "      <td>The Weinstein Company</td>\n",
       "      <td>70.0</td>\n",
       "      <td>1.747542</td>\n",
       "      <td>64.0</td>\n",
       "      <td>41.941000</td>\n",
       "      <td>2008</td>\n",
       "    </tr>\n",
       "  </tbody>\n",
       "</table>\n",
       "</div>"
      ],
      "text/plain": [
       "                                  Film    Genre            Lead_studio  \\\n",
       "69               What Happens in Vegas   Comedy                    Fox   \n",
       "70                        When in Rome   Comedy                 Disney   \n",
       "71  You Will Meet a Tall Dark Stranger   Comedy            Independent   \n",
       "72                     Youth in Revolt   Comedy  The Weinstein Company   \n",
       "73          Zack and Miri Make a Porno  Romance  The Weinstein Company   \n",
       "\n",
       "    Audience  score %  Profitability  Rotten Tomatoes %  Worldwide Gross  Year  \n",
       "69               72.0       6.267647               28.0       219.367646  2008  \n",
       "70               44.0            NaN               15.0        43.040000  2010  \n",
       "71               35.0       1.211818               43.0        26.660000  2010  \n",
       "72               52.0       1.090000               68.0        19.620000  2010  \n",
       "73               70.0       1.747542               64.0        41.941000  2008  "
      ]
     },
     "execution_count": 156,
     "metadata": {},
     "output_type": "execute_result"
    }
   ],
   "source": [
    "df.tail()"
   ]
  },
  {
   "cell_type": "code",
   "execution_count": 157,
   "id": "15f734b6-5845-427d-8b95-bd3ebb5af743",
   "metadata": {},
   "outputs": [
    {
     "data": {
      "text/plain": [
       "<Axes: xlabel='Rotten Tomatoes %', ylabel='Aud score %'>"
      ]
     },
     "execution_count": 157,
     "metadata": {},
     "output_type": "execute_result"
    },
    {
     "data": {
      "image/png": "[encoded data removed]",
      "text/plain": [
       "<Figure size 640x480 with 1 Axes>"
      ]
     },
     "metadata": {},
     "output_type": "display_data"
    }
   ],
   "source": [
    "df.plot(x=\"Rotten Tomatoes %\", y=\"Audience  score %\", ylabel = \"Aud score %\", xlabel = \"Rotten Tomatoes %\")\n",
    "#je veux chercher à voir s'il y a un lien entre les deux éléments, on remarque ici que ce n'est pas le cas"
   ]
  },
  {
   "cell_type": "code",
   "execution_count": 183,
   "id": "5dd3c5e2-dcf5-47c2-83d4-da2c80fbd268",
   "metadata": {},
   "outputs": [],
   "source": [
    "df.rename(columns={ 'Audience  score %': \"Audience_score_per\"}, inplace=True)"
   ]
  },
  {
   "cell_type": "code",
   "execution_count": 185,
   "id": "8c147e2d-d874-48ea-833e-506a9bbe45fa",
   "metadata": {},
   "outputs": [
    {
     "data": {
      "text/plain": [
       "<Axes: >"
      ]
     },
     "execution_count": 185,
     "metadata": {},
     "output_type": "execute_result"
    },
    {
     "data": {
      "image/png": "[encoded data removed]",
      "text/plain": [
       "<Figure size 640x480 with 1 Axes>"
      ]
     },
     "metadata": {},
     "output_type": "display_data"
    }
   ],
   "source": [
    "df.Audience_score_per.hist()\n",
    "#Cela permet de voir la répartition des pourcentages dans les films."
   ]
  },
  {
   "cell_type": "code",
   "execution_count": 174,
   "id": "d71b9136-b1f1-4b41-8508-eb0f4c5198a9",
   "metadata": {},
   "outputs": [],
   "source": [
    "df.rename(columns={ \"Rotten Tomatoes %\": \"Rotten_tomatoes_per\"}, inplace=True)\n",
    "#Je renomme ces colonnes pour éviter qu'il y ait un espace et donc que certaines commandes ne fonctionnent pas"
   ]
  },
  {
   "cell_type": "code",
   "execution_count": 161,
   "id": "c163bf9d-bfba-49d8-ba48-10a89110b3e8",
   "metadata": {},
   "outputs": [
    {
     "data": {
      "text/html": [
       "<div>\n",
       "<style scoped>\n",
       "    .dataframe tbody tr th:only-of-type {\n",
       "        vertical-align: middle;\n",
       "    }\n",
       "\n",
       "    .dataframe tbody tr th {\n",
       "        vertical-align: top;\n",
       "    }\n",
       "\n",
       "    .dataframe thead th {\n",
       "        text-align: right;\n",
       "    }\n",
       "</style>\n",
       "<table border=\"1\" class=\"dataframe\">\n",
       "  <thead>\n",
       "    <tr style=\"text-align: right;\">\n",
       "      <th></th>\n",
       "      <th>Film</th>\n",
       "      <th>Genre</th>\n",
       "      <th>Lead_studio</th>\n",
       "      <th>Audience  score %</th>\n",
       "      <th>Profitability</th>\n",
       "      <th>Rotten Tomatoes %</th>\n",
       "      <th>Worldwide Gross</th>\n",
       "      <th>Year</th>\n",
       "    </tr>\n",
       "  </thead>\n",
       "  <tbody>\n",
       "    <tr>\n",
       "      <th>0</th>\n",
       "      <td>27 Dresses</td>\n",
       "      <td>Comedy</td>\n",
       "      <td>Fox</td>\n",
       "      <td>71.0</td>\n",
       "      <td>5.343622</td>\n",
       "      <td>40.0</td>\n",
       "      <td>160.308654</td>\n",
       "      <td>2008</td>\n",
       "    </tr>\n",
       "    <tr>\n",
       "      <th>1</th>\n",
       "      <td>(500) Days of Summer</td>\n",
       "      <td>Comedy</td>\n",
       "      <td>Fox</td>\n",
       "      <td>81.0</td>\n",
       "      <td>8.096000</td>\n",
       "      <td>87.0</td>\n",
       "      <td>60.720000</td>\n",
       "      <td>2009</td>\n",
       "    </tr>\n",
       "    <tr>\n",
       "      <th>2</th>\n",
       "      <td>A Dangerous Method</td>\n",
       "      <td>Drama</td>\n",
       "      <td>Independent</td>\n",
       "      <td>89.0</td>\n",
       "      <td>0.448645</td>\n",
       "      <td>79.0</td>\n",
       "      <td>8.972895</td>\n",
       "      <td>2011</td>\n",
       "    </tr>\n",
       "    <tr>\n",
       "      <th>3</th>\n",
       "      <td>A Serious Man</td>\n",
       "      <td>Drama</td>\n",
       "      <td>Universal</td>\n",
       "      <td>64.0</td>\n",
       "      <td>4.382857</td>\n",
       "      <td>89.0</td>\n",
       "      <td>30.680000</td>\n",
       "      <td>2009</td>\n",
       "    </tr>\n",
       "    <tr>\n",
       "      <th>4</th>\n",
       "      <td>Across the Universe</td>\n",
       "      <td>Romance</td>\n",
       "      <td>Independent</td>\n",
       "      <td>84.0</td>\n",
       "      <td>0.652603</td>\n",
       "      <td>54.0</td>\n",
       "      <td>29.367143</td>\n",
       "      <td>2007</td>\n",
       "    </tr>\n",
       "  </tbody>\n",
       "</table>\n",
       "</div>"
      ],
      "text/plain": [
       "                   Film    Genre  Lead_studio  Audience  score %  \\\n",
       "0            27 Dresses   Comedy          Fox               71.0   \n",
       "1  (500) Days of Summer   Comedy          Fox               81.0   \n",
       "2    A Dangerous Method    Drama  Independent               89.0   \n",
       "3         A Serious Man    Drama    Universal               64.0   \n",
       "4   Across the Universe  Romance  Independent               84.0   \n",
       "\n",
       "   Profitability  Rotten Tomatoes %  Worldwide Gross  Year  \n",
       "0       5.343622               40.0       160.308654  2008  \n",
       "1       8.096000               87.0        60.720000  2009  \n",
       "2       0.448645               79.0         8.972895  2011  \n",
       "3       4.382857               89.0        30.680000  2009  \n",
       "4       0.652603               54.0        29.367143  2007  "
      ]
     },
     "execution_count": 161,
     "metadata": {},
     "output_type": "execute_result"
    }
   ],
   "source": [
    "df.head()"
   ]
  },
  {
   "cell_type": "code",
   "execution_count": 162,
   "id": "3dc57945-4b6e-4bba-bc95-7655242f4213",
   "metadata": {},
   "outputs": [
    {
     "data": {
      "text/plain": [
       "30.68"
      ]
     },
     "execution_count": 162,
     "metadata": {},
     "output_type": "execute_result"
    }
   ],
   "source": [
    "df.loc[3,'Worldwide Gross']"
   ]
  },
  {
   "cell_type": "code",
   "execution_count": 163,
   "id": "0b4537eb-8102-47c2-9333-1933d968e643",
   "metadata": {},
   "outputs": [],
   "source": [
    "group = df.groupby(\"Year\")"
   ]
  },
  {
   "cell_type": "code",
   "execution_count": 164,
   "id": "027ae0ac-2637-483b-ae12-dfb32f3d4a7c",
   "metadata": {},
   "outputs": [
    {
     "data": {
      "text/html": [
       "<div>\n",
       "<style scoped>\n",
       "    .dataframe tbody tr th:only-of-type {\n",
       "        vertical-align: middle;\n",
       "    }\n",
       "\n",
       "    .dataframe tbody tr th {\n",
       "        vertical-align: top;\n",
       "    }\n",
       "\n",
       "    .dataframe thead th {\n",
       "        text-align: right;\n",
       "    }\n",
       "</style>\n",
       "<table border=\"1\" class=\"dataframe\">\n",
       "  <thead>\n",
       "    <tr style=\"text-align: right;\">\n",
       "      <th></th>\n",
       "      <th>Film</th>\n",
       "      <th>Genre</th>\n",
       "      <th>Lead_studio</th>\n",
       "      <th>Audience  score %</th>\n",
       "      <th>Profitability</th>\n",
       "      <th>Rotten Tomatoes %</th>\n",
       "      <th>Worldwide Gross</th>\n",
       "      <th>Year</th>\n",
       "    </tr>\n",
       "  </thead>\n",
       "  <tbody>\n",
       "    <tr>\n",
       "      <th>4</th>\n",
       "      <td>Across the Universe</td>\n",
       "      <td>Romance</td>\n",
       "      <td>Independent</td>\n",
       "      <td>84.0</td>\n",
       "      <td>0.652603</td>\n",
       "      <td>54.0</td>\n",
       "      <td>29.367143</td>\n",
       "      <td>2007</td>\n",
       "    </tr>\n",
       "    <tr>\n",
       "      <th>7</th>\n",
       "      <td>Enchanted</td>\n",
       "      <td>Comedy</td>\n",
       "      <td>Disney</td>\n",
       "      <td>80.0</td>\n",
       "      <td>4.005737</td>\n",
       "      <td>93.0</td>\n",
       "      <td>340.487652</td>\n",
       "      <td>2007</td>\n",
       "    </tr>\n",
       "    <tr>\n",
       "      <th>13</th>\n",
       "      <td>Good Luck Chuck</td>\n",
       "      <td>Comedy</td>\n",
       "      <td>Lionsgate</td>\n",
       "      <td>61.0</td>\n",
       "      <td>2.367685</td>\n",
       "      <td>3.0</td>\n",
       "      <td>59.192128</td>\n",
       "      <td>2007</td>\n",
       "    </tr>\n",
       "    <tr>\n",
       "      <th>21</th>\n",
       "      <td>Knocked Up</td>\n",
       "      <td>Comedy</td>\n",
       "      <td>Universal</td>\n",
       "      <td>83.0</td>\n",
       "      <td>6.636402</td>\n",
       "      <td>91.0</td>\n",
       "      <td>219.001261</td>\n",
       "      <td>2007</td>\n",
       "    </tr>\n",
       "    <tr>\n",
       "      <th>24</th>\n",
       "      <td>License to Wed</td>\n",
       "      <td>Comedy</td>\n",
       "      <td>Warner Bros.</td>\n",
       "      <td>55.0</td>\n",
       "      <td>1.980206</td>\n",
       "      <td>8.0</td>\n",
       "      <td>69.307224</td>\n",
       "      <td>2007</td>\n",
       "    </tr>\n",
       "    <tr>\n",
       "      <th>34</th>\n",
       "      <td>Music and Lyrics</td>\n",
       "      <td>Romance</td>\n",
       "      <td>Warner Bros.</td>\n",
       "      <td>70.0</td>\n",
       "      <td>3.647411</td>\n",
       "      <td>63.0</td>\n",
       "      <td>145.896422</td>\n",
       "      <td>2007</td>\n",
       "    </tr>\n",
       "    <tr>\n",
       "      <th>38</th>\n",
       "      <td>No Reservations</td>\n",
       "      <td>Comedy</td>\n",
       "      <td>NaN</td>\n",
       "      <td>64.0</td>\n",
       "      <td>3.307180</td>\n",
       "      <td>39.0</td>\n",
       "      <td>92.601050</td>\n",
       "      <td>2007</td>\n",
       "    </tr>\n",
       "    <tr>\n",
       "      <th>43</th>\n",
       "      <td>P.S. I Love You</td>\n",
       "      <td>Romance</td>\n",
       "      <td>Independent</td>\n",
       "      <td>82.0</td>\n",
       "      <td>5.103117</td>\n",
       "      <td>21.0</td>\n",
       "      <td>153.093505</td>\n",
       "      <td>2007</td>\n",
       "    </tr>\n",
       "    <tr>\n",
       "      <th>55</th>\n",
       "      <td>The Heartbreak Kid</td>\n",
       "      <td>Comedy</td>\n",
       "      <td>Paramount</td>\n",
       "      <td>41.0</td>\n",
       "      <td>2.129444</td>\n",
       "      <td>30.0</td>\n",
       "      <td>127.766650</td>\n",
       "      <td>2007</td>\n",
       "    </tr>\n",
       "    <tr>\n",
       "      <th>63</th>\n",
       "      <td>Tyler Perry's Why Did I get Married</td>\n",
       "      <td>Romance</td>\n",
       "      <td>Independent</td>\n",
       "      <td>47.0</td>\n",
       "      <td>3.724192</td>\n",
       "      <td>46.0</td>\n",
       "      <td>55.862886</td>\n",
       "      <td>2007</td>\n",
       "    </tr>\n",
       "    <tr>\n",
       "      <th>66</th>\n",
       "      <td>Waitress</td>\n",
       "      <td>Romance</td>\n",
       "      <td>Independent</td>\n",
       "      <td>67.0</td>\n",
       "      <td>11.089742</td>\n",
       "      <td>89.0</td>\n",
       "      <td>22.179483</td>\n",
       "      <td>2007</td>\n",
       "    </tr>\n",
       "  </tbody>\n",
       "</table>\n",
       "</div>"
      ],
      "text/plain": [
       "                                   Film    Genre   Lead_studio  \\\n",
       "4                   Across the Universe  Romance   Independent   \n",
       "7                             Enchanted   Comedy        Disney   \n",
       "13                      Good Luck Chuck   Comedy     Lionsgate   \n",
       "21                           Knocked Up   Comedy     Universal   \n",
       "24                       License to Wed   Comedy  Warner Bros.   \n",
       "34                     Music and Lyrics  Romance  Warner Bros.   \n",
       "38                      No Reservations   Comedy           NaN   \n",
       "43                      P.S. I Love You  Romance   Independent   \n",
       "55                   The Heartbreak Kid   Comedy     Paramount   \n",
       "63  Tyler Perry's Why Did I get Married  Romance   Independent   \n",
       "66                             Waitress  Romance   Independent   \n",
       "\n",
       "    Audience  score %  Profitability  Rotten Tomatoes %  Worldwide Gross  Year  \n",
       "4                84.0       0.652603               54.0        29.367143  2007  \n",
       "7                80.0       4.005737               93.0       340.487652  2007  \n",
       "13               61.0       2.367685                3.0        59.192128  2007  \n",
       "21               83.0       6.636402               91.0       219.001261  2007  \n",
       "24               55.0       1.980206                8.0        69.307224  2007  \n",
       "34               70.0       3.647411               63.0       145.896422  2007  \n",
       "38               64.0       3.307180               39.0        92.601050  2007  \n",
       "43               82.0       5.103117               21.0       153.093505  2007  \n",
       "55               41.0       2.129444               30.0       127.766650  2007  \n",
       "63               47.0       3.724192               46.0        55.862886  2007  \n",
       "66               67.0      11.089742               89.0        22.179483  2007  "
      ]
     },
     "execution_count": 164,
     "metadata": {},
     "output_type": "execute_result"
    }
   ],
   "source": [
    "group.get_group(2007)\n",
    "#Cela me permet d'accéder à tous les films de 2007 dans ces données\n",
    "#Je pourrai également refaire la même chose mais en classant par genre, ce qui permettrait d'accéder directement \n",
    "#à toutes les comédies par exemple, et donc de faciliter certaines recherches"
   ]
  },
  {
   "cell_type": "code",
   "execution_count": 165,
   "id": "0debfde1-742e-43dc-b672-5116161c4cb7",
   "metadata": {},
   "outputs": [],
   "source": [
    "#Je veux maintenant trouver les comédies de 2007 directement"
   ]
  },
  {
   "cell_type": "code",
   "execution_count": 166,
   "id": "72c1c31e-098a-4a20-9913-02508ac06333",
   "metadata": {},
   "outputs": [],
   "source": [
    "df_comedy = df.query(\"Genre == 'Comedy' \")"
   ]
  },
  {
   "cell_type": "code",
   "execution_count": 167,
   "id": "b07186d8-e0f7-453b-8cc4-09754852c089",
   "metadata": {},
   "outputs": [],
   "source": [
    "df_2007 = df.query(\"Year == 2007 \")"
   ]
  },
  {
   "cell_type": "code",
   "execution_count": 168,
   "id": "e59bf186-7773-4bbc-88d2-d79c07b2af30",
   "metadata": {},
   "outputs": [
    {
     "data": {
      "text/html": [
       "<div>\n",
       "<style scoped>\n",
       "    .dataframe tbody tr th:only-of-type {\n",
       "        vertical-align: middle;\n",
       "    }\n",
       "\n",
       "    .dataframe tbody tr th {\n",
       "        vertical-align: top;\n",
       "    }\n",
       "\n",
       "    .dataframe thead th {\n",
       "        text-align: right;\n",
       "    }\n",
       "</style>\n",
       "<table border=\"1\" class=\"dataframe\">\n",
       "  <thead>\n",
       "    <tr style=\"text-align: right;\">\n",
       "      <th></th>\n",
       "      <th>Film</th>\n",
       "      <th>Genre</th>\n",
       "      <th>Lead_studio</th>\n",
       "      <th>Audience  score %</th>\n",
       "      <th>Profitability</th>\n",
       "      <th>Rotten Tomatoes %</th>\n",
       "      <th>Worldwide Gross</th>\n",
       "      <th>Year</th>\n",
       "    </tr>\n",
       "  </thead>\n",
       "  <tbody>\n",
       "    <tr>\n",
       "      <th>0</th>\n",
       "      <td>Enchanted</td>\n",
       "      <td>Comedy</td>\n",
       "      <td>Disney</td>\n",
       "      <td>80.0</td>\n",
       "      <td>4.005737</td>\n",
       "      <td>93.0</td>\n",
       "      <td>340.487652</td>\n",
       "      <td>2007</td>\n",
       "    </tr>\n",
       "    <tr>\n",
       "      <th>1</th>\n",
       "      <td>Good Luck Chuck</td>\n",
       "      <td>Comedy</td>\n",
       "      <td>Lionsgate</td>\n",
       "      <td>61.0</td>\n",
       "      <td>2.367685</td>\n",
       "      <td>3.0</td>\n",
       "      <td>59.192128</td>\n",
       "      <td>2007</td>\n",
       "    </tr>\n",
       "    <tr>\n",
       "      <th>2</th>\n",
       "      <td>Knocked Up</td>\n",
       "      <td>Comedy</td>\n",
       "      <td>Universal</td>\n",
       "      <td>83.0</td>\n",
       "      <td>6.636402</td>\n",
       "      <td>91.0</td>\n",
       "      <td>219.001261</td>\n",
       "      <td>2007</td>\n",
       "    </tr>\n",
       "    <tr>\n",
       "      <th>3</th>\n",
       "      <td>License to Wed</td>\n",
       "      <td>Comedy</td>\n",
       "      <td>Warner Bros.</td>\n",
       "      <td>55.0</td>\n",
       "      <td>1.980206</td>\n",
       "      <td>8.0</td>\n",
       "      <td>69.307224</td>\n",
       "      <td>2007</td>\n",
       "    </tr>\n",
       "    <tr>\n",
       "      <th>4</th>\n",
       "      <td>No Reservations</td>\n",
       "      <td>Comedy</td>\n",
       "      <td>NaN</td>\n",
       "      <td>64.0</td>\n",
       "      <td>3.307180</td>\n",
       "      <td>39.0</td>\n",
       "      <td>92.601050</td>\n",
       "      <td>2007</td>\n",
       "    </tr>\n",
       "    <tr>\n",
       "      <th>5</th>\n",
       "      <td>The Heartbreak Kid</td>\n",
       "      <td>Comedy</td>\n",
       "      <td>Paramount</td>\n",
       "      <td>41.0</td>\n",
       "      <td>2.129444</td>\n",
       "      <td>30.0</td>\n",
       "      <td>127.766650</td>\n",
       "      <td>2007</td>\n",
       "    </tr>\n",
       "  </tbody>\n",
       "</table>\n",
       "</div>"
      ],
      "text/plain": [
       "                 Film   Genre   Lead_studio  Audience  score %  Profitability  \\\n",
       "0           Enchanted  Comedy        Disney               80.0       4.005737   \n",
       "1     Good Luck Chuck  Comedy     Lionsgate               61.0       2.367685   \n",
       "2          Knocked Up  Comedy     Universal               83.0       6.636402   \n",
       "3      License to Wed  Comedy  Warner Bros.               55.0       1.980206   \n",
       "4     No Reservations  Comedy           NaN               64.0       3.307180   \n",
       "5  The Heartbreak Kid  Comedy     Paramount               41.0       2.129444   \n",
       "\n",
       "   Rotten Tomatoes %  Worldwide Gross  Year  \n",
       "0               93.0       340.487652  2007  \n",
       "1                3.0        59.192128  2007  \n",
       "2               91.0       219.001261  2007  \n",
       "3                8.0        69.307224  2007  \n",
       "4               39.0        92.601050  2007  \n",
       "5               30.0       127.766650  2007  "
      ]
     },
     "execution_count": 168,
     "metadata": {},
     "output_type": "execute_result"
    }
   ],
   "source": [
    "pd.merge(df_comedy, df_2007)\n",
    "#De la même manière, je peux appronfondir les contraintes pour m'adapter aux demandes d'un spectateur par exemple"
   ]
  }
 ],
 "metadata": {
  "kernelspec": {
   "display_name": "Python 3 (ipykernel)",
   "language": "python",
   "name": "python3"
  },
  "language_info": {
   "codemirror_mode": {
    "name": "ipython",
    "version": 3
   },
   "file_extension": ".py",
   "mimetype": "text/x-python",
   "name": "python",
   "nbconvert_exporter": "python",
   "pygments_lexer": "ipython3",
   "version": "3.11.4"
  }
 },
 "nbformat": 4,
 "nbformat_minor": 5
}
