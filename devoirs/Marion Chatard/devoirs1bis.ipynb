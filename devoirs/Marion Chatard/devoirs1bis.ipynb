{
 "cells": [
  {
   "cell_type": "markdown",
   "id": "c9fc97b4",
   "metadata": {},
   "source": [
    "# Analyse de données sur les films à Hollywood entre 2007 et 2011"
   ]
  },
  {
   "cell_type": "markdown",
   "id": "671574d2",
   "metadata": {},
   "source": [
    "J'ai décidé de m'intéresser aux différents films à Hollywood entre les années 200è et 2011, en regardant les différents genres, profits, et retours de l'audience."
   ]
  },
  {
   "cell_type": "markdown",
   "id": "e03fa1b6",
   "metadata": {},
   "source": [
    "### Récupération et traitement de données"
   ]
  },
  {
   "cell_type": "code",
   "execution_count": 3,
   "id": "779e19ba-23b3-4a38-803b-52d16284e90f",
   "metadata": {},
   "outputs": [],
   "source": [
    "import pandas as pd\n",
    "from matplotlib import pyplot as plt"
   ]
  },
  {
   "cell_type": "code",
   "execution_count": 4,
   "id": "48681d9b-6c49-4c65-a299-73f943839fc1",
   "metadata": {},
   "outputs": [],
   "source": [
    "url = \"https://public.tableau.com/app/sample-data/HollywoodsMostProfitableStories.csv\"\n",
    "df = pd.read_csv(url)"
   ]
  },
  {
   "cell_type": "code",
   "execution_count": 5,
   "id": "1248cfe3-72c6-40de-a4cc-ca6d09b4e3bf",
   "metadata": {},
   "outputs": [
    {
     "data": {
      "text/html": [
       "<div>\n",
       "<style scoped>\n",
       "    .dataframe tbody tr th:only-of-type {\n",
       "        vertical-align: middle;\n",
       "    }\n",
       "\n",
       "    .dataframe tbody tr th {\n",
       "        vertical-align: top;\n",
       "    }\n",
       "\n",
       "    .dataframe thead th {\n",
       "        text-align: right;\n",
       "    }\n",
       "</style>\n",
       "<table border=\"1\" class=\"dataframe\">\n",
       "  <thead>\n",
       "    <tr style=\"text-align: right;\">\n",
       "      <th></th>\n",
       "      <th>Film</th>\n",
       "      <th>Genre</th>\n",
       "      <th>Lead Studio</th>\n",
       "      <th>Audience  score %</th>\n",
       "      <th>Profitability</th>\n",
       "      <th>Rotten Tomatoes %</th>\n",
       "      <th>Worldwide Gross</th>\n",
       "      <th>Year</th>\n",
       "    </tr>\n",
       "  </thead>\n",
       "  <tbody>\n",
       "    <tr>\n",
       "      <th>0</th>\n",
       "      <td>27 Dresses</td>\n",
       "      <td>Comedy</td>\n",
       "      <td>Fox</td>\n",
       "      <td>71.0</td>\n",
       "      <td>5.343622</td>\n",
       "      <td>40.0</td>\n",
       "      <td>160.308654</td>\n",
       "      <td>2008</td>\n",
       "    </tr>\n",
       "    <tr>\n",
       "      <th>1</th>\n",
       "      <td>(500) Days of Summer</td>\n",
       "      <td>Comedy</td>\n",
       "      <td>Fox</td>\n",
       "      <td>81.0</td>\n",
       "      <td>8.096000</td>\n",
       "      <td>87.0</td>\n",
       "      <td>60.720000</td>\n",
       "      <td>2009</td>\n",
       "    </tr>\n",
       "    <tr>\n",
       "      <th>2</th>\n",
       "      <td>A Dangerous Method</td>\n",
       "      <td>Drama</td>\n",
       "      <td>Independent</td>\n",
       "      <td>89.0</td>\n",
       "      <td>0.448645</td>\n",
       "      <td>79.0</td>\n",
       "      <td>8.972895</td>\n",
       "      <td>2011</td>\n",
       "    </tr>\n",
       "    <tr>\n",
       "      <th>3</th>\n",
       "      <td>A Serious Man</td>\n",
       "      <td>Drama</td>\n",
       "      <td>Universal</td>\n",
       "      <td>64.0</td>\n",
       "      <td>4.382857</td>\n",
       "      <td>89.0</td>\n",
       "      <td>30.680000</td>\n",
       "      <td>2009</td>\n",
       "    </tr>\n",
       "    <tr>\n",
       "      <th>4</th>\n",
       "      <td>Across the Universe</td>\n",
       "      <td>Romance</td>\n",
       "      <td>Independent</td>\n",
       "      <td>84.0</td>\n",
       "      <td>0.652603</td>\n",
       "      <td>54.0</td>\n",
       "      <td>29.367143</td>\n",
       "      <td>2007</td>\n",
       "    </tr>\n",
       "  </tbody>\n",
       "</table>\n",
       "</div>"
      ],
      "text/plain": [
       "                   Film    Genre  Lead Studio  Audience  score %  \\\n",
       "0            27 Dresses   Comedy          Fox               71.0   \n",
       "1  (500) Days of Summer   Comedy          Fox               81.0   \n",
       "2    A Dangerous Method    Drama  Independent               89.0   \n",
       "3         A Serious Man    Drama    Universal               64.0   \n",
       "4   Across the Universe  Romance  Independent               84.0   \n",
       "\n",
       "   Profitability  Rotten Tomatoes %  Worldwide Gross  Year  \n",
       "0       5.343622               40.0       160.308654  2008  \n",
       "1       8.096000               87.0        60.720000  2009  \n",
       "2       0.448645               79.0         8.972895  2011  \n",
       "3       4.382857               89.0        30.680000  2009  \n",
       "4       0.652603               54.0        29.367143  2007  "
      ]
     },
     "execution_count": 5,
     "metadata": {},
     "output_type": "execute_result"
    }
   ],
   "source": [
    "df.head()"
   ]
  },
  {
   "cell_type": "markdown",
   "id": "02a65b2a",
   "metadata": {},
   "source": [
    "Nous voyons ici les premières lignes du tableau ainsi que toutes les colonnes. Je souhaite maintenant voir le nombre de réponses vides dans chaque colonne, c'est-à-dire des données non remplies, qui sont donc inintéressantes ici."
   ]
  },
  {
   "cell_type": "code",
   "execution_count": 17,
   "id": "79110516",
   "metadata": {},
   "outputs": [
    {
     "data": {
      "text/plain": [
       "Film                 0\n",
       "Genre                0\n",
       "Lead_studio          1\n",
       "Audience  score %    1\n",
       "Profitability        3\n",
       "Rotten Tomatoes %    1\n",
       "Worldwide Gross      0\n",
       "Year                 0\n",
       "dtype: int64"
      ]
     },
     "execution_count": 17,
     "metadata": {},
     "output_type": "execute_result"
    }
   ],
   "source": [
    "df.isnull().sum()"
   ]
  },
  {
   "cell_type": "markdown",
   "id": "0e71d7a1",
   "metadata": {},
   "source": [
    "On peut alors remplir ces données par 0 par exemple pour le profit fait, mais cette décision est arbitraire. On pourrait aussi chercher sur internet le réel profit réalisé pour remplir plus proprement."
   ]
  },
  {
   "cell_type": "code",
   "execution_count": 7,
   "id": "2247ae21",
   "metadata": {},
   "outputs": [
    {
     "data": {
      "text/plain": [
       "0     5.343622\n",
       "1     8.096000\n",
       "2     0.448645\n",
       "3     4.382857\n",
       "4     0.652603\n",
       "        ...   \n",
       "69    6.267647\n",
       "70    0.000000\n",
       "71    1.211818\n",
       "72    1.090000\n",
       "73    1.747542\n",
       "Name: Profitability, Length: 74, dtype: float64"
      ]
     },
     "execution_count": 7,
     "metadata": {},
     "output_type": "execute_result"
    }
   ],
   "source": [
    "df.Profitability.fillna(0)"
   ]
  },
  {
   "cell_type": "markdown",
   "id": "9941082b",
   "metadata": {},
   "source": [
    "### Analyse du tableau "
   ]
  },
  {
   "cell_type": "markdown",
   "id": "81ac1146",
   "metadata": {},
   "source": [
    "On peut maintenant sortir certaines informations sur le tableau, notamment ces dimensions :"
   ]
  },
  {
   "cell_type": "code",
   "execution_count": 18,
   "id": "c2c6bde2",
   "metadata": {},
   "outputs": [
    {
     "data": {
      "text/plain": [
       "(74, 8)"
      ]
     },
     "execution_count": 18,
     "metadata": {},
     "output_type": "execute_result"
    }
   ],
   "source": [
    "df.shape"
   ]
  },
  {
   "cell_type": "markdown",
   "id": "04e743b9",
   "metadata": {},
   "source": [
    "Il y a donc 74 lignes et 8 colonnes."
   ]
  },
  {
   "cell_type": "code",
   "execution_count": 19,
   "id": "e4948042",
   "metadata": {},
   "outputs": [
    {
     "data": {
      "text/plain": [
       "Film                  object\n",
       "Genre                 object\n",
       "Lead_studio           object\n",
       "Audience  score %    float64\n",
       "Profitability        float64\n",
       "Rotten Tomatoes %    float64\n",
       "Worldwide Gross      float64\n",
       "Year                   int64\n",
       "dtype: object"
      ]
     },
     "execution_count": 19,
     "metadata": {},
     "output_type": "execute_result"
    }
   ],
   "source": [
    "df.dtypes"
   ]
  },
  {
   "cell_type": "markdown",
   "id": "620d99da",
   "metadata": {},
   "source": [
    "On obtient ici les types de nos objets dans le tableau. On voit que les objets dans \"Year\" sont des \"int64\" alors que dans les autres sont des \"float64\". On peut changer ce type :"
   ]
  },
  {
   "cell_type": "code",
   "execution_count": 20,
   "id": "cc57a544",
   "metadata": {},
   "outputs": [
    {
     "data": {
      "text/plain": [
       "0     2008.0\n",
       "1     2009.0\n",
       "2     2011.0\n",
       "3     2009.0\n",
       "4     2007.0\n",
       "       ...  \n",
       "69    2008.0\n",
       "70    2010.0\n",
       "71    2010.0\n",
       "72    2010.0\n",
       "73    2008.0\n",
       "Name: Year, Length: 74, dtype: float64"
      ]
     },
     "execution_count": 20,
     "metadata": {},
     "output_type": "execute_result"
    }
   ],
   "source": [
    "df.Year.astype(\"float64\")"
   ]
  },
  {
   "cell_type": "markdown",
   "id": "55365976",
   "metadata": {},
   "source": [
    "Cela n'est pas pour autant très utile dans ce cas particulier."
   ]
  },
  {
   "cell_type": "code",
   "execution_count": 8,
   "id": "0d9c326d-f034-465a-99aa-8973792cffd7",
   "metadata": {},
   "outputs": [
    {
     "data": {
      "text/html": [
       "<div>\n",
       "<style scoped>\n",
       "    .dataframe tbody tr th:only-of-type {\n",
       "        vertical-align: middle;\n",
       "    }\n",
       "\n",
       "    .dataframe tbody tr th {\n",
       "        vertical-align: top;\n",
       "    }\n",
       "\n",
       "    .dataframe thead th {\n",
       "        text-align: right;\n",
       "    }\n",
       "</style>\n",
       "<table border=\"1\" class=\"dataframe\">\n",
       "  <thead>\n",
       "    <tr style=\"text-align: right;\">\n",
       "      <th></th>\n",
       "      <th>Film</th>\n",
       "      <th>Genre</th>\n",
       "      <th>Lead Studio</th>\n",
       "      <th>Audience  score %</th>\n",
       "      <th>Profitability</th>\n",
       "      <th>Rotten Tomatoes %</th>\n",
       "      <th>Worldwide Gross</th>\n",
       "      <th>Year</th>\n",
       "    </tr>\n",
       "  </thead>\n",
       "  <tbody>\n",
       "    <tr>\n",
       "      <th>71</th>\n",
       "      <td>You Will Meet a Tall Dark Stranger</td>\n",
       "      <td>Comedy</td>\n",
       "      <td>Independent</td>\n",
       "      <td>35.0</td>\n",
       "      <td>1.211818</td>\n",
       "      <td>43.0</td>\n",
       "      <td>26.660000</td>\n",
       "      <td>2010</td>\n",
       "    </tr>\n",
       "    <tr>\n",
       "      <th>27</th>\n",
       "      <td>Love Happens</td>\n",
       "      <td>Drama</td>\n",
       "      <td>Universal</td>\n",
       "      <td>40.0</td>\n",
       "      <td>2.004444</td>\n",
       "      <td>18.0</td>\n",
       "      <td>36.080000</td>\n",
       "      <td>2009</td>\n",
       "    </tr>\n",
       "    <tr>\n",
       "      <th>55</th>\n",
       "      <td>The Heartbreak Kid</td>\n",
       "      <td>Comedy</td>\n",
       "      <td>Paramount</td>\n",
       "      <td>41.0</td>\n",
       "      <td>2.129444</td>\n",
       "      <td>30.0</td>\n",
       "      <td>127.766650</td>\n",
       "      <td>2007</td>\n",
       "    </tr>\n",
       "    <tr>\n",
       "      <th>70</th>\n",
       "      <td>When in Rome</td>\n",
       "      <td>Comedy</td>\n",
       "      <td>Disney</td>\n",
       "      <td>44.0</td>\n",
       "      <td>NaN</td>\n",
       "      <td>15.0</td>\n",
       "      <td>43.040000</td>\n",
       "      <td>2010</td>\n",
       "    </tr>\n",
       "    <tr>\n",
       "      <th>20</th>\n",
       "      <td>Killers</td>\n",
       "      <td>Action</td>\n",
       "      <td>Lionsgate</td>\n",
       "      <td>45.0</td>\n",
       "      <td>1.245333</td>\n",
       "      <td>11.0</td>\n",
       "      <td>93.400000</td>\n",
       "      <td>2010</td>\n",
       "    </tr>\n",
       "    <tr>\n",
       "      <th>...</th>\n",
       "      <td>...</td>\n",
       "      <td>...</td>\n",
       "      <td>...</td>\n",
       "      <td>...</td>\n",
       "      <td>...</td>\n",
       "      <td>...</td>\n",
       "      <td>...</td>\n",
       "      <td>...</td>\n",
       "    </tr>\n",
       "    <tr>\n",
       "      <th>35</th>\n",
       "      <td>My Week with Marilyn</td>\n",
       "      <td>Drama</td>\n",
       "      <td>The Weinstein Company</td>\n",
       "      <td>84.0</td>\n",
       "      <td>0.825800</td>\n",
       "      <td>83.0</td>\n",
       "      <td>8.258000</td>\n",
       "      <td>2011</td>\n",
       "    </tr>\n",
       "    <tr>\n",
       "      <th>51</th>\n",
       "      <td>Tangled</td>\n",
       "      <td>Animation</td>\n",
       "      <td>Disney</td>\n",
       "      <td>88.0</td>\n",
       "      <td>1.365692</td>\n",
       "      <td>89.0</td>\n",
       "      <td>355.080000</td>\n",
       "      <td>2010</td>\n",
       "    </tr>\n",
       "    <tr>\n",
       "      <th>67</th>\n",
       "      <td>WALL-E</td>\n",
       "      <td>Animation</td>\n",
       "      <td>Disney</td>\n",
       "      <td>89.0</td>\n",
       "      <td>2.896019</td>\n",
       "      <td>96.0</td>\n",
       "      <td>521.283432</td>\n",
       "      <td>2008</td>\n",
       "    </tr>\n",
       "    <tr>\n",
       "      <th>2</th>\n",
       "      <td>A Dangerous Method</td>\n",
       "      <td>Drama</td>\n",
       "      <td>Independent</td>\n",
       "      <td>89.0</td>\n",
       "      <td>0.448645</td>\n",
       "      <td>79.0</td>\n",
       "      <td>8.972895</td>\n",
       "      <td>2011</td>\n",
       "    </tr>\n",
       "    <tr>\n",
       "      <th>50</th>\n",
       "      <td>Something Borrowed</td>\n",
       "      <td>Romance</td>\n",
       "      <td>Independent</td>\n",
       "      <td>NaN</td>\n",
       "      <td>1.719514</td>\n",
       "      <td>NaN</td>\n",
       "      <td>60.183000</td>\n",
       "      <td>2011</td>\n",
       "    </tr>\n",
       "  </tbody>\n",
       "</table>\n",
       "<p>74 rows × 8 columns</p>\n",
       "</div>"
      ],
      "text/plain": [
       "                                  Film      Genre            Lead Studio  \\\n",
       "71  You Will Meet a Tall Dark Stranger     Comedy            Independent   \n",
       "27                        Love Happens      Drama              Universal   \n",
       "55                  The Heartbreak Kid     Comedy              Paramount   \n",
       "70                        When in Rome     Comedy                 Disney   \n",
       "20                             Killers     Action              Lionsgate   \n",
       "..                                 ...        ...                    ...   \n",
       "35                My Week with Marilyn      Drama  The Weinstein Company   \n",
       "51                             Tangled  Animation                 Disney   \n",
       "67                              WALL-E  Animation                 Disney   \n",
       "2                   A Dangerous Method      Drama            Independent   \n",
       "50                  Something Borrowed    Romance            Independent   \n",
       "\n",
       "    Audience  score %  Profitability  Rotten Tomatoes %  Worldwide Gross  Year  \n",
       "71               35.0       1.211818               43.0        26.660000  2010  \n",
       "27               40.0       2.004444               18.0        36.080000  2009  \n",
       "55               41.0       2.129444               30.0       127.766650  2007  \n",
       "70               44.0            NaN               15.0        43.040000  2010  \n",
       "20               45.0       1.245333               11.0        93.400000  2010  \n",
       "..                ...            ...                ...              ...   ...  \n",
       "35               84.0       0.825800               83.0         8.258000  2011  \n",
       "51               88.0       1.365692               89.0       355.080000  2010  \n",
       "67               89.0       2.896019               96.0       521.283432  2008  \n",
       "2                89.0       0.448645               79.0         8.972895  2011  \n",
       "50                NaN       1.719514                NaN        60.183000  2011  \n",
       "\n",
       "[74 rows x 8 columns]"
      ]
     },
     "execution_count": 8,
     "metadata": {},
     "output_type": "execute_result"
    }
   ],
   "source": [
    "df.sort_values(by= [\"Audience  score %\"])"
   ]
  },
  {
   "cell_type": "markdown",
   "id": "66ca74ea",
   "metadata": {},
   "source": [
    "Ici, on a trié les films selon le pourcentage donné par l'audience, ce qui permet de plus facilement choisir un film, basé sur les retours de l'audience."
   ]
  },
  {
   "cell_type": "markdown",
   "id": "626f7f13",
   "metadata": {},
   "source": [
    "Je remarque aussi qu'il y a des titres avec des espaces, ce qui n'est pas pratique pour utiliser les différentes commandes : je préfère donc la renommer en snake case."
   ]
  },
  {
   "cell_type": "code",
   "execution_count": 9,
   "id": "487f6a1c-f79c-45fc-9f48-7e725e5020f0",
   "metadata": {},
   "outputs": [],
   "source": [
    "df.rename(columns={ \"Lead Studio\": \"Lead_studio\"}, inplace=True)"
   ]
  },
  {
   "cell_type": "code",
   "execution_count": 49,
   "id": "d71b9136-b1f1-4b41-8508-eb0f4c5198a9",
   "metadata": {},
   "outputs": [],
   "source": [
    "df.rename(columns={ \"Rotten Tomatoes %\": \"Rotten_tomatoes_per\"}, inplace=True)"
   ]
  },
  {
   "cell_type": "code",
   "execution_count": 50,
   "id": "5dd3c5e2-dcf5-47c2-83d4-da2c80fbd268",
   "metadata": {},
   "outputs": [],
   "source": [
    "df.rename(columns={ 'Audience  score %': \"Audience_score_per\"}, inplace=True)"
   ]
  },
  {
   "cell_type": "code",
   "execution_count": 51,
   "id": "a81d05b5-0b94-414f-b83a-d8ec5b655a05",
   "metadata": {},
   "outputs": [
    {
     "data": {
      "text/html": [
       "<div>\n",
       "<style scoped>\n",
       "    .dataframe tbody tr th:only-of-type {\n",
       "        vertical-align: middle;\n",
       "    }\n",
       "\n",
       "    .dataframe tbody tr th {\n",
       "        vertical-align: top;\n",
       "    }\n",
       "\n",
       "    .dataframe thead th {\n",
       "        text-align: right;\n",
       "    }\n",
       "</style>\n",
       "<table border=\"1\" class=\"dataframe\">\n",
       "  <thead>\n",
       "    <tr style=\"text-align: right;\">\n",
       "      <th></th>\n",
       "      <th>Film</th>\n",
       "      <th>Genre</th>\n",
       "      <th>Lead_studio</th>\n",
       "      <th>Audience_score_per</th>\n",
       "      <th>Profitability</th>\n",
       "      <th>Rotten_tomatoes_per</th>\n",
       "      <th>Worldwide Gross</th>\n",
       "      <th>Year</th>\n",
       "    </tr>\n",
       "  </thead>\n",
       "  <tbody>\n",
       "    <tr>\n",
       "      <th>0</th>\n",
       "      <td>27 Dresses</td>\n",
       "      <td>Comedy</td>\n",
       "      <td>Fox</td>\n",
       "      <td>71.0</td>\n",
       "      <td>5.343622</td>\n",
       "      <td>40.0</td>\n",
       "      <td>160.308654</td>\n",
       "      <td>2008</td>\n",
       "    </tr>\n",
       "    <tr>\n",
       "      <th>1</th>\n",
       "      <td>(500) Days of Summer</td>\n",
       "      <td>Comedy</td>\n",
       "      <td>Fox</td>\n",
       "      <td>81.0</td>\n",
       "      <td>8.096000</td>\n",
       "      <td>87.0</td>\n",
       "      <td>60.720000</td>\n",
       "      <td>2009</td>\n",
       "    </tr>\n",
       "    <tr>\n",
       "      <th>2</th>\n",
       "      <td>A Dangerous Method</td>\n",
       "      <td>Drama</td>\n",
       "      <td>Independent</td>\n",
       "      <td>89.0</td>\n",
       "      <td>0.448645</td>\n",
       "      <td>79.0</td>\n",
       "      <td>8.972895</td>\n",
       "      <td>2011</td>\n",
       "    </tr>\n",
       "    <tr>\n",
       "      <th>3</th>\n",
       "      <td>A Serious Man</td>\n",
       "      <td>Drama</td>\n",
       "      <td>Universal</td>\n",
       "      <td>64.0</td>\n",
       "      <td>4.382857</td>\n",
       "      <td>89.0</td>\n",
       "      <td>30.680000</td>\n",
       "      <td>2009</td>\n",
       "    </tr>\n",
       "    <tr>\n",
       "      <th>4</th>\n",
       "      <td>Across the Universe</td>\n",
       "      <td>Romance</td>\n",
       "      <td>Independent</td>\n",
       "      <td>84.0</td>\n",
       "      <td>0.652603</td>\n",
       "      <td>54.0</td>\n",
       "      <td>29.367143</td>\n",
       "      <td>2007</td>\n",
       "    </tr>\n",
       "  </tbody>\n",
       "</table>\n",
       "</div>"
      ],
      "text/plain": [
       "                   Film    Genre  Lead_studio  Audience_score_per  \\\n",
       "0            27 Dresses   Comedy          Fox                71.0   \n",
       "1  (500) Days of Summer   Comedy          Fox                81.0   \n",
       "2    A Dangerous Method    Drama  Independent                89.0   \n",
       "3         A Serious Man    Drama    Universal                64.0   \n",
       "4   Across the Universe  Romance  Independent                84.0   \n",
       "\n",
       "   Profitability  Rotten_tomatoes_per  Worldwide Gross  Year  \n",
       "0       5.343622                 40.0       160.308654  2008  \n",
       "1       8.096000                 87.0        60.720000  2009  \n",
       "2       0.448645                 79.0         8.972895  2011  \n",
       "3       4.382857                 89.0        30.680000  2009  \n",
       "4       0.652603                 54.0        29.367143  2007  "
      ]
     },
     "execution_count": 51,
     "metadata": {},
     "output_type": "execute_result"
    }
   ],
   "source": [
    "df.head()"
   ]
  },
  {
   "cell_type": "markdown",
   "id": "50fffd27",
   "metadata": {},
   "source": [
    "On vérifie que les colonnes ont bien été renommées."
   ]
  },
  {
   "cell_type": "markdown",
   "id": "f1df2ae8",
   "metadata": {},
   "source": [
    "On peut chercher la valeur moyenne en pourcentage sur le score de l'audience :"
   ]
  },
  {
   "cell_type": "code",
   "execution_count": 11,
   "id": "f1e1ab18-deb7-420b-ac00-7922a8a96133",
   "metadata": {},
   "outputs": [],
   "source": [
    "mean_AS = df[\"Audience  score %\"].mean()"
   ]
  },
  {
   "cell_type": "code",
   "execution_count": 13,
   "id": "1ecf9941-db6f-4524-be32-a017a2bb3a45",
   "metadata": {},
   "outputs": [
    {
     "name": "stdout",
     "output_type": "stream",
     "text": [
      "64.13698630136986\n"
     ]
    }
   ],
   "source": [
    "print(mean_AS)"
   ]
  },
  {
   "cell_type": "markdown",
   "id": "59320284",
   "metadata": {},
   "source": [
    "Cela est une moyenne assez satisfaisante en tenant compte du fait qu'il y a beaucoup de personnes qui votent, ces films ont donc globalement été bien appréciés. On peut aussi chercher les valeurs maximales et minimales du score donné par l'audience."
   ]
  },
  {
   "cell_type": "code",
   "execution_count": 53,
   "id": "0738d26e-ea40-4ad4-a9a9-cb1733b62c13",
   "metadata": {},
   "outputs": [],
   "source": [
    "max_AS = df[\"Audience_score_per\"].max()"
   ]
  },
  {
   "cell_type": "code",
   "execution_count": 54,
   "id": "c18e3ab3-3b53-481d-b970-717356eba89b",
   "metadata": {},
   "outputs": [
    {
     "name": "stdout",
     "output_type": "stream",
     "text": [
      "89.0\n"
     ]
    }
   ],
   "source": [
    "print(max_AS)"
   ]
  },
  {
   "cell_type": "markdown",
   "id": "53eef2b3",
   "metadata": {},
   "source": [
    "Cette commande témoigne bien du fait qu'il n'y a jamais eu un film aimé à 100% par tous."
   ]
  },
  {
   "cell_type": "markdown",
   "id": "90a65a66",
   "metadata": {},
   "source": [
    "On peut voir ceux qui ont un score d'audience plus élevé que 65%, soit plus que la moyenne."
   ]
  },
  {
   "cell_type": "code",
   "execution_count": 55,
   "id": "25c15a66",
   "metadata": {},
   "outputs": [
    {
     "data": {
      "text/plain": [
       "0      True\n",
       "1      True\n",
       "2      True\n",
       "3     False\n",
       "4      True\n",
       "      ...  \n",
       "69     True\n",
       "70    False\n",
       "71    False\n",
       "72    False\n",
       "73     True\n",
       "Name: Audience_score_per, Length: 74, dtype: bool"
      ]
     },
     "execution_count": 55,
     "metadata": {},
     "output_type": "execute_result"
    }
   ],
   "source": [
    "df.Audience_score_per > 65"
   ]
  },
  {
   "cell_type": "code",
   "execution_count": 31,
   "id": "312d52fa-629d-41d7-9b27-da154eaebf22",
   "metadata": {},
   "outputs": [
    {
     "data": {
      "text/html": [
       "<div>\n",
       "<style scoped>\n",
       "    .dataframe tbody tr th:only-of-type {\n",
       "        vertical-align: middle;\n",
       "    }\n",
       "\n",
       "    .dataframe tbody tr th {\n",
       "        vertical-align: top;\n",
       "    }\n",
       "\n",
       "    .dataframe thead th {\n",
       "        text-align: right;\n",
       "    }\n",
       "</style>\n",
       "<table border=\"1\" class=\"dataframe\">\n",
       "  <thead>\n",
       "    <tr style=\"text-align: right;\">\n",
       "      <th></th>\n",
       "      <th>Audience  score %</th>\n",
       "      <th>Profitability</th>\n",
       "      <th>Rotten Tomatoes %</th>\n",
       "      <th>Worldwide Gross</th>\n",
       "      <th>Year</th>\n",
       "    </tr>\n",
       "  </thead>\n",
       "  <tbody>\n",
       "    <tr>\n",
       "      <th>count</th>\n",
       "      <td>73.000000</td>\n",
       "      <td>71.000000</td>\n",
       "      <td>73.000000</td>\n",
       "      <td>74.000000</td>\n",
       "      <td>74.000000</td>\n",
       "    </tr>\n",
       "    <tr>\n",
       "      <th>mean</th>\n",
       "      <td>64.136986</td>\n",
       "      <td>4.741610</td>\n",
       "      <td>47.356164</td>\n",
       "      <td>136.351979</td>\n",
       "      <td>2009.054054</td>\n",
       "    </tr>\n",
       "    <tr>\n",
       "      <th>std</th>\n",
       "      <td>13.647665</td>\n",
       "      <td>8.292017</td>\n",
       "      <td>26.242655</td>\n",
       "      <td>157.067561</td>\n",
       "      <td>1.353756</td>\n",
       "    </tr>\n",
       "    <tr>\n",
       "      <th>min</th>\n",
       "      <td>35.000000</td>\n",
       "      <td>0.005000</td>\n",
       "      <td>3.000000</td>\n",
       "      <td>0.025000</td>\n",
       "      <td>2007.000000</td>\n",
       "    </tr>\n",
       "    <tr>\n",
       "      <th>25%</th>\n",
       "      <td>52.000000</td>\n",
       "      <td>1.790680</td>\n",
       "      <td>27.000000</td>\n",
       "      <td>32.447500</td>\n",
       "      <td>2008.000000</td>\n",
       "    </tr>\n",
       "    <tr>\n",
       "      <th>50%</th>\n",
       "      <td>64.000000</td>\n",
       "      <td>2.642353</td>\n",
       "      <td>45.000000</td>\n",
       "      <td>73.198612</td>\n",
       "      <td>2009.000000</td>\n",
       "    </tr>\n",
       "    <tr>\n",
       "      <th>75%</th>\n",
       "      <td>76.000000</td>\n",
       "      <td>4.850958</td>\n",
       "      <td>65.000000</td>\n",
       "      <td>190.185250</td>\n",
       "      <td>2010.000000</td>\n",
       "    </tr>\n",
       "    <tr>\n",
       "      <th>max</th>\n",
       "      <td>89.000000</td>\n",
       "      <td>66.934000</td>\n",
       "      <td>96.000000</td>\n",
       "      <td>709.820000</td>\n",
       "      <td>2011.000000</td>\n",
       "    </tr>\n",
       "  </tbody>\n",
       "</table>\n",
       "</div>"
      ],
      "text/plain": [
       "       Audience  score %  Profitability  Rotten Tomatoes %  Worldwide Gross  \\\n",
       "count          73.000000      71.000000          73.000000        74.000000   \n",
       "mean           64.136986       4.741610          47.356164       136.351979   \n",
       "std            13.647665       8.292017          26.242655       157.067561   \n",
       "min            35.000000       0.005000           3.000000         0.025000   \n",
       "25%            52.000000       1.790680          27.000000        32.447500   \n",
       "50%            64.000000       2.642353          45.000000        73.198612   \n",
       "75%            76.000000       4.850958          65.000000       190.185250   \n",
       "max            89.000000      66.934000          96.000000       709.820000   \n",
       "\n",
       "              Year  \n",
       "count    74.000000  \n",
       "mean   2009.054054  \n",
       "std       1.353756  \n",
       "min    2007.000000  \n",
       "25%    2008.000000  \n",
       "50%    2009.000000  \n",
       "75%    2010.000000  \n",
       "max    2011.000000  "
      ]
     },
     "execution_count": 31,
     "metadata": {},
     "output_type": "execute_result"
    }
   ],
   "source": [
    "df.describe()"
   ]
  },
  {
   "cell_type": "markdown",
   "id": "694872ee",
   "metadata": {},
   "source": [
    "Cette fonction permet d'obtenir directement les données intéressantes sur le tableau, sur toutes les colonnes. "
   ]
  },
  {
   "cell_type": "markdown",
   "id": "83a6c711",
   "metadata": {},
   "source": [
    "Nous pouvons également voir les différentes années sur lesquelles les films ont été évalués, pour rendre compte de l'étendue dans les données."
   ]
  },
  {
   "cell_type": "code",
   "execution_count": 14,
   "id": "34109268-609a-4633-9a58-91c99aa6eb1f",
   "metadata": {},
   "outputs": [
    {
     "data": {
      "text/plain": [
       "array([2008, 2009, 2011, 2007, 2010], dtype=int64)"
      ]
     },
     "execution_count": 14,
     "metadata": {},
     "output_type": "execute_result"
    }
   ],
   "source": [
    "df.Year.unique()"
   ]
  },
  {
   "cell_type": "markdown",
   "id": "d7f4e2fe",
   "metadata": {},
   "source": [
    "J'aimerais trouver le nombre de films réalisés dans chaque studio, pour cela je cherche dans un premier temps la liste des différents studios évoqués dans le tableau."
   ]
  },
  {
   "cell_type": "code",
   "execution_count": 22,
   "id": "9c4ae28a-b160-4f57-b6ef-f3e08f81ad62",
   "metadata": {},
   "outputs": [
    {
     "data": {
      "text/plain": [
       "array(['Fox', 'Independent', 'Universal', 'Sony', 'Disney',\n",
       "       'Warner Bros.', 'Lionsgate', 'Summit', '20th Century Fox',\n",
       "       'The Weinstein Company', nan, 'New Line', 'Paramount', 'CBS'],\n",
       "      dtype=object)"
      ]
     },
     "execution_count": 22,
     "metadata": {},
     "output_type": "execute_result"
    }
   ],
   "source": [
    "df.Lead_studio.unique()"
   ]
  },
  {
   "cell_type": "code",
   "execution_count": 23,
   "id": "8a32f94f-31bc-4e9e-a516-dcacbad7877e",
   "metadata": {},
   "outputs": [],
   "source": [
    "LS = ['Fox', 'Independent', 'Universal', 'Sony', 'Disney',\n",
    "       'Warner Bros.', 'Lionsgate', 'Summit', '20th Century Fox',\n",
    "       'The Weinstein Company', 'New Line', 'Paramount', 'CBS']"
   ]
  },
  {
   "cell_type": "code",
   "execution_count": 25,
   "id": "31b79280-88e2-4089-90da-3ac049aa6b72",
   "metadata": {},
   "outputs": [
    {
     "name": "stdout",
     "output_type": "stream",
     "text": [
      "6 ont lieu au studio Fox\n",
      "19 ont lieu au studio Independent\n",
      "7 ont lieu au studio Universal\n",
      "4 ont lieu au studio Sony\n",
      "7 ont lieu au studio Disney\n",
      "12 ont lieu au studio Warner Bros.\n",
      "2 ont lieu au studio Lionsgate\n",
      "5 ont lieu au studio Summit\n",
      "2 ont lieu au studio 20th Century Fox\n",
      "3 ont lieu au studio The Weinstein Company\n",
      "1 ont lieu au studio New Line\n",
      "4 ont lieu au studio Paramount\n",
      "1 ont lieu au studio CBS\n"
     ]
    }
   ],
   "source": [
    "    for studio in LS:\n",
    "        count=0\n",
    "        for i in range(74):\n",
    "            if df.iloc[i-1,2] == studio :\n",
    "                count += 1\n",
    "        print(f\"{count} ont lieu au studio {studio}\")\n"
   ]
  },
  {
   "cell_type": "markdown",
   "id": "ba1f9f5a",
   "metadata": {},
   "source": [
    "On peut également compter les studios d'une autre manière en utilisant \"group by\"."
   ]
  },
  {
   "cell_type": "code",
   "execution_count": 26,
   "id": "9ff76529-24fd-4879-9361-3d3e3f512d2b",
   "metadata": {},
   "outputs": [],
   "source": [
    "by_studio= df.groupby(by=\"Lead_studio\")"
   ]
  },
  {
   "cell_type": "code",
   "execution_count": 27,
   "id": "44dabc7f-0f00-449d-a691-8750a7695c97",
   "metadata": {},
   "outputs": [
    {
     "data": {
      "text/plain": [
       "Lead_studio\n",
       "20th Century Fox          2\n",
       "CBS                       1\n",
       "Disney                    7\n",
       "Fox                       6\n",
       "Independent              19\n",
       "Lionsgate                 2\n",
       "New Line                  1\n",
       "Paramount                 4\n",
       "Sony                      4\n",
       "Summit                    5\n",
       "The Weinstein Company     3\n",
       "Universal                 7\n",
       "Warner Bros.             12\n",
       "dtype: int64"
      ]
     },
     "execution_count": 27,
     "metadata": {},
     "output_type": "execute_result"
    }
   ],
   "source": [
    "by_studio.size()"
   ]
  },
  {
   "cell_type": "markdown",
   "id": "654aef21",
   "metadata": {},
   "source": [
    "On retrouve bien les mêmes résultats avec les deux méthodes, bien que la deuxième soit plus rapide/facile."
   ]
  },
  {
   "cell_type": "markdown",
   "id": "39b62ff4",
   "metadata": {},
   "source": [
    "Je souhaite voir la répartition des pourcentages dans les films dans un histogramme, qui a l'avantage d'être beaucoup plus représentatif visuellement."
   ]
  },
  {
   "cell_type": "code",
   "execution_count": 37,
   "id": "8c147e2d-d874-48ea-833e-506a9bbe45fa",
   "metadata": {},
   "outputs": [
    {
     "data": {
      "text/plain": [
       "<Axes: >"
      ]
     },
     "execution_count": 37,
     "metadata": {},
     "output_type": "execute_result"
    },
    {
     "data": {
      "image/png": "[encoded data removed]",
      "text/plain": [
       "<Figure size 640x480 with 1 Axes>"
      ]
     },
     "metadata": {},
     "output_type": "display_data"
    }
   ],
   "source": [
    "df.Audience_score_per.hist()"
   ]
  },
  {
   "cell_type": "markdown",
   "id": "9a88f1d9",
   "metadata": {},
   "source": [
    "Je renomme ces colonnes pour éviter qu'il y ait un espace et donc que certaines commandes ne fonctionnent pas"
   ]
  },
  {
   "cell_type": "code",
   "execution_count": 38,
   "id": "c163bf9d-bfba-49d8-ba48-10a89110b3e8",
   "metadata": {},
   "outputs": [
    {
     "data": {
      "text/html": [
       "<div>\n",
       "<style scoped>\n",
       "    .dataframe tbody tr th:only-of-type {\n",
       "        vertical-align: middle;\n",
       "    }\n",
       "\n",
       "    .dataframe tbody tr th {\n",
       "        vertical-align: top;\n",
       "    }\n",
       "\n",
       "    .dataframe thead th {\n",
       "        text-align: right;\n",
       "    }\n",
       "</style>\n",
       "<table border=\"1\" class=\"dataframe\">\n",
       "  <thead>\n",
       "    <tr style=\"text-align: right;\">\n",
       "      <th></th>\n",
       "      <th>Film</th>\n",
       "      <th>Genre</th>\n",
       "      <th>Lead_studio</th>\n",
       "      <th>Audience_score_per</th>\n",
       "      <th>Profitability</th>\n",
       "      <th>Rotten_tomatoes_per</th>\n",
       "      <th>Worldwide Gross</th>\n",
       "      <th>Year</th>\n",
       "    </tr>\n",
       "  </thead>\n",
       "  <tbody>\n",
       "    <tr>\n",
       "      <th>0</th>\n",
       "      <td>27 Dresses</td>\n",
       "      <td>Comedy</td>\n",
       "      <td>Fox</td>\n",
       "      <td>71.0</td>\n",
       "      <td>5.343622</td>\n",
       "      <td>40.0</td>\n",
       "      <td>160.308654</td>\n",
       "      <td>2008</td>\n",
       "    </tr>\n",
       "    <tr>\n",
       "      <th>1</th>\n",
       "      <td>(500) Days of Summer</td>\n",
       "      <td>Comedy</td>\n",
       "      <td>Fox</td>\n",
       "      <td>81.0</td>\n",
       "      <td>8.096000</td>\n",
       "      <td>87.0</td>\n",
       "      <td>60.720000</td>\n",
       "      <td>2009</td>\n",
       "    </tr>\n",
       "    <tr>\n",
       "      <th>2</th>\n",
       "      <td>A Dangerous Method</td>\n",
       "      <td>Drama</td>\n",
       "      <td>Independent</td>\n",
       "      <td>89.0</td>\n",
       "      <td>0.448645</td>\n",
       "      <td>79.0</td>\n",
       "      <td>8.972895</td>\n",
       "      <td>2011</td>\n",
       "    </tr>\n",
       "    <tr>\n",
       "      <th>3</th>\n",
       "      <td>A Serious Man</td>\n",
       "      <td>Drama</td>\n",
       "      <td>Universal</td>\n",
       "      <td>64.0</td>\n",
       "      <td>4.382857</td>\n",
       "      <td>89.0</td>\n",
       "      <td>30.680000</td>\n",
       "      <td>2009</td>\n",
       "    </tr>\n",
       "    <tr>\n",
       "      <th>4</th>\n",
       "      <td>Across the Universe</td>\n",
       "      <td>Romance</td>\n",
       "      <td>Independent</td>\n",
       "      <td>84.0</td>\n",
       "      <td>0.652603</td>\n",
       "      <td>54.0</td>\n",
       "      <td>29.367143</td>\n",
       "      <td>2007</td>\n",
       "    </tr>\n",
       "  </tbody>\n",
       "</table>\n",
       "</div>"
      ],
      "text/plain": [
       "                   Film    Genre  Lead_studio  Audience_score_per  \\\n",
       "0            27 Dresses   Comedy          Fox                71.0   \n",
       "1  (500) Days of Summer   Comedy          Fox                81.0   \n",
       "2    A Dangerous Method    Drama  Independent                89.0   \n",
       "3         A Serious Man    Drama    Universal                64.0   \n",
       "4   Across the Universe  Romance  Independent                84.0   \n",
       "\n",
       "   Profitability  Rotten_tomatoes_per  Worldwide Gross  Year  \n",
       "0       5.343622                 40.0       160.308654  2008  \n",
       "1       8.096000                 87.0        60.720000  2009  \n",
       "2       0.448645                 79.0         8.972895  2011  \n",
       "3       4.382857                 89.0        30.680000  2009  \n",
       "4       0.652603                 54.0        29.367143  2007  "
      ]
     },
     "execution_count": 38,
     "metadata": {},
     "output_type": "execute_result"
    }
   ],
   "source": [
    "df.head()"
   ]
  },
  {
   "cell_type": "code",
   "execution_count": 39,
   "id": "3dc57945-4b6e-4bba-bc95-7655242f4213",
   "metadata": {},
   "outputs": [
    {
     "data": {
      "text/plain": [
       "30.68"
      ]
     },
     "execution_count": 39,
     "metadata": {},
     "output_type": "execute_result"
    }
   ],
   "source": [
    "df.loc[3,'Worldwide Gross']"
   ]
  },
  {
   "cell_type": "code",
   "execution_count": 40,
   "id": "0b4537eb-8102-47c2-9333-1933d968e643",
   "metadata": {},
   "outputs": [],
   "source": [
    "group = df.groupby(\"Year\")"
   ]
  },
  {
   "cell_type": "code",
   "execution_count": 41,
   "id": "027ae0ac-2637-483b-ae12-dfb32f3d4a7c",
   "metadata": {},
   "outputs": [
    {
     "data": {
      "text/html": [
       "<div>\n",
       "<style scoped>\n",
       "    .dataframe tbody tr th:only-of-type {\n",
       "        vertical-align: middle;\n",
       "    }\n",
       "\n",
       "    .dataframe tbody tr th {\n",
       "        vertical-align: top;\n",
       "    }\n",
       "\n",
       "    .dataframe thead th {\n",
       "        text-align: right;\n",
       "    }\n",
       "</style>\n",
       "<table border=\"1\" class=\"dataframe\">\n",
       "  <thead>\n",
       "    <tr style=\"text-align: right;\">\n",
       "      <th></th>\n",
       "      <th>Film</th>\n",
       "      <th>Genre</th>\n",
       "      <th>Lead_studio</th>\n",
       "      <th>Audience_score_per</th>\n",
       "      <th>Profitability</th>\n",
       "      <th>Rotten_tomatoes_per</th>\n",
       "      <th>Worldwide Gross</th>\n",
       "      <th>Year</th>\n",
       "    </tr>\n",
       "  </thead>\n",
       "  <tbody>\n",
       "    <tr>\n",
       "      <th>4</th>\n",
       "      <td>Across the Universe</td>\n",
       "      <td>Romance</td>\n",
       "      <td>Independent</td>\n",
       "      <td>84.0</td>\n",
       "      <td>0.652603</td>\n",
       "      <td>54.0</td>\n",
       "      <td>29.367143</td>\n",
       "      <td>2007</td>\n",
       "    </tr>\n",
       "    <tr>\n",
       "      <th>7</th>\n",
       "      <td>Enchanted</td>\n",
       "      <td>Comedy</td>\n",
       "      <td>Disney</td>\n",
       "      <td>80.0</td>\n",
       "      <td>4.005737</td>\n",
       "      <td>93.0</td>\n",
       "      <td>340.487652</td>\n",
       "      <td>2007</td>\n",
       "    </tr>\n",
       "    <tr>\n",
       "      <th>13</th>\n",
       "      <td>Good Luck Chuck</td>\n",
       "      <td>Comedy</td>\n",
       "      <td>Lionsgate</td>\n",
       "      <td>61.0</td>\n",
       "      <td>2.367685</td>\n",
       "      <td>3.0</td>\n",
       "      <td>59.192128</td>\n",
       "      <td>2007</td>\n",
       "    </tr>\n",
       "    <tr>\n",
       "      <th>21</th>\n",
       "      <td>Knocked Up</td>\n",
       "      <td>Comedy</td>\n",
       "      <td>Universal</td>\n",
       "      <td>83.0</td>\n",
       "      <td>6.636402</td>\n",
       "      <td>91.0</td>\n",
       "      <td>219.001261</td>\n",
       "      <td>2007</td>\n",
       "    </tr>\n",
       "    <tr>\n",
       "      <th>24</th>\n",
       "      <td>License to Wed</td>\n",
       "      <td>Comedy</td>\n",
       "      <td>Warner Bros.</td>\n",
       "      <td>55.0</td>\n",
       "      <td>1.980206</td>\n",
       "      <td>8.0</td>\n",
       "      <td>69.307224</td>\n",
       "      <td>2007</td>\n",
       "    </tr>\n",
       "    <tr>\n",
       "      <th>34</th>\n",
       "      <td>Music and Lyrics</td>\n",
       "      <td>Romance</td>\n",
       "      <td>Warner Bros.</td>\n",
       "      <td>70.0</td>\n",
       "      <td>3.647411</td>\n",
       "      <td>63.0</td>\n",
       "      <td>145.896422</td>\n",
       "      <td>2007</td>\n",
       "    </tr>\n",
       "    <tr>\n",
       "      <th>38</th>\n",
       "      <td>No Reservations</td>\n",
       "      <td>Comedy</td>\n",
       "      <td>NaN</td>\n",
       "      <td>64.0</td>\n",
       "      <td>3.307180</td>\n",
       "      <td>39.0</td>\n",
       "      <td>92.601050</td>\n",
       "      <td>2007</td>\n",
       "    </tr>\n",
       "    <tr>\n",
       "      <th>43</th>\n",
       "      <td>P.S. I Love You</td>\n",
       "      <td>Romance</td>\n",
       "      <td>Independent</td>\n",
       "      <td>82.0</td>\n",
       "      <td>5.103117</td>\n",
       "      <td>21.0</td>\n",
       "      <td>153.093505</td>\n",
       "      <td>2007</td>\n",
       "    </tr>\n",
       "    <tr>\n",
       "      <th>55</th>\n",
       "      <td>The Heartbreak Kid</td>\n",
       "      <td>Comedy</td>\n",
       "      <td>Paramount</td>\n",
       "      <td>41.0</td>\n",
       "      <td>2.129444</td>\n",
       "      <td>30.0</td>\n",
       "      <td>127.766650</td>\n",
       "      <td>2007</td>\n",
       "    </tr>\n",
       "    <tr>\n",
       "      <th>63</th>\n",
       "      <td>Tyler Perry's Why Did I get Married</td>\n",
       "      <td>Romance</td>\n",
       "      <td>Independent</td>\n",
       "      <td>47.0</td>\n",
       "      <td>3.724192</td>\n",
       "      <td>46.0</td>\n",
       "      <td>55.862886</td>\n",
       "      <td>2007</td>\n",
       "    </tr>\n",
       "    <tr>\n",
       "      <th>66</th>\n",
       "      <td>Waitress</td>\n",
       "      <td>Romance</td>\n",
       "      <td>Independent</td>\n",
       "      <td>67.0</td>\n",
       "      <td>11.089742</td>\n",
       "      <td>89.0</td>\n",
       "      <td>22.179483</td>\n",
       "      <td>2007</td>\n",
       "    </tr>\n",
       "  </tbody>\n",
       "</table>\n",
       "</div>"
      ],
      "text/plain": [
       "                                   Film    Genre   Lead_studio  \\\n",
       "4                   Across the Universe  Romance   Independent   \n",
       "7                             Enchanted   Comedy        Disney   \n",
       "13                      Good Luck Chuck   Comedy     Lionsgate   \n",
       "21                           Knocked Up   Comedy     Universal   \n",
       "24                       License to Wed   Comedy  Warner Bros.   \n",
       "34                     Music and Lyrics  Romance  Warner Bros.   \n",
       "38                      No Reservations   Comedy           NaN   \n",
       "43                      P.S. I Love You  Romance   Independent   \n",
       "55                   The Heartbreak Kid   Comedy     Paramount   \n",
       "63  Tyler Perry's Why Did I get Married  Romance   Independent   \n",
       "66                             Waitress  Romance   Independent   \n",
       "\n",
       "    Audience_score_per  Profitability  Rotten_tomatoes_per  Worldwide Gross  \\\n",
       "4                 84.0       0.652603                 54.0        29.367143   \n",
       "7                 80.0       4.005737                 93.0       340.487652   \n",
       "13                61.0       2.367685                  3.0        59.192128   \n",
       "21                83.0       6.636402                 91.0       219.001261   \n",
       "24                55.0       1.980206                  8.0        69.307224   \n",
       "34                70.0       3.647411                 63.0       145.896422   \n",
       "38                64.0       3.307180                 39.0        92.601050   \n",
       "43                82.0       5.103117                 21.0       153.093505   \n",
       "55                41.0       2.129444                 30.0       127.766650   \n",
       "63                47.0       3.724192                 46.0        55.862886   \n",
       "66                67.0      11.089742                 89.0        22.179483   \n",
       "\n",
       "    Year  \n",
       "4   2007  \n",
       "7   2007  \n",
       "13  2007  \n",
       "21  2007  \n",
       "24  2007  \n",
       "34  2007  \n",
       "38  2007  \n",
       "43  2007  \n",
       "55  2007  \n",
       "63  2007  \n",
       "66  2007  "
      ]
     },
     "execution_count": 41,
     "metadata": {},
     "output_type": "execute_result"
    }
   ],
   "source": [
    "group.get_group(2007)"
   ]
  },
  {
   "cell_type": "markdown",
   "id": "641c2603",
   "metadata": {},
   "source": [
    "Cela me permet d'accéder à tous les films de 2007 dans ces données.\n",
    "Je pourrai également refaire la même chose mais en classant par genre, ce qui permettrait d'accéder directement à toutes les comédies par exemple, et donc de faciliter certaines recherches."
   ]
  },
  {
   "cell_type": "markdown",
   "id": "cbce0597",
   "metadata": {},
   "source": [
    "Je veux maintenant trouver les comédies de 2007 directement."
   ]
  },
  {
   "cell_type": "code",
   "execution_count": 42,
   "id": "72c1c31e-098a-4a20-9913-02508ac06333",
   "metadata": {},
   "outputs": [],
   "source": [
    "df_comedy = df.query(\"Genre == 'Comedy' \")"
   ]
  },
  {
   "cell_type": "code",
   "execution_count": 43,
   "id": "b07186d8-e0f7-453b-8cc4-09754852c089",
   "metadata": {},
   "outputs": [],
   "source": [
    "df_2007 = df.query(\"Year == 2007 \")"
   ]
  },
  {
   "cell_type": "code",
   "execution_count": 44,
   "id": "e59bf186-7773-4bbc-88d2-d79c07b2af30",
   "metadata": {},
   "outputs": [
    {
     "data": {
      "text/html": [
       "<div>\n",
       "<style scoped>\n",
       "    .dataframe tbody tr th:only-of-type {\n",
       "        vertical-align: middle;\n",
       "    }\n",
       "\n",
       "    .dataframe tbody tr th {\n",
       "        vertical-align: top;\n",
       "    }\n",
       "\n",
       "    .dataframe thead th {\n",
       "        text-align: right;\n",
       "    }\n",
       "</style>\n",
       "<table border=\"1\" class=\"dataframe\">\n",
       "  <thead>\n",
       "    <tr style=\"text-align: right;\">\n",
       "      <th></th>\n",
       "      <th>Film</th>\n",
       "      <th>Genre</th>\n",
       "      <th>Lead_studio</th>\n",
       "      <th>Audience_score_per</th>\n",
       "      <th>Profitability</th>\n",
       "      <th>Rotten_tomatoes_per</th>\n",
       "      <th>Worldwide Gross</th>\n",
       "      <th>Year</th>\n",
       "    </tr>\n",
       "  </thead>\n",
       "  <tbody>\n",
       "    <tr>\n",
       "      <th>0</th>\n",
       "      <td>Enchanted</td>\n",
       "      <td>Comedy</td>\n",
       "      <td>Disney</td>\n",
       "      <td>80.0</td>\n",
       "      <td>4.005737</td>\n",
       "      <td>93.0</td>\n",
       "      <td>340.487652</td>\n",
       "      <td>2007</td>\n",
       "    </tr>\n",
       "    <tr>\n",
       "      <th>1</th>\n",
       "      <td>Good Luck Chuck</td>\n",
       "      <td>Comedy</td>\n",
       "      <td>Lionsgate</td>\n",
       "      <td>61.0</td>\n",
       "      <td>2.367685</td>\n",
       "      <td>3.0</td>\n",
       "      <td>59.192128</td>\n",
       "      <td>2007</td>\n",
       "    </tr>\n",
       "    <tr>\n",
       "      <th>2</th>\n",
       "      <td>Knocked Up</td>\n",
       "      <td>Comedy</td>\n",
       "      <td>Universal</td>\n",
       "      <td>83.0</td>\n",
       "      <td>6.636402</td>\n",
       "      <td>91.0</td>\n",
       "      <td>219.001261</td>\n",
       "      <td>2007</td>\n",
       "    </tr>\n",
       "    <tr>\n",
       "      <th>3</th>\n",
       "      <td>License to Wed</td>\n",
       "      <td>Comedy</td>\n",
       "      <td>Warner Bros.</td>\n",
       "      <td>55.0</td>\n",
       "      <td>1.980206</td>\n",
       "      <td>8.0</td>\n",
       "      <td>69.307224</td>\n",
       "      <td>2007</td>\n",
       "    </tr>\n",
       "    <tr>\n",
       "      <th>4</th>\n",
       "      <td>No Reservations</td>\n",
       "      <td>Comedy</td>\n",
       "      <td>NaN</td>\n",
       "      <td>64.0</td>\n",
       "      <td>3.307180</td>\n",
       "      <td>39.0</td>\n",
       "      <td>92.601050</td>\n",
       "      <td>2007</td>\n",
       "    </tr>\n",
       "    <tr>\n",
       "      <th>5</th>\n",
       "      <td>The Heartbreak Kid</td>\n",
       "      <td>Comedy</td>\n",
       "      <td>Paramount</td>\n",
       "      <td>41.0</td>\n",
       "      <td>2.129444</td>\n",
       "      <td>30.0</td>\n",
       "      <td>127.766650</td>\n",
       "      <td>2007</td>\n",
       "    </tr>\n",
       "  </tbody>\n",
       "</table>\n",
       "</div>"
      ],
      "text/plain": [
       "                 Film   Genre   Lead_studio  Audience_score_per  \\\n",
       "0           Enchanted  Comedy        Disney                80.0   \n",
       "1     Good Luck Chuck  Comedy     Lionsgate                61.0   \n",
       "2          Knocked Up  Comedy     Universal                83.0   \n",
       "3      License to Wed  Comedy  Warner Bros.                55.0   \n",
       "4     No Reservations  Comedy           NaN                64.0   \n",
       "5  The Heartbreak Kid  Comedy     Paramount                41.0   \n",
       "\n",
       "   Profitability  Rotten_tomatoes_per  Worldwide Gross  Year  \n",
       "0       4.005737                 93.0       340.487652  2007  \n",
       "1       2.367685                  3.0        59.192128  2007  \n",
       "2       6.636402                 91.0       219.001261  2007  \n",
       "3       1.980206                  8.0        69.307224  2007  \n",
       "4       3.307180                 39.0        92.601050  2007  \n",
       "5       2.129444                 30.0       127.766650  2007  "
      ]
     },
     "execution_count": 44,
     "metadata": {},
     "output_type": "execute_result"
    }
   ],
   "source": [
    "pd.merge(df_comedy, df_2007)"
   ]
  },
  {
   "cell_type": "markdown",
   "id": "980311ff",
   "metadata": {},
   "source": [
    "De la même manière, je peux appronfondir les contraintes pour m'adapter aux demandes d'un spectateur par exemple.\n",
    "Je veux maintenant faire des graphiques plus détaillés, j'utilise pour cela seaborn."
   ]
  },
  {
   "cell_type": "code",
   "execution_count": 45,
   "id": "e469267f",
   "metadata": {},
   "outputs": [],
   "source": [
    "import seaborn as sns"
   ]
  },
  {
   "cell_type": "markdown",
   "id": "2edbf5f1",
   "metadata": {},
   "source": [
    "Dans un premier temps, je souhaite voir la répartition des scores donnés par l'audience au cours des ans. De cette manière, je peux voir l'étalement des scores notamment."
   ]
  },
  {
   "cell_type": "code",
   "execution_count": 47,
   "id": "3557bd1e",
   "metadata": {},
   "outputs": [
    {
     "name": "stderr",
     "output_type": "stream",
     "text": [
      "C:\\Users\\chata\\miniconda3\\Lib\\site-packages\\seaborn\\axisgrid.py:123: UserWarning: The figure layout has changed to tight\n",
      "  self._figure.tight_layout(*args, **kwargs)\n"
     ]
    },
    {
     "data": {
      "text/plain": [
       "<seaborn.axisgrid.FacetGrid at 0x23049d07e50>"
      ]
     },
     "execution_count": 47,
     "metadata": {},
     "output_type": "execute_result"
    },
    {
     "data": {
      "image/png": "[encoded data removed]",
      "text/plain": [
       "<Figure size 585.25x500 with 1 Axes>"
      ]
     },
     "metadata": {},
     "output_type": "display_data"
    }
   ],
   "source": [
    "sns.relplot(data=df, x='Year', y='Audience_score_per',hue = 'Year')"
   ]
  },
  {
   "cell_type": "code",
   "execution_count": 39,
   "id": "f16db66d",
   "metadata": {},
   "outputs": [
    {
     "name": "stderr",
     "output_type": "stream",
     "text": [
      "C:\\Users\\chata\\miniconda3\\Lib\\site-packages\\seaborn\\axisgrid.py:123: UserWarning: The figure layout has changed to tight\n",
      "  self._figure.tight_layout(*args, **kwargs)\n"
     ]
    },
    {
     "data": {
      "image/png": "[encoded data removed]",
      "text/plain": [
       "<Figure size 585.25x500 with 1 Axes>"
      ]
     },
     "metadata": {},
     "output_type": "display_data"
    }
   ],
   "source": [
    "sns.displot(data=df,x='Audience_score_per',hue='Year',kind='kde');"
   ]
  },
  {
   "cell_type": "markdown",
   "id": "1faa0b21",
   "metadata": {},
   "source": [
    "Ce graphique rejoint ma première idée de voir la répartition des scores de l'audience en montrant la densité pour chaque score. On peut notamment voir que certaines années ont eu des films avec des scores très homogènes, comme en 2010 ou 2008, et d'autres très hétérogènes. C'est aussi ce qu'on voit dans le graphique d'avant."
   ]
  },
  {
   "cell_type": "code",
   "execution_count": 59,
   "id": "09fd92a1",
   "metadata": {},
   "outputs": [
    {
     "name": "stderr",
     "output_type": "stream",
     "text": [
      "C:\\Users\\chata\\miniconda3\\Lib\\site-packages\\seaborn\\axisgrid.py:123: UserWarning: The figure layout has changed to tight\n",
      "  self._figure.tight_layout(*args, **kwargs)\n"
     ]
    },
    {
     "data": {
      "text/plain": [
       "<seaborn.axisgrid.FacetGrid at 0x23049f02e90>"
      ]
     },
     "execution_count": 59,
     "metadata": {},
     "output_type": "execute_result"
    },
    {
     "data": {
      "image/png": "[encoded data removed]",
      "text/plain": [
       "<Figure size 500x500 with 1 Axes>"
      ]
     },
     "metadata": {},
     "output_type": "display_data"
    }
   ],
   "source": [
    "sns.relplot(data=df, x='Audience_score_per', y='Rotten_tomatoes_per')"
   ]
  },
  {
   "cell_type": "markdown",
   "id": "5d6e21f5",
   "metadata": {},
   "source": [
    "Je voulais voir s'il y avait un lien entre le score de l'audience et les tomates pourries. Finalement, il est difficile d'en déduire une évolution, mais il semble quand même avoir un poucentage de tomates pourries lorsque le score de l'audience est plus élevé aussi. "
   ]
  },
  {
   "cell_type": "markdown",
   "id": "d6de162b",
   "metadata": {},
   "source": [
    "On peut alors se demander l'influence du genre sur le score et les tomates pourries."
   ]
  },
  {
   "cell_type": "code",
   "execution_count": 60,
   "id": "de243579",
   "metadata": {},
   "outputs": [
    {
     "name": "stderr",
     "output_type": "stream",
     "text": [
      "C:\\Users\\chata\\miniconda3\\Lib\\site-packages\\seaborn\\axisgrid.py:123: UserWarning: The figure layout has changed to tight\n",
      "  self._figure.tight_layout(*args, **kwargs)\n"
     ]
    },
    {
     "data": {
      "text/plain": [
       "<seaborn.axisgrid.FacetGrid at 0x2304a3d5090>"
      ]
     },
     "execution_count": 60,
     "metadata": {},
     "output_type": "execute_result"
    },
    {
     "data": {
      "image/png": "[encoded data removed]",
      "text/plain": [
       "<Figure size 620.875x500 with 1 Axes>"
      ]
     },
     "metadata": {},
     "output_type": "display_data"
    }
   ],
   "source": [
    "sns.relplot(data=df, x='Audience_score_per', y='Rotten_tomatoes_per', hue='Genre')"
   ]
  },
  {
   "cell_type": "markdown",
   "id": "68266845",
   "metadata": {},
   "source": [
    "Néanmoins, il ne semble pas voir un lien direct entre ces critères."
   ]
  },
  {
   "cell_type": "markdown",
   "id": "fff03972",
   "metadata": {},
   "source": [
    "Pour finir, je veux voir s'il y a un lien entre le score de l'audience et le studio, permettant de voir l'influence du studio."
   ]
  },
  {
   "cell_type": "code",
   "execution_count": 65,
   "id": "f8f64c7b",
   "metadata": {},
   "outputs": [
    {
     "name": "stderr",
     "output_type": "stream",
     "text": [
      "C:\\Users\\chata\\miniconda3\\Lib\\site-packages\\seaborn\\axisgrid.py:123: UserWarning: The figure layout has changed to tight\n",
      "  self._figure.tight_layout(*args, **kwargs)\n"
     ]
    },
    {
     "data": {
      "text/plain": [
       "<seaborn.axisgrid.FacetGrid at 0x2304bde1150>"
      ]
     },
     "execution_count": 65,
     "metadata": {},
     "output_type": "execute_result"
    },
    {
     "data": {
      "image/png": "[encoded data removed]",
      "text/plain": [
       "<Figure size 718.625x500 with 1 Axes>"
      ]
     },
     "metadata": {},
     "output_type": "display_data"
    }
   ],
   "source": [
    "sns.catplot(data=df,x='Year', hue='Lead_studio',y='Audience_score_per')"
   ]
  },
  {
   "cell_type": "code",
   "execution_count": 68,
   "id": "b3d347b8",
   "metadata": {},
   "outputs": [
    {
     "name": "stdout",
     "output_type": "stream",
     "text": [
      "69.0 est la moyenne du score de l'audience obtenue au studio Fox\n",
      "nan est la moyenne du score de l'audience obtenue au studio Independent\n",
      "64.57142857142857 est la moyenne du score de l'audience obtenue au studio Universal\n",
      "69.5 est la moyenne du score de l'audience obtenue au studio Sony\n",
      "71.85714285714286 est la moyenne du score de l'audience obtenue au studio Disney\n",
      "58.333333333333336 est la moyenne du score de l'audience obtenue au studio Warner Bros.\n",
      "53.0 est la moyenne du score de l'audience obtenue au studio Lionsgate\n",
      "73.2 est la moyenne du score de l'audience obtenue au studio Summit\n",
      "61.0 est la moyenne du score de l'audience obtenue au studio 20th Century Fox\n",
      "68.66666666666667 est la moyenne du score de l'audience obtenue au studio The Weinstein Company\n",
      "47.0 est la moyenne du score de l'audience obtenue au studio New Line\n",
      "58.5 est la moyenne du score de l'audience obtenue au studio Paramount\n",
      "47.0 est la moyenne du score de l'audience obtenue au studio CBS\n"
     ]
    }
   ],
   "source": [
    "for studio in LS:\n",
    "    moy=0\n",
    "    count=0\n",
    "    somme=0\n",
    "    for i in range(74):\n",
    "        if df.iloc[i-1,2] == studio :\n",
    "            somme += df.iloc[i-1,3]\n",
    "            count += 1\n",
    "    moy= somme/count\n",
    "    print(f\"{moy} est la moyenne du score de l'audience obtenue au studio {studio}\")"
   ]
  },
  {
   "cell_type": "markdown",
   "id": "07fe0f9b",
   "metadata": {},
   "source": [
    "On remarque que la moyenne du score de l'audience en pourcentage la plus élevée est au studio Summit, ce qui est assez cohérent avec le graphique au dessus. On observe qu'il y a des studios avec des moyennes bien plus basses, à voir si cela est lié au lieu en lui-même ou au genre de films qui y est diffusé."
   ]
  },
  {
   "cell_type": "markdown",
   "id": "14b2704e",
   "metadata": {},
   "source": [
    "## Conclusion"
   ]
  },
  {
   "cell_type": "markdown",
   "id": "30992e1f",
   "metadata": {},
   "source": [
    "Dans cette étude des films à Hollywood, nous avons pu étudier les retours de l'audience et les genres selon les années, et surtout étudier les différentes influences sur les retours etc. "
   ]
  },
  {
   "cell_type": "code",
   "execution_count": null,
   "id": "bc679b6b",
   "metadata": {},
   "outputs": [],
   "source": []
  }
 ],
 "metadata": {
  "kernelspec": {
   "display_name": "Python 3 (ipykernel)",
   "language": "python",
   "name": "python3"
  },
  "language_info": {
   "codemirror_mode": {
    "name": "ipython",
    "version": 3
   },
   "file_extension": ".py",
   "mimetype": "text/x-python",
   "name": "python",
   "nbconvert_exporter": "python",
   "pygments_lexer": "ipython3",
   "version": "3.11.4"
  }
 },
 "nbformat": 4,
 "nbformat_minor": 5
}
