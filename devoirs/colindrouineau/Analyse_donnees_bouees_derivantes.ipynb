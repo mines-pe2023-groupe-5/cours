{
 "cells": [
  {
   "cell_type": "markdown",
   "id": "5deb36c6-5e98-4073-84ce-080158b2443b",
   "metadata": {},
   "source": [
    "Nous disposons d'un jeu de données sur 7 bouées dérivantes, de la forme :\n",
    "\"PLATFORM_CODE\";\"LOCATION_DATE\";\"LATITUDE\";\"LONGITUDE\"\n",
    "\n",
    "A partir de ces données, le but est de déterminer si certaines de ces bouées sont des doublons, auquel cas il faudrait les supprimer de la base de données.\n",
    "Des analyses plus classiques sur les données de ces bouées seront ensuite entreprises, après la purification du jeu de données.\n",
    "\n",
    "Nous importons le module cartopy, que nous avons installé via conda, pour tracer les trajectoires des bouées sur une carte."
   ]
  },
  {
   "cell_type": "code",
   "execution_count": 1,
   "id": "e92cac95-4e3e-44ef-9a94-1a85d12ec8dd",
   "metadata": {},
   "outputs": [
    {
     "data": {
      "text/html": [
       "<div>\n",
       "<style scoped>\n",
       "    .dataframe tbody tr th:only-of-type {\n",
       "        vertical-align: middle;\n",
       "    }\n",
       "\n",
       "    .dataframe tbody tr th {\n",
       "        vertical-align: top;\n",
       "    }\n",
       "\n",
       "    .dataframe thead th {\n",
       "        text-align: right;\n",
       "    }\n",
       "</style>\n",
       "<table border=\"1\" class=\"dataframe\">\n",
       "  <thead>\n",
       "    <tr style=\"text-align: right;\">\n",
       "      <th></th>\n",
       "      <th></th>\n",
       "      <th>PLATFORM_CODE;\"LOCATION_DATE\";\"LATITUDE\";\"LONGITUDE\"</th>\n",
       "    </tr>\n",
       "  </thead>\n",
       "  <tbody>\n",
       "    <tr>\n",
       "      <th>11923;01/10/2006 15:27:00;11</th>\n",
       "      <th>781;52</th>\n",
       "      <td>636.0</td>\n",
       "    </tr>\n",
       "    <tr>\n",
       "      <th>11923;01/10/2006 06:04:00;11</th>\n",
       "      <th>5;52</th>\n",
       "      <td>348.0</td>\n",
       "    </tr>\n",
       "    <tr>\n",
       "      <th>11923;01/10/2006 02:46:00;11</th>\n",
       "      <th>5;52</th>\n",
       "      <td>348.0</td>\n",
       "    </tr>\n",
       "    <tr>\n",
       "      <th>11923;02/10/2006 08:41:00;11</th>\n",
       "      <th>734;53</th>\n",
       "      <td>16.0</td>\n",
       "    </tr>\n",
       "    <tr>\n",
       "      <th>11923;30/09/2006 19:03:00;11</th>\n",
       "      <th>278;52</th>\n",
       "      <td>265.0</td>\n",
       "    </tr>\n",
       "  </tbody>\n",
       "</table>\n",
       "</div>"
      ],
      "text/plain": [
       "                                     PLATFORM_CODE;\"LOCATION_DATE\";\"LATITUDE\";\"LONGITUDE\"\n",
       "11923;01/10/2006 15:27:00;11 781;52                                              636.0   \n",
       "11923;01/10/2006 06:04:00;11 5;52                                                348.0   \n",
       "11923;01/10/2006 02:46:00;11 5;52                                                348.0   \n",
       "11923;02/10/2006 08:41:00;11 734;53                                               16.0   \n",
       "11923;30/09/2006 19:03:00;11 278;52                                              265.0   "
      ]
     },
     "execution_count": 1,
     "metadata": {},
     "output_type": "execute_result"
    }
   ],
   "source": [
    "import pandas as pd\n",
    "import matplotlib.pyplot as plt\n",
    "import cartopy.crs as ccrs\n",
    "url = \"drifter-2.dsv\"\n",
    "data = pd.read_csv(url)\n",
    "\n",
    "# Display the first lines of the dataframe\n",
    "data.head()"
   ]
  },
  {
   "cell_type": "markdown",
   "id": "42f350f4-8adf-42a5-9088-2ee65bccced0",
   "metadata": {},
   "source": [
    "Ici, pour la première ligne par exemple, la latitude est 45.233 ° et la longitude est 775.0 °."
   ]
  },
  {
   "cell_type": "code",
   "execution_count": 2,
   "id": "4ba6ed07-c59a-4876-a72b-d8fa70549c16",
   "metadata": {},
   "outputs": [
    {
     "data": {
      "text/plain": [
       "'PLATFORM_CODE;\"LOCATION_DATE\";\"LATITUDE\";\"LONGITUDE\"'"
      ]
     },
     "execution_count": 2,
     "metadata": {},
     "output_type": "execute_result"
    }
   ],
   "source": [
    "data.columns[0]"
   ]
  },
  {
   "cell_type": "markdown",
   "id": "65447a31-447a-4bb5-a61c-ed0c5e0fe839",
   "metadata": {},
   "source": [
    "On se rend compte qu'il y a un problème avec le jeu de données : il n'y a qu'une colonne, les informations ne sont pas triées."
   ]
  },
  {
   "cell_type": "code",
   "execution_count": 3,
   "id": "5428b747-7cc0-41c6-a128-9c7d94e3f915",
   "metadata": {},
   "outputs": [
    {
     "data": {
      "text/plain": [
       "array([[636.],\n",
       "       [348.],\n",
       "       [348.],\n",
       "       [ 16.],\n",
       "       [265.]])"
      ]
     },
     "execution_count": 3,
     "metadata": {},
     "output_type": "execute_result"
    }
   ],
   "source": [
    "data.values[:5]"
   ]
  },
  {
   "cell_type": "code",
   "execution_count": 4,
   "id": "2b3cdb52-4d99-46ef-ab3c-b75ac13c9235",
   "metadata": {},
   "outputs": [
    {
     "data": {
      "text/plain": [
       "MultiIndex([('11923;01/10/2006 15:27:00;11', '781;52'),\n",
       "            ('11923;01/10/2006 06:04:00;11',   '5;52'),\n",
       "            ('11923;01/10/2006 02:46:00;11',   '5;52'),\n",
       "            ('11923;02/10/2006 08:41:00;11', '734;53'),\n",
       "            ('11923;30/09/2006 19:03:00;11', '278;52')],\n",
       "           )"
      ]
     },
     "execution_count": 4,
     "metadata": {},
     "output_type": "execute_result"
    }
   ],
   "source": [
    "data.index[:5]"
   ]
  },
  {
   "cell_type": "code",
   "execution_count": 5,
   "id": "dcb77763-2139-4b89-859b-9564e1922865",
   "metadata": {},
   "outputs": [
    {
     "data": {
      "text/plain": [
       "['11923;01/10/2006 15:27:00;11', '781;52']"
      ]
     },
     "execution_count": 5,
     "metadata": {},
     "output_type": "execute_result"
    }
   ],
   "source": [
    "[data.index[0][0], data.index[0][1]]"
   ]
  },
  {
   "cell_type": "markdown",
   "id": "eafe0f3c-d084-4dfe-8e37-7d455161a3fe",
   "metadata": {},
   "source": [
    "La plupart des données sont stockées avec les index. Un grand travail de réorganisation s'impose.\n",
    "Dans un premier temps, nous optons pour une approcher \"manuelle\" :\n",
    "Nous essayons de repasser par des tableaux numpy pour créer avec des dictionnaires une nouvelle dataframe propre.\n",
    "\n",
    "Après quelques tentatives infructueuses, la documentation de pandas nous montre une méthode pour agencer proprement les données directement."
   ]
  },
  {
   "cell_type": "code",
   "execution_count": 6,
   "id": "e7eb7b26-9ed0-467e-8f4f-7cf1d7ef240c",
   "metadata": {},
   "outputs": [
    {
     "data": {
      "text/html": [
       "<div>\n",
       "<style scoped>\n",
       "    .dataframe tbody tr th:only-of-type {\n",
       "        vertical-align: middle;\n",
       "    }\n",
       "\n",
       "    .dataframe tbody tr th {\n",
       "        vertical-align: top;\n",
       "    }\n",
       "\n",
       "    .dataframe thead th {\n",
       "        text-align: right;\n",
       "    }\n",
       "</style>\n",
       "<table border=\"1\" class=\"dataframe\">\n",
       "  <thead>\n",
       "    <tr style=\"text-align: right;\">\n",
       "      <th></th>\n",
       "      <th>PLATFORM_CODE</th>\n",
       "      <th>LOCATION_DATE</th>\n",
       "      <th>LATITUDE</th>\n",
       "      <th>LONGITUDE</th>\n",
       "    </tr>\n",
       "  </thead>\n",
       "  <tbody>\n",
       "    <tr>\n",
       "      <th>0</th>\n",
       "      <td>11923</td>\n",
       "      <td>01/10/2006 15:27:00</td>\n",
       "      <td>11.781</td>\n",
       "      <td>52.636</td>\n",
       "    </tr>\n",
       "    <tr>\n",
       "      <th>1</th>\n",
       "      <td>11923</td>\n",
       "      <td>01/10/2006 06:04:00</td>\n",
       "      <td>11.500</td>\n",
       "      <td>52.348</td>\n",
       "    </tr>\n",
       "    <tr>\n",
       "      <th>2</th>\n",
       "      <td>11923</td>\n",
       "      <td>01/10/2006 02:46:00</td>\n",
       "      <td>11.500</td>\n",
       "      <td>52.348</td>\n",
       "    </tr>\n",
       "    <tr>\n",
       "      <th>3</th>\n",
       "      <td>11923</td>\n",
       "      <td>02/10/2006 08:41:00</td>\n",
       "      <td>11.734</td>\n",
       "      <td>53.160</td>\n",
       "    </tr>\n",
       "    <tr>\n",
       "      <th>4</th>\n",
       "      <td>11923</td>\n",
       "      <td>30/09/2006 19:03:00</td>\n",
       "      <td>11.278</td>\n",
       "      <td>52.265</td>\n",
       "    </tr>\n",
       "  </tbody>\n",
       "</table>\n",
       "</div>"
      ],
      "text/plain": [
       "  PLATFORM_CODE        LOCATION_DATE  LATITUDE  LONGITUDE\n",
       "0         11923  01/10/2006 15:27:00    11.781     52.636\n",
       "1         11923  01/10/2006 06:04:00    11.500     52.348\n",
       "2         11923  01/10/2006 02:46:00    11.500     52.348\n",
       "3         11923  02/10/2006 08:41:00    11.734     53.160\n",
       "4         11923  30/09/2006 19:03:00    11.278     52.265"
      ]
     },
     "execution_count": 6,
     "metadata": {},
     "output_type": "execute_result"
    }
   ],
   "source": [
    "csv_file = 'drifter-2.dsv'\n",
    "delimiter = ';'\n",
    "decimal_separator = ','\n",
    "\n",
    "# Read the CSV file into a DataFrame, specifying the decimal separator\n",
    "df = pd.read_csv(csv_file, sep=delimiter, decimal=decimal_separator)\n",
    "\n",
    "df.head()"
   ]
  },
  {
   "cell_type": "code",
   "execution_count": 7,
   "id": "9eaab2ad-75df-480a-947c-455e8c244d65",
   "metadata": {},
   "outputs": [
    {
     "name": "stdout",
     "output_type": "stream",
     "text": [
      "['11923' '15623' '62456' 'EXD05216' 'EXD06882' 'IF000051' 'IF000053']\n"
     ]
    },
    {
     "data": {
      "text/html": [
       "<div>\n",
       "<style scoped>\n",
       "    .dataframe tbody tr th:only-of-type {\n",
       "        vertical-align: middle;\n",
       "    }\n",
       "\n",
       "    .dataframe tbody tr th {\n",
       "        vertical-align: top;\n",
       "    }\n",
       "\n",
       "    .dataframe thead th {\n",
       "        text-align: right;\n",
       "    }\n",
       "</style>\n",
       "<table border=\"1\" class=\"dataframe\">\n",
       "  <thead>\n",
       "    <tr style=\"text-align: right;\">\n",
       "      <th></th>\n",
       "      <th>PLATFORM_CODE</th>\n",
       "      <th>LOCATION_DATE</th>\n",
       "      <th>LATITUDE</th>\n",
       "      <th>LONGITUDE</th>\n",
       "    </tr>\n",
       "  </thead>\n",
       "  <tbody>\n",
       "    <tr>\n",
       "      <th>0</th>\n",
       "      <td>11923</td>\n",
       "      <td>2006-10-01 15:27:00</td>\n",
       "      <td>11.781</td>\n",
       "      <td>52.636</td>\n",
       "    </tr>\n",
       "    <tr>\n",
       "      <th>1</th>\n",
       "      <td>11923</td>\n",
       "      <td>2006-10-01 06:04:00</td>\n",
       "      <td>11.500</td>\n",
       "      <td>52.348</td>\n",
       "    </tr>\n",
       "    <tr>\n",
       "      <th>2</th>\n",
       "      <td>11923</td>\n",
       "      <td>2006-10-01 02:46:00</td>\n",
       "      <td>11.500</td>\n",
       "      <td>52.348</td>\n",
       "    </tr>\n",
       "    <tr>\n",
       "      <th>3</th>\n",
       "      <td>11923</td>\n",
       "      <td>2006-10-02 08:41:00</td>\n",
       "      <td>11.734</td>\n",
       "      <td>53.160</td>\n",
       "    </tr>\n",
       "    <tr>\n",
       "      <th>4</th>\n",
       "      <td>11923</td>\n",
       "      <td>2006-09-30 19:03:00</td>\n",
       "      <td>11.278</td>\n",
       "      <td>52.265</td>\n",
       "    </tr>\n",
       "  </tbody>\n",
       "</table>\n",
       "</div>"
      ],
      "text/plain": [
       "  PLATFORM_CODE       LOCATION_DATE  LATITUDE  LONGITUDE\n",
       "0         11923 2006-10-01 15:27:00    11.781     52.636\n",
       "1         11923 2006-10-01 06:04:00    11.500     52.348\n",
       "2         11923 2006-10-01 02:46:00    11.500     52.348\n",
       "3         11923 2006-10-02 08:41:00    11.734     53.160\n",
       "4         11923 2006-09-30 19:03:00    11.278     52.265"
      ]
     },
     "execution_count": 7,
     "metadata": {},
     "output_type": "execute_result"
    }
   ],
   "source": [
    "unique_values = df['PLATFORM_CODE'].unique()\n",
    "print(unique_values)\n",
    "\n",
    "# Make the expression of date times more regular\n",
    "df['LOCATION_DATE'] = pd.to_datetime(df['LOCATION_DATE'], dayfirst = True)\n",
    "df.head()"
   ]
  },
  {
   "cell_type": "markdown",
   "id": "1b206724-1181-44a9-8502-1f68cff03dce",
   "metadata": {},
   "source": [
    "Nous voici avec un dataframe bien rangé. Avant d'analyser les données, nous traçons les trajectoires pour les visualiser."
   ]
  },
  {
   "cell_type": "code",
   "execution_count": 8,
   "id": "f2e5e558-a083-4787-884d-45ecedfe25fa",
   "metadata": {},
   "outputs": [
    {
     "data": {
      "image/png": "[encoded data removed]",
      "text/plain": [
       "<Figure size 640x480 with 1 Axes>"
      ]
     },
     "metadata": {},
     "output_type": "display_data"
    }
   ],
   "source": [
    "# Create a map using Cartopy\n",
    "fig, ax = plt.subplots(subplot_kw={'projection': ccrs.PlateCarree()})\n",
    "\n",
    "# Define colors for each trajectory based on unique values in 'platform_code' column\n",
    "colors = {'11923': 'green', '15623': 'black', '62456': 'blue', 'EXD05216': 'orange', 'EXD06882': 'brown', 'IF000051': 'red', 'IF000053': 'yellow'}\n",
    "# Plot the latitude and longitude data on the map\n",
    "for platform, group in df.groupby('PLATFORM_CODE'):\n",
    "    if platform in ['11923', 'EXD06882']:\n",
    "        sizes = [5 for _ in range(len(group))]\n",
    "        ax.scatter(group['LONGITUDE'], group['LATITUDE'], label=platform, color=colors[platform], s=sizes)\n",
    "\n",
    "# Add additional map features (e.g., coastlines, gridlines)\n",
    "ax.coastlines()\n",
    "ax.gridlines()\n",
    "\n",
    "# Set labels and title\n",
    "ax.set_xlabel('LONGITUDE')\n",
    "ax.set_ylabel('LATITUDE')\n",
    "ax.set_title('Trajectories')\n",
    "\n",
    "# Show the plot\n",
    "plt.legend()\n",
    "plt.show()"
   ]
  },
  {
   "cell_type": "markdown",
   "id": "cd780d54-feb7-4854-b339-5d367822db28",
   "metadata": {},
   "source": [
    "Procédure de détection des doublons :\n",
    "\n",
    "1) "
   ]
  },
  {
   "cell_type": "code",
   "execution_count": 9,
   "id": "0fd58941-f6e0-42af-afb9-f48ffe3b5fb0",
   "metadata": {},
   "outputs": [
    {
     "data": {
      "text/html": [
       "<div>\n",
       "<style scoped>\n",
       "    .dataframe tbody tr th:only-of-type {\n",
       "        vertical-align: middle;\n",
       "    }\n",
       "\n",
       "    .dataframe tbody tr th {\n",
       "        vertical-align: top;\n",
       "    }\n",
       "\n",
       "    .dataframe thead th {\n",
       "        text-align: right;\n",
       "    }\n",
       "</style>\n",
       "<table border=\"1\" class=\"dataframe\">\n",
       "  <thead>\n",
       "    <tr style=\"text-align: right;\">\n",
       "      <th></th>\n",
       "      <th>PLATFORM_CODE</th>\n",
       "      <th>LOCATION_DATE</th>\n",
       "      <th>LATITUDE</th>\n",
       "      <th>LONGITUDE</th>\n",
       "    </tr>\n",
       "  </thead>\n",
       "  <tbody>\n",
       "    <tr>\n",
       "      <th>0</th>\n",
       "      <td>11923</td>\n",
       "      <td>2006-10-01 15:27:00</td>\n",
       "      <td>11.781</td>\n",
       "      <td>52.636</td>\n",
       "    </tr>\n",
       "    <tr>\n",
       "      <th>1</th>\n",
       "      <td>11923</td>\n",
       "      <td>2006-10-01 06:04:00</td>\n",
       "      <td>11.500</td>\n",
       "      <td>52.348</td>\n",
       "    </tr>\n",
       "    <tr>\n",
       "      <th>2</th>\n",
       "      <td>11923</td>\n",
       "      <td>2006-10-01 02:46:00</td>\n",
       "      <td>11.500</td>\n",
       "      <td>52.348</td>\n",
       "    </tr>\n",
       "    <tr>\n",
       "      <th>3</th>\n",
       "      <td>11923</td>\n",
       "      <td>2006-10-02 08:41:00</td>\n",
       "      <td>11.734</td>\n",
       "      <td>53.160</td>\n",
       "    </tr>\n",
       "    <tr>\n",
       "      <th>4</th>\n",
       "      <td>11923</td>\n",
       "      <td>2006-09-30 19:03:00</td>\n",
       "      <td>11.278</td>\n",
       "      <td>52.265</td>\n",
       "    </tr>\n",
       "  </tbody>\n",
       "</table>\n",
       "</div>"
      ],
      "text/plain": [
       "  PLATFORM_CODE       LOCATION_DATE  LATITUDE  LONGITUDE\n",
       "0         11923 2006-10-01 15:27:00    11.781     52.636\n",
       "1         11923 2006-10-01 06:04:00    11.500     52.348\n",
       "2         11923 2006-10-01 02:46:00    11.500     52.348\n",
       "3         11923 2006-10-02 08:41:00    11.734     53.160\n",
       "4         11923 2006-09-30 19:03:00    11.278     52.265"
      ]
     },
     "execution_count": 9,
     "metadata": {},
     "output_type": "execute_result"
    }
   ],
   "source": [
    "df.head()"
   ]
  },
  {
   "cell_type": "code",
   "execution_count": 10,
   "id": "f4f943a2-de19-41da-a6d3-c288b5a1ed0a",
   "metadata": {},
   "outputs": [],
   "source": [
    "# On considère deux bouées b1 et b2 que l'on sait identique. \n",
    "# Le but est de caractériser les écarts de coordonnées entre b1 et b2,\n",
    "# et d'en déduire une méthode générale permettant de dire avec un faible taux d'erreur si deux bouées sont des doublons ou non.\n",
    "\n",
    "# Il faut distinguer les deux cas suivants :\n",
    "# 1) deux bouées sont proches mais disctinctes\n",
    "# 2) un doublon\n",
    "\n",
    "# Plus concrètement, nous allons afficher le graphe y = f(x), où f(x) est le nombre de dates où l'écart angulaire x a été enregistré entre b1 et b2.\n",
    "# Le but est de déduire un écart-type de la variation de coordonnées pour une même date pour les deux bouées du doublon.\n",
    "\n",
    "# Arguments : x1 = (long1, lat1) et x2 = (long2, lat2)\n",
    "# Sortie : angle x1-(centre terre)-x2 (en première approximation)\n",
    "def dist(x1,x2):\n",
    "    long1, lat1 = x1\n",
    "    long2, lat2 = x2\n",
    "    return ( (long2 - long1)**2 + (lat2 - lat1)**2 ) ** 0.5\n",
    "\n",
    "# Pour la fonction suivante, nous avons essayé de travailler avec groupby, mais cela ne fonctionnait pas (messages d'erreur que nous n'avons pas compris)\n",
    "# Nous changeons donc de méthode.\n",
    "\n",
    "# Arguments : numéros des plateformes des deux bouées à comparer\n",
    "# Sortie : renvoie deux dataframe, un pour chacune des bouées, \n",
    "# triés par date, avec uniquement les lignes correspondant à leur période de coexistence, et avec en index la date.\n",
    "def get_data(b1, b2):\n",
    "    bouee1 = df['PLATFORM_CODE'] == b1\n",
    "    bouee2 = df['PLATFORM_CODE'] == b2\n",
    "    data1 = df[bouee1].copy()\n",
    "    data2 = df[bouee2].copy()\n",
    "    \n",
    "    start1, start2 = data1['LOCATION_DATE'].min(), data2['LOCATION_DATE'].min()\n",
    "    start = max(start1, start2)  # on commence au début de la période d'activité commune\n",
    "    end1, end2 = data1['LOCATION_DATE'].max(), data2['LOCATION_DATE'].max()\n",
    "    end = min(end1, end2)  # on s'arrête dès qu'une des \"deux\" bouées n'envoie plus de signal\n",
    "    \n",
    "    # On tronque les df entre ces deux dates.\n",
    "    s1 = start <= data1['LOCATION_DATE']\n",
    "    e1 = data1['LOCATION_DATE'] <= end\n",
    "    s2 = start <= data2['LOCATION_DATE']\n",
    "    e2 = data2['LOCATION_DATE'] <= end\n",
    "    data1 = data1[s1 & e1]\n",
    "    data2 = data2[s2 & e2]\n",
    "   \n",
    "    # Maintenant, on trie les mesures par date :\n",
    "    data1 = data1.sort_values(by = 'LOCATION_DATE')\n",
    "    data2 = data2.sort_values(by = 'LOCATION_DATE')\n",
    "\n",
    "    # puis on la met en index\n",
    "    data1 = data1.set_index('LOCATION_DATE')\n",
    "    data2 = data2.set_index('LOCATION_DATE')\n",
    "    \n",
    "    return data1, data2"
   ]
  },
  {
   "cell_type": "code",
   "execution_count": 11,
   "id": "4121f74c-081d-4832-8db2-7c9caf64f1d3",
   "metadata": {},
   "outputs": [
    {
     "data": {
      "text/plain": [
       "(                    PLATFORM_CODE  LATITUDE  LONGITUDE\n",
       " LOCATION_DATE                                         \n",
       " 2006-09-27 17:16:00         11923     8.805     52.938\n",
       " 2006-09-27 18:32:00         11923     8.836     52.885\n",
       " 2006-09-27 18:54:00         11923     8.836     52.885\n",
       " 2006-09-28 02:20:00         11923     8.954     52.662\n",
       " 2006-09-28 02:40:00         11923     8.986     52.614\n",
       " ...                           ...       ...        ...\n",
       " 2007-01-24 23:40:00         11923    19.170     63.529\n",
       " 2007-01-25 00:16:00         11923    19.167     63.533\n",
       " 2007-01-25 01:42:00         11923    19.160     63.529\n",
       " 2007-01-25 01:57:00         11923    19.157     63.530\n",
       " 2007-01-25 04:49:00         11923    19.157     63.530\n",
       " \n",
       " [3146 rows x 3 columns],\n",
       "                     PLATFORM_CODE  LATITUDE  LONGITUDE\n",
       " LOCATION_DATE                                         \n",
       " 2006-09-27 18:31:32      EXD06882   8.83042   52.89453\n",
       " 2006-09-27 20:14:44      EXD06882   8.86187   52.83585\n",
       " 2006-09-27 22:12:16      EXD06882   8.89770   52.76815\n",
       " 2006-09-27 23:19:38      EXD06882   8.92051   52.72982\n",
       " 2006-09-27 23:45:26      EXD06882   8.92896   52.71285\n",
       " ...                           ...       ...        ...\n",
       " 2007-01-25 01:18:35      EXD06882  19.16153   63.52987\n",
       " 2007-01-25 01:41:31      EXD06882  19.15918   63.52927\n",
       " 2007-01-25 01:57:17      EXD06882  19.15689   63.52979\n",
       " 2007-01-25 04:43:33      EXD06882  19.15272   63.52144\n",
       " 2007-01-25 05:17:57      EXD06882  19.15272   63.52144\n",
       " \n",
       " [2379 rows x 3 columns])"
      ]
     },
     "execution_count": 11,
     "metadata": {},
     "output_type": "execute_result"
    }
   ],
   "source": [
    "# Dans la documentation qui accompagne ces données, on sait que '11923' et 'EXD06882' correspondent à la même bouée.\n",
    "# La carte de trajectoires ci-dessus le laisse penser.\n",
    "get_data('11923', 'EXD06882')"
   ]
  },
  {
   "cell_type": "markdown",
   "id": "91a42457-01b6-4dff-b685-e0fe23f32893",
   "metadata": {},
   "source": [
    "Nous sommes confrontés à un problème. Nous pensions que les mesures de coordonnées étaient faites deux fois (une fois pour chaque élément du doublon) au même moment. En réalité, il y a un écart temporel, ce qui rend plus difficile de tracer le graphe de f.\n",
    "Pour contourner le problème, nous allons considérer qu'entre deux mesures, la bouées suit une trajectoire rectiligne uniforme."
   ]
  },
  {
   "cell_type": "code",
   "execution_count": 12,
   "id": "88c161a2-4542-4bb2-bee6-11448cc45024",
   "metadata": {},
   "outputs": [],
   "source": [
    "# On commence par créer un nouveau dataframe data2 qui contient les coordonnées de b2 aux dates explicites de data1,\n",
    "# déduites grâce au procédé décrit ci-dessus.\n",
    "def add12(data1, data2):\n",
    "    d = {'PLATFORM_CODE' : [] , 'LOCATION_DATE' : [], 'LATITUDE' : [], 'LONGITUDE': []}\n",
    "    plat2 = data2['PLATFORM_CODE'].unique()[0]\n",
    "    for DATE in data1.index :\n",
    "        date = pd.Timestamp(DATE)\n",
    "        day = str(date.date())\n",
    "        print(day)\n",
    "        datajour = data2.loc[day]\n",
    "        # first date before\n",
    "        datajouravant = datajour[datajour.index <= date]\n",
    "        if len(datajouravant) != 0:\n",
    "            coordavant = datajouravant.tail(1)\n",
    "        else : \n",
    "            date_before = pd.Timestamp(date - pd.DateOffset(days=1))\n",
    "            day_before = str(date_before.date())\n",
    "            datahier = data2.loc[day_before]\n",
    "            coordavant = datahier.tail(1)\n",
    "\n",
    "        # first date after\n",
    "        datajourapres = datajour[datajour.index > date]\n",
    "        if len(datajourapres) != 0:\n",
    "            coordapres = datajourapres.head(1)\n",
    "        else : \n",
    "            date_after = pd.Timestamp(date + pd.DateOffset(days=1))\n",
    "            day_after = str(date_after.date())\n",
    "            datademain = data2.loc[day_after]\n",
    "            coordapres = datademain.head(1)\n",
    "\n",
    "        avancee = (date - coordavant.index) / (coordapres.index - coordavant.index)\n",
    "        long = coordavant['LONGITUDE'] * (1 - avancee) + avancee * coordapres['LONGITUDE']\n",
    "        lat = coordavant['LATITUDE'] * (1 - avancee) + avancee * coordapres['LATITUDE']\n",
    "\n",
    "        d['PLATFORM_CODE'].append(data2)\n",
    "        d['LOCATION_DATE'].append(date)\n",
    "        d['LONGITUDE'].append(long)\n",
    "        d['LATITUDE'].append(lat)\n",
    "\n",
    "        return pd.DataFrame(d)\n",
    "    \n",
    "# Arguments : les deux dataframes correspondant aux deux bouées, avec les mêmes dates\n",
    "# Sortie : le graphe décrit\n",
    "def f(data1, data2):\n",
    "    Ecart = []\n",
    "    for date in data1.index :\n",
    "        x1 = data1[date]['LONGITUDE'], data1[date]['LATITUDE']\n",
    "        x2 = data2[date]['LONGITUDE'], data2[date]['LATITUDE']\n",
    "        ecart = dist(x1, x2)\n",
    "        Ecart.append(ecart)\n",
    "    Ecart.sort()\n",
    "    xmin = Ecart[0]\n",
    "    xmax = Ecart[-1]\n",
    "    N = 10000\n",
    "    step = xmax/N\n",
    "    x = np.linspace(0, xmax, N)\n",
    "    y = np.zeros(N)\n",
    "    for ecart in Ecart:\n",
    "        y[(ecart * N / xmax)//1] += 1\n",
    "    plt.plot(x, y)\n",
    "    plt.show()\n",
    "\n",
    "    # on peut éventuellement (rien à réécrire) changer data 1 et data2 pour avoir un graphe qui est censé ressembler (check méthode)"
   ]
  },
  {
   "cell_type": "code",
   "execution_count": 13,
   "id": "9ffc50d1-6847-44f8-afe6-15103e3c63db",
   "metadata": {},
   "outputs": [
    {
     "name": "stdout",
     "output_type": "stream",
     "text": [
      "2006-09-27\n"
     ]
    },
    {
     "ename": "KeyError",
     "evalue": "'2006-09-26'",
     "output_type": "error",
     "traceback": [
      "\u001b[1;31m---------------------------------------------------------------------------\u001b[0m",
      "\u001b[1;31mKeyError\u001b[0m                                  Traceback (most recent call last)",
      "File \u001b[1;32mC:\\miniconda\\Lib\\site-packages\\pandas\\core\\indexes\\datetimes.py:611\u001b[0m, in \u001b[0;36mDatetimeIndex.get_loc\u001b[1;34m(self, key)\u001b[0m\n\u001b[0;32m    610\u001b[0m \u001b[38;5;28;01mtry\u001b[39;00m:\n\u001b[1;32m--> 611\u001b[0m     \u001b[38;5;28;01mreturn\u001b[39;00m \u001b[38;5;28;43mself\u001b[39;49m\u001b[38;5;241;43m.\u001b[39;49m\u001b[43m_partial_date_slice\u001b[49m\u001b[43m(\u001b[49m\u001b[43mreso\u001b[49m\u001b[43m,\u001b[49m\u001b[43m \u001b[49m\u001b[43mparsed\u001b[49m\u001b[43m)\u001b[49m\n\u001b[0;32m    612\u001b[0m \u001b[38;5;28;01mexcept\u001b[39;00m \u001b[38;5;167;01mKeyError\u001b[39;00m \u001b[38;5;28;01mas\u001b[39;00m err:\n",
      "File \u001b[1;32mC:\\miniconda\\Lib\\site-packages\\pandas\\core\\indexes\\datetimelike.py:310\u001b[0m, in \u001b[0;36mDatetimeIndexOpsMixin._partial_date_slice\u001b[1;34m(self, reso, parsed)\u001b[0m\n\u001b[0;32m    306\u001b[0m \u001b[38;5;28;01mif\u001b[39;00m \u001b[38;5;28mlen\u001b[39m(\u001b[38;5;28mself\u001b[39m) \u001b[38;5;129;01mand\u001b[39;00m (\n\u001b[0;32m    307\u001b[0m     (t1 \u001b[38;5;241m<\u001b[39m \u001b[38;5;28mself\u001b[39m[\u001b[38;5;241m0\u001b[39m] \u001b[38;5;129;01mand\u001b[39;00m t2 \u001b[38;5;241m<\u001b[39m \u001b[38;5;28mself\u001b[39m[\u001b[38;5;241m0\u001b[39m]) \u001b[38;5;129;01mor\u001b[39;00m (t1 \u001b[38;5;241m>\u001b[39m \u001b[38;5;28mself\u001b[39m[\u001b[38;5;241m-\u001b[39m\u001b[38;5;241m1\u001b[39m] \u001b[38;5;129;01mand\u001b[39;00m t2 \u001b[38;5;241m>\u001b[39m \u001b[38;5;28mself\u001b[39m[\u001b[38;5;241m-\u001b[39m\u001b[38;5;241m1\u001b[39m])\n\u001b[0;32m    308\u001b[0m ):\n\u001b[0;32m    309\u001b[0m     \u001b[38;5;66;03m# we are out of range\u001b[39;00m\n\u001b[1;32m--> 310\u001b[0m     \u001b[38;5;28;01mraise\u001b[39;00m \u001b[38;5;167;01mKeyError\u001b[39;00m\n\u001b[0;32m    312\u001b[0m \u001b[38;5;66;03m# TODO: does this depend on being monotonic _increasing_?\u001b[39;00m\n\u001b[0;32m    313\u001b[0m \n\u001b[0;32m    314\u001b[0m \u001b[38;5;66;03m# a monotonic (sorted) series can be sliced\u001b[39;00m\n",
      "\u001b[1;31mKeyError\u001b[0m: ",
      "\nThe above exception was the direct cause of the following exception:\n",
      "\u001b[1;31mKeyError\u001b[0m                                  Traceback (most recent call last)",
      "Cell \u001b[1;32mIn[13], line 2\u001b[0m\n\u001b[0;32m      1\u001b[0m data1, data2 \u001b[38;5;241m=\u001b[39m get_data(\u001b[38;5;124m'\u001b[39m\u001b[38;5;124m11923\u001b[39m\u001b[38;5;124m'\u001b[39m, \u001b[38;5;124m'\u001b[39m\u001b[38;5;124mEXD06882\u001b[39m\u001b[38;5;124m'\u001b[39m)\n\u001b[1;32m----> 2\u001b[0m data2 \u001b[38;5;241m=\u001b[39m \u001b[43madd12\u001b[49m\u001b[43m(\u001b[49m\u001b[43mdata1\u001b[49m\u001b[43m,\u001b[49m\u001b[43m \u001b[49m\u001b[43mdata2\u001b[49m\u001b[43m)\u001b[49m\n\u001b[0;32m      3\u001b[0m f(data1, data2)\n",
      "Cell \u001b[1;32mIn[12], line 18\u001b[0m, in \u001b[0;36madd12\u001b[1;34m(data1, data2)\u001b[0m\n\u001b[0;32m     16\u001b[0m     date_before \u001b[38;5;241m=\u001b[39m pd\u001b[38;5;241m.\u001b[39mTimestamp(date \u001b[38;5;241m-\u001b[39m pd\u001b[38;5;241m.\u001b[39mDateOffset(days\u001b[38;5;241m=\u001b[39m\u001b[38;5;241m1\u001b[39m))\n\u001b[0;32m     17\u001b[0m     day_before \u001b[38;5;241m=\u001b[39m \u001b[38;5;28mstr\u001b[39m(date_before\u001b[38;5;241m.\u001b[39mdate())\n\u001b[1;32m---> 18\u001b[0m     datahier \u001b[38;5;241m=\u001b[39m \u001b[43mdata2\u001b[49m\u001b[38;5;241;43m.\u001b[39;49m\u001b[43mloc\u001b[49m\u001b[43m[\u001b[49m\u001b[43mday_before\u001b[49m\u001b[43m]\u001b[49m\n\u001b[0;32m     19\u001b[0m     coordavant \u001b[38;5;241m=\u001b[39m datahier\u001b[38;5;241m.\u001b[39mtail(\u001b[38;5;241m1\u001b[39m)\n\u001b[0;32m     21\u001b[0m \u001b[38;5;66;03m# first date after\u001b[39;00m\n",
      "File \u001b[1;32mC:\\miniconda\\Lib\\site-packages\\pandas\\core\\indexing.py:1153\u001b[0m, in \u001b[0;36m_LocationIndexer.__getitem__\u001b[1;34m(self, key)\u001b[0m\n\u001b[0;32m   1150\u001b[0m axis \u001b[38;5;241m=\u001b[39m \u001b[38;5;28mself\u001b[39m\u001b[38;5;241m.\u001b[39maxis \u001b[38;5;129;01mor\u001b[39;00m \u001b[38;5;241m0\u001b[39m\n\u001b[0;32m   1152\u001b[0m maybe_callable \u001b[38;5;241m=\u001b[39m com\u001b[38;5;241m.\u001b[39mapply_if_callable(key, \u001b[38;5;28mself\u001b[39m\u001b[38;5;241m.\u001b[39mobj)\n\u001b[1;32m-> 1153\u001b[0m \u001b[38;5;28;01mreturn\u001b[39;00m \u001b[38;5;28;43mself\u001b[39;49m\u001b[38;5;241;43m.\u001b[39;49m\u001b[43m_getitem_axis\u001b[49m\u001b[43m(\u001b[49m\u001b[43mmaybe_callable\u001b[49m\u001b[43m,\u001b[49m\u001b[43m \u001b[49m\u001b[43maxis\u001b[49m\u001b[38;5;241;43m=\u001b[39;49m\u001b[43maxis\u001b[49m\u001b[43m)\u001b[49m\n",
      "File \u001b[1;32mC:\\miniconda\\Lib\\site-packages\\pandas\\core\\indexing.py:1393\u001b[0m, in \u001b[0;36m_LocIndexer._getitem_axis\u001b[1;34m(self, key, axis)\u001b[0m\n\u001b[0;32m   1391\u001b[0m \u001b[38;5;66;03m# fall thru to straight lookup\u001b[39;00m\n\u001b[0;32m   1392\u001b[0m \u001b[38;5;28mself\u001b[39m\u001b[38;5;241m.\u001b[39m_validate_key(key, axis)\n\u001b[1;32m-> 1393\u001b[0m \u001b[38;5;28;01mreturn\u001b[39;00m \u001b[38;5;28;43mself\u001b[39;49m\u001b[38;5;241;43m.\u001b[39;49m\u001b[43m_get_label\u001b[49m\u001b[43m(\u001b[49m\u001b[43mkey\u001b[49m\u001b[43m,\u001b[49m\u001b[43m \u001b[49m\u001b[43maxis\u001b[49m\u001b[38;5;241;43m=\u001b[39;49m\u001b[43maxis\u001b[49m\u001b[43m)\u001b[49m\n",
      "File \u001b[1;32mC:\\miniconda\\Lib\\site-packages\\pandas\\core\\indexing.py:1343\u001b[0m, in \u001b[0;36m_LocIndexer._get_label\u001b[1;34m(self, label, axis)\u001b[0m\n\u001b[0;32m   1341\u001b[0m \u001b[38;5;28;01mdef\u001b[39;00m \u001b[38;5;21m_get_label\u001b[39m(\u001b[38;5;28mself\u001b[39m, label, axis: AxisInt):\n\u001b[0;32m   1342\u001b[0m     \u001b[38;5;66;03m# GH#5567 this will fail if the label is not present in the axis.\u001b[39;00m\n\u001b[1;32m-> 1343\u001b[0m     \u001b[38;5;28;01mreturn\u001b[39;00m \u001b[38;5;28;43mself\u001b[39;49m\u001b[38;5;241;43m.\u001b[39;49m\u001b[43mobj\u001b[49m\u001b[38;5;241;43m.\u001b[39;49m\u001b[43mxs\u001b[49m\u001b[43m(\u001b[49m\u001b[43mlabel\u001b[49m\u001b[43m,\u001b[49m\u001b[43m \u001b[49m\u001b[43maxis\u001b[49m\u001b[38;5;241;43m=\u001b[39;49m\u001b[43maxis\u001b[49m\u001b[43m)\u001b[49m\n",
      "File \u001b[1;32mC:\\miniconda\\Lib\\site-packages\\pandas\\core\\generic.py:4236\u001b[0m, in \u001b[0;36mNDFrame.xs\u001b[1;34m(self, key, axis, level, drop_level)\u001b[0m\n\u001b[0;32m   4234\u001b[0m             new_index \u001b[38;5;241m=\u001b[39m index[loc]\n\u001b[0;32m   4235\u001b[0m \u001b[38;5;28;01melse\u001b[39;00m:\n\u001b[1;32m-> 4236\u001b[0m     loc \u001b[38;5;241m=\u001b[39m \u001b[43mindex\u001b[49m\u001b[38;5;241;43m.\u001b[39;49m\u001b[43mget_loc\u001b[49m\u001b[43m(\u001b[49m\u001b[43mkey\u001b[49m\u001b[43m)\u001b[49m\n\u001b[0;32m   4238\u001b[0m     \u001b[38;5;28;01mif\u001b[39;00m \u001b[38;5;28misinstance\u001b[39m(loc, np\u001b[38;5;241m.\u001b[39mndarray):\n\u001b[0;32m   4239\u001b[0m         \u001b[38;5;28;01mif\u001b[39;00m loc\u001b[38;5;241m.\u001b[39mdtype \u001b[38;5;241m==\u001b[39m np\u001b[38;5;241m.\u001b[39mbool_:\n",
      "File \u001b[1;32mC:\\miniconda\\Lib\\site-packages\\pandas\\core\\indexes\\datetimes.py:613\u001b[0m, in \u001b[0;36mDatetimeIndex.get_loc\u001b[1;34m(self, key)\u001b[0m\n\u001b[0;32m    611\u001b[0m             \u001b[38;5;28;01mreturn\u001b[39;00m \u001b[38;5;28mself\u001b[39m\u001b[38;5;241m.\u001b[39m_partial_date_slice(reso, parsed)\n\u001b[0;32m    612\u001b[0m         \u001b[38;5;28;01mexcept\u001b[39;00m \u001b[38;5;167;01mKeyError\u001b[39;00m \u001b[38;5;28;01mas\u001b[39;00m err:\n\u001b[1;32m--> 613\u001b[0m             \u001b[38;5;28;01mraise\u001b[39;00m \u001b[38;5;167;01mKeyError\u001b[39;00m(key) \u001b[38;5;28;01mfrom\u001b[39;00m \u001b[38;5;21;01merr\u001b[39;00m\n\u001b[0;32m    615\u001b[0m     key \u001b[38;5;241m=\u001b[39m parsed\n\u001b[0;32m    617\u001b[0m \u001b[38;5;28;01melif\u001b[39;00m \u001b[38;5;28misinstance\u001b[39m(key, dt\u001b[38;5;241m.\u001b[39mtimedelta):\n\u001b[0;32m    618\u001b[0m     \u001b[38;5;66;03m# GH#20464\u001b[39;00m\n",
      "\u001b[1;31mKeyError\u001b[0m: '2006-09-26'"
     ]
    }
   ],
   "source": [
    "data1, data2 = get_data('11923', 'EXD06882')\n",
    "data2 = add12(data1, data2)\n",
    "f(data1, data2)"
   ]
  },
  {
   "cell_type": "markdown",
   "id": "0e5fb93d-0b09-4591-b348-dc51298b7d25",
   "metadata": {},
   "source": [
    "On déduit une distance caractéristique au-delà de laquelle il est peu probable que deux bouées soient identiques (pour une certaine durée au delà de cette distance).\n",
    "\n",
    "Si la courbe est une belle gaussienne, on pourra peut-être affiner le critère de manière précise, avec une minoration ou une majoration de la probabilité de deux bouées sont un doublon.\n",
    "Pour conclure, il faudrait se pencher sur les points suivants :\n",
    "1) La méthode fonctionne-t-elle ?\n",
    "2) Comment on pourrait l'améliorer ? (plus d'échantillonage, différencier les drifters en fonction de leur type : plus ou moins précis)\n",
    "3) politique future des bouées : leur donner une clé d'identification qu'elles envoient avec chaque mesure"
   ]
  },
  {
   "cell_type": "code",
   "execution_count": null,
   "id": "28f04bbb-ec04-4ce6-8841-5674bdb5a890",
   "metadata": {},
   "outputs": [],
   "source": []
  }
 ],
 "metadata": {
  "kernelspec": {
   "display_name": "Python 3 (ipykernel)",
   "language": "python",
   "name": "python3"
  },
  "language_info": {
   "codemirror_mode": {
    "name": "ipython",
    "version": 3
   },
   "file_extension": ".py",
   "mimetype": "text/x-python",
   "name": "python",
   "nbconvert_exporter": "python",
   "pygments_lexer": "ipython3",
   "version": "3.11.4"
  }
 },
 "nbformat": 4,
 "nbformat_minor": 5
}
