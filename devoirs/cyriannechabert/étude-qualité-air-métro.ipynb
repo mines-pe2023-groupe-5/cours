{
 "cells": [
  {
   "cell_type": "markdown",
   "id": "2669f6ba-fba1-48f5-b066-0c945e55368e",
   "metadata": {
    "jp-MarkdownHeadingCollapsed": true
   },
   "source": [
    "# Introduction : les importations et ouverture du fichier"
   ]
  },
  {
   "cell_type": "code",
   "execution_count": 1,
   "id": "64b499fb-751d-40c7-b9bb-f69ecbb5c070",
   "metadata": {},
   "outputs": [],
   "source": [
    "import pandas as pd\n",
    "import matplotlib.pyplot as plt"
   ]
  },
  {
   "cell_type": "code",
   "execution_count": 2,
   "id": "b382b5ce-8526-4b4a-b907-5f8084376f7c",
   "metadata": {},
   "outputs": [],
   "source": [
    "data = pd.read_json(\"qualite-air.json\")"
   ]
  },
  {
   "cell_type": "code",
   "execution_count": 3,
   "id": "9039725f-78c5-4ddd-b851-d82663c48b7b",
   "metadata": {},
   "outputs": [
    {
     "data": {
      "text/html": [
       "<div>\n",
       "<style scoped>\n",
       "    .dataframe tbody tr th:only-of-type {\n",
       "        vertical-align: middle;\n",
       "    }\n",
       "\n",
       "    .dataframe tbody tr th {\n",
       "        vertical-align: top;\n",
       "    }\n",
       "\n",
       "    .dataframe thead th {\n",
       "        text-align: right;\n",
       "    }\n",
       "</style>\n",
       "<table border=\"1\" class=\"dataframe\">\n",
       "  <thead>\n",
       "    <tr style=\"text-align: right;\">\n",
       "      <th></th>\n",
       "      <th>dateheure</th>\n",
       "      <th>nofra1</th>\n",
       "      <th>n2fra1</th>\n",
       "      <th>10fra1</th>\n",
       "      <th>c2fra1</th>\n",
       "      <th>tfra1</th>\n",
       "      <th>hyfra1</th>\n",
       "    </tr>\n",
       "  </thead>\n",
       "  <tbody>\n",
       "    <tr>\n",
       "      <th>0</th>\n",
       "      <td>2023-09-18T02:00:00+02:00</td>\n",
       "      <td>4</td>\n",
       "      <td>18</td>\n",
       "      <td>25</td>\n",
       "      <td>449</td>\n",
       "      <td>26,9</td>\n",
       "      <td>56</td>\n",
       "    </tr>\n",
       "  </tbody>\n",
       "</table>\n",
       "</div>"
      ],
      "text/plain": [
       "                   dateheure nofra1 n2fra1 10fra1 c2fra1 tfra1 hyfra1\n",
       "0  2023-09-18T02:00:00+02:00      4     18     25    449  26,9     56"
      ]
     },
     "execution_count": 3,
     "metadata": {},
     "output_type": "execute_result"
    }
   ],
   "source": [
    "data.head(1)"
   ]
  },
  {
   "cell_type": "code",
   "execution_count": 4,
   "id": "14b3e3c5-e7a6-4bdc-8ec1-93cbf39744d9",
   "metadata": {},
   "outputs": [],
   "source": [
    "data = data.stack().str.replace(',','.').unstack()"
   ]
  },
  {
   "cell_type": "markdown",
   "id": "b4ee6623-89ed-467d-83f7-f245b7cc7a7b",
   "metadata": {},
   "source": [
    "#### j'avais un problème avec les histogrammes plus bas, je pensais que c'était à cause des virgules pour mes températures et l'humidité donc j'ai modifié tout le documents en remplaçant les virgules par des points => ce sont dorénavant des float"
   ]
  },
  {
   "cell_type": "code",
   "execution_count": 5,
   "id": "e22d9db9-6af1-4f5e-9c8b-ec0c7466a87d",
   "metadata": {},
   "outputs": [
    {
     "data": {
      "text/html": [
       "<div>\n",
       "<style scoped>\n",
       "    .dataframe tbody tr th:only-of-type {\n",
       "        vertical-align: middle;\n",
       "    }\n",
       "\n",
       "    .dataframe tbody tr th {\n",
       "        vertical-align: top;\n",
       "    }\n",
       "\n",
       "    .dataframe thead th {\n",
       "        text-align: right;\n",
       "    }\n",
       "</style>\n",
       "<table border=\"1\" class=\"dataframe\">\n",
       "  <thead>\n",
       "    <tr style=\"text-align: right;\">\n",
       "      <th></th>\n",
       "      <th>dateheure</th>\n",
       "      <th>nofra1</th>\n",
       "      <th>n2fra1</th>\n",
       "      <th>10fra1</th>\n",
       "      <th>c2fra1</th>\n",
       "      <th>tfra1</th>\n",
       "      <th>hyfra1</th>\n",
       "    </tr>\n",
       "  </thead>\n",
       "  <tbody>\n",
       "    <tr>\n",
       "      <th>0</th>\n",
       "      <td>2023-09-18T02:00:00+02:00</td>\n",
       "      <td>4</td>\n",
       "      <td>18</td>\n",
       "      <td>25</td>\n",
       "      <td>449</td>\n",
       "      <td>26.9</td>\n",
       "      <td>56</td>\n",
       "    </tr>\n",
       "    <tr>\n",
       "      <th>1</th>\n",
       "      <td>2023-09-18T01:00:00+02:00</td>\n",
       "      <td>4</td>\n",
       "      <td>18</td>\n",
       "      <td>36</td>\n",
       "      <td>466</td>\n",
       "      <td>27.4</td>\n",
       "      <td>56.7</td>\n",
       "    </tr>\n",
       "    <tr>\n",
       "      <th>2</th>\n",
       "      <td>2023-09-18T00:00:00+02:00</td>\n",
       "      <td>11</td>\n",
       "      <td>54</td>\n",
       "      <td>58</td>\n",
       "      <td>491</td>\n",
       "      <td>27.9</td>\n",
       "      <td>56.9</td>\n",
       "    </tr>\n",
       "    <tr>\n",
       "      <th>3</th>\n",
       "      <td>2023-09-17T23:00:00+02:00</td>\n",
       "      <td>6</td>\n",
       "      <td>45</td>\n",
       "      <td>42</td>\n",
       "      <td>482</td>\n",
       "      <td>27.7</td>\n",
       "      <td>54.7</td>\n",
       "    </tr>\n",
       "    <tr>\n",
       "      <th>4</th>\n",
       "      <td>2023-09-17T22:00:00+02:00</td>\n",
       "      <td>4</td>\n",
       "      <td>41</td>\n",
       "      <td>39</td>\n",
       "      <td>479</td>\n",
       "      <td>27.7</td>\n",
       "      <td>54.1</td>\n",
       "    </tr>\n",
       "    <tr>\n",
       "      <th>5</th>\n",
       "      <td>2023-09-17T21:00:00+02:00</td>\n",
       "      <td>3</td>\n",
       "      <td>25</td>\n",
       "      <td>34</td>\n",
       "      <td>480</td>\n",
       "      <td>27.8</td>\n",
       "      <td>53.8</td>\n",
       "    </tr>\n",
       "    <tr>\n",
       "      <th>6</th>\n",
       "      <td>2023-09-17T20:00:00+02:00</td>\n",
       "      <td>2</td>\n",
       "      <td>13</td>\n",
       "      <td>29</td>\n",
       "      <td>475</td>\n",
       "      <td>27.8</td>\n",
       "      <td>52.8</td>\n",
       "    </tr>\n",
       "    <tr>\n",
       "      <th>7</th>\n",
       "      <td>2023-09-17T19:00:00+02:00</td>\n",
       "      <td>2</td>\n",
       "      <td>11</td>\n",
       "      <td>42</td>\n",
       "      <td>508</td>\n",
       "      <td>27.7</td>\n",
       "      <td>53.6</td>\n",
       "    </tr>\n",
       "    <tr>\n",
       "      <th>8</th>\n",
       "      <td>2023-09-17T18:00:00+02:00</td>\n",
       "      <td>2</td>\n",
       "      <td>13</td>\n",
       "      <td>43</td>\n",
       "      <td>530</td>\n",
       "      <td>27.5</td>\n",
       "      <td>53.7</td>\n",
       "    </tr>\n",
       "    <tr>\n",
       "      <th>9</th>\n",
       "      <td>2023-09-17T17:00:00+02:00</td>\n",
       "      <td>3</td>\n",
       "      <td>19</td>\n",
       "      <td>43</td>\n",
       "      <td>526</td>\n",
       "      <td>27.2</td>\n",
       "      <td>53.4</td>\n",
       "    </tr>\n",
       "  </tbody>\n",
       "</table>\n",
       "</div>"
      ],
      "text/plain": [
       "                   dateheure nofra1 n2fra1 10fra1 c2fra1 tfra1 hyfra1\n",
       "0  2023-09-18T02:00:00+02:00      4     18     25    449  26.9     56\n",
       "1  2023-09-18T01:00:00+02:00      4     18     36    466  27.4   56.7\n",
       "2  2023-09-18T00:00:00+02:00     11     54     58    491  27.9   56.9\n",
       "3  2023-09-17T23:00:00+02:00      6     45     42    482  27.7   54.7\n",
       "4  2023-09-17T22:00:00+02:00      4     41     39    479  27.7   54.1\n",
       "5  2023-09-17T21:00:00+02:00      3     25     34    480  27.8   53.8\n",
       "6  2023-09-17T20:00:00+02:00      2     13     29    475  27.8   52.8\n",
       "7  2023-09-17T19:00:00+02:00      2     11     42    508  27.7   53.6\n",
       "8  2023-09-17T18:00:00+02:00      2     13     43    530  27.5   53.7\n",
       "9  2023-09-17T17:00:00+02:00      3     19     43    526  27.2   53.4"
      ]
     },
     "execution_count": 5,
     "metadata": {},
     "output_type": "execute_result"
    }
   ],
   "source": [
    "data.head(10)"
   ]
  },
  {
   "cell_type": "code",
   "execution_count": 6,
   "id": "55cbb821-473e-490a-9aa4-4ee99f786dda",
   "metadata": {},
   "outputs": [
    {
     "data": {
      "text/html": [
       "<div>\n",
       "<style scoped>\n",
       "    .dataframe tbody tr th:only-of-type {\n",
       "        vertical-align: middle;\n",
       "    }\n",
       "\n",
       "    .dataframe tbody tr th {\n",
       "        vertical-align: top;\n",
       "    }\n",
       "\n",
       "    .dataframe thead th {\n",
       "        text-align: right;\n",
       "    }\n",
       "</style>\n",
       "<table border=\"1\" class=\"dataframe\">\n",
       "  <thead>\n",
       "    <tr style=\"text-align: right;\">\n",
       "      <th></th>\n",
       "      <th>dateheure</th>\n",
       "      <th>nofra1</th>\n",
       "      <th>n2fra1</th>\n",
       "      <th>10fra1</th>\n",
       "      <th>c2fra1</th>\n",
       "      <th>tfra1</th>\n",
       "      <th>hyfra1</th>\n",
       "    </tr>\n",
       "  </thead>\n",
       "  <tbody>\n",
       "    <tr>\n",
       "      <th>0</th>\n",
       "      <td>2023-09-18T02:00:00+02:00</td>\n",
       "      <td>4</td>\n",
       "      <td>18</td>\n",
       "      <td>25</td>\n",
       "      <td>449</td>\n",
       "      <td>26.9</td>\n",
       "      <td>56</td>\n",
       "    </tr>\n",
       "    <tr>\n",
       "      <th>1</th>\n",
       "      <td>2023-09-18T01:00:00+02:00</td>\n",
       "      <td>4</td>\n",
       "      <td>18</td>\n",
       "      <td>36</td>\n",
       "      <td>466</td>\n",
       "      <td>27.4</td>\n",
       "      <td>56.7</td>\n",
       "    </tr>\n",
       "  </tbody>\n",
       "</table>\n",
       "</div>"
      ],
      "text/plain": [
       "                   dateheure nofra1 n2fra1 10fra1 c2fra1 tfra1 hyfra1\n",
       "0  2023-09-18T02:00:00+02:00      4     18     25    449  26.9     56\n",
       "1  2023-09-18T01:00:00+02:00      4     18     36    466  27.4   56.7"
      ]
     },
     "execution_count": 6,
     "metadata": {},
     "output_type": "execute_result"
    }
   ],
   "source": [
    "data.head(2)"
   ]
  },
  {
   "cell_type": "code",
   "execution_count": 7,
   "id": "c5dd9234-482f-4085-ad05-4b2b328687a4",
   "metadata": {},
   "outputs": [
    {
     "data": {
      "text/plain": [
       "(93498, 7)"
      ]
     },
     "execution_count": 7,
     "metadata": {},
     "output_type": "execute_result"
    }
   ],
   "source": [
    "data.shape"
   ]
  },
  {
   "cell_type": "markdown",
   "id": "74a9b494-a338-4525-a46d-e41c8d75852a",
   "metadata": {},
   "source": [
    "## première tentative : renommer les colonnes - échec ... :("
   ]
  },
  {
   "cell_type": "code",
   "execution_count": 8,
   "id": "d50a8621-7191-4821-ac87-acc6f951ef89",
   "metadata": {},
   "outputs": [],
   "source": [
    "datapropre = data.rename(axis = \"columns\", mapper = {\"c2fra1\" : \"CO2\"})"
   ]
  },
  {
   "cell_type": "code",
   "execution_count": 9,
   "id": "6b259d74-4cc3-401b-abe1-75767258351e",
   "metadata": {},
   "outputs": [],
   "source": [
    "datapropre = data.rename(axis = \"columns\", mapper = {\"tfra1\" : \"temperature\"})"
   ]
  },
  {
   "cell_type": "code",
   "execution_count": 10,
   "id": "7bd87495-e33f-4d15-a7b1-71624be92ff6",
   "metadata": {},
   "outputs": [],
   "source": [
    "datapropre = data.rename(axis = \"columns\", mapper = {\"n2fra1\" : \"NO2\"})"
   ]
  },
  {
   "cell_type": "code",
   "execution_count": 11,
   "id": "8d987e1c-3cda-4a58-a536-5fc1755c5692",
   "metadata": {},
   "outputs": [],
   "source": [
    "datapropre = data.rename(axis = \"columns\", mapper = {\"nofra1\" : \"NO\"})"
   ]
  },
  {
   "cell_type": "code",
   "execution_count": 12,
   "id": "a61012d5-7982-4832-9b85-b9a04787fc6c",
   "metadata": {},
   "outputs": [
    {
     "data": {
      "text/html": [
       "<div>\n",
       "<style scoped>\n",
       "    .dataframe tbody tr th:only-of-type {\n",
       "        vertical-align: middle;\n",
       "    }\n",
       "\n",
       "    .dataframe tbody tr th {\n",
       "        vertical-align: top;\n",
       "    }\n",
       "\n",
       "    .dataframe thead th {\n",
       "        text-align: right;\n",
       "    }\n",
       "</style>\n",
       "<table border=\"1\" class=\"dataframe\">\n",
       "  <thead>\n",
       "    <tr style=\"text-align: right;\">\n",
       "      <th></th>\n",
       "      <th>dateheure</th>\n",
       "      <th>NO</th>\n",
       "      <th>n2fra1</th>\n",
       "      <th>10fra1</th>\n",
       "      <th>c2fra1</th>\n",
       "      <th>tfra1</th>\n",
       "      <th>hyfra1</th>\n",
       "    </tr>\n",
       "  </thead>\n",
       "  <tbody>\n",
       "    <tr>\n",
       "      <th>0</th>\n",
       "      <td>2023-09-18T02:00:00+02:00</td>\n",
       "      <td>4</td>\n",
       "      <td>18</td>\n",
       "      <td>25</td>\n",
       "      <td>449</td>\n",
       "      <td>26.9</td>\n",
       "      <td>56</td>\n",
       "    </tr>\n",
       "    <tr>\n",
       "      <th>1</th>\n",
       "      <td>2023-09-18T01:00:00+02:00</td>\n",
       "      <td>4</td>\n",
       "      <td>18</td>\n",
       "      <td>36</td>\n",
       "      <td>466</td>\n",
       "      <td>27.4</td>\n",
       "      <td>56.7</td>\n",
       "    </tr>\n",
       "    <tr>\n",
       "      <th>2</th>\n",
       "      <td>2023-09-18T00:00:00+02:00</td>\n",
       "      <td>11</td>\n",
       "      <td>54</td>\n",
       "      <td>58</td>\n",
       "      <td>491</td>\n",
       "      <td>27.9</td>\n",
       "      <td>56.9</td>\n",
       "    </tr>\n",
       "    <tr>\n",
       "      <th>3</th>\n",
       "      <td>2023-09-17T23:00:00+02:00</td>\n",
       "      <td>6</td>\n",
       "      <td>45</td>\n",
       "      <td>42</td>\n",
       "      <td>482</td>\n",
       "      <td>27.7</td>\n",
       "      <td>54.7</td>\n",
       "    </tr>\n",
       "    <tr>\n",
       "      <th>4</th>\n",
       "      <td>2023-09-17T22:00:00+02:00</td>\n",
       "      <td>4</td>\n",
       "      <td>41</td>\n",
       "      <td>39</td>\n",
       "      <td>479</td>\n",
       "      <td>27.7</td>\n",
       "      <td>54.1</td>\n",
       "    </tr>\n",
       "  </tbody>\n",
       "</table>\n",
       "</div>"
      ],
      "text/plain": [
       "                   dateheure  NO n2fra1 10fra1 c2fra1 tfra1 hyfra1\n",
       "0  2023-09-18T02:00:00+02:00   4     18     25    449  26.9     56\n",
       "1  2023-09-18T01:00:00+02:00   4     18     36    466  27.4   56.7\n",
       "2  2023-09-18T00:00:00+02:00  11     54     58    491  27.9   56.9\n",
       "3  2023-09-17T23:00:00+02:00   6     45     42    482  27.7   54.7\n",
       "4  2023-09-17T22:00:00+02:00   4     41     39    479  27.7   54.1"
      ]
     },
     "execution_count": 12,
     "metadata": {},
     "output_type": "execute_result"
    }
   ],
   "source": [
    "datapropre.head(5)"
   ]
  },
  {
   "cell_type": "markdown",
   "id": "9355ac9a-2683-4f23-844d-e5dc0fc4c4a5",
   "metadata": {
    "jp-MarkdownHeadingCollapsed": true
   },
   "source": [
    "#### MAIS seulement une seule colonne a changé de nom => j'écrase ma variable datapropre à chaque fois, ce n'est donc pas ce que je veux"
   ]
  },
  {
   "cell_type": "markdown",
   "id": "fb013528-f731-461b-ae07-5b0515d6c1ba",
   "metadata": {},
   "source": [
    "## deuxième tentative : renommer les colonnes - succès !! ;) "
   ]
  },
  {
   "cell_type": "code",
   "execution_count": 13,
   "id": "d28cd156-2338-4574-9f79-cba661f800e1",
   "metadata": {},
   "outputs": [],
   "source": [
    "datap = data.rename(axis = \"columns\", mapper = {\"c2fra1\" : \"CO2\",\"tfra1\" : \"temperature\",\"n2fra1\" : \"NO2\",\"nofra1\" : \"NO\", \"hyfra1\" : \"humidité\"})"
   ]
  },
  {
   "cell_type": "code",
   "execution_count": 14,
   "id": "5e4c2048-bd3d-49d7-a0aa-5f03e4bc967a",
   "metadata": {},
   "outputs": [
    {
     "data": {
      "text/html": [
       "<div>\n",
       "<style scoped>\n",
       "    .dataframe tbody tr th:only-of-type {\n",
       "        vertical-align: middle;\n",
       "    }\n",
       "\n",
       "    .dataframe tbody tr th {\n",
       "        vertical-align: top;\n",
       "    }\n",
       "\n",
       "    .dataframe thead th {\n",
       "        text-align: right;\n",
       "    }\n",
       "</style>\n",
       "<table border=\"1\" class=\"dataframe\">\n",
       "  <thead>\n",
       "    <tr style=\"text-align: right;\">\n",
       "      <th></th>\n",
       "      <th>dateheure</th>\n",
       "      <th>NO</th>\n",
       "      <th>NO2</th>\n",
       "      <th>10fra1</th>\n",
       "      <th>CO2</th>\n",
       "      <th>temperature</th>\n",
       "      <th>humidité</th>\n",
       "    </tr>\n",
       "  </thead>\n",
       "  <tbody>\n",
       "    <tr>\n",
       "      <th>0</th>\n",
       "      <td>2023-09-18T02:00:00+02:00</td>\n",
       "      <td>4</td>\n",
       "      <td>18</td>\n",
       "      <td>25</td>\n",
       "      <td>449</td>\n",
       "      <td>26.9</td>\n",
       "      <td>56</td>\n",
       "    </tr>\n",
       "    <tr>\n",
       "      <th>1</th>\n",
       "      <td>2023-09-18T01:00:00+02:00</td>\n",
       "      <td>4</td>\n",
       "      <td>18</td>\n",
       "      <td>36</td>\n",
       "      <td>466</td>\n",
       "      <td>27.4</td>\n",
       "      <td>56.7</td>\n",
       "    </tr>\n",
       "    <tr>\n",
       "      <th>2</th>\n",
       "      <td>2023-09-18T00:00:00+02:00</td>\n",
       "      <td>11</td>\n",
       "      <td>54</td>\n",
       "      <td>58</td>\n",
       "      <td>491</td>\n",
       "      <td>27.9</td>\n",
       "      <td>56.9</td>\n",
       "    </tr>\n",
       "    <tr>\n",
       "      <th>3</th>\n",
       "      <td>2023-09-17T23:00:00+02:00</td>\n",
       "      <td>6</td>\n",
       "      <td>45</td>\n",
       "      <td>42</td>\n",
       "      <td>482</td>\n",
       "      <td>27.7</td>\n",
       "      <td>54.7</td>\n",
       "    </tr>\n",
       "    <tr>\n",
       "      <th>4</th>\n",
       "      <td>2023-09-17T22:00:00+02:00</td>\n",
       "      <td>4</td>\n",
       "      <td>41</td>\n",
       "      <td>39</td>\n",
       "      <td>479</td>\n",
       "      <td>27.7</td>\n",
       "      <td>54.1</td>\n",
       "    </tr>\n",
       "  </tbody>\n",
       "</table>\n",
       "</div>"
      ],
      "text/plain": [
       "                   dateheure  NO NO2 10fra1  CO2 temperature humidité\n",
       "0  2023-09-18T02:00:00+02:00   4  18     25  449        26.9       56\n",
       "1  2023-09-18T01:00:00+02:00   4  18     36  466        27.4     56.7\n",
       "2  2023-09-18T00:00:00+02:00  11  54     58  491        27.9     56.9\n",
       "3  2023-09-17T23:00:00+02:00   6  45     42  482        27.7     54.7\n",
       "4  2023-09-17T22:00:00+02:00   4  41     39  479        27.7     54.1"
      ]
     },
     "execution_count": 14,
     "metadata": {},
     "output_type": "execute_result"
    }
   ],
   "source": [
    "datap.head(5)"
   ]
  },
  {
   "cell_type": "markdown",
   "id": "e62ab6a5-756e-4494-bc2d-5e4a3b1d58ac",
   "metadata": {
    "jp-MarkdownHeadingCollapsed": true
   },
   "source": [
    "# Analyse sur une journée"
   ]
  },
  {
   "cell_type": "markdown",
   "id": "049c6b02-5ca9-4d29-8fb5-782ebf34b4e4",
   "metadata": {},
   "source": [
    "#### j'affiche les données du 17 septembre 2023 (de minuit à minuit)"
   ]
  },
  {
   "cell_type": "code",
   "execution_count": 15,
   "id": "1f1475ba-024f-4987-b6ab-0c47a2f526d5",
   "metadata": {},
   "outputs": [],
   "source": [
    "dataJour = datap.iloc[2 : 26 , 1:7] #je veux juste le premier jour"
   ]
  },
  {
   "cell_type": "code",
   "execution_count": 16,
   "id": "fddb6878-6823-478f-b187-06accb024058",
   "metadata": {},
   "outputs": [],
   "source": [
    "dataJour1 = pd.DataFrame(dataJour)"
   ]
  },
  {
   "cell_type": "code",
   "execution_count": 17,
   "id": "c3fde287-1be6-4109-a0a3-4c36e3a35e9d",
   "metadata": {},
   "outputs": [],
   "source": [
    "dataJour1[\"heure\"] = [i for i in range(24,0,-1)]"
   ]
  },
  {
   "cell_type": "code",
   "execution_count": 18,
   "id": "a917dd89-5c89-4d1f-a63e-b63c48744397",
   "metadata": {},
   "outputs": [
    {
     "data": {
      "text/plain": [
       "NO             object\n",
       "NO2            object\n",
       "10fra1         object\n",
       "CO2            object\n",
       "temperature    object\n",
       "humidité       object\n",
       "heure           int64\n",
       "dtype: object"
      ]
     },
     "execution_count": 18,
     "metadata": {},
     "output_type": "execute_result"
    }
   ],
   "source": [
    "dataJour1.dtypes"
   ]
  },
  {
   "cell_type": "markdown",
   "id": "88e1cad3-f590-453e-8e01-6820eae17b30",
   "metadata": {},
   "source": [
    "#### je me suis rendue compte que les températures étaient des 'objects' et non des \"float\" donc les histogrammes ne m'affichaient pas ce que je voulais ..."
   ]
  },
  {
   "cell_type": "code",
   "execution_count": 19,
   "id": "ac0c1ebf-4eb5-4704-ae3d-e9af3f097f7b",
   "metadata": {},
   "outputs": [],
   "source": [
    "dataJour1.temperature = pd.to_numeric(dataJour1.temperature)\n",
    "dataJour1.NO = pd.to_numeric(dataJour1.NO)\n",
    "dataJour1.NO2 = pd.to_numeric(dataJour1.NO2)\n",
    "dataJour1.CO2 = pd.to_numeric(dataJour1.CO2)\n",
    "dataJour1.humidité = pd.to_numeric(dataJour1.humidité)"
   ]
  },
  {
   "cell_type": "code",
   "execution_count": 20,
   "id": "a0123245-61aa-4d50-8c1e-8b4be7d76bfa",
   "metadata": {},
   "outputs": [
    {
     "data": {
      "text/plain": [
       "NO               int64\n",
       "NO2              int64\n",
       "10fra1          object\n",
       "CO2              int64\n",
       "temperature    float64\n",
       "humidité       float64\n",
       "heure            int64\n",
       "dtype: object"
      ]
     },
     "execution_count": 20,
     "metadata": {},
     "output_type": "execute_result"
    }
   ],
   "source": [
    "dataJour1.dtypes"
   ]
  },
  {
   "cell_type": "markdown",
   "id": "babc5f7c-7749-407b-9653-9685c4e5c6c2",
   "metadata": {},
   "source": [
    "#### je vais comparer le 17 septembre 2023 au 17 septembre 2022 et au 17 septembre 2013 (pour vraiment voir des différences)"
   ]
  },
  {
   "cell_type": "code",
   "execution_count": 21,
   "id": "2d618739-1f96-4b17-bb4d-915610a8e52a",
   "metadata": {},
   "outputs": [
    {
     "data": {
      "text/html": [
       "<div>\n",
       "<style scoped>\n",
       "    .dataframe tbody tr th:only-of-type {\n",
       "        vertical-align: middle;\n",
       "    }\n",
       "\n",
       "    .dataframe tbody tr th {\n",
       "        vertical-align: top;\n",
       "    }\n",
       "\n",
       "    .dataframe thead th {\n",
       "        text-align: right;\n",
       "    }\n",
       "</style>\n",
       "<table border=\"1\" class=\"dataframe\">\n",
       "  <thead>\n",
       "    <tr style=\"text-align: right;\">\n",
       "      <th></th>\n",
       "      <th>dateheure</th>\n",
       "      <th>nofra1</th>\n",
       "      <th>n2fra1</th>\n",
       "      <th>10fra1</th>\n",
       "      <th>c2fra1</th>\n",
       "      <th>tfra1</th>\n",
       "      <th>hyfra1</th>\n",
       "      <th>heure</th>\n",
       "    </tr>\n",
       "  </thead>\n",
       "  <tbody>\n",
       "    <tr>\n",
       "      <th>0</th>\n",
       "      <td>2013-09-17T23:00:00+02:00</td>\n",
       "      <td>NaN</td>\n",
       "      <td>NaN</td>\n",
       "      <td>NaN</td>\n",
       "      <td>NaN</td>\n",
       "      <td>21.6</td>\n",
       "      <td>65.3</td>\n",
       "      <td>24</td>\n",
       "    </tr>\n",
       "    <tr>\n",
       "      <th>1</th>\n",
       "      <td>2013-09-17T22:00:00+02:00</td>\n",
       "      <td>NaN</td>\n",
       "      <td>NaN</td>\n",
       "      <td>NaN</td>\n",
       "      <td>NaN</td>\n",
       "      <td>21.3</td>\n",
       "      <td>63.6</td>\n",
       "      <td>23</td>\n",
       "    </tr>\n",
       "    <tr>\n",
       "      <th>2</th>\n",
       "      <td>2013-09-17T21:00:00+02:00</td>\n",
       "      <td>NaN</td>\n",
       "      <td>NaN</td>\n",
       "      <td>NaN</td>\n",
       "      <td>NaN</td>\n",
       "      <td>21.1</td>\n",
       "      <td>62.3</td>\n",
       "      <td>22</td>\n",
       "    </tr>\n",
       "    <tr>\n",
       "      <th>3</th>\n",
       "      <td>2013-09-17T20:00:00+02:00</td>\n",
       "      <td>NaN</td>\n",
       "      <td>NaN</td>\n",
       "      <td>NaN</td>\n",
       "      <td>NaN</td>\n",
       "      <td>20.8</td>\n",
       "      <td>61.8</td>\n",
       "      <td>21</td>\n",
       "    </tr>\n",
       "    <tr>\n",
       "      <th>4</th>\n",
       "      <td>2013-09-17T19:00:00+02:00</td>\n",
       "      <td>NaN</td>\n",
       "      <td>NaN</td>\n",
       "      <td>NaN</td>\n",
       "      <td>NaN</td>\n",
       "      <td>20.6</td>\n",
       "      <td>58.1</td>\n",
       "      <td>20</td>\n",
       "    </tr>\n",
       "  </tbody>\n",
       "</table>\n",
       "</div>"
      ],
      "text/plain": [
       "                   dateheure nofra1 n2fra1 10fra1 c2fra1  tfra1 hyfra1  heure\n",
       "0  2013-09-17T23:00:00+02:00    NaN    NaN    NaN    NaN   21.6   65.3     24\n",
       "1  2013-09-17T22:00:00+02:00    NaN    NaN    NaN    NaN   21.3   63.6     23\n",
       "2  2013-09-17T21:00:00+02:00    NaN    NaN    NaN    NaN   21.1   62.3     22\n",
       "3  2013-09-17T20:00:00+02:00    NaN    NaN    NaN    NaN   20.8   61.8     21\n",
       "4  2013-09-17T19:00:00+02:00    NaN    NaN    NaN    NaN   20.6   58.1     20"
      ]
     },
     "execution_count": 21,
     "metadata": {},
     "output_type": "execute_result"
    }
   ],
   "source": [
    "data_2022 = pd.read_json(\"qualite-de-lair-mesuree-dans-la-station-franklin-d-roosevelt.json\")\n",
    "data_2022 = data_2022.stack().str.replace(',','.').unstack()\n",
    "data_2022_df = pd.DataFrame(data_2022)\n",
    "data_2022_df.tfra1 = pd.to_numeric(data_2022_df.tfra1)\n",
    "data_2022_df[\"heure\"] = [i for i in range(24,0,-1)]\n",
    "data_2022_df.head()\n",
    "\n",
    "\n",
    "\n",
    "data_2013 = pd.read_json(\"2013-qualite-de-lair-mesuree-dans-la-station-franklin-d-roosevelt.json\")\n",
    "data_2013 = data_2013.stack().str.replace(',','.').unstack()\n",
    "data_2013_df = pd.DataFrame(data_2013)\n",
    "data_2013_df.tfra1 = pd.to_numeric(data_2013_df.tfra1)\n",
    "data_2013_df[\"heure\"] = [i for i in range(24,0,-1)]\n",
    "data_2013_df.head()"
   ]
  },
  {
   "cell_type": "code",
   "execution_count": 22,
   "id": "8ca9d7dc-992a-461b-b942-093ad6d1a6de",
   "metadata": {},
   "outputs": [
    {
     "data": {
      "image/png": "[encoded data removed]",
      "text/plain": [
       "<Figure size 640x480 with 1 Axes>"
      ]
     },
     "metadata": {},
     "output_type": "display_data"
    }
   ],
   "source": [
    "plt.figure(1)\n",
    "plt.plot(dataJour1.heure,dataJour1.temperature, label = \"2023\")\n",
    "plt.plot(data_2022_df.heure,data_2022_df.tfra1,label = \"2022\")\n",
    "plt.plot(data_2013_df.heure,data_2013_df.tfra1,label = \"2013\")\n",
    "plt.legend()\n",
    "plt.title(\"évolution de la température le 17 septembre 2022 et 2023 à Franklin Rosevelt\")\n",
    "\n",
    "\n",
    "#plt.figure(2)\n",
    "#plt.plot(dataJour1.heure,dataJour1.humidité)\n",
    "#plt.title(\"évolution de l'humidité le 17 septembre 2023 à Franklin Rosevelt\")\n",
    "\n",
    "plt.show() "
   ]
  },
  {
   "cell_type": "markdown",
   "id": "f429ca87-1bf2-48a4-8116-d7256f3a3cc9",
   "metadata": {},
   "source": [
    "#### on voit clairement la tendance : il fait de plus en plus chaud à Franklin Rosevelt en septembre - une augmentation de presque 6 degrés en 10 ans !! "
   ]
  },
  {
   "cell_type": "markdown",
   "id": "5d7a7a35-0e66-4337-83fa-d7ada2544072",
   "metadata": {
    "jp-MarkdownHeadingCollapsed": true
   },
   "source": [
    "# Maximum de pollution dans une journée"
   ]
  },
  {
   "cell_type": "markdown",
   "id": "c146a52f-a0aa-4344-9ac6-79b9ea30e41d",
   "metadata": {},
   "source": [
    "![Mon Image](janco.jpg)"
   ]
  },
  {
   "cell_type": "code",
   "execution_count": 23,
   "id": "8c8e0bee-8582-40bd-b88c-0c687b2267a3",
   "metadata": {},
   "outputs": [
    {
     "data": {
      "image/png": "[encoded data removed]",
      "text/plain": [
       "<Figure size 640x480 with 1 Axes>"
      ]
     },
     "metadata": {},
     "output_type": "display_data"
    }
   ],
   "source": [
    "plt.plot(dataJour1.heure,dataJour1.NO, label = \"NO\")\n",
    "plt.plot(dataJour1.heure,dataJour1.NO2, label = \"NO2\")\n",
    "plt.plot(dataJour1.heure,dataJour1.CO2, label = \"CO2\")\n",
    "\n",
    "plt.title(\"évolution de la concentration en gaz nocifs le 17 septembre 2023 à Franklin Rosevelt\")\n",
    "plt.legend()\n",
    "plt.show()"
   ]
  },
  {
   "cell_type": "code",
   "execution_count": 24,
   "id": "3d18ac37-1e6c-4dcd-bebc-c89750f30ac3",
   "metadata": {},
   "outputs": [
    {
     "data": {
      "text/plain": [
       "546"
      ]
     },
     "execution_count": 24,
     "metadata": {},
     "output_type": "execute_result"
    }
   ],
   "source": [
    "max(dataJour1.CO2)"
   ]
  },
  {
   "cell_type": "code",
   "execution_count": 25,
   "id": "223f3969-6021-4cca-9466-56e24ac15b82",
   "metadata": {},
   "outputs": [
    {
     "data": {
      "text/html": [
       "<div>\n",
       "<style scoped>\n",
       "    .dataframe tbody tr th:only-of-type {\n",
       "        vertical-align: middle;\n",
       "    }\n",
       "\n",
       "    .dataframe tbody tr th {\n",
       "        vertical-align: top;\n",
       "    }\n",
       "\n",
       "    .dataframe thead th {\n",
       "        text-align: right;\n",
       "    }\n",
       "</style>\n",
       "<table border=\"1\" class=\"dataframe\">\n",
       "  <thead>\n",
       "    <tr style=\"text-align: right;\">\n",
       "      <th></th>\n",
       "      <th>NO</th>\n",
       "      <th>NO2</th>\n",
       "      <th>10fra1</th>\n",
       "      <th>temperature</th>\n",
       "      <th>humidité</th>\n",
       "      <th>heure</th>\n",
       "    </tr>\n",
       "    <tr>\n",
       "      <th>CO2</th>\n",
       "      <th></th>\n",
       "      <th></th>\n",
       "      <th></th>\n",
       "      <th></th>\n",
       "      <th></th>\n",
       "      <th></th>\n",
       "    </tr>\n",
       "  </thead>\n",
       "  <tbody>\n",
       "    <tr>\n",
       "      <th>491</th>\n",
       "      <td>11</td>\n",
       "      <td>54</td>\n",
       "      <td>58</td>\n",
       "      <td>27.9</td>\n",
       "      <td>56.9</td>\n",
       "      <td>24</td>\n",
       "    </tr>\n",
       "    <tr>\n",
       "      <th>482</th>\n",
       "      <td>6</td>\n",
       "      <td>45</td>\n",
       "      <td>42</td>\n",
       "      <td>27.7</td>\n",
       "      <td>54.7</td>\n",
       "      <td>23</td>\n",
       "    </tr>\n",
       "    <tr>\n",
       "      <th>479</th>\n",
       "      <td>4</td>\n",
       "      <td>41</td>\n",
       "      <td>39</td>\n",
       "      <td>27.7</td>\n",
       "      <td>54.1</td>\n",
       "      <td>22</td>\n",
       "    </tr>\n",
       "    <tr>\n",
       "      <th>480</th>\n",
       "      <td>3</td>\n",
       "      <td>25</td>\n",
       "      <td>34</td>\n",
       "      <td>27.8</td>\n",
       "      <td>53.8</td>\n",
       "      <td>21</td>\n",
       "    </tr>\n",
       "    <tr>\n",
       "      <th>475</th>\n",
       "      <td>2</td>\n",
       "      <td>13</td>\n",
       "      <td>29</td>\n",
       "      <td>27.8</td>\n",
       "      <td>52.8</td>\n",
       "      <td>20</td>\n",
       "    </tr>\n",
       "    <tr>\n",
       "      <th>508</th>\n",
       "      <td>2</td>\n",
       "      <td>11</td>\n",
       "      <td>42</td>\n",
       "      <td>27.7</td>\n",
       "      <td>53.6</td>\n",
       "      <td>19</td>\n",
       "    </tr>\n",
       "    <tr>\n",
       "      <th>530</th>\n",
       "      <td>2</td>\n",
       "      <td>13</td>\n",
       "      <td>43</td>\n",
       "      <td>27.5</td>\n",
       "      <td>53.7</td>\n",
       "      <td>18</td>\n",
       "    </tr>\n",
       "    <tr>\n",
       "      <th>526</th>\n",
       "      <td>3</td>\n",
       "      <td>19</td>\n",
       "      <td>43</td>\n",
       "      <td>27.2</td>\n",
       "      <td>53.4</td>\n",
       "      <td>17</td>\n",
       "    </tr>\n",
       "    <tr>\n",
       "      <th>546</th>\n",
       "      <td>4</td>\n",
       "      <td>21</td>\n",
       "      <td>69</td>\n",
       "      <td>26.9</td>\n",
       "      <td>53.3</td>\n",
       "      <td>16</td>\n",
       "    </tr>\n",
       "    <tr>\n",
       "      <th>536</th>\n",
       "      <td>3</td>\n",
       "      <td>18</td>\n",
       "      <td>46</td>\n",
       "      <td>26.3</td>\n",
       "      <td>54.1</td>\n",
       "      <td>15</td>\n",
       "    </tr>\n",
       "    <tr>\n",
       "      <th>513</th>\n",
       "      <td>5</td>\n",
       "      <td>19</td>\n",
       "      <td>28</td>\n",
       "      <td>25.6</td>\n",
       "      <td>55.5</td>\n",
       "      <td>14</td>\n",
       "    </tr>\n",
       "    <tr>\n",
       "      <th>487</th>\n",
       "      <td>8</td>\n",
       "      <td>24</td>\n",
       "      <td>22</td>\n",
       "      <td>25.2</td>\n",
       "      <td>56.0</td>\n",
       "      <td>13</td>\n",
       "    </tr>\n",
       "    <tr>\n",
       "      <th>481</th>\n",
       "      <td>8</td>\n",
       "      <td>27</td>\n",
       "      <td>27</td>\n",
       "      <td>25.1</td>\n",
       "      <td>56.3</td>\n",
       "      <td>12</td>\n",
       "    </tr>\n",
       "    <tr>\n",
       "      <th>480</th>\n",
       "      <td>10</td>\n",
       "      <td>31</td>\n",
       "      <td>25</td>\n",
       "      <td>25.1</td>\n",
       "      <td>56.5</td>\n",
       "      <td>11</td>\n",
       "    </tr>\n",
       "    <tr>\n",
       "      <th>476</th>\n",
       "      <td>8</td>\n",
       "      <td>36</td>\n",
       "      <td>29</td>\n",
       "      <td>25.5</td>\n",
       "      <td>55.3</td>\n",
       "      <td>10</td>\n",
       "    </tr>\n",
       "    <tr>\n",
       "      <th>477</th>\n",
       "      <td>9</td>\n",
       "      <td>37</td>\n",
       "      <td>30</td>\n",
       "      <td>25.9</td>\n",
       "      <td>54.2</td>\n",
       "      <td>9</td>\n",
       "    </tr>\n",
       "    <tr>\n",
       "      <th>466</th>\n",
       "      <td>8</td>\n",
       "      <td>39</td>\n",
       "      <td>19</td>\n",
       "      <td>26.2</td>\n",
       "      <td>53.4</td>\n",
       "      <td>8</td>\n",
       "    </tr>\n",
       "    <tr>\n",
       "      <th>452</th>\n",
       "      <td>9</td>\n",
       "      <td>43</td>\n",
       "      <td>13</td>\n",
       "      <td>26.4</td>\n",
       "      <td>51.1</td>\n",
       "      <td>7</td>\n",
       "    </tr>\n",
       "    <tr>\n",
       "      <th>453</th>\n",
       "      <td>14</td>\n",
       "      <td>50</td>\n",
       "      <td>21</td>\n",
       "      <td>26.8</td>\n",
       "      <td>50.2</td>\n",
       "      <td>6</td>\n",
       "    </tr>\n",
       "    <tr>\n",
       "      <th>458</th>\n",
       "      <td>16</td>\n",
       "      <td>52</td>\n",
       "      <td>44</td>\n",
       "      <td>27.2</td>\n",
       "      <td>49.5</td>\n",
       "      <td>5</td>\n",
       "    </tr>\n",
       "    <tr>\n",
       "      <th>502</th>\n",
       "      <td>17</td>\n",
       "      <td>51</td>\n",
       "      <td>65</td>\n",
       "      <td>27.3</td>\n",
       "      <td>51.2</td>\n",
       "      <td>4</td>\n",
       "    </tr>\n",
       "    <tr>\n",
       "      <th>505</th>\n",
       "      <td>23</td>\n",
       "      <td>62</td>\n",
       "      <td>41</td>\n",
       "      <td>27.3</td>\n",
       "      <td>50.4</td>\n",
       "      <td>3</td>\n",
       "    </tr>\n",
       "    <tr>\n",
       "      <th>489</th>\n",
       "      <td>12</td>\n",
       "      <td>54</td>\n",
       "      <td>63</td>\n",
       "      <td>27.5</td>\n",
       "      <td>49.9</td>\n",
       "      <td>2</td>\n",
       "    </tr>\n",
       "    <tr>\n",
       "      <th>503</th>\n",
       "      <td>13</td>\n",
       "      <td>57</td>\n",
       "      <td>60</td>\n",
       "      <td>27.6</td>\n",
       "      <td>50.8</td>\n",
       "      <td>1</td>\n",
       "    </tr>\n",
       "  </tbody>\n",
       "</table>\n",
       "</div>"
      ],
      "text/plain": [
       "     NO  NO2 10fra1  temperature  humidité  heure\n",
       "CO2                                              \n",
       "491  11   54     58         27.9      56.9     24\n",
       "482   6   45     42         27.7      54.7     23\n",
       "479   4   41     39         27.7      54.1     22\n",
       "480   3   25     34         27.8      53.8     21\n",
       "475   2   13     29         27.8      52.8     20\n",
       "508   2   11     42         27.7      53.6     19\n",
       "530   2   13     43         27.5      53.7     18\n",
       "526   3   19     43         27.2      53.4     17\n",
       "546   4   21     69         26.9      53.3     16\n",
       "536   3   18     46         26.3      54.1     15\n",
       "513   5   19     28         25.6      55.5     14\n",
       "487   8   24     22         25.2      56.0     13\n",
       "481   8   27     27         25.1      56.3     12\n",
       "480  10   31     25         25.1      56.5     11\n",
       "476   8   36     29         25.5      55.3     10\n",
       "477   9   37     30         25.9      54.2      9\n",
       "466   8   39     19         26.2      53.4      8\n",
       "452   9   43     13         26.4      51.1      7\n",
       "453  14   50     21         26.8      50.2      6\n",
       "458  16   52     44         27.2      49.5      5\n",
       "502  17   51     65         27.3      51.2      4\n",
       "505  23   62     41         27.3      50.4      3\n",
       "489  12   54     63         27.5      49.9      2\n",
       "503  13   57     60         27.6      50.8      1"
      ]
     },
     "execution_count": 25,
     "metadata": {},
     "output_type": "execute_result"
    }
   ],
   "source": [
    "dataJour1_CO2 = dataJour1.set_index(\"CO2\")\n",
    "dataJour1_CO2"
   ]
  },
  {
   "cell_type": "markdown",
   "id": "cfbdef53-b0f5-44d3-8904-bfb889cf653e",
   "metadata": {},
   "source": [
    "##### je vois donc que le maximum de pollution a été atteint à 16h de l'après midi, c'est ce que je pouvais lire sur le graphique également"
   ]
  },
  {
   "cell_type": "markdown",
   "id": "feea95ac-efb8-4d8a-bf35-f5fd1cb3a90f",
   "metadata": {
    "jp-MarkdownHeadingCollapsed": true
   },
   "source": [
    "# Analyse sur un an"
   ]
  },
  {
   "cell_type": "markdown",
   "id": "a0337af5-26c2-4c46-8a1b-d01fb08273e4",
   "metadata": {},
   "source": [
    "#### il y a beaucoup de données, je veux comparer les températures et les concentrations de différents gaz dans l'air à la MÊME HEURE tous les jours "
   ]
  },
  {
   "cell_type": "code",
   "execution_count": 26,
   "id": "f5fd6d14-42a4-44b9-8e69-c1464d34d56f",
   "metadata": {},
   "outputs": [],
   "source": [
    "dataTemp = datap.iloc[10 : 1000 : 24 , [0,5]] #je veux la température à 16h (c'est le pic de pollution déterminé précédemment)"
   ]
  },
  {
   "cell_type": "code",
   "execution_count": 27,
   "id": "8c10bef7-5e16-4403-b756-7ff7659a8358",
   "metadata": {},
   "outputs": [],
   "source": [
    "dataTemp1 = pd.DataFrame(dataTemp)"
   ]
  },
  {
   "cell_type": "markdown",
   "id": "ceec33b7-b712-4a6d-8111-d3422bec98b2",
   "metadata": {},
   "source": [
    "#### je transforme le tableau en data frame afin de créer un histogramme"
   ]
  },
  {
   "cell_type": "code",
   "execution_count": 28,
   "id": "b9072fad-0c77-462c-baaf-bbf121ce1e6d",
   "metadata": {},
   "outputs": [],
   "source": [
    "dataTemp1.dateheure = pd.to_datetime(dataTemp1.dateheure)"
   ]
  },
  {
   "cell_type": "code",
   "execution_count": 29,
   "id": "b22619ab-5411-439b-841e-b61f07534713",
   "metadata": {},
   "outputs": [],
   "source": [
    "dataTemp1.temperature = pd.to_numeric(dataTemp1.temperature, errors='coerce')"
   ]
  },
  {
   "cell_type": "code",
   "execution_count": 30,
   "id": "9d57bc8a-0081-4fdb-a7d6-45531345d882",
   "metadata": {},
   "outputs": [
    {
     "data": {
      "text/html": [
       "<div>\n",
       "<style scoped>\n",
       "    .dataframe tbody tr th:only-of-type {\n",
       "        vertical-align: middle;\n",
       "    }\n",
       "\n",
       "    .dataframe tbody tr th {\n",
       "        vertical-align: top;\n",
       "    }\n",
       "\n",
       "    .dataframe thead th {\n",
       "        text-align: right;\n",
       "    }\n",
       "</style>\n",
       "<table border=\"1\" class=\"dataframe\">\n",
       "  <thead>\n",
       "    <tr style=\"text-align: right;\">\n",
       "      <th></th>\n",
       "      <th>dateheure</th>\n",
       "      <th>temperature</th>\n",
       "    </tr>\n",
       "  </thead>\n",
       "  <tbody>\n",
       "    <tr>\n",
       "      <th>10</th>\n",
       "      <td>2023-09-17 16:00:00+02:00</td>\n",
       "      <td>26.9</td>\n",
       "    </tr>\n",
       "    <tr>\n",
       "      <th>34</th>\n",
       "      <td>2023-09-16 16:00:00+02:00</td>\n",
       "      <td>26.6</td>\n",
       "    </tr>\n",
       "    <tr>\n",
       "      <th>58</th>\n",
       "      <td>2023-09-15 16:00:00+02:00</td>\n",
       "      <td>26.6</td>\n",
       "    </tr>\n",
       "    <tr>\n",
       "      <th>82</th>\n",
       "      <td>2023-09-14 16:00:00+02:00</td>\n",
       "      <td>26.3</td>\n",
       "    </tr>\n",
       "    <tr>\n",
       "      <th>106</th>\n",
       "      <td>2023-09-13 16:00:00+02:00</td>\n",
       "      <td>26.2</td>\n",
       "    </tr>\n",
       "    <tr>\n",
       "      <th>130</th>\n",
       "      <td>2023-09-12 16:00:00+02:00</td>\n",
       "      <td>26.2</td>\n",
       "    </tr>\n",
       "    <tr>\n",
       "      <th>154</th>\n",
       "      <td>2023-09-11 16:00:00+02:00</td>\n",
       "      <td>28.8</td>\n",
       "    </tr>\n",
       "    <tr>\n",
       "      <th>178</th>\n",
       "      <td>2023-09-10 16:00:00+02:00</td>\n",
       "      <td>NaN</td>\n",
       "    </tr>\n",
       "    <tr>\n",
       "      <th>202</th>\n",
       "      <td>2023-09-09 16:00:00+02:00</td>\n",
       "      <td>NaN</td>\n",
       "    </tr>\n",
       "    <tr>\n",
       "      <th>226</th>\n",
       "      <td>2023-09-08 16:00:00+02:00</td>\n",
       "      <td>NaN</td>\n",
       "    </tr>\n",
       "  </tbody>\n",
       "</table>\n",
       "</div>"
      ],
      "text/plain": [
       "                    dateheure  temperature\n",
       "10  2023-09-17 16:00:00+02:00         26.9\n",
       "34  2023-09-16 16:00:00+02:00         26.6\n",
       "58  2023-09-15 16:00:00+02:00         26.6\n",
       "82  2023-09-14 16:00:00+02:00         26.3\n",
       "106 2023-09-13 16:00:00+02:00         26.2\n",
       "130 2023-09-12 16:00:00+02:00         26.2\n",
       "154 2023-09-11 16:00:00+02:00         28.8\n",
       "178 2023-09-10 16:00:00+02:00          NaN\n",
       "202 2023-09-09 16:00:00+02:00          NaN\n",
       "226 2023-09-08 16:00:00+02:00          NaN"
      ]
     },
     "execution_count": 30,
     "metadata": {},
     "output_type": "execute_result"
    }
   ],
   "source": [
    "dataTemp1.head(10)"
   ]
  },
  {
   "cell_type": "code",
   "execution_count": 31,
   "id": "10b8d3cc-13a3-4704-99aa-89a236cd2b2d",
   "metadata": {},
   "outputs": [
    {
     "data": {
      "image/png": "[encoded data removed]",
      "text/plain": [
       "<Figure size 640x480 with 1 Axes>"
      ]
     },
     "metadata": {},
     "output_type": "display_data"
    }
   ],
   "source": [
    "plt.plot(dataTemp1.dateheure, dataTemp1.temperature, label = \"évolution de la température à 16h sur un an\")\n",
    "plt.show()"
   ]
  },
  {
   "cell_type": "markdown",
   "id": "de5f7fa6-b8e3-4625-87a0-8f8a2a073a81",
   "metadata": {},
   "source": [
    "#### il manque beaucoup de données => c'est impossible d'avoir une vision globale de l'évolution de la température sur un an ... "
   ]
  },
  {
   "cell_type": "markdown",
   "id": "1788f387-24f1-437c-9220-296539639bee",
   "metadata": {
    "jp-MarkdownHeadingCollapsed": true
   },
   "source": [
    "# Conclusion"
   ]
  },
  {
   "cell_type": "markdown",
   "id": "46d1bb4f-7b91-4faa-854a-1fdeb6cac97a",
   "metadata": {},
   "source": [
    "##### j'ai étudié l'évolution de la température et d'autres données sur une journée en la comparant à d'autres années afin de mettre en lumière le réchauffement climatique\n",
    "##### puis j'ai étudié l'évolution de la température sur un an, ce qui n'a pas été très concluant à cause du manque de données dans certains cas... "
   ]
  }
 ],
 "metadata": {
  "kernelspec": {
   "display_name": "Python 3 (ipykernel)",
   "language": "python",
   "name": "python3"
  },
  "language_info": {
   "codemirror_mode": {
    "name": "ipython",
    "version": 3
   },
   "file_extension": ".py",
   "mimetype": "text/x-python",
   "name": "python",
   "nbconvert_exporter": "python",
   "pygments_lexer": "ipython3",
   "version": "3.11.4"
  }
 },
 "nbformat": 4,
 "nbformat_minor": 5
}
