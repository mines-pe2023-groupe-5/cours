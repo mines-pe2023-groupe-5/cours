{
 "cells": [
  {
   "cell_type": "markdown",
   "id": "20a0c249-ff8b-4333-8eba-bbceb42ce5a1",
   "metadata": {},
   "source": [
    "# Analyse des impressions des Mineurs sur leur semaine de géol\n",
    "Ce travail réalisé dans le cadre du cours d'informatique a pour but d'analyser les impressions des mineurs au retour de leur semaine de géol sur différents critères comme la qualité des repas ou l'interet géologique du lieu afin par exemple de déterminer quelle destination a été la plus appréciée\n",
    "\n",
    "## 1.Importation des données et mise en forme"
   ]
  },
  {
   "cell_type": "code",
   "execution_count": 1,
   "id": "c09dfe85-d04a-4616-828c-936b33f48081",
   "metadata": {},
   "outputs": [],
   "source": [
    "import pandas as pd\n",
    "#on importe pandas"
   ]
  },
  {
   "cell_type": "markdown",
   "id": "0cb31cef-e2e8-4eb4-a28f-8365aedfba25",
   "metadata": {},
   "source": [
    "on lit le fichier au préalable placé dans le même dossier et on le visualise pour vérifier que tout va bien"
   ]
  },
  {
   "cell_type": "code",
   "execution_count": 2,
   "id": "2a3efa6e-8b75-40f9-9aba-56ab7b04baad",
   "metadata": {},
   "outputs": [
    {
     "data": {
      "text/html": [
       "<div>\n",
       "<style scoped>\n",
       "    .dataframe tbody tr th:only-of-type {\n",
       "        vertical-align: middle;\n",
       "    }\n",
       "\n",
       "    .dataframe tbody tr th {\n",
       "        vertical-align: top;\n",
       "    }\n",
       "\n",
       "    .dataframe thead th {\n",
       "        text-align: right;\n",
       "    }\n",
       "</style>\n",
       "<table border=\"1\" class=\"dataframe\">\n",
       "  <thead>\n",
       "    <tr style=\"text-align: right;\">\n",
       "      <th></th>\n",
       "      <th>Horodateur</th>\n",
       "      <th>Où es-tu allé ?</th>\n",
       "      <th>Comment évalues-tu le lieu d'un point de vue géologique sur 10 ?</th>\n",
       "      <th>Quel instrument as-tu le plus utilisé ?</th>\n",
       "      <th>A quel heure en moyenne t'es tu levé ?</th>\n",
       "      <th>La qualité des repas sur 10</th>\n",
       "      <th>Quel est ton âge géologique préféré ?</th>\n",
       "      <th>As-tu trouvé un fossile ?</th>\n",
       "      <th>Comment as-tu participé au rap de géol ?</th>\n",
       "      <th>Ton impression sur la semaine</th>\n",
       "    </tr>\n",
       "  </thead>\n",
       "  <tbody>\n",
       "    <tr>\n",
       "      <th>0</th>\n",
       "      <td>2023/09/30 7:38:06 PM UTC+3</td>\n",
       "      <td>Digne (les best)</td>\n",
       "      <td>8</td>\n",
       "      <td>L'acide</td>\n",
       "      <td>07:00</td>\n",
       "      <td>7</td>\n",
       "      <td>Secondaire</td>\n",
       "      <td>oui</td>\n",
       "      <td>Je tourne dans le clip</td>\n",
       "      <td>Vraiment super ! Très intéressant, le groupe é...</td>\n",
       "    </tr>\n",
       "    <tr>\n",
       "      <th>1</th>\n",
       "      <td>2023/09/30 7:38:35 PM UTC+3</td>\n",
       "      <td>Digne (les best)</td>\n",
       "      <td>9</td>\n",
       "      <td>La boussole</td>\n",
       "      <td>07:15</td>\n",
       "      <td>8</td>\n",
       "      <td>Secondaire</td>\n",
       "      <td>non</td>\n",
       "      <td>Je tourne dans le clip</td>\n",
       "      <td>Très sympa !</td>\n",
       "    </tr>\n",
       "    <tr>\n",
       "      <th>2</th>\n",
       "      <td>2023/09/30 7:39:01 PM UTC+3</td>\n",
       "      <td>Digne (les best)</td>\n",
       "      <td>9</td>\n",
       "      <td>La loupe</td>\n",
       "      <td>07:25</td>\n",
       "      <td>6</td>\n",
       "      <td>Secondaire</td>\n",
       "      <td>oui</td>\n",
       "      <td>Je tourne dans le clip;Caddie driver</td>\n",
       "      <td>La semaine était super. J'ai appris plein de c...</td>\n",
       "    </tr>\n",
       "    <tr>\n",
       "      <th>3</th>\n",
       "      <td>2023/09/30 7:39:59 PM UTC+3</td>\n",
       "      <td>Pyrénées</td>\n",
       "      <td>10</td>\n",
       "      <td>L'acide</td>\n",
       "      <td>07:30</td>\n",
       "      <td>2</td>\n",
       "      <td>Quaternaire</td>\n",
       "      <td>oui</td>\n",
       "      <td>Je tourne dans le clip</td>\n",
       "      <td>Ça va</td>\n",
       "    </tr>\n",
       "    <tr>\n",
       "      <th>4</th>\n",
       "      <td>2023/09/30 7:43:21 PM UTC+3</td>\n",
       "      <td>Laragne</td>\n",
       "      <td>8</td>\n",
       "      <td>Le marteau</td>\n",
       "      <td>07:00</td>\n",
       "      <td>2</td>\n",
       "      <td>Primaire</td>\n",
       "      <td>non</td>\n",
       "      <td>Caméraman;Je tourne dans le clip</td>\n",
       "      <td>Je croyais que c'était une école d'ingé, pas d...</td>\n",
       "    </tr>\n",
       "    <tr>\n",
       "      <th>...</th>\n",
       "      <td>...</td>\n",
       "      <td>...</td>\n",
       "      <td>...</td>\n",
       "      <td>...</td>\n",
       "      <td>...</td>\n",
       "      <td>...</td>\n",
       "      <td>...</td>\n",
       "      <td>...</td>\n",
       "      <td>...</td>\n",
       "      <td>...</td>\n",
       "    </tr>\n",
       "    <tr>\n",
       "      <th>58</th>\n",
       "      <td>2023/10/03 2:03:42 PM UTC+3</td>\n",
       "      <td>BP</td>\n",
       "      <td>8</td>\n",
       "      <td>Le marteau</td>\n",
       "      <td>07:45</td>\n",
       "      <td>7</td>\n",
       "      <td>Tertiaire</td>\n",
       "      <td>oui</td>\n",
       "      <td>Choix de la musique d'origine;Ecriture du text...</td>\n",
       "      <td>Y’avait pas de toilettes :(</td>\n",
       "    </tr>\n",
       "    <tr>\n",
       "      <th>59</th>\n",
       "      <td>2023/10/03 6:21:10 PM UTC+3</td>\n",
       "      <td>Digne (les best)</td>\n",
       "      <td>10</td>\n",
       "      <td>L'acide</td>\n",
       "      <td>07:10</td>\n",
       "      <td>7</td>\n",
       "      <td>Tertiaire</td>\n",
       "      <td>oui</td>\n",
       "      <td>Chanteur;Je tourne dans le clip</td>\n",
       "      <td>Apaisant, amusant, raffraichissant</td>\n",
       "    </tr>\n",
       "    <tr>\n",
       "      <th>60</th>\n",
       "      <td>2023/10/04 3:31:20 AM UTC+3</td>\n",
       "      <td>Laragne</td>\n",
       "      <td>6</td>\n",
       "      <td>Le marteau</td>\n",
       "      <td>07:05</td>\n",
       "      <td>9</td>\n",
       "      <td>Tertiaire</td>\n",
       "      <td>oui</td>\n",
       "      <td>Choix de la musique d'origine;Ecriture du text...</td>\n",
       "      <td>J'ai pas kiffé fort et pour deux raisons princ...</td>\n",
       "    </tr>\n",
       "    <tr>\n",
       "      <th>61</th>\n",
       "      <td>2023/10/05 1:02:36 PM UTC+3</td>\n",
       "      <td>Pyrénées</td>\n",
       "      <td>9</td>\n",
       "      <td>La loupe</td>\n",
       "      <td>07:30</td>\n",
       "      <td>4</td>\n",
       "      <td>Tertiaire</td>\n",
       "      <td>oui</td>\n",
       "      <td>Choix de la musique d'origine;Chanteur</td>\n",
       "      <td>la bouffe en espagne m’a traumatisé</td>\n",
       "    </tr>\n",
       "    <tr>\n",
       "      <th>62</th>\n",
       "      <td>2023/10/06 12:31:40 AM UTC+3</td>\n",
       "      <td>Laragne</td>\n",
       "      <td>8</td>\n",
       "      <td>L'acide</td>\n",
       "      <td>07:00</td>\n",
       "      <td>7</td>\n",
       "      <td>Tertiaire</td>\n",
       "      <td>oui</td>\n",
       "      <td>Je tourne dans le clip</td>\n",
       "      <td>NaN</td>\n",
       "    </tr>\n",
       "  </tbody>\n",
       "</table>\n",
       "<p>63 rows × 10 columns</p>\n",
       "</div>"
      ],
      "text/plain": [
       "                      Horodateur   Où es-tu allé ?  \\\n",
       "0    2023/09/30 7:38:06 PM UTC+3  Digne (les best)   \n",
       "1    2023/09/30 7:38:35 PM UTC+3  Digne (les best)   \n",
       "2    2023/09/30 7:39:01 PM UTC+3  Digne (les best)   \n",
       "3    2023/09/30 7:39:59 PM UTC+3          Pyrénées   \n",
       "4    2023/09/30 7:43:21 PM UTC+3           Laragne   \n",
       "..                           ...               ...   \n",
       "58   2023/10/03 2:03:42 PM UTC+3                BP   \n",
       "59   2023/10/03 6:21:10 PM UTC+3  Digne (les best)   \n",
       "60   2023/10/04 3:31:20 AM UTC+3           Laragne   \n",
       "61   2023/10/05 1:02:36 PM UTC+3          Pyrénées   \n",
       "62  2023/10/06 12:31:40 AM UTC+3           Laragne   \n",
       "\n",
       "    Comment évalues-tu le lieu d'un point de vue géologique sur 10 ?  \\\n",
       "0                                                   8                  \n",
       "1                                                   9                  \n",
       "2                                                   9                  \n",
       "3                                                  10                  \n",
       "4                                                   8                  \n",
       "..                                                ...                  \n",
       "58                                                  8                  \n",
       "59                                                 10                  \n",
       "60                                                  6                  \n",
       "61                                                  9                  \n",
       "62                                                  8                  \n",
       "\n",
       "   Quel instrument as-tu le plus utilisé ?  \\\n",
       "0                                  L'acide   \n",
       "1                              La boussole   \n",
       "2                                 La loupe   \n",
       "3                                  L'acide   \n",
       "4                               Le marteau   \n",
       "..                                     ...   \n",
       "58                              Le marteau   \n",
       "59                                 L'acide   \n",
       "60                              Le marteau   \n",
       "61                                La loupe   \n",
       "62                                 L'acide   \n",
       "\n",
       "   A quel heure en moyenne t'es tu levé ?  La qualité des repas sur 10  \\\n",
       "0                                   07:00                            7   \n",
       "1                                   07:15                            8   \n",
       "2                                   07:25                            6   \n",
       "3                                   07:30                            2   \n",
       "4                                   07:00                            2   \n",
       "..                                    ...                          ...   \n",
       "58                                  07:45                            7   \n",
       "59                                  07:10                            7   \n",
       "60                                  07:05                            9   \n",
       "61                                  07:30                            4   \n",
       "62                                  07:00                            7   \n",
       "\n",
       "   Quel est ton âge géologique préféré ? As-tu trouvé un fossile ?  \\\n",
       "0                             Secondaire                       oui   \n",
       "1                             Secondaire                       non   \n",
       "2                             Secondaire                       oui   \n",
       "3                            Quaternaire                       oui   \n",
       "4                               Primaire                       non   \n",
       "..                                   ...                       ...   \n",
       "58                             Tertiaire                       oui   \n",
       "59                             Tertiaire                       oui   \n",
       "60                             Tertiaire                       oui   \n",
       "61                             Tertiaire                       oui   \n",
       "62                             Tertiaire                       oui   \n",
       "\n",
       "             Comment as-tu participé au rap de géol ?  \\\n",
       "0                              Je tourne dans le clip   \n",
       "1                              Je tourne dans le clip   \n",
       "2                Je tourne dans le clip;Caddie driver   \n",
       "3                              Je tourne dans le clip   \n",
       "4                    Caméraman;Je tourne dans le clip   \n",
       "..                                                ...   \n",
       "58  Choix de la musique d'origine;Ecriture du text...   \n",
       "59                    Chanteur;Je tourne dans le clip   \n",
       "60  Choix de la musique d'origine;Ecriture du text...   \n",
       "61             Choix de la musique d'origine;Chanteur   \n",
       "62                             Je tourne dans le clip   \n",
       "\n",
       "                        Ton impression sur la semaine  \n",
       "0   Vraiment super ! Très intéressant, le groupe é...  \n",
       "1                                        Très sympa !  \n",
       "2   La semaine était super. J'ai appris plein de c...  \n",
       "3                                               Ça va  \n",
       "4   Je croyais que c'était une école d'ingé, pas d...  \n",
       "..                                                ...  \n",
       "58                        Y’avait pas de toilettes :(  \n",
       "59                 Apaisant, amusant, raffraichissant  \n",
       "60  J'ai pas kiffé fort et pour deux raisons princ...  \n",
       "61               la bouffe en espagne m’a traumatisé   \n",
       "62                                                NaN  \n",
       "\n",
       "[63 rows x 10 columns]"
      ]
     },
     "execution_count": 2,
     "metadata": {},
     "output_type": "execute_result"
    }
   ],
   "source": [
    "df=pd.read_csv(\"retour_geol.csv\")\n",
    "df"
   ]
  },
  {
   "cell_type": "markdown",
   "id": "63a6f45d-78c6-4a75-b9b1-bea97971effe",
   "metadata": {},
   "source": [
    "On remarque que les noms des colonnes sont peu agréables à manipuler donc on commence par tout renommer avec la fonction rename"
   ]
  },
  {
   "cell_type": "code",
   "execution_count": 3,
   "id": "5e2b8b6c-531e-44db-a805-ee5b3b9e6fcb",
   "metadata": {},
   "outputs": [
    {
     "data": {
      "text/html": [
       "<div>\n",
       "<style scoped>\n",
       "    .dataframe tbody tr th:only-of-type {\n",
       "        vertical-align: middle;\n",
       "    }\n",
       "\n",
       "    .dataframe tbody tr th {\n",
       "        vertical-align: top;\n",
       "    }\n",
       "\n",
       "    .dataframe thead th {\n",
       "        text-align: right;\n",
       "    }\n",
       "</style>\n",
       "<table border=\"1\" class=\"dataframe\">\n",
       "  <thead>\n",
       "    <tr style=\"text-align: right;\">\n",
       "      <th></th>\n",
       "      <th>Horodateur</th>\n",
       "      <th>destination</th>\n",
       "      <th>note_geol</th>\n",
       "      <th>instrument_prefere</th>\n",
       "      <th>heure_reveil</th>\n",
       "      <th>note_repas</th>\n",
       "      <th>age_prefere</th>\n",
       "      <th>trouve_fossile</th>\n",
       "      <th>role_rap</th>\n",
       "      <th>impression</th>\n",
       "    </tr>\n",
       "  </thead>\n",
       "  <tbody>\n",
       "    <tr>\n",
       "      <th>0</th>\n",
       "      <td>2023/09/30 7:38:06 PM UTC+3</td>\n",
       "      <td>Digne (les best)</td>\n",
       "      <td>8</td>\n",
       "      <td>L'acide</td>\n",
       "      <td>07:00</td>\n",
       "      <td>7</td>\n",
       "      <td>Secondaire</td>\n",
       "      <td>oui</td>\n",
       "      <td>Je tourne dans le clip</td>\n",
       "      <td>Vraiment super ! Très intéressant, le groupe é...</td>\n",
       "    </tr>\n",
       "    <tr>\n",
       "      <th>1</th>\n",
       "      <td>2023/09/30 7:38:35 PM UTC+3</td>\n",
       "      <td>Digne (les best)</td>\n",
       "      <td>9</td>\n",
       "      <td>La boussole</td>\n",
       "      <td>07:15</td>\n",
       "      <td>8</td>\n",
       "      <td>Secondaire</td>\n",
       "      <td>non</td>\n",
       "      <td>Je tourne dans le clip</td>\n",
       "      <td>Très sympa !</td>\n",
       "    </tr>\n",
       "    <tr>\n",
       "      <th>2</th>\n",
       "      <td>2023/09/30 7:39:01 PM UTC+3</td>\n",
       "      <td>Digne (les best)</td>\n",
       "      <td>9</td>\n",
       "      <td>La loupe</td>\n",
       "      <td>07:25</td>\n",
       "      <td>6</td>\n",
       "      <td>Secondaire</td>\n",
       "      <td>oui</td>\n",
       "      <td>Je tourne dans le clip;Caddie driver</td>\n",
       "      <td>La semaine était super. J'ai appris plein de c...</td>\n",
       "    </tr>\n",
       "    <tr>\n",
       "      <th>3</th>\n",
       "      <td>2023/09/30 7:39:59 PM UTC+3</td>\n",
       "      <td>Pyrénées</td>\n",
       "      <td>10</td>\n",
       "      <td>L'acide</td>\n",
       "      <td>07:30</td>\n",
       "      <td>2</td>\n",
       "      <td>Quaternaire</td>\n",
       "      <td>oui</td>\n",
       "      <td>Je tourne dans le clip</td>\n",
       "      <td>Ça va</td>\n",
       "    </tr>\n",
       "    <tr>\n",
       "      <th>4</th>\n",
       "      <td>2023/09/30 7:43:21 PM UTC+3</td>\n",
       "      <td>Laragne</td>\n",
       "      <td>8</td>\n",
       "      <td>Le marteau</td>\n",
       "      <td>07:00</td>\n",
       "      <td>2</td>\n",
       "      <td>Primaire</td>\n",
       "      <td>non</td>\n",
       "      <td>Caméraman;Je tourne dans le clip</td>\n",
       "      <td>Je croyais que c'était une école d'ingé, pas d...</td>\n",
       "    </tr>\n",
       "    <tr>\n",
       "      <th>...</th>\n",
       "      <td>...</td>\n",
       "      <td>...</td>\n",
       "      <td>...</td>\n",
       "      <td>...</td>\n",
       "      <td>...</td>\n",
       "      <td>...</td>\n",
       "      <td>...</td>\n",
       "      <td>...</td>\n",
       "      <td>...</td>\n",
       "      <td>...</td>\n",
       "    </tr>\n",
       "    <tr>\n",
       "      <th>58</th>\n",
       "      <td>2023/10/03 2:03:42 PM UTC+3</td>\n",
       "      <td>BP</td>\n",
       "      <td>8</td>\n",
       "      <td>Le marteau</td>\n",
       "      <td>07:45</td>\n",
       "      <td>7</td>\n",
       "      <td>Tertiaire</td>\n",
       "      <td>oui</td>\n",
       "      <td>Choix de la musique d'origine;Ecriture du text...</td>\n",
       "      <td>Y’avait pas de toilettes :(</td>\n",
       "    </tr>\n",
       "    <tr>\n",
       "      <th>59</th>\n",
       "      <td>2023/10/03 6:21:10 PM UTC+3</td>\n",
       "      <td>Digne (les best)</td>\n",
       "      <td>10</td>\n",
       "      <td>L'acide</td>\n",
       "      <td>07:10</td>\n",
       "      <td>7</td>\n",
       "      <td>Tertiaire</td>\n",
       "      <td>oui</td>\n",
       "      <td>Chanteur;Je tourne dans le clip</td>\n",
       "      <td>Apaisant, amusant, raffraichissant</td>\n",
       "    </tr>\n",
       "    <tr>\n",
       "      <th>60</th>\n",
       "      <td>2023/10/04 3:31:20 AM UTC+3</td>\n",
       "      <td>Laragne</td>\n",
       "      <td>6</td>\n",
       "      <td>Le marteau</td>\n",
       "      <td>07:05</td>\n",
       "      <td>9</td>\n",
       "      <td>Tertiaire</td>\n",
       "      <td>oui</td>\n",
       "      <td>Choix de la musique d'origine;Ecriture du text...</td>\n",
       "      <td>J'ai pas kiffé fort et pour deux raisons princ...</td>\n",
       "    </tr>\n",
       "    <tr>\n",
       "      <th>61</th>\n",
       "      <td>2023/10/05 1:02:36 PM UTC+3</td>\n",
       "      <td>Pyrénées</td>\n",
       "      <td>9</td>\n",
       "      <td>La loupe</td>\n",
       "      <td>07:30</td>\n",
       "      <td>4</td>\n",
       "      <td>Tertiaire</td>\n",
       "      <td>oui</td>\n",
       "      <td>Choix de la musique d'origine;Chanteur</td>\n",
       "      <td>la bouffe en espagne m’a traumatisé</td>\n",
       "    </tr>\n",
       "    <tr>\n",
       "      <th>62</th>\n",
       "      <td>2023/10/06 12:31:40 AM UTC+3</td>\n",
       "      <td>Laragne</td>\n",
       "      <td>8</td>\n",
       "      <td>L'acide</td>\n",
       "      <td>07:00</td>\n",
       "      <td>7</td>\n",
       "      <td>Tertiaire</td>\n",
       "      <td>oui</td>\n",
       "      <td>Je tourne dans le clip</td>\n",
       "      <td>NaN</td>\n",
       "    </tr>\n",
       "  </tbody>\n",
       "</table>\n",
       "<p>63 rows × 10 columns</p>\n",
       "</div>"
      ],
      "text/plain": [
       "                      Horodateur       destination  note_geol  \\\n",
       "0    2023/09/30 7:38:06 PM UTC+3  Digne (les best)          8   \n",
       "1    2023/09/30 7:38:35 PM UTC+3  Digne (les best)          9   \n",
       "2    2023/09/30 7:39:01 PM UTC+3  Digne (les best)          9   \n",
       "3    2023/09/30 7:39:59 PM UTC+3          Pyrénées         10   \n",
       "4    2023/09/30 7:43:21 PM UTC+3           Laragne          8   \n",
       "..                           ...               ...        ...   \n",
       "58   2023/10/03 2:03:42 PM UTC+3                BP          8   \n",
       "59   2023/10/03 6:21:10 PM UTC+3  Digne (les best)         10   \n",
       "60   2023/10/04 3:31:20 AM UTC+3           Laragne          6   \n",
       "61   2023/10/05 1:02:36 PM UTC+3          Pyrénées          9   \n",
       "62  2023/10/06 12:31:40 AM UTC+3           Laragne          8   \n",
       "\n",
       "   instrument_prefere heure_reveil  note_repas  age_prefere trouve_fossile  \\\n",
       "0             L'acide        07:00           7   Secondaire            oui   \n",
       "1         La boussole        07:15           8   Secondaire            non   \n",
       "2            La loupe        07:25           6   Secondaire            oui   \n",
       "3             L'acide        07:30           2  Quaternaire            oui   \n",
       "4          Le marteau        07:00           2     Primaire            non   \n",
       "..                ...          ...         ...          ...            ...   \n",
       "58         Le marteau        07:45           7    Tertiaire            oui   \n",
       "59            L'acide        07:10           7    Tertiaire            oui   \n",
       "60         Le marteau        07:05           9    Tertiaire            oui   \n",
       "61           La loupe        07:30           4    Tertiaire            oui   \n",
       "62            L'acide        07:00           7    Tertiaire            oui   \n",
       "\n",
       "                                             role_rap  \\\n",
       "0                              Je tourne dans le clip   \n",
       "1                              Je tourne dans le clip   \n",
       "2                Je tourne dans le clip;Caddie driver   \n",
       "3                              Je tourne dans le clip   \n",
       "4                    Caméraman;Je tourne dans le clip   \n",
       "..                                                ...   \n",
       "58  Choix de la musique d'origine;Ecriture du text...   \n",
       "59                    Chanteur;Je tourne dans le clip   \n",
       "60  Choix de la musique d'origine;Ecriture du text...   \n",
       "61             Choix de la musique d'origine;Chanteur   \n",
       "62                             Je tourne dans le clip   \n",
       "\n",
       "                                           impression  \n",
       "0   Vraiment super ! Très intéressant, le groupe é...  \n",
       "1                                        Très sympa !  \n",
       "2   La semaine était super. J'ai appris plein de c...  \n",
       "3                                               Ça va  \n",
       "4   Je croyais que c'était une école d'ingé, pas d...  \n",
       "..                                                ...  \n",
       "58                        Y’avait pas de toilettes :(  \n",
       "59                 Apaisant, amusant, raffraichissant  \n",
       "60  J'ai pas kiffé fort et pour deux raisons princ...  \n",
       "61               la bouffe en espagne m’a traumatisé   \n",
       "62                                                NaN  \n",
       "\n",
       "[63 rows x 10 columns]"
      ]
     },
     "execution_count": 3,
     "metadata": {},
     "output_type": "execute_result"
    }
   ],
   "source": [
    "df.rename(columns={\"Où es-tu allé ?\": \"destination\", \"Comment évalues-tu le lieu d'un point de vue géologique sur 10 ?\": \"note_geol\", \"Quel instrument as-tu le plus utilisé ?\":\"instrument_prefere\",\"A quel heure en moyenne t'es tu levé ?\":\"heure_reveil\",\"La qualité des repas sur 10\":\"note_repas\", \"Quel est ton âge géologique préféré ?\":\"age_prefere\", \"As-tu trouvé un fossile ?\":\"trouve_fossile\", \"Comment as-tu participé au rap de géol ?\":\"role_rap\",\"Ton impression sur la semaine\":\"impression\"})"
   ]
  },
  {
   "cell_type": "code",
   "execution_count": 4,
   "id": "9ed6a5c4-6da1-4ce5-926c-8ed1a3fea9cd",
   "metadata": {},
   "outputs": [],
   "source": [
    "#comme le rendu me convient je modifie la dataframe\n",
    "df=df.rename(columns={\"Où es-tu allé ?\": \"destination\", \"Comment évalues-tu le lieu d'un point de vue géologique sur 10 ?\": \"note_geol\", \"Quel instrument as-tu le plus utilisé ?\":\"instrument_prefere\",\"A quel heure en moyenne t'es tu levé ?\":\"heure_reveil\",\"La qualité des repas sur 10\":\"note_repas\", \"Quel est ton âge géologique préféré ?\":\"age_prefere\", \"As-tu trouvé un fossile ?\":\"trouve_fossile\", \"Comment as-tu participé au rap de géol ?\":\"role_rap\",\"Ton impression sur la semaine\":\"impression\"})"
   ]
  },
  {
   "cell_type": "markdown",
   "id": "74527635-a89d-4a12-8780-a6aafd26d350",
   "metadata": {},
   "source": [
    "On souhaite maintenant vérifier le type de nos series afin de les modifier si besoin"
   ]
  },
  {
   "cell_type": "code",
   "execution_count": 5,
   "id": "d29733af-8383-4519-bd4c-539c494b8e26",
   "metadata": {},
   "outputs": [
    {
     "data": {
      "text/plain": [
       "Horodateur            object\n",
       "destination           object\n",
       "note_geol              int64\n",
       "instrument_prefere    object\n",
       "heure_reveil          object\n",
       "note_repas             int64\n",
       "age_prefere           object\n",
       "trouve_fossile        object\n",
       "role_rap              object\n",
       "impression            object\n",
       "dtype: object"
      ]
     },
     "execution_count": 5,
     "metadata": {},
     "output_type": "execute_result"
    }
   ],
   "source": [
    "df.dtypes"
   ]
  },
  {
   "cell_type": "markdown",
   "id": "758d730e-46e1-4e2b-b52d-eb28c61264fa",
   "metadata": {},
   "source": [
    "on voit que certains types ne sont pas très adaptées on pourait stocker les notes sur moins de bits et on voudrait transformer l'heure de reveil en un format plus adpaté (datetime ou float) et trouve_fossile en un booléen"
   ]
  },
  {
   "cell_type": "code",
   "execution_count": 6,
   "id": "aa001ef8-2dff-4ca8-899d-258ede37da2c",
   "metadata": {},
   "outputs": [
    {
     "data": {
      "text/plain": [
       "Horodateur            object\n",
       "destination           object\n",
       "note_geol               int8\n",
       "instrument_prefere    object\n",
       "heure_reveil          object\n",
       "note_repas              int8\n",
       "age_prefere           object\n",
       "trouve_fossile          bool\n",
       "role_rap              object\n",
       "impression            object\n",
       "dtype: object"
      ]
     },
     "execution_count": 6,
     "metadata": {},
     "output_type": "execute_result"
    }
   ],
   "source": [
    "df.note_geol = df.note_geol.astype(\"int8\")\n",
    "df.note_repas = df.note_repas.astype(\"int8\")\n",
    "df.trouve_fossile = df.trouve_fossile.replace({\"oui\":True , \"non\": False})\n",
    "df.dtypes"
   ]
  },
  {
   "cell_type": "markdown",
   "id": "0fb4a7a4-a806-4a2c-b9f8-d6f97431fecc",
   "metadata": {},
   "source": [
    "Il reste maintenant le problème de l'heure de reveil, on chosi le format datetime avec la date arbitraire du 01 janvier 2023 car on veut juste s'interesser l'heure de reveil "
   ]
  },
  {
   "cell_type": "code",
   "execution_count": 7,
   "id": "553fe8e0-43ef-45e5-baf1-0c7cb9d20a98",
   "metadata": {},
   "outputs": [
    {
     "data": {
      "text/plain": [
       "Horodateur                    object\n",
       "destination                   object\n",
       "note_geol                       int8\n",
       "instrument_prefere            object\n",
       "heure_reveil          datetime64[ns]\n",
       "note_repas                      int8\n",
       "age_prefere                   object\n",
       "trouve_fossile                  bool\n",
       "role_rap                      object\n",
       "impression                    object\n",
       "dtype: object"
      ]
     },
     "execution_count": 7,
     "metadata": {},
     "output_type": "execute_result"
    }
   ],
   "source": [
    "import datetime\n",
    "df.heure_reveil=df.heure_reveil.map('01/01/2023 {}'.format)\n",
    "df.heure_reveil = pd.to_datetime(df.heure_reveil)\n",
    "df.dtypes"
   ]
  },
  {
   "cell_type": "code",
   "execution_count": 8,
   "id": "15ebca9f-5d54-4b04-a222-7bafa124055b",
   "metadata": {},
   "outputs": [],
   "source": [
    "df.destination = df.destination.replace({\"Digne (les best)\": \"Digne\"})"
   ]
  },
  {
   "cell_type": "markdown",
   "id": "7f214955-1b08-446e-b968-11e3f1e65286",
   "metadata": {},
   "source": [
    "Maintenant que les données sont propres, on peut passer à l'analyse"
   ]
  },
  {
   "cell_type": "markdown",
   "id": "f92438b3-c640-4134-9f13-d3fbcc156f8f",
   "metadata": {},
   "source": [
    "## 2. Analyse globale des données\n",
    "Commençons par analyser grossièrement nos données avec describe"
   ]
  },
  {
   "cell_type": "code",
   "execution_count": 9,
   "id": "052cc3b7-f494-435d-b52c-6c02e400774d",
   "metadata": {},
   "outputs": [
    {
     "data": {
      "text/html": [
       "<div>\n",
       "<style scoped>\n",
       "    .dataframe tbody tr th:only-of-type {\n",
       "        vertical-align: middle;\n",
       "    }\n",
       "\n",
       "    .dataframe tbody tr th {\n",
       "        vertical-align: top;\n",
       "    }\n",
       "\n",
       "    .dataframe thead th {\n",
       "        text-align: right;\n",
       "    }\n",
       "</style>\n",
       "<table border=\"1\" class=\"dataframe\">\n",
       "  <thead>\n",
       "    <tr style=\"text-align: right;\">\n",
       "      <th></th>\n",
       "      <th>Horodateur</th>\n",
       "      <th>destination</th>\n",
       "      <th>note_geol</th>\n",
       "      <th>instrument_prefere</th>\n",
       "      <th>heure_reveil</th>\n",
       "      <th>note_repas</th>\n",
       "      <th>age_prefere</th>\n",
       "      <th>trouve_fossile</th>\n",
       "      <th>role_rap</th>\n",
       "      <th>impression</th>\n",
       "    </tr>\n",
       "  </thead>\n",
       "  <tbody>\n",
       "    <tr>\n",
       "      <th>count</th>\n",
       "      <td>63</td>\n",
       "      <td>63</td>\n",
       "      <td>63.000000</td>\n",
       "      <td>63</td>\n",
       "      <td>63</td>\n",
       "      <td>63.000000</td>\n",
       "      <td>63</td>\n",
       "      <td>63</td>\n",
       "      <td>63</td>\n",
       "      <td>51</td>\n",
       "    </tr>\n",
       "    <tr>\n",
       "      <th>unique</th>\n",
       "      <td>63</td>\n",
       "      <td>5</td>\n",
       "      <td>NaN</td>\n",
       "      <td>7</td>\n",
       "      <td>NaN</td>\n",
       "      <td>NaN</td>\n",
       "      <td>4</td>\n",
       "      <td>2</td>\n",
       "      <td>29</td>\n",
       "      <td>49</td>\n",
       "    </tr>\n",
       "    <tr>\n",
       "      <th>top</th>\n",
       "      <td>2023/09/30 7:38:06 PM UTC+3</td>\n",
       "      <td>Laragne</td>\n",
       "      <td>NaN</td>\n",
       "      <td>Le marteau</td>\n",
       "      <td>NaN</td>\n",
       "      <td>NaN</td>\n",
       "      <td>Tertiaire</td>\n",
       "      <td>True</td>\n",
       "      <td>Je tourne dans le clip</td>\n",
       "      <td>Incroyable</td>\n",
       "    </tr>\n",
       "    <tr>\n",
       "      <th>freq</th>\n",
       "      <td>1</td>\n",
       "      <td>16</td>\n",
       "      <td>NaN</td>\n",
       "      <td>28</td>\n",
       "      <td>NaN</td>\n",
       "      <td>NaN</td>\n",
       "      <td>28</td>\n",
       "      <td>44</td>\n",
       "      <td>14</td>\n",
       "      <td>2</td>\n",
       "    </tr>\n",
       "    <tr>\n",
       "      <th>mean</th>\n",
       "      <td>NaN</td>\n",
       "      <td>NaN</td>\n",
       "      <td>8.603175</td>\n",
       "      <td>NaN</td>\n",
       "      <td>2023-01-01 07:22:11.428571136</td>\n",
       "      <td>7.317460</td>\n",
       "      <td>NaN</td>\n",
       "      <td>NaN</td>\n",
       "      <td>NaN</td>\n",
       "      <td>NaN</td>\n",
       "    </tr>\n",
       "    <tr>\n",
       "      <th>min</th>\n",
       "      <td>NaN</td>\n",
       "      <td>NaN</td>\n",
       "      <td>2.000000</td>\n",
       "      <td>NaN</td>\n",
       "      <td>2023-01-01 06:45:00</td>\n",
       "      <td>2.000000</td>\n",
       "      <td>NaN</td>\n",
       "      <td>NaN</td>\n",
       "      <td>NaN</td>\n",
       "      <td>NaN</td>\n",
       "    </tr>\n",
       "    <tr>\n",
       "      <th>25%</th>\n",
       "      <td>NaN</td>\n",
       "      <td>NaN</td>\n",
       "      <td>8.000000</td>\n",
       "      <td>NaN</td>\n",
       "      <td>2023-01-01 07:00:00</td>\n",
       "      <td>6.000000</td>\n",
       "      <td>NaN</td>\n",
       "      <td>NaN</td>\n",
       "      <td>NaN</td>\n",
       "      <td>NaN</td>\n",
       "    </tr>\n",
       "    <tr>\n",
       "      <th>50%</th>\n",
       "      <td>NaN</td>\n",
       "      <td>NaN</td>\n",
       "      <td>9.000000</td>\n",
       "      <td>NaN</td>\n",
       "      <td>2023-01-01 07:18:00</td>\n",
       "      <td>7.000000</td>\n",
       "      <td>NaN</td>\n",
       "      <td>NaN</td>\n",
       "      <td>NaN</td>\n",
       "      <td>NaN</td>\n",
       "    </tr>\n",
       "    <tr>\n",
       "      <th>75%</th>\n",
       "      <td>NaN</td>\n",
       "      <td>NaN</td>\n",
       "      <td>10.000000</td>\n",
       "      <td>NaN</td>\n",
       "      <td>2023-01-01 07:45:00</td>\n",
       "      <td>9.000000</td>\n",
       "      <td>NaN</td>\n",
       "      <td>NaN</td>\n",
       "      <td>NaN</td>\n",
       "      <td>NaN</td>\n",
       "    </tr>\n",
       "    <tr>\n",
       "      <th>max</th>\n",
       "      <td>NaN</td>\n",
       "      <td>NaN</td>\n",
       "      <td>10.000000</td>\n",
       "      <td>NaN</td>\n",
       "      <td>2023-01-01 08:10:00</td>\n",
       "      <td>10.000000</td>\n",
       "      <td>NaN</td>\n",
       "      <td>NaN</td>\n",
       "      <td>NaN</td>\n",
       "      <td>NaN</td>\n",
       "    </tr>\n",
       "    <tr>\n",
       "      <th>std</th>\n",
       "      <td>NaN</td>\n",
       "      <td>NaN</td>\n",
       "      <td>1.651389</td>\n",
       "      <td>NaN</td>\n",
       "      <td>NaN</td>\n",
       "      <td>2.022657</td>\n",
       "      <td>NaN</td>\n",
       "      <td>NaN</td>\n",
       "      <td>NaN</td>\n",
       "      <td>NaN</td>\n",
       "    </tr>\n",
       "  </tbody>\n",
       "</table>\n",
       "</div>"
      ],
      "text/plain": [
       "                         Horodateur destination  note_geol instrument_prefere  \\\n",
       "count                            63          63  63.000000                 63   \n",
       "unique                           63           5        NaN                  7   \n",
       "top     2023/09/30 7:38:06 PM UTC+3     Laragne        NaN         Le marteau   \n",
       "freq                              1          16        NaN                 28   \n",
       "mean                            NaN         NaN   8.603175                NaN   \n",
       "min                             NaN         NaN   2.000000                NaN   \n",
       "25%                             NaN         NaN   8.000000                NaN   \n",
       "50%                             NaN         NaN   9.000000                NaN   \n",
       "75%                             NaN         NaN  10.000000                NaN   \n",
       "max                             NaN         NaN  10.000000                NaN   \n",
       "std                             NaN         NaN   1.651389                NaN   \n",
       "\n",
       "                         heure_reveil  note_repas age_prefere trouve_fossile  \\\n",
       "count                              63   63.000000          63             63   \n",
       "unique                            NaN         NaN           4              2   \n",
       "top                               NaN         NaN   Tertiaire           True   \n",
       "freq                              NaN         NaN          28             44   \n",
       "mean    2023-01-01 07:22:11.428571136    7.317460         NaN            NaN   \n",
       "min               2023-01-01 06:45:00    2.000000         NaN            NaN   \n",
       "25%               2023-01-01 07:00:00    6.000000         NaN            NaN   \n",
       "50%               2023-01-01 07:18:00    7.000000         NaN            NaN   \n",
       "75%               2023-01-01 07:45:00    9.000000         NaN            NaN   \n",
       "max               2023-01-01 08:10:00   10.000000         NaN            NaN   \n",
       "std                               NaN    2.022657         NaN            NaN   \n",
       "\n",
       "                      role_rap   impression  \n",
       "count                       63           51  \n",
       "unique                      29           49  \n",
       "top     Je tourne dans le clip  Incroyable   \n",
       "freq                        14            2  \n",
       "mean                       NaN          NaN  \n",
       "min                        NaN          NaN  \n",
       "25%                        NaN          NaN  \n",
       "50%                        NaN          NaN  \n",
       "75%                        NaN          NaN  \n",
       "max                        NaN          NaN  \n",
       "std                        NaN          NaN  "
      ]
     },
     "execution_count": 9,
     "metadata": {},
     "output_type": "execute_result"
    }
   ],
   "source": [
    "df.describe(include='all')"
   ]
  },
  {
   "cell_type": "markdown",
   "id": "a1ed9279-3cf5-46a5-b683-ed67f746ba76",
   "metadata": {},
   "source": [
    "````{admonition} Cela nous apporte déja des informations intéressantes:\n",
    "- les Mineurs ont en moyenne noté l'interet géologique du lieu 8,6/10\n",
    "- les repas ont été noté en moyenne 7,3/10\n",
    "- l'heure de lever moyenne est 7h22 et s'étalent entre 6h45 et 8h10\n",
    "- 44 mineurs sur 63 ont trouvé un fossile soit presque 70% des répondant\n",
    "- Le marteau est l'instrument préféré de 28 Mineurs\n",
    "````"
   ]
  },
  {
   "cell_type": "markdown",
   "id": "8577b424-0e6e-4a9b-9fdf-47816cce4ddd",
   "metadata": {},
   "source": [
    "Cherchons maintenant à faire le graphique du nombre de Mineurs levés au cours du temps"
   ]
  },
  {
   "cell_type": "code",
   "execution_count": 10,
   "id": "711a1a51-79d3-45fc-90c3-d127efcb7bb9",
   "metadata": {},
   "outputs": [
    {
     "data": {
      "image/png": "[encoded data removed]",
      "text/plain": [
       "<Figure size 1000x600 with 1 Axes>"
      ]
     },
     "metadata": {},
     "output_type": "display_data"
    }
   ],
   "source": [
    "import matplotlib.pyplot as plt\n",
    "import matplotlib.dates as mdates\n",
    "\n",
    "plt.figure(figsize=(10,6))\n",
    "x= df.sort_values(by=\"heure_reveil\").heure_reveil.unique()\n",
    "# on doit bien s'assurer que les heure de reveil sont trié dans l'ordre croissant\n",
    "y= [df[df.heure_reveil <= heure].count().iloc[0] for heure in x]\n",
    "x = mdates.date2num(x) #cette étape sert à convertir la format date de pandas en un format lisible par matplotlib\n",
    "plt.plot_date(x,y, '-')\n",
    "plt.show()"
   ]
  },
  {
   "cell_type": "markdown",
   "id": "fcb13c9d-7164-4267-be3f-9dc0895f37b8",
   "metadata": {},
   "source": [
    "on observe que les heures les plus populaire de lever sont 7h, 7h10 et 7h30. De plus l'heure médiane de lever se situe autour de 7h15"
   ]
  },
  {
   "cell_type": "markdown",
   "id": "fb07e914-db65-4685-ad6e-fbf8da7a2b55",
   "metadata": {},
   "source": [
    "Réalisons maintenant un histogramme des notes données au repas"
   ]
  },
  {
   "cell_type": "code",
   "execution_count": 11,
   "id": "665d1d6a-cae6-4261-97fb-3b9440f00e7c",
   "metadata": {},
   "outputs": [
    {
     "data": {
      "text/plain": [
       "<Axes: ylabel='Frequency'>"
      ]
     },
     "execution_count": 11,
     "metadata": {},
     "output_type": "execute_result"
    },
    {
     "data": {
      "image/png": "[encoded data removed]",
      "text/plain": [
       "<Figure size 640x480 with 1 Axes>"
      ]
     },
     "metadata": {},
     "output_type": "display_data"
    }
   ],
   "source": [
    "df.note_repas.plot(kind='hist')"
   ]
  },
  {
   "cell_type": "markdown",
   "id": "96a1abfd-8955-49a4-85c3-93bd045b7f81",
   "metadata": {},
   "source": [
    "on observe que les Mineurs ont plutot apprécié leur repas car seulement 12 votant on attribué un note inférieur ou égale à 5"
   ]
  },
  {
   "cell_type": "markdown",
   "id": "35565ca5-bc54-44bf-b9e4-3ad35ee2d37c",
   "metadata": {},
   "source": [
    "Regardonc maintenant les préférences pour les ages géologiques"
   ]
  },
  {
   "cell_type": "code",
   "execution_count": 12,
   "id": "700f9203-9899-4ff2-9182-7f24d2c2d8c3",
   "metadata": {},
   "outputs": [
    {
     "data": {
      "text/plain": [
       "<Axes: ylabel='count'>"
      ]
     },
     "execution_count": 12,
     "metadata": {},
     "output_type": "execute_result"
    },
    {
     "data": {
      "image/png": "[encoded data removed]",
      "text/plain": [
       "<Figure size 640x480 with 1 Axes>"
      ]
     },
     "metadata": {},
     "output_type": "display_data"
    }
   ],
   "source": [
    "df.age_prefere.value_counts().plot(kind=\"pie\")"
   ]
  },
  {
   "cell_type": "code",
   "execution_count": 13,
   "id": "0f4d3d80-8fda-4948-a750-56ea234e9158",
   "metadata": {},
   "outputs": [
    {
     "data": {
      "text/plain": [
       "age_prefere\n",
       "Tertiaire      28\n",
       "Secondaire     16\n",
       "Primaire       12\n",
       "Quaternaire     7\n",
       "Name: count, dtype: int64"
      ]
     },
     "execution_count": 13,
     "metadata": {},
     "output_type": "execute_result"
    }
   ],
   "source": [
    "df.age_prefere.value_counts()"
   ]
  },
  {
   "cell_type": "markdown",
   "id": "a9b9209e-cb62-40ff-8973-7786211da75e",
   "metadata": {},
   "source": [
    "On peut voir que le tertiaire domine meme si le secondaire récolte 1/4 des voix. Le quaternaire est de loin l'age le moins apprécié "
   ]
  },
  {
   "cell_type": "markdown",
   "id": "3668f595-66ac-4919-9a52-c65f06b7a11a",
   "metadata": {},
   "source": [
    "## 3. Analyse des données par destination\n",
    "Nous allons essayer de déterminer si les résultats varient beaucoup en fonction de la destination et de voir si une destination se distingue comme meilleure que les autres\n",
    "\n",
    "Assurons nous tout d'abord d'avoir des taux de réponses similaires en fonction des destinations"
   ]
  },
  {
   "cell_type": "code",
   "execution_count": 14,
   "id": "2b96df01-3d1c-4ce7-937c-b585083f67e0",
   "metadata": {},
   "outputs": [
    {
     "data": {
      "text/plain": [
       "<Axes: ylabel='count'>"
      ]
     },
     "execution_count": 14,
     "metadata": {},
     "output_type": "execute_result"
    },
    {
     "data": {
      "image/png": "[encoded data removed]",
      "text/plain": [
       "<Figure size 640x480 with 1 Axes>"
      ]
     },
     "metadata": {},
     "output_type": "display_data"
    }
   ],
   "source": [
    "df.destination.value_counts().plot(kind=\"pie\")"
   ]
  },
  {
   "cell_type": "markdown",
   "id": "65384bff-e4f1-4e1c-b1d8-d56051d01c35",
   "metadata": {},
   "source": [
    "Meme si Laragne se distingue légèrement on a environ le même nombre de particpant pour chaque destination"
   ]
  },
  {
   "cell_type": "markdown",
   "id": "ccb01b96-6835-44c6-bcbb-b8d5ffee73c4",
   "metadata": {},
   "source": [
    "On crée une partition par destination en utlisant groupby"
   ]
  },
  {
   "cell_type": "code",
   "execution_count": 15,
   "id": "3b321af2-3b76-4b50-ba5a-108dc7e14e37",
   "metadata": {},
   "outputs": [],
   "source": [
    "by_destination=df.groupby(by='destination')"
   ]
  },
  {
   "cell_type": "code",
   "execution_count": 16,
   "id": "bbca55ac-9419-4abe-bb06-a46d6d99d448",
   "metadata": {},
   "outputs": [
    {
     "data": {
      "text/plain": [
       "destination\n",
       "BP          11\n",
       "Digne       13\n",
       "La mûre     10\n",
       "Laragne     16\n",
       "Pyrénées    13\n",
       "dtype: int64"
      ]
     },
     "execution_count": 16,
     "metadata": {},
     "output_type": "execute_result"
    }
   ],
   "source": [
    "by_destination.size() #cela confirme les taux de réponse similaires"
   ]
  },
  {
   "cell_type": "markdown",
   "id": "2e980a97-c7d3-45b4-90b1-e8feaf008082",
   "metadata": {},
   "source": [
    "Regardons maintenant comment sont noté en moyenne les repas pour chacune des destinations"
   ]
  },
  {
   "cell_type": "code",
   "execution_count": 17,
   "id": "74ef8e52-d999-430b-9711-7663a11732e1",
   "metadata": {},
   "outputs": [
    {
     "data": {
      "text/plain": [
       "destination\n",
       "BP          6.272727\n",
       "Digne       6.692308\n",
       "La mûre     8.900000\n",
       "Laragne     8.250000\n",
       "Pyrénées    6.461538\n",
       "Name: note_repas, dtype: float64"
      ]
     },
     "execution_count": 17,
     "metadata": {},
     "output_type": "execute_result"
    }
   ],
   "source": [
    "by_destination.note_repas.mean()"
   ]
  },
  {
   "cell_type": "markdown",
   "id": "315953af-bed6-4387-8a3e-847b6b878836",
   "metadata": {},
   "source": [
    "On peut voir que la Mure et Laragne se distinguent mais c'est la Mure qui remporte ce point avec une moyenne de 8.90 sur 10 pour la qualité des repas \n",
    "\n",
    "Interéssons nous maintenant à la note donnée à l'interet géologique du lieu"
   ]
  },
  {
   "cell_type": "code",
   "execution_count": 18,
   "id": "6859eae1-ac76-425f-b43c-1cb958db11b7",
   "metadata": {},
   "outputs": [
    {
     "data": {
      "text/plain": [
       "destination\n",
       "BP          7.818182\n",
       "Digne       9.307692\n",
       "La mûre     8.800000\n",
       "Laragne     8.312500\n",
       "Pyrénées    8.769231\n",
       "Name: note_geol, dtype: float64"
      ]
     },
     "execution_count": 18,
     "metadata": {},
     "output_type": "execute_result"
    }
   ],
   "source": [
    "by_destination.note_geol.mean()"
   ]
  },
  {
   "cell_type": "markdown",
   "id": "f27c29b7-0cfa-4d3c-ba54-0c717cc43558",
   "metadata": {},
   "source": [
    "Digne se distingue des autre destination avec une moyenne de 9.30/10 très superieure aux autres destination. En revanche, le bassin parisien semble avoir sucité moins d'interet\n",
    "\n",
    "On peut faire la moyenne de ces deux notes pour voir quelle destination a été la plus appréciée"
   ]
  },
  {
   "cell_type": "code",
   "execution_count": 19,
   "id": "3daade1c-b0c2-4eb7-b918-b1adb0817dc1",
   "metadata": {},
   "outputs": [
    {
     "data": {
      "text/plain": [
       "destination\n",
       "BP          7.045455\n",
       "Digne       8.000000\n",
       "La mûre     8.850000\n",
       "Laragne     8.281250\n",
       "Pyrénées    7.615385\n",
       "dtype: float64"
      ]
     },
     "execution_count": 19,
     "metadata": {},
     "output_type": "execute_result"
    }
   ],
   "source": [
    "(by_destination.note_repas.mean()+by_destination.note_geol.mean())/2"
   ]
  },
  {
   "cell_type": "markdown",
   "id": "7e407bc2-8592-49cb-8c0e-7ed068de2a42",
   "metadata": {},
   "source": [
    "C'est la Mure qui remporte le meilleur score"
   ]
  },
  {
   "cell_type": "markdown",
   "id": "4798690d-9d41-4a61-bbc4-d27698f7a39d",
   "metadata": {},
   "source": [
    "Analysons les heures de reveil des élèves de chaque destination"
   ]
  },
  {
   "cell_type": "code",
   "execution_count": 20,
   "id": "d5b74fb2-9c68-4442-b38b-6883cfe2abb2",
   "metadata": {},
   "outputs": [
    {
     "data": {
      "text/plain": [
       "<bound method GroupBy.mean of <pandas.core.groupby.generic.SeriesGroupBy object at 0x000001B37166CD50>>"
      ]
     },
     "execution_count": 20,
     "metadata": {},
     "output_type": "execute_result"
    }
   ],
   "source": [
    "by_destination.heure_reveil.mean #on calcule la moyenne pour chaque destination"
   ]
  },
  {
   "cell_type": "code",
   "execution_count": 21,
   "id": "551a026b-290e-412c-b244-a4655083db9c",
   "metadata": {},
   "outputs": [
    {
     "data": {
      "text/plain": [
       "destination\n",
       "BP         2023-01-01 08:10:00\n",
       "Digne      2023-01-01 07:45:00\n",
       "La mûre    2023-01-01 07:15:00\n",
       "Laragne    2023-01-01 07:45:00\n",
       "Pyrénées   2023-01-01 08:00:00\n",
       "Name: heure_reveil, dtype: datetime64[ns]"
      ]
     },
     "execution_count": 21,
     "metadata": {},
     "output_type": "execute_result"
    }
   ],
   "source": [
    "by_destination.heure_reveil.max() #la valeur max"
   ]
  },
  {
   "cell_type": "code",
   "execution_count": 22,
   "id": "b8422043-c5c2-4fd9-8da5-f2060ac77cc7",
   "metadata": {},
   "outputs": [
    {
     "data": {
      "text/plain": [
       "destination\n",
       "BP         2023-01-01 07:20:00\n",
       "Digne      2023-01-01 06:50:00\n",
       "La mûre    2023-01-01 06:45:00\n",
       "Laragne    2023-01-01 06:50:00\n",
       "Pyrénées   2023-01-01 07:15:00\n",
       "Name: heure_reveil, dtype: datetime64[ns]"
      ]
     },
     "execution_count": 22,
     "metadata": {},
     "output_type": "execute_result"
    }
   ],
   "source": [
    "by_destination.heure_reveil.min() #la valeur min"
   ]
  },
  {
   "cell_type": "markdown",
   "id": "39468bb2-07d3-4a49-a2a5-4914a03955b5",
   "metadata": {},
   "source": [
    "Les analyses de la moyenne du max et du min sont très cohérentes entre elles (la moyenne la plus haute corresspond aussi à l'heure de reveil max la plus haute) et on peut classer les destinations de la plus matinale à la moins matinale:\n",
    "- La mure\n",
    "- Laragne et Digne\n",
    "- Les Pyrénées\n",
    "- BP"
   ]
  },
  {
   "cell_type": "markdown",
   "id": "ec774036-7066-4f51-9b98-e9e3c60dcb15",
   "metadata": {},
   "source": [
    "Regardons maintenant les talents de chercheur de fossiles pour chacun des groupes"
   ]
  },
  {
   "cell_type": "code",
   "execution_count": 23,
   "id": "c953b0ab-780c-4485-aee6-1055e1b2e644",
   "metadata": {},
   "outputs": [
    {
     "data": {
      "text/html": [
       "<div>\n",
       "<style scoped>\n",
       "    .dataframe tbody tr th:only-of-type {\n",
       "        vertical-align: middle;\n",
       "    }\n",
       "\n",
       "    .dataframe tbody tr th {\n",
       "        vertical-align: top;\n",
       "    }\n",
       "\n",
       "    .dataframe thead th {\n",
       "        text-align: right;\n",
       "    }\n",
       "</style>\n",
       "<table border=\"1\" class=\"dataframe\">\n",
       "  <thead>\n",
       "    <tr style=\"text-align: right;\">\n",
       "      <th></th>\n",
       "      <th>count</th>\n",
       "      <th>unique</th>\n",
       "      <th>top</th>\n",
       "      <th>freq</th>\n",
       "    </tr>\n",
       "    <tr>\n",
       "      <th>destination</th>\n",
       "      <th></th>\n",
       "      <th></th>\n",
       "      <th></th>\n",
       "      <th></th>\n",
       "    </tr>\n",
       "  </thead>\n",
       "  <tbody>\n",
       "    <tr>\n",
       "      <th>BP</th>\n",
       "      <td>11</td>\n",
       "      <td>1</td>\n",
       "      <td>True</td>\n",
       "      <td>11</td>\n",
       "    </tr>\n",
       "    <tr>\n",
       "      <th>Digne</th>\n",
       "      <td>13</td>\n",
       "      <td>2</td>\n",
       "      <td>True</td>\n",
       "      <td>9</td>\n",
       "    </tr>\n",
       "    <tr>\n",
       "      <th>La mûre</th>\n",
       "      <td>10</td>\n",
       "      <td>1</td>\n",
       "      <td>False</td>\n",
       "      <td>10</td>\n",
       "    </tr>\n",
       "    <tr>\n",
       "      <th>Laragne</th>\n",
       "      <td>16</td>\n",
       "      <td>2</td>\n",
       "      <td>True</td>\n",
       "      <td>11</td>\n",
       "    </tr>\n",
       "    <tr>\n",
       "      <th>Pyrénées</th>\n",
       "      <td>13</td>\n",
       "      <td>1</td>\n",
       "      <td>True</td>\n",
       "      <td>13</td>\n",
       "    </tr>\n",
       "  </tbody>\n",
       "</table>\n",
       "</div>"
      ],
      "text/plain": [
       "            count unique    top freq\n",
       "destination                         \n",
       "BP             11      1   True   11\n",
       "Digne          13      2   True    9\n",
       "La mûre        10      1  False   10\n",
       "Laragne        16      2   True   11\n",
       "Pyrénées       13      1   True   13"
      ]
     },
     "execution_count": 23,
     "metadata": {},
     "output_type": "execute_result"
    }
   ],
   "source": [
    "by_destination.trouve_fossile.describe()"
   ]
  },
  {
   "cell_type": "code",
   "execution_count": 24,
   "id": "44d09522-1e05-4555-bc8f-5be587c8e46b",
   "metadata": {},
   "outputs": [
    {
     "data": {
      "text/plain": [
       "destination\n",
       "BP          1.000000\n",
       "Digne       0.692308\n",
       "La mûre     0.000000\n",
       "Laragne     0.687500\n",
       "Pyrénées    1.000000\n",
       "Name: trouve_fossile, dtype: float64"
      ]
     },
     "execution_count": 24,
     "metadata": {},
     "output_type": "execute_result"
    }
   ],
   "source": [
    "by_destination.trouve_fossile.mean()"
   ]
  },
  {
   "cell_type": "markdown",
   "id": "511188ff-a582-4b40-9adf-b83f8e6fd143",
   "metadata": {},
   "source": [
    "On remarque qu'aucun des répondants de la Mure n'a trouvé de fossiles alors qu'à BP et aux Pyrénées c'est l'intégralité des répondants qui en a trouvé"
   ]
  },
  {
   "cell_type": "markdown",
   "id": "239c395c-452f-48d2-89dd-64c75d3a2df2",
   "metadata": {},
   "source": [
    "Cela peut potentiellement s'expliquer par le fait que l'age préféré de La Mure est le quaternaire qui contient peu de fossiles"
   ]
  },
  {
   "cell_type": "code",
   "execution_count": 25,
   "id": "2e729f48-b570-4657-974d-dd4d0930a68b",
   "metadata": {},
   "outputs": [
    {
     "data": {
      "text/html": [
       "<div>\n",
       "<style scoped>\n",
       "    .dataframe tbody tr th:only-of-type {\n",
       "        vertical-align: middle;\n",
       "    }\n",
       "\n",
       "    .dataframe tbody tr th {\n",
       "        vertical-align: top;\n",
       "    }\n",
       "\n",
       "    .dataframe thead th {\n",
       "        text-align: right;\n",
       "    }\n",
       "</style>\n",
       "<table border=\"1\" class=\"dataframe\">\n",
       "  <thead>\n",
       "    <tr style=\"text-align: right;\">\n",
       "      <th></th>\n",
       "      <th>count</th>\n",
       "      <th>unique</th>\n",
       "      <th>top</th>\n",
       "      <th>freq</th>\n",
       "    </tr>\n",
       "    <tr>\n",
       "      <th>destination</th>\n",
       "      <th></th>\n",
       "      <th></th>\n",
       "      <th></th>\n",
       "      <th></th>\n",
       "    </tr>\n",
       "  </thead>\n",
       "  <tbody>\n",
       "    <tr>\n",
       "      <th>BP</th>\n",
       "      <td>11</td>\n",
       "      <td>3</td>\n",
       "      <td>Tertiaire</td>\n",
       "      <td>8</td>\n",
       "    </tr>\n",
       "    <tr>\n",
       "      <th>Digne</th>\n",
       "      <td>13</td>\n",
       "      <td>3</td>\n",
       "      <td>Secondaire</td>\n",
       "      <td>7</td>\n",
       "    </tr>\n",
       "    <tr>\n",
       "      <th>La mûre</th>\n",
       "      <td>10</td>\n",
       "      <td>3</td>\n",
       "      <td>Quaternaire</td>\n",
       "      <td>5</td>\n",
       "    </tr>\n",
       "    <tr>\n",
       "      <th>Laragne</th>\n",
       "      <td>16</td>\n",
       "      <td>4</td>\n",
       "      <td>Tertiaire</td>\n",
       "      <td>7</td>\n",
       "    </tr>\n",
       "    <tr>\n",
       "      <th>Pyrénées</th>\n",
       "      <td>13</td>\n",
       "      <td>4</td>\n",
       "      <td>Tertiaire</td>\n",
       "      <td>6</td>\n",
       "    </tr>\n",
       "  </tbody>\n",
       "</table>\n",
       "</div>"
      ],
      "text/plain": [
       "            count unique          top freq\n",
       "destination                               \n",
       "BP             11      3    Tertiaire    8\n",
       "Digne          13      3   Secondaire    7\n",
       "La mûre        10      3  Quaternaire    5\n",
       "Laragne        16      4    Tertiaire    7\n",
       "Pyrénées       13      4    Tertiaire    6"
      ]
     },
     "execution_count": 25,
     "metadata": {},
     "output_type": "execute_result"
    }
   ],
   "source": [
    "by_destination.age_prefere.describe()"
   ]
  },
  {
   "cell_type": "code",
   "execution_count": 26,
   "id": "680daa52-cd28-4cc4-972a-022973597075",
   "metadata": {},
   "outputs": [
    {
     "data": {
      "text/html": [
       "<div>\n",
       "<style scoped>\n",
       "    .dataframe tbody tr th:only-of-type {\n",
       "        vertical-align: middle;\n",
       "    }\n",
       "\n",
       "    .dataframe tbody tr th {\n",
       "        vertical-align: top;\n",
       "    }\n",
       "\n",
       "    .dataframe thead th {\n",
       "        text-align: right;\n",
       "    }\n",
       "</style>\n",
       "<table border=\"1\" class=\"dataframe\">\n",
       "  <thead>\n",
       "    <tr style=\"text-align: right;\">\n",
       "      <th></th>\n",
       "      <th>count</th>\n",
       "      <th>unique</th>\n",
       "      <th>top</th>\n",
       "      <th>freq</th>\n",
       "    </tr>\n",
       "    <tr>\n",
       "      <th>destination</th>\n",
       "      <th></th>\n",
       "      <th></th>\n",
       "      <th></th>\n",
       "      <th></th>\n",
       "    </tr>\n",
       "  </thead>\n",
       "  <tbody>\n",
       "    <tr>\n",
       "      <th>BP</th>\n",
       "      <td>11</td>\n",
       "      <td>3</td>\n",
       "      <td>Le marteau</td>\n",
       "      <td>8</td>\n",
       "    </tr>\n",
       "    <tr>\n",
       "      <th>Digne</th>\n",
       "      <td>13</td>\n",
       "      <td>5</td>\n",
       "      <td>La carte</td>\n",
       "      <td>5</td>\n",
       "    </tr>\n",
       "    <tr>\n",
       "      <th>La mûre</th>\n",
       "      <td>10</td>\n",
       "      <td>3</td>\n",
       "      <td>Le marteau</td>\n",
       "      <td>6</td>\n",
       "    </tr>\n",
       "    <tr>\n",
       "      <th>Laragne</th>\n",
       "      <td>16</td>\n",
       "      <td>6</td>\n",
       "      <td>Le marteau</td>\n",
       "      <td>8</td>\n",
       "    </tr>\n",
       "    <tr>\n",
       "      <th>Pyrénées</th>\n",
       "      <td>13</td>\n",
       "      <td>3</td>\n",
       "      <td>La loupe</td>\n",
       "      <td>6</td>\n",
       "    </tr>\n",
       "  </tbody>\n",
       "</table>\n",
       "</div>"
      ],
      "text/plain": [
       "            count unique         top freq\n",
       "destination                              \n",
       "BP             11      3  Le marteau    8\n",
       "Digne          13      5    La carte    5\n",
       "La mûre        10      3  Le marteau    6\n",
       "Laragne        16      6  Le marteau    8\n",
       "Pyrénées       13      3    La loupe    6"
      ]
     },
     "execution_count": 26,
     "metadata": {},
     "output_type": "execute_result"
    }
   ],
   "source": [
    "by_destination.instrument_prefere.describe()"
   ]
  },
  {
   "cell_type": "markdown",
   "id": "14429805-b7b7-47e4-9685-61c26a1acb3f",
   "metadata": {},
   "source": [
    "On remarque que l'instrument préféré est le marteau pour 3 destinations. Le marteau semble donc beaucoup plaire sauf à Digne et aux Pyrénées. Cela peut s'expliquer pour Digne, en effet les Mineurs ont été privé de marteau après les avoir oubliés dans le train"
   ]
  },
  {
   "cell_type": "markdown",
   "id": "62d55368-7b30-4156-b436-f429f088ffae",
   "metadata": {},
   "source": [
    "Tentons maintenant de mesurer le taux d'implication des mineurs dans la réalisation du rap de géol pour chaque destination. Pour cela on commence par modifier notre dataFrame afin de créer un nouvelle colonne pour chaque role de type booléen."
   ]
  },
  {
   "cell_type": "code",
   "execution_count": 27,
   "id": "13ed27ca-c109-4eba-a464-72c7773731ae",
   "metadata": {},
   "outputs": [],
   "source": [
    "subjects = [\"Choix de la musique d'origine\", \"Ecriture du texte\", \"Chanteur\", \"Réalisateur du clip\", \"Caméraman\", \"Je tourne dans le clip\", \"Caddie driver\", \"Monteur\"]\n",
    "nom=[\"choix_musique\", \"ecritue\", \"chanteur\" , \"realisateur\", \"cameraman\", \"acteur\", \"caddie_driver\", \"monteur\"]\n",
    "for i in range(len(subjects)):\n",
    "    df[nom[i]] = df.role_rap.str.contains(subjects[i])"
   ]
  },
  {
   "cell_type": "code",
   "execution_count": 28,
   "id": "d68a4adb-112b-450e-b3ba-cc6d117fe19e",
   "metadata": {},
   "outputs": [
    {
     "data": {
      "text/html": [
       "<div>\n",
       "<style scoped>\n",
       "    .dataframe tbody tr th:only-of-type {\n",
       "        vertical-align: middle;\n",
       "    }\n",
       "\n",
       "    .dataframe tbody tr th {\n",
       "        vertical-align: top;\n",
       "    }\n",
       "\n",
       "    .dataframe thead th {\n",
       "        text-align: right;\n",
       "    }\n",
       "</style>\n",
       "<table border=\"1\" class=\"dataframe\">\n",
       "  <thead>\n",
       "    <tr style=\"text-align: right;\">\n",
       "      <th></th>\n",
       "      <th>Horodateur</th>\n",
       "      <th>destination</th>\n",
       "      <th>note_geol</th>\n",
       "      <th>instrument_prefere</th>\n",
       "      <th>heure_reveil</th>\n",
       "      <th>note_repas</th>\n",
       "      <th>age_prefere</th>\n",
       "      <th>trouve_fossile</th>\n",
       "      <th>role_rap</th>\n",
       "      <th>impression</th>\n",
       "      <th>choix_musique</th>\n",
       "      <th>ecritue</th>\n",
       "      <th>chanteur</th>\n",
       "      <th>realisateur</th>\n",
       "      <th>cameraman</th>\n",
       "      <th>acteur</th>\n",
       "      <th>caddie_driver</th>\n",
       "      <th>monteur</th>\n",
       "    </tr>\n",
       "  </thead>\n",
       "  <tbody>\n",
       "    <tr>\n",
       "      <th>0</th>\n",
       "      <td>2023/09/30 7:38:06 PM UTC+3</td>\n",
       "      <td>Digne</td>\n",
       "      <td>8</td>\n",
       "      <td>L'acide</td>\n",
       "      <td>2023-01-01 07:00:00</td>\n",
       "      <td>7</td>\n",
       "      <td>Secondaire</td>\n",
       "      <td>True</td>\n",
       "      <td>Je tourne dans le clip</td>\n",
       "      <td>Vraiment super ! Très intéressant, le groupe é...</td>\n",
       "      <td>False</td>\n",
       "      <td>False</td>\n",
       "      <td>False</td>\n",
       "      <td>False</td>\n",
       "      <td>False</td>\n",
       "      <td>True</td>\n",
       "      <td>False</td>\n",
       "      <td>False</td>\n",
       "    </tr>\n",
       "    <tr>\n",
       "      <th>1</th>\n",
       "      <td>2023/09/30 7:38:35 PM UTC+3</td>\n",
       "      <td>Digne</td>\n",
       "      <td>9</td>\n",
       "      <td>La boussole</td>\n",
       "      <td>2023-01-01 07:15:00</td>\n",
       "      <td>8</td>\n",
       "      <td>Secondaire</td>\n",
       "      <td>False</td>\n",
       "      <td>Je tourne dans le clip</td>\n",
       "      <td>Très sympa !</td>\n",
       "      <td>False</td>\n",
       "      <td>False</td>\n",
       "      <td>False</td>\n",
       "      <td>False</td>\n",
       "      <td>False</td>\n",
       "      <td>True</td>\n",
       "      <td>False</td>\n",
       "      <td>False</td>\n",
       "    </tr>\n",
       "    <tr>\n",
       "      <th>2</th>\n",
       "      <td>2023/09/30 7:39:01 PM UTC+3</td>\n",
       "      <td>Digne</td>\n",
       "      <td>9</td>\n",
       "      <td>La loupe</td>\n",
       "      <td>2023-01-01 07:25:00</td>\n",
       "      <td>6</td>\n",
       "      <td>Secondaire</td>\n",
       "      <td>True</td>\n",
       "      <td>Je tourne dans le clip;Caddie driver</td>\n",
       "      <td>La semaine était super. J'ai appris plein de c...</td>\n",
       "      <td>False</td>\n",
       "      <td>False</td>\n",
       "      <td>False</td>\n",
       "      <td>False</td>\n",
       "      <td>False</td>\n",
       "      <td>True</td>\n",
       "      <td>True</td>\n",
       "      <td>False</td>\n",
       "    </tr>\n",
       "    <tr>\n",
       "      <th>3</th>\n",
       "      <td>2023/09/30 7:39:59 PM UTC+3</td>\n",
       "      <td>Pyrénées</td>\n",
       "      <td>10</td>\n",
       "      <td>L'acide</td>\n",
       "      <td>2023-01-01 07:30:00</td>\n",
       "      <td>2</td>\n",
       "      <td>Quaternaire</td>\n",
       "      <td>True</td>\n",
       "      <td>Je tourne dans le clip</td>\n",
       "      <td>Ça va</td>\n",
       "      <td>False</td>\n",
       "      <td>False</td>\n",
       "      <td>False</td>\n",
       "      <td>False</td>\n",
       "      <td>False</td>\n",
       "      <td>True</td>\n",
       "      <td>False</td>\n",
       "      <td>False</td>\n",
       "    </tr>\n",
       "    <tr>\n",
       "      <th>4</th>\n",
       "      <td>2023/09/30 7:43:21 PM UTC+3</td>\n",
       "      <td>Laragne</td>\n",
       "      <td>8</td>\n",
       "      <td>Le marteau</td>\n",
       "      <td>2023-01-01 07:00:00</td>\n",
       "      <td>2</td>\n",
       "      <td>Primaire</td>\n",
       "      <td>False</td>\n",
       "      <td>Caméraman;Je tourne dans le clip</td>\n",
       "      <td>Je croyais que c'était une école d'ingé, pas d...</td>\n",
       "      <td>False</td>\n",
       "      <td>False</td>\n",
       "      <td>False</td>\n",
       "      <td>False</td>\n",
       "      <td>True</td>\n",
       "      <td>True</td>\n",
       "      <td>False</td>\n",
       "      <td>False</td>\n",
       "    </tr>\n",
       "    <tr>\n",
       "      <th>...</th>\n",
       "      <td>...</td>\n",
       "      <td>...</td>\n",
       "      <td>...</td>\n",
       "      <td>...</td>\n",
       "      <td>...</td>\n",
       "      <td>...</td>\n",
       "      <td>...</td>\n",
       "      <td>...</td>\n",
       "      <td>...</td>\n",
       "      <td>...</td>\n",
       "      <td>...</td>\n",
       "      <td>...</td>\n",
       "      <td>...</td>\n",
       "      <td>...</td>\n",
       "      <td>...</td>\n",
       "      <td>...</td>\n",
       "      <td>...</td>\n",
       "      <td>...</td>\n",
       "    </tr>\n",
       "    <tr>\n",
       "      <th>58</th>\n",
       "      <td>2023/10/03 2:03:42 PM UTC+3</td>\n",
       "      <td>BP</td>\n",
       "      <td>8</td>\n",
       "      <td>Le marteau</td>\n",
       "      <td>2023-01-01 07:45:00</td>\n",
       "      <td>7</td>\n",
       "      <td>Tertiaire</td>\n",
       "      <td>True</td>\n",
       "      <td>Choix de la musique d'origine;Ecriture du text...</td>\n",
       "      <td>Y’avait pas de toilettes :(</td>\n",
       "      <td>True</td>\n",
       "      <td>True</td>\n",
       "      <td>False</td>\n",
       "      <td>True</td>\n",
       "      <td>True</td>\n",
       "      <td>False</td>\n",
       "      <td>False</td>\n",
       "      <td>False</td>\n",
       "    </tr>\n",
       "    <tr>\n",
       "      <th>59</th>\n",
       "      <td>2023/10/03 6:21:10 PM UTC+3</td>\n",
       "      <td>Digne</td>\n",
       "      <td>10</td>\n",
       "      <td>L'acide</td>\n",
       "      <td>2023-01-01 07:10:00</td>\n",
       "      <td>7</td>\n",
       "      <td>Tertiaire</td>\n",
       "      <td>True</td>\n",
       "      <td>Chanteur;Je tourne dans le clip</td>\n",
       "      <td>Apaisant, amusant, raffraichissant</td>\n",
       "      <td>False</td>\n",
       "      <td>False</td>\n",
       "      <td>True</td>\n",
       "      <td>False</td>\n",
       "      <td>False</td>\n",
       "      <td>True</td>\n",
       "      <td>False</td>\n",
       "      <td>False</td>\n",
       "    </tr>\n",
       "    <tr>\n",
       "      <th>60</th>\n",
       "      <td>2023/10/04 3:31:20 AM UTC+3</td>\n",
       "      <td>Laragne</td>\n",
       "      <td>6</td>\n",
       "      <td>Le marteau</td>\n",
       "      <td>2023-01-01 07:05:00</td>\n",
       "      <td>9</td>\n",
       "      <td>Tertiaire</td>\n",
       "      <td>True</td>\n",
       "      <td>Choix de la musique d'origine;Ecriture du text...</td>\n",
       "      <td>J'ai pas kiffé fort et pour deux raisons princ...</td>\n",
       "      <td>True</td>\n",
       "      <td>True</td>\n",
       "      <td>True</td>\n",
       "      <td>True</td>\n",
       "      <td>True</td>\n",
       "      <td>True</td>\n",
       "      <td>True</td>\n",
       "      <td>True</td>\n",
       "    </tr>\n",
       "    <tr>\n",
       "      <th>61</th>\n",
       "      <td>2023/10/05 1:02:36 PM UTC+3</td>\n",
       "      <td>Pyrénées</td>\n",
       "      <td>9</td>\n",
       "      <td>La loupe</td>\n",
       "      <td>2023-01-01 07:30:00</td>\n",
       "      <td>4</td>\n",
       "      <td>Tertiaire</td>\n",
       "      <td>True</td>\n",
       "      <td>Choix de la musique d'origine;Chanteur</td>\n",
       "      <td>la bouffe en espagne m’a traumatisé</td>\n",
       "      <td>True</td>\n",
       "      <td>False</td>\n",
       "      <td>True</td>\n",
       "      <td>False</td>\n",
       "      <td>False</td>\n",
       "      <td>False</td>\n",
       "      <td>False</td>\n",
       "      <td>False</td>\n",
       "    </tr>\n",
       "    <tr>\n",
       "      <th>62</th>\n",
       "      <td>2023/10/06 12:31:40 AM UTC+3</td>\n",
       "      <td>Laragne</td>\n",
       "      <td>8</td>\n",
       "      <td>L'acide</td>\n",
       "      <td>2023-01-01 07:00:00</td>\n",
       "      <td>7</td>\n",
       "      <td>Tertiaire</td>\n",
       "      <td>True</td>\n",
       "      <td>Je tourne dans le clip</td>\n",
       "      <td>NaN</td>\n",
       "      <td>False</td>\n",
       "      <td>False</td>\n",
       "      <td>False</td>\n",
       "      <td>False</td>\n",
       "      <td>False</td>\n",
       "      <td>True</td>\n",
       "      <td>False</td>\n",
       "      <td>False</td>\n",
       "    </tr>\n",
       "  </tbody>\n",
       "</table>\n",
       "<p>63 rows × 18 columns</p>\n",
       "</div>"
      ],
      "text/plain": [
       "                      Horodateur destination  note_geol instrument_prefere  \\\n",
       "0    2023/09/30 7:38:06 PM UTC+3       Digne          8            L'acide   \n",
       "1    2023/09/30 7:38:35 PM UTC+3       Digne          9        La boussole   \n",
       "2    2023/09/30 7:39:01 PM UTC+3       Digne          9           La loupe   \n",
       "3    2023/09/30 7:39:59 PM UTC+3    Pyrénées         10            L'acide   \n",
       "4    2023/09/30 7:43:21 PM UTC+3     Laragne          8         Le marteau   \n",
       "..                           ...         ...        ...                ...   \n",
       "58   2023/10/03 2:03:42 PM UTC+3          BP          8         Le marteau   \n",
       "59   2023/10/03 6:21:10 PM UTC+3       Digne         10            L'acide   \n",
       "60   2023/10/04 3:31:20 AM UTC+3     Laragne          6         Le marteau   \n",
       "61   2023/10/05 1:02:36 PM UTC+3    Pyrénées          9           La loupe   \n",
       "62  2023/10/06 12:31:40 AM UTC+3     Laragne          8            L'acide   \n",
       "\n",
       "          heure_reveil  note_repas  age_prefere  trouve_fossile  \\\n",
       "0  2023-01-01 07:00:00           7   Secondaire            True   \n",
       "1  2023-01-01 07:15:00           8   Secondaire           False   \n",
       "2  2023-01-01 07:25:00           6   Secondaire            True   \n",
       "3  2023-01-01 07:30:00           2  Quaternaire            True   \n",
       "4  2023-01-01 07:00:00           2     Primaire           False   \n",
       "..                 ...         ...          ...             ...   \n",
       "58 2023-01-01 07:45:00           7    Tertiaire            True   \n",
       "59 2023-01-01 07:10:00           7    Tertiaire            True   \n",
       "60 2023-01-01 07:05:00           9    Tertiaire            True   \n",
       "61 2023-01-01 07:30:00           4    Tertiaire            True   \n",
       "62 2023-01-01 07:00:00           7    Tertiaire            True   \n",
       "\n",
       "                                             role_rap  \\\n",
       "0                              Je tourne dans le clip   \n",
       "1                              Je tourne dans le clip   \n",
       "2                Je tourne dans le clip;Caddie driver   \n",
       "3                              Je tourne dans le clip   \n",
       "4                    Caméraman;Je tourne dans le clip   \n",
       "..                                                ...   \n",
       "58  Choix de la musique d'origine;Ecriture du text...   \n",
       "59                    Chanteur;Je tourne dans le clip   \n",
       "60  Choix de la musique d'origine;Ecriture du text...   \n",
       "61             Choix de la musique d'origine;Chanteur   \n",
       "62                             Je tourne dans le clip   \n",
       "\n",
       "                                           impression  choix_musique  ecritue  \\\n",
       "0   Vraiment super ! Très intéressant, le groupe é...          False    False   \n",
       "1                                        Très sympa !          False    False   \n",
       "2   La semaine était super. J'ai appris plein de c...          False    False   \n",
       "3                                               Ça va          False    False   \n",
       "4   Je croyais que c'était une école d'ingé, pas d...          False    False   \n",
       "..                                                ...            ...      ...   \n",
       "58                        Y’avait pas de toilettes :(           True     True   \n",
       "59                 Apaisant, amusant, raffraichissant          False    False   \n",
       "60  J'ai pas kiffé fort et pour deux raisons princ...           True     True   \n",
       "61               la bouffe en espagne m’a traumatisé            True    False   \n",
       "62                                                NaN          False    False   \n",
       "\n",
       "    chanteur  realisateur  cameraman  acteur  caddie_driver  monteur  \n",
       "0      False        False      False    True          False    False  \n",
       "1      False        False      False    True          False    False  \n",
       "2      False        False      False    True           True    False  \n",
       "3      False        False      False    True          False    False  \n",
       "4      False        False       True    True          False    False  \n",
       "..       ...          ...        ...     ...            ...      ...  \n",
       "58     False         True       True   False          False    False  \n",
       "59      True        False      False    True          False    False  \n",
       "60      True         True       True    True           True     True  \n",
       "61      True        False      False   False          False    False  \n",
       "62     False        False      False    True          False    False  \n",
       "\n",
       "[63 rows x 18 columns]"
      ]
     },
     "execution_count": 28,
     "metadata": {},
     "output_type": "execute_result"
    }
   ],
   "source": [
    "df #on verifie que ca a fonctionné"
   ]
  },
  {
   "cell_type": "markdown",
   "id": "8274aca5-c34d-425f-985f-61734fa8e7fc",
   "metadata": {},
   "source": [
    "On doit recréer notre by_destination"
   ]
  },
  {
   "cell_type": "code",
   "execution_count": 29,
   "id": "73ca9fbb-dc17-4511-b231-dcdceab8b010",
   "metadata": {},
   "outputs": [],
   "source": [
    "by_destination=df.groupby(by='destination')"
   ]
  },
  {
   "cell_type": "code",
   "execution_count": 30,
   "id": "7f8fdce0-0748-43f8-ac15-61313cd5a917",
   "metadata": {},
   "outputs": [
    {
     "data": {
      "text/plain": [
       "destination\n",
       "BP          0.818182\n",
       "Digne       0.769231\n",
       "La mûre     1.000000\n",
       "Laragne     0.687500\n",
       "Pyrénées    0.846154\n",
       "Name: acteur, dtype: float64"
      ]
     },
     "execution_count": 30,
     "metadata": {},
     "output_type": "execute_result"
    }
   ],
   "source": [
    "by_destination.acteur.mean()"
   ]
  },
  {
   "cell_type": "markdown",
   "id": "bd1a5920-5e44-485d-8eeb-04b649a52a9b",
   "metadata": {},
   "source": [
    "En effectuent cette commande on obtient le pourcentage de gens ayant répondu oui pour un rôle précis. On ce propose donc de sommer ces nombres sur l'ensemble des rôles afin de mesurer l'implication dans le clip."
   ]
  },
  {
   "cell_type": "code",
   "execution_count": 31,
   "id": "7a902907-5713-4f84-956f-1d382bf47805",
   "metadata": {},
   "outputs": [
    {
     "data": {
      "text/plain": [
       "destination\n",
       "BP          1.818182\n",
       "Digne       1.769231\n",
       "La mûre     3.100000\n",
       "Laragne     3.000000\n",
       "Pyrénées    3.153846\n",
       "Name: choix_musique, dtype: float64"
      ]
     },
     "execution_count": 31,
     "metadata": {},
     "output_type": "execute_result"
    }
   ],
   "source": [
    "implication= by_destination.choix_musique.mean()\n",
    "for i in range(1,len(nom)):\n",
    "    implication+=by_destination[nom[i]].mean()\n",
    "implication"
   ]
  },
  {
   "cell_type": "markdown",
   "id": "7a5d4c0b-e07e-41f2-b1cc-5c126c5ab674",
   "metadata": {},
   "source": [
    "3 destinations apparaissent comme très impliqués dans le rap: La mure, Laragne et les Pyrénées "
   ]
  },
  {
   "cell_type": "markdown",
   "id": "2480c03c-4cd5-43ad-9d77-563983d3b51a",
   "metadata": {},
   "source": [
    "## 4. Election de la meilleure destination\n",
    "\n",
    "On se propose d'élire la meilleur destination en attribuant un certains nombre de points en fonction des paramètres calculé précédemment. Les destinations seront ensuite classé en fonction du nombre de point obtenus. Si la différence entre 2 destination pour un paramètre est trop faible on attribue le même nombre de points.\n",
    "\n",
    "Critère des repas:\n",
    "- BP: 1 point\n",
    "- Digne: 3 points\n",
    "- La Mure: 5 points\n",
    "- Laragne : 4 points\n",
    "- Pyrénées : 2 points\n",
    "\n",
    "Critère intérêt géologique:\n",
    "- BP: 1 point\n",
    "- Digne: 5 points\n",
    "- La Mure: 4 points\n",
    "- Laragne : 2 points\n",
    "- Pyrénées : 3 points\n",
    "\n",
    "Critère heure de reveil (on considère que plus on se lève tard mieux c'est):\n",
    "- BP: 3 points\n",
    "- Digne: 2 points\n",
    "- La Mure: 1 point\n",
    "- Laragne : 2 points\n",
    "- Pyrénées : 3 points\n",
    "\n",
    "Critère fossile:\n",
    "- BP: 3 points\n",
    "- Digne: 2 points\n",
    "- La Mure: 1 point\n",
    "- Laragne : 2 points\n",
    "- Pyrénées : 3 points\n",
    "\n",
    "Critère implication dans le rap:\n",
    "- BP: 1 point\n",
    "- Digne: 1 point\n",
    "- La Mure: 4 points\n",
    "- Laragne : 3 points\n",
    "- Pyrénées : 4 points\n",
    "\n",
    "Si le nombre de points de 2 destination sont egaux la destination avec la meilleure moyenne repas/interet géol gagne "
   ]
  },
  {
   "cell_type": "markdown",
   "id": "fb569c10-3773-44d3-9e2f-5c78a16d443e",
   "metadata": {},
   "source": [
    "````{important} Résultat\n",
    "1. La Mure\n",
    "2. Pyrénées\n",
    "3. Laragne\n",
    "4. Digne\n",
    "5. BP\n",
    "````"
   ]
  },
  {
   "cell_type": "markdown",
   "id": "876ac3b6-9618-4b09-b110-59df660a6f53",
   "metadata": {},
   "source": [
    "**La Mure est élue meilleure destination de géol**"
   ]
  },
  {
   "cell_type": "markdown",
   "id": "7624f353-18e4-4705-8d93-1c69d7eb0c4a",
   "metadata": {},
   "source": [
    "## 5. Conclusion"
   ]
  },
  {
   "cell_type": "markdown",
   "id": "a3081496-58bb-4341-ad15-2d8f2cb4769f",
   "metadata": {},
   "source": [
    "Cette analyse nous a permis de découvrir que les mineurs avaient globalement apprécié leur semaine de géologie mais que les résultats pouvaient être assez différents en fonction de la destination. Ces différences nous ont d'ailleurs ammené à nous demander quelle était la meilleur destination. Une analyse poussée et basée sur différents critères a permis de consacrer La Mûre comme la meilleure destination."
   ]
  }
 ],
 "metadata": {
  "kernelspec": {
   "display_name": "Python 3 (ipykernel)",
   "language": "python",
   "name": "python3"
  },
  "language_info": {
   "codemirror_mode": {
    "name": "ipython",
    "version": 3
   },
   "file_extension": ".py",
   "mimetype": "text/x-python",
   "name": "python",
   "nbconvert_exporter": "python",
   "pygments_lexer": "ipython3",
   "version": "3.11.4"
  }
 },
 "nbformat": 4,
 "nbformat_minor": 5
}
