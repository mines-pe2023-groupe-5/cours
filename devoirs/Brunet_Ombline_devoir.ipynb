{
 "cells": [
  {
   "cell_type": "markdown",
   "id": "c7524996",
   "metadata": {},
   "source": [
    "# TP devoir maison : analyse de données sur l'utilisation d'énergie aux États-Unis de 1990 à 2014 #"
   ]
  },
  {
   "cell_type": "markdown",
   "id": "475e32cc",
   "metadata": {},
   "source": [
    "*Source : \"https://public.tableau.com/app/profile/datavizard/viz/EnergyinAmerica/Energy\"*"
   ]
  },
  {
   "cell_type": "markdown",
   "id": "68a79841",
   "metadata": {},
   "source": [
    "### Récupération et mise en forme des données ###"
   ]
  },
  {
   "cell_type": "markdown",
   "id": "5cd5cc72",
   "metadata": {},
   "source": [
    "Commençons par récupérer les données. \n",
    "Nous les avons placées au préalable dans un tableau que nous avons rempli grâce aux données que l'on trouvait sur public.tableau.com. \n",
    "Nous appelerons ce tableau par la suite \"data\"."
   ]
  },
  {
   "cell_type": "code",
   "execution_count": 1,
   "id": "79682ada",
   "metadata": {},
   "outputs": [],
   "source": [
    "import pandas as pd"
   ]
  },
  {
   "cell_type": "markdown",
   "id": "d878c1b8",
   "metadata": {},
   "source": [
    "*Attention, nous allons utiliser des modules qui ne seront pas toujours installés sur votre ordinateur.\n",
    "Si ce n'est pas le cas, importer les en tapant dans un terminal :*\n",
    "\n",
    "*pip install openpyxl*\n",
    "\n",
    "*pip install pandas Jupyter notebook*\n"
   ]
  },
  {
   "cell_type": "code",
   "execution_count": 2,
   "id": "62ff6780",
   "metadata": {},
   "outputs": [],
   "source": [
    "data = pd.read_excel('donnees.xlsx')"
   ]
  },
  {
   "cell_type": "code",
   "execution_count": 3,
   "id": "766208f7",
   "metadata": {},
   "outputs": [
    {
     "data": {
      "text/html": [
       "<div>\n",
       "<style scoped>\n",
       "    .dataframe tbody tr th:only-of-type {\n",
       "        vertical-align: middle;\n",
       "    }\n",
       "\n",
       "    .dataframe tbody tr th {\n",
       "        vertical-align: top;\n",
       "    }\n",
       "\n",
       "    .dataframe thead th {\n",
       "        text-align: right;\n",
       "    }\n",
       "</style>\n",
       "<table border=\"1\" class=\"dataframe\">\n",
       "  <thead>\n",
       "    <tr style=\"text-align: right;\">\n",
       "      <th></th>\n",
       "      <th>YEAR</th>\n",
       "      <th>Coal use in MWh</th>\n",
       "      <th>Hydro use in MWh</th>\n",
       "      <th>Natural Gas use in MWh</th>\n",
       "      <th>Nuclear use in MWh</th>\n",
       "      <th>Renewable use in MWh</th>\n",
       "      <th>Petrolum use in MWh</th>\n",
       "    </tr>\n",
       "  </thead>\n",
       "  <tbody>\n",
       "    <tr>\n",
       "      <th>0</th>\n",
       "      <td>1990</td>\n",
       "      <td>1.594011e+09</td>\n",
       "      <td>292865845.0</td>\n",
       "      <td>383147982.0</td>\n",
       "      <td>576861678</td>\n",
       "      <td>64372222.0</td>\n",
       "      <td>126099164.0</td>\n",
       "    </tr>\n",
       "    <tr>\n",
       "      <th>1</th>\n",
       "      <td>1991</td>\n",
       "      <td>1.590623e+09</td>\n",
       "      <td>288994191.0</td>\n",
       "      <td>392888609.0</td>\n",
       "      <td>612565087</td>\n",
       "      <td>68779263.0</td>\n",
       "      <td>119571765.0</td>\n",
       "    </tr>\n",
       "    <tr>\n",
       "      <th>2</th>\n",
       "      <td>1992</td>\n",
       "      <td>1.621206e+09</td>\n",
       "      <td>253088005.0</td>\n",
       "      <td>417344615.0</td>\n",
       "      <td>618776263</td>\n",
       "      <td>73769819.0</td>\n",
       "      <td>100080175.0</td>\n",
       "    </tr>\n",
       "    <tr>\n",
       "      <th>3</th>\n",
       "      <td>1993</td>\n",
       "      <td>1.690070e+09</td>\n",
       "      <td>280494007.0</td>\n",
       "      <td>427882596.0</td>\n",
       "      <td>610291214</td>\n",
       "      <td>76213284.0</td>\n",
       "      <td>112599727.0</td>\n",
       "    </tr>\n",
       "    <tr>\n",
       "      <th>4</th>\n",
       "      <td>1994</td>\n",
       "      <td>1.690694e+09</td>\n",
       "      <td>260125732.0</td>\n",
       "      <td>473537732.0</td>\n",
       "      <td>640439832</td>\n",
       "      <td>76535148.0</td>\n",
       "      <td>105626732.0</td>\n",
       "    </tr>\n",
       "  </tbody>\n",
       "</table>\n",
       "</div>"
      ],
      "text/plain": [
       "   YEAR  Coal use in MWh  Hydro use in MWh  Natural Gas use in MWh  \\\n",
       "0  1990     1.594011e+09       292865845.0             383147982.0   \n",
       "1  1991     1.590623e+09       288994191.0             392888609.0   \n",
       "2  1992     1.621206e+09       253088005.0             417344615.0   \n",
       "3  1993     1.690070e+09       280494007.0             427882596.0   \n",
       "4  1994     1.690694e+09       260125732.0             473537732.0   \n",
       "\n",
       "   Nuclear use in MWh  Renewable use in MWh  Petrolum use in MWh  \n",
       "0           576861678            64372222.0          126099164.0  \n",
       "1           612565087            68779263.0          119571765.0  \n",
       "2           618776263            73769819.0          100080175.0  \n",
       "3           610291214            76213284.0          112599727.0  \n",
       "4           640439832            76535148.0          105626732.0  "
      ]
     },
     "execution_count": 3,
     "metadata": {},
     "output_type": "execute_result"
    }
   ],
   "source": [
    "data.head()"
   ]
  },
  {
   "cell_type": "markdown",
   "id": "f72ffb37",
   "metadata": {},
   "source": [
    "Nous voyons ici les premières lignes du tableau ainsi que toutes les colonnes.\n",
    "Nous allons commencer par renommer les colonnes du tableau afin qu'il n'y ait plus d'espaces dans les noms par souci pratique."
   ]
  },
  {
   "cell_type": "code",
   "execution_count": 4,
   "id": "1d7ef977",
   "metadata": {
    "scrolled": true
   },
   "outputs": [],
   "source": [
    "data = data.rename(axis=\"columns\", mapper = {\"Coal use in MWh\" : \"Coal_use_in_MWh\"})\n",
    "data = data.rename(axis=\"columns\", mapper = {\"Hydro use in MWh\" : \"Hydro_use_in_MWh\"})\n",
    "data = data.rename(axis=\"columns\", mapper = {\"Natural Gas use in MWh\" : \"Natural_Gas_use_in_MWh\"})\n",
    "data = data.rename(axis=\"columns\", mapper = {\"Nuclear use in MWh\" : \"Nuclear_use_in_MWh\"})\n",
    "data = data.rename(axis=\"columns\", mapper = {\"Renewable use in MWh\" : \"Renewable_use_in_MWh\"})\n",
    "data = data.rename(axis=\"columns\", mapper = {\"Petrolum use in MWh\" : \"Petrolum_use_in_MWh\"})"
   ]
  },
  {
   "cell_type": "markdown",
   "id": "9eadecf9",
   "metadata": {},
   "source": [
    "On peut vérifier que le changement a été effectif."
   ]
  },
  {
   "cell_type": "code",
   "execution_count": 5,
   "id": "bdb05558",
   "metadata": {
    "scrolled": true
   },
   "outputs": [
    {
     "data": {
      "text/html": [
       "<div>\n",
       "<style scoped>\n",
       "    .dataframe tbody tr th:only-of-type {\n",
       "        vertical-align: middle;\n",
       "    }\n",
       "\n",
       "    .dataframe tbody tr th {\n",
       "        vertical-align: top;\n",
       "    }\n",
       "\n",
       "    .dataframe thead th {\n",
       "        text-align: right;\n",
       "    }\n",
       "</style>\n",
       "<table border=\"1\" class=\"dataframe\">\n",
       "  <thead>\n",
       "    <tr style=\"text-align: right;\">\n",
       "      <th></th>\n",
       "      <th>YEAR</th>\n",
       "      <th>Coal_use_in_MWh</th>\n",
       "      <th>Hydro_use_in_MWh</th>\n",
       "      <th>Natural_Gas_use_in_MWh</th>\n",
       "      <th>Nuclear_use_in_MWh</th>\n",
       "      <th>Renewable_use_in_MWh</th>\n",
       "      <th>Petrolum_use_in_MWh</th>\n",
       "    </tr>\n",
       "  </thead>\n",
       "  <tbody>\n",
       "    <tr>\n",
       "      <th>0</th>\n",
       "      <td>1990</td>\n",
       "      <td>1.594011e+09</td>\n",
       "      <td>2.928658e+08</td>\n",
       "      <td>3.831480e+08</td>\n",
       "      <td>576861678</td>\n",
       "      <td>6.437222e+07</td>\n",
       "      <td>1.260992e+08</td>\n",
       "    </tr>\n",
       "    <tr>\n",
       "      <th>1</th>\n",
       "      <td>1991</td>\n",
       "      <td>1.590623e+09</td>\n",
       "      <td>2.889942e+08</td>\n",
       "      <td>3.928886e+08</td>\n",
       "      <td>612565087</td>\n",
       "      <td>6.877926e+07</td>\n",
       "      <td>1.195718e+08</td>\n",
       "    </tr>\n",
       "    <tr>\n",
       "      <th>2</th>\n",
       "      <td>1992</td>\n",
       "      <td>1.621206e+09</td>\n",
       "      <td>2.530880e+08</td>\n",
       "      <td>4.173446e+08</td>\n",
       "      <td>618776263</td>\n",
       "      <td>7.376982e+07</td>\n",
       "      <td>1.000802e+08</td>\n",
       "    </tr>\n",
       "    <tr>\n",
       "      <th>3</th>\n",
       "      <td>1993</td>\n",
       "      <td>1.690070e+09</td>\n",
       "      <td>2.804940e+08</td>\n",
       "      <td>4.278826e+08</td>\n",
       "      <td>610291214</td>\n",
       "      <td>7.621328e+07</td>\n",
       "      <td>1.125997e+08</td>\n",
       "    </tr>\n",
       "    <tr>\n",
       "      <th>4</th>\n",
       "      <td>1994</td>\n",
       "      <td>1.690694e+09</td>\n",
       "      <td>2.601257e+08</td>\n",
       "      <td>4.735377e+08</td>\n",
       "      <td>640439832</td>\n",
       "      <td>7.653515e+07</td>\n",
       "      <td>1.056267e+08</td>\n",
       "    </tr>\n",
       "    <tr>\n",
       "      <th>5</th>\n",
       "      <td>1995</td>\n",
       "      <td>1.709426e+09</td>\n",
       "      <td>3.108327e+08</td>\n",
       "      <td>5.099279e+08</td>\n",
       "      <td>673402123</td>\n",
       "      <td>7.396539e+07</td>\n",
       "      <td>7.436520e+07</td>\n",
       "    </tr>\n",
       "    <tr>\n",
       "      <th>6</th>\n",
       "      <td>1996</td>\n",
       "      <td>1.795196e+09</td>\n",
       "      <td>3.471621e+08</td>\n",
       "      <td>4.694114e+08</td>\n",
       "      <td>674728546</td>\n",
       "      <td>7.579562e+07</td>\n",
       "      <td>8.130142e+07</td>\n",
       "    </tr>\n",
       "    <tr>\n",
       "      <th>7</th>\n",
       "      <td>1997</td>\n",
       "      <td>1.845016e+09</td>\n",
       "      <td>3.564533e+08</td>\n",
       "      <td>4.927493e+08</td>\n",
       "      <td>628644171</td>\n",
       "      <td>7.718282e+07</td>\n",
       "      <td>9.248421e+07</td>\n",
       "    </tr>\n",
       "    <tr>\n",
       "      <th>8</th>\n",
       "      <td>1998</td>\n",
       "      <td>1.873516e+09</td>\n",
       "      <td>3.233357e+08</td>\n",
       "      <td>5.447493e+08</td>\n",
       "      <td>673702104</td>\n",
       "      <td>7.708841e+07</td>\n",
       "      <td>1.285562e+08</td>\n",
       "    </tr>\n",
       "    <tr>\n",
       "      <th>9</th>\n",
       "      <td>1999</td>\n",
       "      <td>1.881087e+09</td>\n",
       "      <td>3.195360e+08</td>\n",
       "      <td>5.705217e+08</td>\n",
       "      <td>728254123</td>\n",
       "      <td>7.942301e+07</td>\n",
       "      <td>1.178308e+08</td>\n",
       "    </tr>\n",
       "    <tr>\n",
       "      <th>10</th>\n",
       "      <td>2000</td>\n",
       "      <td>1.966265e+09</td>\n",
       "      <td>2.755726e+08</td>\n",
       "      <td>6.149929e+08</td>\n",
       "      <td>753892940</td>\n",
       "      <td>8.090598e+07</td>\n",
       "      <td>1.110766e+08</td>\n",
       "    </tr>\n",
       "    <tr>\n",
       "      <th>11</th>\n",
       "      <td>2001</td>\n",
       "      <td>1.903956e+09</td>\n",
       "      <td>2.169610e+08</td>\n",
       "      <td>6.481686e+08</td>\n",
       "      <td>768826308</td>\n",
       "      <td>7.076864e+07</td>\n",
       "      <td>1.247570e+08</td>\n",
       "    </tr>\n",
       "    <tr>\n",
       "      <th>12</th>\n",
       "      <td>2002</td>\n",
       "      <td>1.933130e+09</td>\n",
       "      <td>2.643288e+08</td>\n",
       "      <td>7.024684e+08</td>\n",
       "      <td>780064087</td>\n",
       "      <td>7.910917e+07</td>\n",
       "      <td>9.430541e+07</td>\n",
       "    </tr>\n",
       "    <tr>\n",
       "      <th>13</th>\n",
       "      <td>2003</td>\n",
       "      <td>1.973737e+09</td>\n",
       "      <td>2.758063e+08</td>\n",
       "      <td>6.655076e+08</td>\n",
       "      <td>763732695</td>\n",
       "      <td>7.948679e+07</td>\n",
       "      <td>1.193315e+08</td>\n",
       "    </tr>\n",
       "    <tr>\n",
       "      <th>14</th>\n",
       "      <td>2004</td>\n",
       "      <td>1.978301e+09</td>\n",
       "      <td>2.684173e+08</td>\n",
       "      <td>7.253524e+08</td>\n",
       "      <td>788528387</td>\n",
       "      <td>8.306733e+07</td>\n",
       "      <td>1.211086e+08</td>\n",
       "    </tr>\n",
       "    <tr>\n",
       "      <th>15</th>\n",
       "      <td>2005</td>\n",
       "      <td>2.012873e+09</td>\n",
       "      <td>2.703213e+08</td>\n",
       "      <td>7.744244e+08</td>\n",
       "      <td>781986365</td>\n",
       "      <td>8.732940e+07</td>\n",
       "      <td>1.219990e+08</td>\n",
       "    </tr>\n",
       "    <tr>\n",
       "      <th>16</th>\n",
       "      <td>2006</td>\n",
       "      <td>1.990511e+09</td>\n",
       "      <td>2.892464e+08</td>\n",
       "      <td>8.306176e+08</td>\n",
       "      <td>787218636</td>\n",
       "      <td>9.652549e+07</td>\n",
       "      <td>6.408495e+07</td>\n",
       "    </tr>\n",
       "    <tr>\n",
       "      <th>17</th>\n",
       "      <td>2007</td>\n",
       "      <td>2.016456e+09</td>\n",
       "      <td>2.475100e+08</td>\n",
       "      <td>9.100431e+08</td>\n",
       "      <td>806424753</td>\n",
       "      <td>1.052375e+08</td>\n",
       "      <td>6.566373e+07</td>\n",
       "    </tr>\n",
       "    <tr>\n",
       "      <th>18</th>\n",
       "      <td>2008</td>\n",
       "      <td>1.985801e+09</td>\n",
       "      <td>2.548314e+08</td>\n",
       "      <td>8.946875e+08</td>\n",
       "      <td>806208435</td>\n",
       "      <td>1.261010e+08</td>\n",
       "      <td>4.617030e+07</td>\n",
       "    </tr>\n",
       "    <tr>\n",
       "      <th>19</th>\n",
       "      <td>2009</td>\n",
       "      <td>1.755904e+09</td>\n",
       "      <td>2.734451e+08</td>\n",
       "      <td>9.316108e+08</td>\n",
       "      <td>798854585</td>\n",
       "      <td>1.442787e+08</td>\n",
       "      <td>3.890102e+07</td>\n",
       "    </tr>\n",
       "    <tr>\n",
       "      <th>20</th>\n",
       "      <td>2010</td>\n",
       "      <td>1.847290e+09</td>\n",
       "      <td>2.602031e+08</td>\n",
       "      <td>9.990100e+08</td>\n",
       "      <td>806968301</td>\n",
       "      <td>1.671730e+08</td>\n",
       "      <td>3.686116e+07</td>\n",
       "    </tr>\n",
       "    <tr>\n",
       "      <th>21</th>\n",
       "      <td>2011</td>\n",
       "      <td>1.733430e+09</td>\n",
       "      <td>3.193549e+08</td>\n",
       "      <td>1.025184e+09</td>\n",
       "      <td>790204367</td>\n",
       "      <td>1.939812e+08</td>\n",
       "      <td>3.005257e+07</td>\n",
       "    </tr>\n",
       "    <tr>\n",
       "      <th>22</th>\n",
       "      <td>2012</td>\n",
       "      <td>1.514043e+09</td>\n",
       "      <td>2.762402e+08</td>\n",
       "      <td>1.237729e+09</td>\n",
       "      <td>769331249</td>\n",
       "      <td>2.183330e+08</td>\n",
       "      <td>2.318014e+07</td>\n",
       "    </tr>\n",
       "    <tr>\n",
       "      <th>23</th>\n",
       "      <td>2013</td>\n",
       "      <td>1.581115e+09</td>\n",
       "      <td>2.685654e+08</td>\n",
       "      <td>1.137623e+09</td>\n",
       "      <td>789016473</td>\n",
       "      <td>2.535081e+08</td>\n",
       "      <td>2.716444e+07</td>\n",
       "    </tr>\n",
       "    <tr>\n",
       "      <th>24</th>\n",
       "      <td>2014</td>\n",
       "      <td>1.581710e+09</td>\n",
       "      <td>2.593666e+08</td>\n",
       "      <td>1.138563e+09</td>\n",
       "      <td>797165982</td>\n",
       "      <td>2.792127e+08</td>\n",
       "      <td>3.023186e+07</td>\n",
       "    </tr>\n",
       "  </tbody>\n",
       "</table>\n",
       "</div>"
      ],
      "text/plain": [
       "    YEAR  Coal_use_in_MWh  Hydro_use_in_MWh  Natural_Gas_use_in_MWh  \\\n",
       "0   1990     1.594011e+09      2.928658e+08            3.831480e+08   \n",
       "1   1991     1.590623e+09      2.889942e+08            3.928886e+08   \n",
       "2   1992     1.621206e+09      2.530880e+08            4.173446e+08   \n",
       "3   1993     1.690070e+09      2.804940e+08            4.278826e+08   \n",
       "4   1994     1.690694e+09      2.601257e+08            4.735377e+08   \n",
       "5   1995     1.709426e+09      3.108327e+08            5.099279e+08   \n",
       "6   1996     1.795196e+09      3.471621e+08            4.694114e+08   \n",
       "7   1997     1.845016e+09      3.564533e+08            4.927493e+08   \n",
       "8   1998     1.873516e+09      3.233357e+08            5.447493e+08   \n",
       "9   1999     1.881087e+09      3.195360e+08            5.705217e+08   \n",
       "10  2000     1.966265e+09      2.755726e+08            6.149929e+08   \n",
       "11  2001     1.903956e+09      2.169610e+08            6.481686e+08   \n",
       "12  2002     1.933130e+09      2.643288e+08            7.024684e+08   \n",
       "13  2003     1.973737e+09      2.758063e+08            6.655076e+08   \n",
       "14  2004     1.978301e+09      2.684173e+08            7.253524e+08   \n",
       "15  2005     2.012873e+09      2.703213e+08            7.744244e+08   \n",
       "16  2006     1.990511e+09      2.892464e+08            8.306176e+08   \n",
       "17  2007     2.016456e+09      2.475100e+08            9.100431e+08   \n",
       "18  2008     1.985801e+09      2.548314e+08            8.946875e+08   \n",
       "19  2009     1.755904e+09      2.734451e+08            9.316108e+08   \n",
       "20  2010     1.847290e+09      2.602031e+08            9.990100e+08   \n",
       "21  2011     1.733430e+09      3.193549e+08            1.025184e+09   \n",
       "22  2012     1.514043e+09      2.762402e+08            1.237729e+09   \n",
       "23  2013     1.581115e+09      2.685654e+08            1.137623e+09   \n",
       "24  2014     1.581710e+09      2.593666e+08            1.138563e+09   \n",
       "\n",
       "    Nuclear_use_in_MWh  Renewable_use_in_MWh  Petrolum_use_in_MWh  \n",
       "0            576861678          6.437222e+07         1.260992e+08  \n",
       "1            612565087          6.877926e+07         1.195718e+08  \n",
       "2            618776263          7.376982e+07         1.000802e+08  \n",
       "3            610291214          7.621328e+07         1.125997e+08  \n",
       "4            640439832          7.653515e+07         1.056267e+08  \n",
       "5            673402123          7.396539e+07         7.436520e+07  \n",
       "6            674728546          7.579562e+07         8.130142e+07  \n",
       "7            628644171          7.718282e+07         9.248421e+07  \n",
       "8            673702104          7.708841e+07         1.285562e+08  \n",
       "9            728254123          7.942301e+07         1.178308e+08  \n",
       "10           753892940          8.090598e+07         1.110766e+08  \n",
       "11           768826308          7.076864e+07         1.247570e+08  \n",
       "12           780064087          7.910917e+07         9.430541e+07  \n",
       "13           763732695          7.948679e+07         1.193315e+08  \n",
       "14           788528387          8.306733e+07         1.211086e+08  \n",
       "15           781986365          8.732940e+07         1.219990e+08  \n",
       "16           787218636          9.652549e+07         6.408495e+07  \n",
       "17           806424753          1.052375e+08         6.566373e+07  \n",
       "18           806208435          1.261010e+08         4.617030e+07  \n",
       "19           798854585          1.442787e+08         3.890102e+07  \n",
       "20           806968301          1.671730e+08         3.686116e+07  \n",
       "21           790204367          1.939812e+08         3.005257e+07  \n",
       "22           769331249          2.183330e+08         2.318014e+07  \n",
       "23           789016473          2.535081e+08         2.716444e+07  \n",
       "24           797165982          2.792127e+08         3.023186e+07  "
      ]
     },
     "execution_count": 5,
     "metadata": {},
     "output_type": "execute_result"
    }
   ],
   "source": [
    "data"
   ]
  },
  {
   "cell_type": "markdown",
   "id": "5a154931",
   "metadata": {},
   "source": [
    "Nous allons maintenant vérifier qu'il n'y a pas de cases vides."
   ]
  },
  {
   "cell_type": "code",
   "execution_count": 6,
   "id": "ae7d2b34",
   "metadata": {},
   "outputs": [
    {
     "data": {
      "text/plain": [
       "array([1.59401148e+09, 1.59062275e+09, 1.62120604e+09, 1.69007023e+09,\n",
       "       1.69069387e+09, 1.70942646e+09, 1.79519559e+09, 1.84501574e+09,\n",
       "       1.87351569e+09, 1.88108722e+09, 1.96626460e+09, 1.90395594e+09,\n",
       "       1.93313035e+09, 1.97373675e+09, 1.97830055e+09, 2.01287304e+09,\n",
       "       1.99051114e+09, 2.01645558e+09, 1.98580125e+09, 1.75590425e+09,\n",
       "       1.84729028e+09, 1.73343001e+09, 1.51404294e+09, 1.58111472e+09,\n",
       "       1.58171035e+09])"
      ]
     },
     "execution_count": 6,
     "metadata": {},
     "output_type": "execute_result"
    }
   ],
   "source": [
    "data.Coal_use_in_MWh.unique()"
   ]
  },
  {
   "cell_type": "markdown",
   "id": "e0eb4646",
   "metadata": {},
   "source": [
    "On voit ici que toutes les cellules sont remplies (on aurait sinon Na dans les valeurs prises par les cellules dans la colonne choisie).\n",
    "\n",
    "On fait de même pour les autres colonnes :\n",
    "\n",
    "*data.Hydro_use_in_MWh.unique()*\n",
    "\n",
    "*data.Natural_Gas_use_in_MWh.unique()*\n",
    "\n",
    "*data.Nuclear_use_in_MWh.unique()*\n",
    "\n",
    "*data.Renewable_use_in_MWh.unique()*\n",
    "\n",
    "*data.Petrolum_use_in_MWh.unique()*\n",
    "\n",
    "\n",
    "On n'obtient toujours pas de \"Na\". Si c'était le cas, on aurait pu taper :\n",
    "\n",
    "*data.nomcolonne.fillna(\"valeur\")*\n",
    "\n",
    "Cela aurait remplacé toutes les cases vides par la valeur choisie (la moyenne des autres cases de la colonne par exemple)."
   ]
  },
  {
   "cell_type": "markdown",
   "id": "7f3d5079",
   "metadata": {},
   "source": [
    "Nous allons à présent changer d'index. Nous allons regarder quel index nous utilisons actuellement, puis indexer par année."
   ]
  },
  {
   "cell_type": "code",
   "execution_count": 7,
   "id": "dd5317b7",
   "metadata": {},
   "outputs": [
    {
     "data": {
      "text/plain": [
       "RangeIndex(start=0, stop=25, step=1)"
      ]
     },
     "execution_count": 7,
     "metadata": {},
     "output_type": "execute_result"
    }
   ],
   "source": [
    "data.index"
   ]
  },
  {
   "cell_type": "code",
   "execution_count": 8,
   "id": "1152eb8d",
   "metadata": {},
   "outputs": [],
   "source": [
    "data = data.set_index(\"YEAR\")"
   ]
  },
  {
   "cell_type": "markdown",
   "id": "8e99a791",
   "metadata": {},
   "source": [
    "Notre tableau est prêt à être étudié."
   ]
  },
  {
   "cell_type": "markdown",
   "id": "f35bb5ba",
   "metadata": {},
   "source": [
    "### Étude générale des données ###"
   ]
  },
  {
   "cell_type": "markdown",
   "id": "53307757",
   "metadata": {},
   "source": [
    "Nous allons à présent obtenir quelques informations générales sur le tableau."
   ]
  },
  {
   "cell_type": "code",
   "execution_count": 9,
   "id": "90e94a5d",
   "metadata": {
    "scrolled": true
   },
   "outputs": [
    {
     "data": {
      "text/plain": [
       "(25, 6)"
      ]
     },
     "execution_count": 9,
     "metadata": {},
     "output_type": "execute_result"
    }
   ],
   "source": [
    "data.shape"
   ]
  },
  {
   "cell_type": "markdown",
   "id": "252aa07b",
   "metadata": {},
   "source": [
    "Nous avons donc un tableau de 25 lignes et 7 colonnes."
   ]
  },
  {
   "cell_type": "code",
   "execution_count": 10,
   "id": "49a2d947",
   "metadata": {},
   "outputs": [
    {
     "data": {
      "text/plain": [
       "Coal_use_in_MWh           float64\n",
       "Hydro_use_in_MWh          float64\n",
       "Natural_Gas_use_in_MWh    float64\n",
       "Nuclear_use_in_MWh          int64\n",
       "Renewable_use_in_MWh      float64\n",
       "Petrolum_use_in_MWh       float64\n",
       "dtype: object"
      ]
     },
     "execution_count": 10,
     "metadata": {},
     "output_type": "execute_result"
    }
   ],
   "source": [
    "data.dtypes"
   ]
  },
  {
   "cell_type": "markdown",
   "id": "0593b4b7",
   "metadata": {},
   "source": [
    "On obtient ici les types de nos objets dans le tableau. On voit que les objets dans \"Nuclear_use_in_MWh\" sont des \"int64\" alors que dans les autres ils sont des \"float64\". On peut changer ce type :"
   ]
  },
  {
   "cell_type": "code",
   "execution_count": 11,
   "id": "90093fe6",
   "metadata": {
    "scrolled": true
   },
   "outputs": [
    {
     "data": {
      "text/plain": [
       "YEAR\n",
       "1990    576861678.0\n",
       "1991    612565087.0\n",
       "1992    618776263.0\n",
       "1993    610291214.0\n",
       "1994    640439832.0\n",
       "1995    673402123.0\n",
       "1996    674728546.0\n",
       "1997    628644171.0\n",
       "1998    673702104.0\n",
       "1999    728254123.0\n",
       "2000    753892940.0\n",
       "2001    768826308.0\n",
       "2002    780064087.0\n",
       "2003    763732695.0\n",
       "2004    788528387.0\n",
       "2005    781986365.0\n",
       "2006    787218636.0\n",
       "2007    806424753.0\n",
       "2008    806208435.0\n",
       "2009    798854585.0\n",
       "2010    806968301.0\n",
       "2011    790204367.0\n",
       "2012    769331249.0\n",
       "2013    789016473.0\n",
       "2014    797165982.0\n",
       "Name: Nuclear_use_in_MWh, dtype: float64"
      ]
     },
     "execution_count": 11,
     "metadata": {},
     "output_type": "execute_result"
    }
   ],
   "source": [
    "data.Nuclear_use_in_MWh.astype(\"float64\")"
   ]
  },
  {
   "cell_type": "markdown",
   "id": "f68d11b1",
   "metadata": {},
   "source": [
    "Continuons la description générale de notre tableau."
   ]
  },
  {
   "cell_type": "code",
   "execution_count": 12,
   "id": "8326ad0c",
   "metadata": {
    "scrolled": false
   },
   "outputs": [
    {
     "data": {
      "text/html": [
       "<div>\n",
       "<style scoped>\n",
       "    .dataframe tbody tr th:only-of-type {\n",
       "        vertical-align: middle;\n",
       "    }\n",
       "\n",
       "    .dataframe tbody tr th {\n",
       "        vertical-align: top;\n",
       "    }\n",
       "\n",
       "    .dataframe thead th {\n",
       "        text-align: right;\n",
       "    }\n",
       "</style>\n",
       "<table border=\"1\" class=\"dataframe\">\n",
       "  <thead>\n",
       "    <tr style=\"text-align: right;\">\n",
       "      <th></th>\n",
       "      <th>Coal_use_in_MWh</th>\n",
       "      <th>Hydro_use_in_MWh</th>\n",
       "      <th>Natural_Gas_use_in_MWh</th>\n",
       "      <th>Nuclear_use_in_MWh</th>\n",
       "      <th>Renewable_use_in_MWh</th>\n",
       "      <th>Petrolum_use_in_MWh</th>\n",
       "    </tr>\n",
       "  </thead>\n",
       "  <tbody>\n",
       "    <tr>\n",
       "      <th>count</th>\n",
       "      <td>2.500000e+01</td>\n",
       "      <td>2.500000e+01</td>\n",
       "      <td>2.500000e+01</td>\n",
       "      <td>2.500000e+01</td>\n",
       "      <td>2.500000e+01</td>\n",
       "      <td>2.500000e+01</td>\n",
       "    </tr>\n",
       "    <tr>\n",
       "      <th>mean</th>\n",
       "      <td>1.802615e+09</td>\n",
       "      <td>2.821223e+08</td>\n",
       "      <td>7.167257e+08</td>\n",
       "      <td>7.290435e+08</td>\n",
       "      <td>1.123257e+08</td>\n",
       "      <td>8.453614e+07</td>\n",
       "    </tr>\n",
       "    <tr>\n",
       "      <th>std</th>\n",
       "      <td>1.621999e+08</td>\n",
       "      <td>3.215476e+07</td>\n",
       "      <td>2.585405e+08</td>\n",
       "      <td>7.698733e+07</td>\n",
       "      <td>6.164997e+07</td>\n",
       "      <td>3.741487e+07</td>\n",
       "    </tr>\n",
       "    <tr>\n",
       "      <th>min</th>\n",
       "      <td>1.514043e+09</td>\n",
       "      <td>2.169610e+08</td>\n",
       "      <td>3.831480e+08</td>\n",
       "      <td>5.768617e+08</td>\n",
       "      <td>6.437222e+07</td>\n",
       "      <td>2.318014e+07</td>\n",
       "    </tr>\n",
       "    <tr>\n",
       "      <th>25%</th>\n",
       "      <td>1.690070e+09</td>\n",
       "      <td>2.602031e+08</td>\n",
       "      <td>4.927493e+08</td>\n",
       "      <td>6.734021e+08</td>\n",
       "      <td>7.621328e+07</td>\n",
       "      <td>4.617030e+07</td>\n",
       "    </tr>\n",
       "    <tr>\n",
       "      <th>50%</th>\n",
       "      <td>1.845016e+09</td>\n",
       "      <td>2.755726e+08</td>\n",
       "      <td>6.655076e+08</td>\n",
       "      <td>7.688263e+08</td>\n",
       "      <td>7.948679e+07</td>\n",
       "      <td>9.430541e+07</td>\n",
       "    </tr>\n",
       "    <tr>\n",
       "      <th>75%</th>\n",
       "      <td>1.966265e+09</td>\n",
       "      <td>2.928658e+08</td>\n",
       "      <td>9.100431e+08</td>\n",
       "      <td>7.890165e+08</td>\n",
       "      <td>1.261010e+08</td>\n",
       "      <td>1.193315e+08</td>\n",
       "    </tr>\n",
       "    <tr>\n",
       "      <th>max</th>\n",
       "      <td>2.016456e+09</td>\n",
       "      <td>3.564533e+08</td>\n",
       "      <td>1.237729e+09</td>\n",
       "      <td>8.069683e+08</td>\n",
       "      <td>2.792127e+08</td>\n",
       "      <td>1.285562e+08</td>\n",
       "    </tr>\n",
       "  </tbody>\n",
       "</table>\n",
       "</div>"
      ],
      "text/plain": [
       "       Coal_use_in_MWh  Hydro_use_in_MWh  Natural_Gas_use_in_MWh  \\\n",
       "count     2.500000e+01      2.500000e+01            2.500000e+01   \n",
       "mean      1.802615e+09      2.821223e+08            7.167257e+08   \n",
       "std       1.621999e+08      3.215476e+07            2.585405e+08   \n",
       "min       1.514043e+09      2.169610e+08            3.831480e+08   \n",
       "25%       1.690070e+09      2.602031e+08            4.927493e+08   \n",
       "50%       1.845016e+09      2.755726e+08            6.655076e+08   \n",
       "75%       1.966265e+09      2.928658e+08            9.100431e+08   \n",
       "max       2.016456e+09      3.564533e+08            1.237729e+09   \n",
       "\n",
       "       Nuclear_use_in_MWh  Renewable_use_in_MWh  Petrolum_use_in_MWh  \n",
       "count        2.500000e+01          2.500000e+01         2.500000e+01  \n",
       "mean         7.290435e+08          1.123257e+08         8.453614e+07  \n",
       "std          7.698733e+07          6.164997e+07         3.741487e+07  \n",
       "min          5.768617e+08          6.437222e+07         2.318014e+07  \n",
       "25%          6.734021e+08          7.621328e+07         4.617030e+07  \n",
       "50%          7.688263e+08          7.948679e+07         9.430541e+07  \n",
       "75%          7.890165e+08          1.261010e+08         1.193315e+08  \n",
       "max          8.069683e+08          2.792127e+08         1.285562e+08  "
      ]
     },
     "execution_count": 12,
     "metadata": {},
     "output_type": "execute_result"
    }
   ],
   "source": [
    "data.describe()"
   ]
  },
  {
   "cell_type": "markdown",
   "id": "b971c4a7",
   "metadata": {},
   "source": [
    "Nous obtenons ici plusieurs informations intéressantes : la moyenne d'énergie utilisée par an entre 1990 et 2014 pour chaque énergie, leur maximum et minimum.\n",
    "Par exemple, le maximum d'énergie utilisée par an entre 1990 et 2014 pour le nucléaire, est de 8 10^8 MWh alors que pour le pétrole, c'est 1,28 10^8, soit moins. On aurait pu penser autrement."
   ]
  },
  {
   "cell_type": "markdown",
   "id": "fce6dca3",
   "metadata": {},
   "source": [
    "### Étude détaillée des données ###"
   ]
  },
  {
   "cell_type": "markdown",
   "id": "f86dee44",
   "metadata": {},
   "source": [
    "Passons maintenant à une étude plus précise. Cherchons par exemple quel a été l'utilisation de pétrole en 2014 :"
   ]
  },
  {
   "cell_type": "code",
   "execution_count": 71,
   "id": "b2a529d7",
   "metadata": {},
   "outputs": [
    {
     "data": {
      "text/plain": [
       "30231861.560000002"
      ]
     },
     "execution_count": 71,
     "metadata": {},
     "output_type": "execute_result"
    }
   ],
   "source": [
    "data.loc[2014, \"Petrolum_use_in_MWh\"]"
   ]
  },
  {
   "cell_type": "markdown",
   "id": "86c4005c",
   "metadata": {},
   "source": [
    "On a donc eu une utilisation de 30 millions de MWh de pétrole en 2014. \n",
    "\n",
    "On peut maintenant se demander si tous les ans, l'utilisation de charbon a été supérieure à 1 million de MWh. "
   ]
  },
  {
   "cell_type": "code",
   "execution_count": 17,
   "id": "dfef0455",
   "metadata": {},
   "outputs": [
    {
     "data": {
      "text/plain": [
       "YEAR\n",
       "1990    True\n",
       "1991    True\n",
       "1992    True\n",
       "1993    True\n",
       "1994    True\n",
       "1995    True\n",
       "1996    True\n",
       "1997    True\n",
       "1998    True\n",
       "1999    True\n",
       "2000    True\n",
       "2001    True\n",
       "2002    True\n",
       "2003    True\n",
       "2004    True\n",
       "2005    True\n",
       "2006    True\n",
       "2007    True\n",
       "2008    True\n",
       "2009    True\n",
       "2010    True\n",
       "2011    True\n",
       "2012    True\n",
       "2013    True\n",
       "2014    True\n",
       "Name: Coal_use_in_MWh, dtype: bool"
      ]
     },
     "execution_count": 17,
     "metadata": {},
     "output_type": "execute_result"
    }
   ],
   "source": [
    "data.Coal_use_in_MWh >= 10**9"
   ]
  },
  {
   "cell_type": "markdown",
   "id": "3c6a5f34",
   "metadata": {},
   "source": [
    "On voit ici que chaque année, l'utilisation de pétrole a été supérieure à 1 milliard de MWh.\n",
    "\n",
    "Traçons à présent par exemple, l'évolution de l'utilisation d'énergies renouvelables de 1990 à 2014."
   ]
  },
  {
   "cell_type": "code",
   "execution_count": 82,
   "id": "72b6c847",
   "metadata": {},
   "outputs": [
    {
     "data": {
      "text/plain": [
       "<Axes: xlabel='YEAR', ylabel='Renewable energy use in MWh'>"
      ]
     },
     "execution_count": 82,
     "metadata": {},
     "output_type": "execute_result"
    },
    {
     "data": {
      "image/png": "[encoded data removed]",
      "text/plain": [
       "<Figure size 640x480 with 1 Axes>"
      ]
     },
     "metadata": {},
     "output_type": "display_data"
    }
   ],
   "source": [
    "support = data.iloc[:,4]\n",
    "support.plot(ylabel = \"Renewable energy use in MWh\")"
   ]
  },
  {
   "cell_type": "markdown",
   "id": "930b1efe",
   "metadata": {},
   "source": [
    "On peut remarquer que les énergies renouvelables ont augmenté de façon exponentielle à partir de 2005, ce qui était prévisible."
   ]
  },
  {
   "cell_type": "markdown",
   "id": "1691f133",
   "metadata": {},
   "source": [
    "Comparons avec les évolutions des autres énergies."
   ]
  },
  {
   "cell_type": "code",
   "execution_count": 85,
   "id": "deec3069",
   "metadata": {},
   "outputs": [
    {
     "data": {
      "text/plain": [
       "<Axes: xlabel='YEAR', ylabel='Renewable energy use in MWh'>"
      ]
     },
     "execution_count": 85,
     "metadata": {},
     "output_type": "execute_result"
    },
    {
     "data": {
      "image/png": "[encoded data removed]",
      "text/plain": [
       "<Figure size 640x480 with 1 Axes>"
      ]
     },
     "metadata": {},
     "output_type": "display_data"
    }
   ],
   "source": [
    "data.plot(ylabel = \"Renewable energy use in MWh\")"
   ]
  },
  {
   "cell_type": "markdown",
   "id": "30c0d7af",
   "metadata": {},
   "source": [
    "On voit ici que tandis que les énergies renouvelables et le gaz naturel ont beaucoup augmenté en utilisation depuis 1990, les autres énergies ont stagné voire drastiquement baissé, comme c'est le cas pour le charbon.\n",
    "On remarque aussi que le charbon est bien plus utilisé que les autres énergies malgré cette baisse."
   ]
  },
  {
   "cell_type": "markdown",
   "id": "9f583bab",
   "metadata": {},
   "source": [
    "Nous allons maintenant étudier les énergies utilisées en 2013."
   ]
  },
  {
   "cell_type": "code",
   "execution_count": 73,
   "id": "c29867e2",
   "metadata": {},
   "outputs": [
    {
     "data": {
      "text/plain": [
       "Coal_use_in_MWh           1.581115e+09\n",
       "Hydro_use_in_MWh          2.685654e+08\n",
       "Natural_Gas_use_in_MWh    1.137623e+09\n",
       "Nuclear_use_in_MWh        7.890165e+08\n",
       "Renewable_use_in_MWh      2.535081e+08\n",
       "Petrolum_use_in_MWh       2.716444e+07\n",
       "Name: a2013a, dtype: float64"
      ]
     },
     "execution_count": 73,
     "metadata": {},
     "output_type": "execute_result"
    }
   ],
   "source": [
    "data2013 = data.T\n",
    "#on transpose le tableau\n",
    "\n",
    "data2013 = data2013.rename(axis=\"columns\", mapper = {2013 : \"a2013a\",})\n",
    "#on renomme 2013 en a2013a pour éviter que la colonne ait un nom composé uniquement de chiffres\n",
    "\n",
    "data2013 = data2013.iloc[:,23]\n",
    "data2013"
   ]
  },
  {
   "cell_type": "code",
   "execution_count": 67,
   "id": "c56d987c",
   "metadata": {
    "scrolled": true
   },
   "outputs": [
    {
     "data": {
      "text/plain": [
       "<Axes: ylabel='a2013a'>"
      ]
     },
     "execution_count": 67,
     "metadata": {},
     "output_type": "execute_result"
    },
    {
     "data": {
      "image/png": "[encoded data removed]",
      "text/plain": [
       "<Figure size 640x480 with 1 Axes>"
      ]
     },
     "metadata": {},
     "output_type": "display_data"
    }
   ],
   "source": [
    "data2013.plot.pie()"
   ]
  },
  {
   "cell_type": "markdown",
   "id": "562adc35",
   "metadata": {},
   "source": [
    "On peut voir que l'énergie la plus utilisée en 2013 a été le charbon puis le gaz naturel, puis enfin le nucléaire."
   ]
  },
  {
   "cell_type": "markdown",
   "id": "e0a4c662",
   "metadata": {},
   "source": [
    "## Conclusion ##"
   ]
  },
  {
   "cell_type": "markdown",
   "id": "3091e882",
   "metadata": {},
   "source": [
    "Dans cette étude des données concernant l'utilisation des énergies aux Etats-Unis de 1990 à 2014, nous avons pu observé que les Etas-Unis consomment beaucoup d'énergie. Toutefois, ils consomment beaucoup plus de charbon que du reste, malgré une forte baisse de consommation depuis 2008. Mais l'utilisation des énergies renouvelables et du gaz naturel augmente depuis 2005. Cela est révélateur de la transition énergétique qui s'opère actuellement dans la plupart des pays."
   ]
  }
 ],
 "metadata": {
  "kernelspec": {
   "display_name": "Python 3 (ipykernel)",
   "language": "python",
   "name": "python3"
  },
  "language_info": {
   "codemirror_mode": {
    "name": "ipython",
    "version": 3
   },
   "file_extension": ".py",
   "mimetype": "text/x-python",
   "name": "python",
   "nbconvert_exporter": "python",
   "pygments_lexer": "ipython3",
   "version": "3.11.5"
  }
 },
 "nbformat": 4,
 "nbformat_minor": 5
}
