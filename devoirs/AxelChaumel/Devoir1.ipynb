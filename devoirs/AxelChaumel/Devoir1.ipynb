{
 "cells": [
  {
   "cell_type": "code",
   "execution_count": 1,
   "id": "6f53acf3-00a4-48e2-b163-2769de4f194d",
   "metadata": {},
   "outputs": [],
   "source": [
    "import pandas as pd"
   ]
  },
  {
   "cell_type": "code",
   "execution_count": 2,
   "id": "3f261797-ebdf-4466-89f9-a39129a6145c",
   "metadata": {},
   "outputs": [],
   "source": [
    "url = \"/Users/axelc/Downloads/world_cup_2018_squads.csv\"\n",
    "data = pd.read_csv(url)"
   ]
  },
  {
   "cell_type": "markdown",
   "id": "6a695720-85c0-48a3-a564-d54790772f83",
   "metadata": {},
   "source": [
    "Première approche des données"
   ]
  },
  {
   "cell_type": "code",
   "execution_count": 3,
   "id": "241d1132-f876-4992-885b-6adc0d72e432",
   "metadata": {},
   "outputs": [
    {
     "data": {
      "text/html": [
       "<div>\n",
       "<style scoped>\n",
       "    .dataframe tbody tr th:only-of-type {\n",
       "        vertical-align: middle;\n",
       "    }\n",
       "\n",
       "    .dataframe tbody tr th {\n",
       "        vertical-align: top;\n",
       "    }\n",
       "\n",
       "    .dataframe thead th {\n",
       "        text-align: right;\n",
       "    }\n",
       "</style>\n",
       "<table border=\"1\" class=\"dataframe\">\n",
       "  <thead>\n",
       "    <tr style=\"text-align: right;\">\n",
       "      <th></th>\n",
       "      <th>Type</th>\n",
       "      <th>Team</th>\n",
       "      <th>Group</th>\n",
       "      <th>Position</th>\n",
       "      <th>Name</th>\n",
       "      <th>DOB</th>\n",
       "      <th>Caps</th>\n",
       "      <th>Goals</th>\n",
       "      <th>Country and Club</th>\n",
       "    </tr>\n",
       "  </thead>\n",
       "  <tbody>\n",
       "    <tr>\n",
       "      <th>0</th>\n",
       "      <td>Age</td>\n",
       "      <td>Egypt</td>\n",
       "      <td>A</td>\n",
       "      <td>DF</td>\n",
       "      <td>Ahmed Elmohamady</td>\n",
       "      <td>1987-09-09</td>\n",
       "      <td>76</td>\n",
       "      <td>2</td>\n",
       "      <td>England Aston Villa</td>\n",
       "    </tr>\n",
       "    <tr>\n",
       "      <th>1</th>\n",
       "      <td>Age</td>\n",
       "      <td>Egypt</td>\n",
       "      <td>A</td>\n",
       "      <td>DF</td>\n",
       "      <td>Ahmed Fathy</td>\n",
       "      <td>1984-11-10</td>\n",
       "      <td>124</td>\n",
       "      <td>3</td>\n",
       "      <td>Egypt Al Ahly</td>\n",
       "    </tr>\n",
       "    <tr>\n",
       "      <th>2</th>\n",
       "      <td>Age</td>\n",
       "      <td>Egypt</td>\n",
       "      <td>A</td>\n",
       "      <td>DF</td>\n",
       "      <td>Ahmed Hegazi</td>\n",
       "      <td>1991-01-25</td>\n",
       "      <td>43</td>\n",
       "      <td>1</td>\n",
       "      <td>England West Bromwich Albion</td>\n",
       "    </tr>\n",
       "    <tr>\n",
       "      <th>3</th>\n",
       "      <td>Age</td>\n",
       "      <td>Egypt</td>\n",
       "      <td>A</td>\n",
       "      <td>DF</td>\n",
       "      <td>Ali Gabr</td>\n",
       "      <td>1993-07-28</td>\n",
       "      <td>20</td>\n",
       "      <td>1</td>\n",
       "      <td>England West Bromwich Albion</td>\n",
       "    </tr>\n",
       "    <tr>\n",
       "      <th>4</th>\n",
       "      <td>Age</td>\n",
       "      <td>Egypt</td>\n",
       "      <td>A</td>\n",
       "      <td>DF</td>\n",
       "      <td>Ayman Ashraf</td>\n",
       "      <td>1991-04-09</td>\n",
       "      <td>4</td>\n",
       "      <td>0</td>\n",
       "      <td>Egypt Al Ahly</td>\n",
       "    </tr>\n",
       "  </tbody>\n",
       "</table>\n",
       "</div>"
      ],
      "text/plain": [
       "  Type   Team Group Position              Name         DOB  Caps  Goals  \\\n",
       "0  Age  Egypt     A       DF  Ahmed Elmohamady  1987-09-09    76      2   \n",
       "1  Age  Egypt     A       DF       Ahmed Fathy  1984-11-10   124      3   \n",
       "2  Age  Egypt     A       DF      Ahmed Hegazi  1991-01-25    43      1   \n",
       "3  Age  Egypt     A       DF          Ali Gabr  1993-07-28    20      1   \n",
       "4  Age  Egypt     A       DF      Ayman Ashraf  1991-04-09     4      0   \n",
       "\n",
       "               Country and Club  \n",
       "0           England Aston Villa  \n",
       "1                 Egypt Al Ahly  \n",
       "2  England West Bromwich Albion  \n",
       "3  England West Bromwich Albion  \n",
       "4                 Egypt Al Ahly  "
      ]
     },
     "execution_count": 3,
     "metadata": {},
     "output_type": "execute_result"
    }
   ],
   "source": [
    "data.head()"
   ]
  },
  {
   "cell_type": "markdown",
   "id": "6fea12ff-26a3-4b4f-92f2-7b3af88f29c2",
   "metadata": {},
   "source": [
    "Suppression de la colonne dite 'Type'"
   ]
  },
  {
   "cell_type": "code",
   "execution_count": 4,
   "id": "e73d9082-6e6a-4820-a093-022cda1cddc0",
   "metadata": {},
   "outputs": [],
   "source": [
    "data2=data.drop(columns=\"Type\")"
   ]
  },
  {
   "cell_type": "markdown",
   "id": "79cd33cd-b3f5-4b58-8db6-5925256b1afd",
   "metadata": {},
   "source": [
    "On vérifie la suppression de la colonne"
   ]
  },
  {
   "cell_type": "code",
   "execution_count": 5,
   "id": "5529212a-c964-422d-a352-0e04c053a53b",
   "metadata": {},
   "outputs": [
    {
     "data": {
      "text/html": [
       "<div>\n",
       "<style scoped>\n",
       "    .dataframe tbody tr th:only-of-type {\n",
       "        vertical-align: middle;\n",
       "    }\n",
       "\n",
       "    .dataframe tbody tr th {\n",
       "        vertical-align: top;\n",
       "    }\n",
       "\n",
       "    .dataframe thead th {\n",
       "        text-align: right;\n",
       "    }\n",
       "</style>\n",
       "<table border=\"1\" class=\"dataframe\">\n",
       "  <thead>\n",
       "    <tr style=\"text-align: right;\">\n",
       "      <th></th>\n",
       "      <th>Team</th>\n",
       "      <th>Group</th>\n",
       "      <th>Position</th>\n",
       "      <th>Name</th>\n",
       "      <th>DOB</th>\n",
       "      <th>Caps</th>\n",
       "      <th>Goals</th>\n",
       "      <th>Country and Club</th>\n",
       "    </tr>\n",
       "  </thead>\n",
       "  <tbody>\n",
       "    <tr>\n",
       "      <th>0</th>\n",
       "      <td>Egypt</td>\n",
       "      <td>A</td>\n",
       "      <td>DF</td>\n",
       "      <td>Ahmed Elmohamady</td>\n",
       "      <td>1987-09-09</td>\n",
       "      <td>76</td>\n",
       "      <td>2</td>\n",
       "      <td>England Aston Villa</td>\n",
       "    </tr>\n",
       "    <tr>\n",
       "      <th>1</th>\n",
       "      <td>Egypt</td>\n",
       "      <td>A</td>\n",
       "      <td>DF</td>\n",
       "      <td>Ahmed Fathy</td>\n",
       "      <td>1984-11-10</td>\n",
       "      <td>124</td>\n",
       "      <td>3</td>\n",
       "      <td>Egypt Al Ahly</td>\n",
       "    </tr>\n",
       "    <tr>\n",
       "      <th>2</th>\n",
       "      <td>Egypt</td>\n",
       "      <td>A</td>\n",
       "      <td>DF</td>\n",
       "      <td>Ahmed Hegazi</td>\n",
       "      <td>1991-01-25</td>\n",
       "      <td>43</td>\n",
       "      <td>1</td>\n",
       "      <td>England West Bromwich Albion</td>\n",
       "    </tr>\n",
       "    <tr>\n",
       "      <th>3</th>\n",
       "      <td>Egypt</td>\n",
       "      <td>A</td>\n",
       "      <td>DF</td>\n",
       "      <td>Ali Gabr</td>\n",
       "      <td>1993-07-28</td>\n",
       "      <td>20</td>\n",
       "      <td>1</td>\n",
       "      <td>England West Bromwich Albion</td>\n",
       "    </tr>\n",
       "    <tr>\n",
       "      <th>4</th>\n",
       "      <td>Egypt</td>\n",
       "      <td>A</td>\n",
       "      <td>DF</td>\n",
       "      <td>Ayman Ashraf</td>\n",
       "      <td>1991-04-09</td>\n",
       "      <td>4</td>\n",
       "      <td>0</td>\n",
       "      <td>Egypt Al Ahly</td>\n",
       "    </tr>\n",
       "  </tbody>\n",
       "</table>\n",
       "</div>"
      ],
      "text/plain": [
       "    Team Group Position              Name         DOB  Caps  Goals  \\\n",
       "0  Egypt     A       DF  Ahmed Elmohamady  1987-09-09    76      2   \n",
       "1  Egypt     A       DF       Ahmed Fathy  1984-11-10   124      3   \n",
       "2  Egypt     A       DF      Ahmed Hegazi  1991-01-25    43      1   \n",
       "3  Egypt     A       DF          Ali Gabr  1993-07-28    20      1   \n",
       "4  Egypt     A       DF      Ayman Ashraf  1991-04-09     4      0   \n",
       "\n",
       "               Country and Club  \n",
       "0           England Aston Villa  \n",
       "1                 Egypt Al Ahly  \n",
       "2  England West Bromwich Albion  \n",
       "3  England West Bromwich Albion  \n",
       "4                 Egypt Al Ahly  "
      ]
     },
     "execution_count": 5,
     "metadata": {},
     "output_type": "execute_result"
    }
   ],
   "source": [
    "data2.head()"
   ]
  },
  {
   "cell_type": "markdown",
   "id": "9229e64d-8e10-4d38-bc71-0617d132e51e",
   "metadata": {},
   "source": [
    "On vérifie la propreté des données, particulièrement la possible absence de données"
   ]
  },
  {
   "cell_type": "code",
   "execution_count": 6,
   "id": "426b26c9-57e8-4cf4-a6ff-5e212d0a1d8e",
   "metadata": {},
   "outputs": [
    {
     "data": {
      "text/plain": [
       "Type                0\n",
       "Team                0\n",
       "Group               0\n",
       "Position            0\n",
       "Name                0\n",
       "DOB                 0\n",
       "Caps                0\n",
       "Goals               0\n",
       "Country and Club    0\n",
       "dtype: int64"
      ]
     },
     "execution_count": 6,
     "metadata": {},
     "output_type": "execute_result"
    }
   ],
   "source": [
    "data.isnull().sum()"
   ]
  },
  {
   "cell_type": "code",
   "execution_count": 7,
   "id": "1a588c29-d0f1-48c8-8393-3b8e9c1d8b9f",
   "metadata": {},
   "outputs": [
    {
     "data": {
      "text/plain": [
       "Team                object\n",
       "Group               object\n",
       "Position            object\n",
       "Name                object\n",
       "DOB                 object\n",
       "Caps                 int64\n",
       "Goals                int64\n",
       "Country and Club    object\n",
       "dtype: object"
      ]
     },
     "execution_count": 7,
     "metadata": {},
     "output_type": "execute_result"
    }
   ],
   "source": [
    "data2.dtypes"
   ]
  },
  {
   "cell_type": "markdown",
   "id": "1b882054-ac78-4004-9d14-321277335de1",
   "metadata": {},
   "source": [
    "On réalise un prmeier tri croissant en fonction du nombre de buts marqués, puis des Capes"
   ]
  },
  {
   "cell_type": "code",
   "execution_count": 8,
   "id": "0cc0517f-21a9-4670-9593-426bde749872",
   "metadata": {},
   "outputs": [
    {
     "data": {
      "text/html": [
       "<div>\n",
       "<style scoped>\n",
       "    .dataframe tbody tr th:only-of-type {\n",
       "        vertical-align: middle;\n",
       "    }\n",
       "\n",
       "    .dataframe tbody tr th {\n",
       "        vertical-align: top;\n",
       "    }\n",
       "\n",
       "    .dataframe thead th {\n",
       "        text-align: right;\n",
       "    }\n",
       "</style>\n",
       "<table border=\"1\" class=\"dataframe\">\n",
       "  <thead>\n",
       "    <tr style=\"text-align: right;\">\n",
       "      <th></th>\n",
       "      <th>Team</th>\n",
       "      <th>Group</th>\n",
       "      <th>Position</th>\n",
       "      <th>Name</th>\n",
       "      <th>DOB</th>\n",
       "      <th>Caps</th>\n",
       "      <th>Goals</th>\n",
       "      <th>Country and Club</th>\n",
       "    </tr>\n",
       "  </thead>\n",
       "  <tbody>\n",
       "    <tr>\n",
       "      <th>367</th>\n",
       "      <td>Nigeria</td>\n",
       "      <td>D</td>\n",
       "      <td>MF</td>\n",
       "      <td>Wilfred Ndidi</td>\n",
       "      <td>1996-12-16</td>\n",
       "      <td>16</td>\n",
       "      <td>0</td>\n",
       "      <td>England Leicester City</td>\n",
       "    </tr>\n",
       "    <tr>\n",
       "      <th>488</th>\n",
       "      <td>Mexico</td>\n",
       "      <td>F</td>\n",
       "      <td>DF</td>\n",
       "      <td>Jesús Gallardo</td>\n",
       "      <td>1994-08-14</td>\n",
       "      <td>20</td>\n",
       "      <td>0</td>\n",
       "      <td>Mexico UNAM</td>\n",
       "    </tr>\n",
       "    <tr>\n",
       "      <th>225</th>\n",
       "      <td>Denmark</td>\n",
       "      <td>C</td>\n",
       "      <td>MF</td>\n",
       "      <td>Lukas Lerager</td>\n",
       "      <td>1993-07-12</td>\n",
       "      <td>3</td>\n",
       "      <td>0</td>\n",
       "      <td>France Bordeaux</td>\n",
       "    </tr>\n",
       "    <tr>\n",
       "      <th>492</th>\n",
       "      <td>Mexico</td>\n",
       "      <td>F</td>\n",
       "      <td>FW</td>\n",
       "      <td>Javier Aquino</td>\n",
       "      <td>1990-02-11</td>\n",
       "      <td>51</td>\n",
       "      <td>0</td>\n",
       "      <td>Mexico UANL</td>\n",
       "    </tr>\n",
       "    <tr>\n",
       "      <th>497</th>\n",
       "      <td>Mexico</td>\n",
       "      <td>F</td>\n",
       "      <td>GK</td>\n",
       "      <td>Alfredo Talavera</td>\n",
       "      <td>1982-09-18</td>\n",
       "      <td>27</td>\n",
       "      <td>0</td>\n",
       "      <td>Mexico Toluca</td>\n",
       "    </tr>\n",
       "    <tr>\n",
       "      <th>...</th>\n",
       "      <td>...</td>\n",
       "      <td>...</td>\n",
       "      <td>...</td>\n",
       "      <td>...</td>\n",
       "      <td>...</td>\n",
       "      <td>...</td>\n",
       "      <td>...</td>\n",
       "      <td>...</td>\n",
       "    </tr>\n",
       "    <tr>\n",
       "      <th>78</th>\n",
       "      <td>Uruguay</td>\n",
       "      <td>A</td>\n",
       "      <td>FW</td>\n",
       "      <td>Luis Suárez</td>\n",
       "      <td>1987-01-24</td>\n",
       "      <td>97</td>\n",
       "      <td>50</td>\n",
       "      <td>Spain Barcelona</td>\n",
       "    </tr>\n",
       "    <tr>\n",
       "      <th>700</th>\n",
       "      <td>Poland</td>\n",
       "      <td>H</td>\n",
       "      <td>FW</td>\n",
       "      <td>Robert Lewandowski (captain)</td>\n",
       "      <td>1988-08-21</td>\n",
       "      <td>93</td>\n",
       "      <td>52</td>\n",
       "      <td>Germany Bayern Munich</td>\n",
       "    </tr>\n",
       "    <tr>\n",
       "      <th>378</th>\n",
       "      <td>Brazil</td>\n",
       "      <td>E</td>\n",
       "      <td>FW</td>\n",
       "      <td>Neymar</td>\n",
       "      <td>1992-02-05</td>\n",
       "      <td>83</td>\n",
       "      <td>53</td>\n",
       "      <td>France Paris Saint-Germain</td>\n",
       "    </tr>\n",
       "    <tr>\n",
       "      <th>286</th>\n",
       "      <td>Argentina</td>\n",
       "      <td>D</td>\n",
       "      <td>FW</td>\n",
       "      <td>Lionel Messi (captain)</td>\n",
       "      <td>1987-06-24</td>\n",
       "      <td>123</td>\n",
       "      <td>61</td>\n",
       "      <td>Spain Barcelona</td>\n",
       "    </tr>\n",
       "    <tr>\n",
       "      <th>147</th>\n",
       "      <td>Portugal</td>\n",
       "      <td>B</td>\n",
       "      <td>FW</td>\n",
       "      <td>Cristiano Ronaldo (captain)</td>\n",
       "      <td>1985-02-05</td>\n",
       "      <td>149</td>\n",
       "      <td>81</td>\n",
       "      <td>Spain Real Madrid</td>\n",
       "    </tr>\n",
       "  </tbody>\n",
       "</table>\n",
       "<p>736 rows × 8 columns</p>\n",
       "</div>"
      ],
      "text/plain": [
       "          Team Group Position                          Name         DOB  Caps  \\\n",
       "367    Nigeria     D       MF                 Wilfred Ndidi  1996-12-16    16   \n",
       "488     Mexico     F       DF                Jesús Gallardo  1994-08-14    20   \n",
       "225    Denmark     C       MF                 Lukas Lerager  1993-07-12     3   \n",
       "492     Mexico     F       FW                 Javier Aquino  1990-02-11    51   \n",
       "497     Mexico     F       GK              Alfredo Talavera  1982-09-18    27   \n",
       "..         ...   ...      ...                           ...         ...   ...   \n",
       "78     Uruguay     A       FW                   Luis Suárez  1987-01-24    97   \n",
       "700     Poland     H       FW  Robert Lewandowski (captain)  1988-08-21    93   \n",
       "378     Brazil     E       FW                        Neymar  1992-02-05    83   \n",
       "286  Argentina     D       FW        Lionel Messi (captain)  1987-06-24   123   \n",
       "147   Portugal     B       FW   Cristiano Ronaldo (captain)  1985-02-05   149   \n",
       "\n",
       "     Goals            Country and Club  \n",
       "367      0      England Leicester City  \n",
       "488      0                 Mexico UNAM  \n",
       "225      0             France Bordeaux  \n",
       "492      0                 Mexico UANL  \n",
       "497      0               Mexico Toluca  \n",
       "..     ...                         ...  \n",
       "78      50             Spain Barcelona  \n",
       "700     52       Germany Bayern Munich  \n",
       "378     53  France Paris Saint-Germain  \n",
       "286     61             Spain Barcelona  \n",
       "147     81           Spain Real Madrid  \n",
       "\n",
       "[736 rows x 8 columns]"
      ]
     },
     "execution_count": 8,
     "metadata": {},
     "output_type": "execute_result"
    }
   ],
   "source": [
    "data2.sort_values(by=\"Goals\")"
   ]
  },
  {
   "cell_type": "code",
   "execution_count": 9,
   "id": "ce341966-4676-4194-9029-52bbfb200c44",
   "metadata": {},
   "outputs": [
    {
     "data": {
      "text/html": [
       "<div>\n",
       "<style scoped>\n",
       "    .dataframe tbody tr th:only-of-type {\n",
       "        vertical-align: middle;\n",
       "    }\n",
       "\n",
       "    .dataframe tbody tr th {\n",
       "        vertical-align: top;\n",
       "    }\n",
       "\n",
       "    .dataframe thead th {\n",
       "        text-align: right;\n",
       "    }\n",
       "</style>\n",
       "<table border=\"1\" class=\"dataframe\">\n",
       "  <thead>\n",
       "    <tr style=\"text-align: right;\">\n",
       "      <th></th>\n",
       "      <th>Team</th>\n",
       "      <th>Group</th>\n",
       "      <th>Position</th>\n",
       "      <th>Name</th>\n",
       "      <th>DOB</th>\n",
       "      <th>Caps</th>\n",
       "      <th>Goals</th>\n",
       "      <th>Country and Club</th>\n",
       "    </tr>\n",
       "  </thead>\n",
       "  <tbody>\n",
       "    <tr>\n",
       "      <th>527</th>\n",
       "      <td>South Korea</td>\n",
       "      <td>F</td>\n",
       "      <td>MF</td>\n",
       "      <td>Lee Seung-woo</td>\n",
       "      <td>1998-01-06</td>\n",
       "      <td>0</td>\n",
       "      <td>0</td>\n",
       "      <td>Italy Hellas Verona</td>\n",
       "    </tr>\n",
       "    <tr>\n",
       "      <th>244</th>\n",
       "      <td>France</td>\n",
       "      <td>C</td>\n",
       "      <td>GK</td>\n",
       "      <td>Alphonse Areola</td>\n",
       "      <td>1993-02-27</td>\n",
       "      <td>0</td>\n",
       "      <td>0</td>\n",
       "      <td>France Paris Saint-Germain</td>\n",
       "    </tr>\n",
       "    <tr>\n",
       "      <th>619</th>\n",
       "      <td>Panama</td>\n",
       "      <td>G</td>\n",
       "      <td>MF</td>\n",
       "      <td>José Luis Rodríguez</td>\n",
       "      <td>1998-06-19</td>\n",
       "      <td>0</td>\n",
       "      <td>0</td>\n",
       "      <td>Belgium Gent</td>\n",
       "    </tr>\n",
       "    <tr>\n",
       "      <th>424</th>\n",
       "      <td>Serbia</td>\n",
       "      <td>E</td>\n",
       "      <td>FW</td>\n",
       "      <td>Luka Jović</td>\n",
       "      <td>1997-12-23</td>\n",
       "      <td>0</td>\n",
       "      <td>0</td>\n",
       "      <td>Germany Eintracht Frankfurt</td>\n",
       "    </tr>\n",
       "    <tr>\n",
       "      <th>200</th>\n",
       "      <td>Australia</td>\n",
       "      <td>C</td>\n",
       "      <td>MF</td>\n",
       "      <td>Daniel Arzani</td>\n",
       "      <td>1999-01-04</td>\n",
       "      <td>0</td>\n",
       "      <td>0</td>\n",
       "      <td>Australia Melbourne City</td>\n",
       "    </tr>\n",
       "    <tr>\n",
       "      <th>...</th>\n",
       "      <td>...</td>\n",
       "      <td>...</td>\n",
       "      <td>...</td>\n",
       "      <td>...</td>\n",
       "      <td>...</td>\n",
       "      <td>...</td>\n",
       "      <td>...</td>\n",
       "      <td>...</td>\n",
       "    </tr>\n",
       "    <tr>\n",
       "      <th>505</th>\n",
       "      <td>Mexico</td>\n",
       "      <td>F</td>\n",
       "      <td>MF</td>\n",
       "      <td>Rafael Márquez</td>\n",
       "      <td>1979-02-13</td>\n",
       "      <td>143</td>\n",
       "      <td>18</td>\n",
       "      <td>Mexico Atlas</td>\n",
       "    </tr>\n",
       "    <tr>\n",
       "      <th>500</th>\n",
       "      <td>Mexico</td>\n",
       "      <td>F</td>\n",
       "      <td>MF</td>\n",
       "      <td>Andrés Guardado (captain)</td>\n",
       "      <td>1986-09-28</td>\n",
       "      <td>144</td>\n",
       "      <td>25</td>\n",
       "      <td>Spain Real Betis</td>\n",
       "    </tr>\n",
       "    <tr>\n",
       "      <th>147</th>\n",
       "      <td>Portugal</td>\n",
       "      <td>B</td>\n",
       "      <td>FW</td>\n",
       "      <td>Cristiano Ronaldo (captain)</td>\n",
       "      <td>1985-02-05</td>\n",
       "      <td>149</td>\n",
       "      <td>81</td>\n",
       "      <td>Spain Real Madrid</td>\n",
       "    </tr>\n",
       "    <tr>\n",
       "      <th>168</th>\n",
       "      <td>Spain</td>\n",
       "      <td>B</td>\n",
       "      <td>DF</td>\n",
       "      <td>Sergio Ramos (captain)</td>\n",
       "      <td>1986-03-30</td>\n",
       "      <td>151</td>\n",
       "      <td>13</td>\n",
       "      <td>Spain Real Madrid</td>\n",
       "    </tr>\n",
       "    <tr>\n",
       "      <th>11</th>\n",
       "      <td>Egypt</td>\n",
       "      <td>A</td>\n",
       "      <td>GK</td>\n",
       "      <td>Essam El-Hadary (captain)</td>\n",
       "      <td>1973-01-15</td>\n",
       "      <td>156</td>\n",
       "      <td>0</td>\n",
       "      <td>Saudi Arabia Al Taawoun</td>\n",
       "    </tr>\n",
       "  </tbody>\n",
       "</table>\n",
       "<p>736 rows × 8 columns</p>\n",
       "</div>"
      ],
      "text/plain": [
       "            Team Group Position                         Name         DOB  \\\n",
       "527  South Korea     F       MF                Lee Seung-woo  1998-01-06   \n",
       "244       France     C       GK              Alphonse Areola  1993-02-27   \n",
       "619       Panama     G       MF          José Luis Rodríguez  1998-06-19   \n",
       "424       Serbia     E       FW                   Luka Jović  1997-12-23   \n",
       "200    Australia     C       MF                Daniel Arzani  1999-01-04   \n",
       "..           ...   ...      ...                          ...         ...   \n",
       "505       Mexico     F       MF               Rafael Márquez  1979-02-13   \n",
       "500       Mexico     F       MF    Andrés Guardado (captain)  1986-09-28   \n",
       "147     Portugal     B       FW  Cristiano Ronaldo (captain)  1985-02-05   \n",
       "168        Spain     B       DF       Sergio Ramos (captain)  1986-03-30   \n",
       "11         Egypt     A       GK    Essam El-Hadary (captain)  1973-01-15   \n",
       "\n",
       "     Caps  Goals             Country and Club  \n",
       "527     0      0          Italy Hellas Verona  \n",
       "244     0      0   France Paris Saint-Germain  \n",
       "619     0      0                 Belgium Gent  \n",
       "424     0      0  Germany Eintracht Frankfurt  \n",
       "200     0      0     Australia Melbourne City  \n",
       "..    ...    ...                          ...  \n",
       "505   143     18                 Mexico Atlas  \n",
       "500   144     25             Spain Real Betis  \n",
       "147   149     81            Spain Real Madrid  \n",
       "168   151     13            Spain Real Madrid  \n",
       "11    156      0      Saudi Arabia Al Taawoun  \n",
       "\n",
       "[736 rows x 8 columns]"
      ]
     },
     "execution_count": 9,
     "metadata": {},
     "output_type": "execute_result"
    }
   ],
   "source": [
    "data2.sort_values(by='Caps')"
   ]
  },
  {
   "cell_type": "markdown",
   "id": "8a75e7c9-fe70-4d6b-b801-631c98d17087",
   "metadata": {},
   "source": [
    "On remet les données en Français"
   ]
  },
  {
   "cell_type": "code",
   "execution_count": 10,
   "id": "04498ecd-afca-448c-8b2d-f9fb04690051",
   "metadata": {},
   "outputs": [],
   "source": [
    "data2.rename(columns={'Team':'Equipe','Group':'Groupe','Position':'Poste','Name':'Nom','DOB':'Naissance','Caps':'Capes','Goals':'Buts','Country and Club':'Pays et Club'},inplace=True)"
   ]
  },
  {
   "cell_type": "code",
   "execution_count": 11,
   "id": "cb58fd6a-4210-4eee-880f-0601aa631996",
   "metadata": {},
   "outputs": [
    {
     "data": {
      "text/html": [
       "<div>\n",
       "<style scoped>\n",
       "    .dataframe tbody tr th:only-of-type {\n",
       "        vertical-align: middle;\n",
       "    }\n",
       "\n",
       "    .dataframe tbody tr th {\n",
       "        vertical-align: top;\n",
       "    }\n",
       "\n",
       "    .dataframe thead th {\n",
       "        text-align: right;\n",
       "    }\n",
       "</style>\n",
       "<table border=\"1\" class=\"dataframe\">\n",
       "  <thead>\n",
       "    <tr style=\"text-align: right;\">\n",
       "      <th></th>\n",
       "      <th>Equipe</th>\n",
       "      <th>Groupe</th>\n",
       "      <th>Poste</th>\n",
       "      <th>Nom</th>\n",
       "      <th>Naissance</th>\n",
       "      <th>Capes</th>\n",
       "      <th>Buts</th>\n",
       "      <th>Pays et Club</th>\n",
       "    </tr>\n",
       "  </thead>\n",
       "  <tbody>\n",
       "    <tr>\n",
       "      <th>0</th>\n",
       "      <td>Egypt</td>\n",
       "      <td>A</td>\n",
       "      <td>DF</td>\n",
       "      <td>Ahmed Elmohamady</td>\n",
       "      <td>1987-09-09</td>\n",
       "      <td>76</td>\n",
       "      <td>2</td>\n",
       "      <td>England Aston Villa</td>\n",
       "    </tr>\n",
       "    <tr>\n",
       "      <th>1</th>\n",
       "      <td>Egypt</td>\n",
       "      <td>A</td>\n",
       "      <td>DF</td>\n",
       "      <td>Ahmed Fathy</td>\n",
       "      <td>1984-11-10</td>\n",
       "      <td>124</td>\n",
       "      <td>3</td>\n",
       "      <td>Egypt Al Ahly</td>\n",
       "    </tr>\n",
       "    <tr>\n",
       "      <th>2</th>\n",
       "      <td>Egypt</td>\n",
       "      <td>A</td>\n",
       "      <td>DF</td>\n",
       "      <td>Ahmed Hegazi</td>\n",
       "      <td>1991-01-25</td>\n",
       "      <td>43</td>\n",
       "      <td>1</td>\n",
       "      <td>England West Bromwich Albion</td>\n",
       "    </tr>\n",
       "    <tr>\n",
       "      <th>3</th>\n",
       "      <td>Egypt</td>\n",
       "      <td>A</td>\n",
       "      <td>DF</td>\n",
       "      <td>Ali Gabr</td>\n",
       "      <td>1993-07-28</td>\n",
       "      <td>20</td>\n",
       "      <td>1</td>\n",
       "      <td>England West Bromwich Albion</td>\n",
       "    </tr>\n",
       "    <tr>\n",
       "      <th>4</th>\n",
       "      <td>Egypt</td>\n",
       "      <td>A</td>\n",
       "      <td>DF</td>\n",
       "      <td>Ayman Ashraf</td>\n",
       "      <td>1991-04-09</td>\n",
       "      <td>4</td>\n",
       "      <td>0</td>\n",
       "      <td>Egypt Al Ahly</td>\n",
       "    </tr>\n",
       "  </tbody>\n",
       "</table>\n",
       "</div>"
      ],
      "text/plain": [
       "  Equipe Groupe Poste               Nom   Naissance  Capes  Buts  \\\n",
       "0  Egypt      A    DF  Ahmed Elmohamady  1987-09-09     76     2   \n",
       "1  Egypt      A    DF       Ahmed Fathy  1984-11-10    124     3   \n",
       "2  Egypt      A    DF      Ahmed Hegazi  1991-01-25     43     1   \n",
       "3  Egypt      A    DF          Ali Gabr  1993-07-28     20     1   \n",
       "4  Egypt      A    DF      Ayman Ashraf  1991-04-09      4     0   \n",
       "\n",
       "                   Pays et Club  \n",
       "0           England Aston Villa  \n",
       "1                 Egypt Al Ahly  \n",
       "2  England West Bromwich Albion  \n",
       "3  England West Bromwich Albion  \n",
       "4                 Egypt Al Ahly  "
      ]
     },
     "execution_count": 11,
     "metadata": {},
     "output_type": "execute_result"
    }
   ],
   "source": [
    "data2.head()"
   ]
  },
  {
   "cell_type": "markdown",
   "id": "96f0cd8d-c0ab-41c2-84de-48797a43da8a",
   "metadata": {},
   "source": [
    "On regarde la moyenne totale de buts au sein de tous les joueurs"
   ]
  },
  {
   "cell_type": "code",
   "execution_count": 12,
   "id": "8d873a6a-31a9-41d2-a234-4b2265be4a9b",
   "metadata": {},
   "outputs": [],
   "source": [
    "mean_goals = data2['Buts'].mean()"
   ]
  },
  {
   "cell_type": "code",
   "execution_count": 13,
   "id": "34a5af1d-9e90-414b-b0b7-30070696fcd9",
   "metadata": {},
   "outputs": [
    {
     "name": "stdout",
     "output_type": "stream",
     "text": [
      "4.391304347826087\n"
     ]
    }
   ],
   "source": [
    "print(mean_goals)"
   ]
  },
  {
   "cell_type": "markdown",
   "id": "78c596a2-1950-46c4-bc7c-7de3f6a93049",
   "metadata": {},
   "source": [
    "On change le type de la donnée 'Naissance' et on vérifie le changement"
   ]
  },
  {
   "cell_type": "code",
   "execution_count": 14,
   "id": "91955efd-c912-4b2e-8496-d17d08b0afa4",
   "metadata": {},
   "outputs": [],
   "source": [
    "data2.Naissance = pd.to_datetime(data2.Naissance)"
   ]
  },
  {
   "cell_type": "code",
   "execution_count": 15,
   "id": "5d98a1da-7f7b-4715-8836-f596d0e1dd79",
   "metadata": {},
   "outputs": [
    {
     "data": {
      "text/plain": [
       "Equipe                  object\n",
       "Groupe                  object\n",
       "Poste                   object\n",
       "Nom                     object\n",
       "Naissance       datetime64[ns]\n",
       "Capes                    int64\n",
       "Buts                     int64\n",
       "Pays et Club            object\n",
       "dtype: object"
      ]
     },
     "execution_count": 15,
     "metadata": {},
     "output_type": "execute_result"
    }
   ],
   "source": [
    "data2.dtypes"
   ]
  },
  {
   "cell_type": "code",
   "execution_count": 16,
   "id": "0d436133-5dc3-414c-a802-cf756b1fdace",
   "metadata": {},
   "outputs": [
    {
     "data": {
      "text/html": [
       "<div>\n",
       "<style scoped>\n",
       "    .dataframe tbody tr th:only-of-type {\n",
       "        vertical-align: middle;\n",
       "    }\n",
       "\n",
       "    .dataframe tbody tr th {\n",
       "        vertical-align: top;\n",
       "    }\n",
       "\n",
       "    .dataframe thead th {\n",
       "        text-align: right;\n",
       "    }\n",
       "</style>\n",
       "<table border=\"1\" class=\"dataframe\">\n",
       "  <thead>\n",
       "    <tr style=\"text-align: right;\">\n",
       "      <th></th>\n",
       "      <th>Naissance</th>\n",
       "      <th>Capes</th>\n",
       "      <th>Buts</th>\n",
       "    </tr>\n",
       "  </thead>\n",
       "  <tbody>\n",
       "    <tr>\n",
       "      <th>count</th>\n",
       "      <td>736</td>\n",
       "      <td>736.000000</td>\n",
       "      <td>736.000000</td>\n",
       "    </tr>\n",
       "    <tr>\n",
       "      <th>mean</th>\n",
       "      <td>1990-07-25 02:26:44.347826048</td>\n",
       "      <td>33.745924</td>\n",
       "      <td>4.391304</td>\n",
       "    </tr>\n",
       "    <tr>\n",
       "      <th>min</th>\n",
       "      <td>1973-01-15 00:00:00</td>\n",
       "      <td>0.000000</td>\n",
       "      <td>0.000000</td>\n",
       "    </tr>\n",
       "    <tr>\n",
       "      <th>25%</th>\n",
       "      <td>1987-09-20 18:00:00</td>\n",
       "      <td>9.000000</td>\n",
       "      <td>0.000000</td>\n",
       "    </tr>\n",
       "    <tr>\n",
       "      <th>50%</th>\n",
       "      <td>1990-10-06 12:00:00</td>\n",
       "      <td>23.500000</td>\n",
       "      <td>1.000000</td>\n",
       "    </tr>\n",
       "    <tr>\n",
       "      <th>75%</th>\n",
       "      <td>1993-04-07 18:00:00</td>\n",
       "      <td>51.000000</td>\n",
       "      <td>5.000000</td>\n",
       "    </tr>\n",
       "    <tr>\n",
       "      <th>max</th>\n",
       "      <td>1999-01-04 00:00:00</td>\n",
       "      <td>156.000000</td>\n",
       "      <td>81.000000</td>\n",
       "    </tr>\n",
       "    <tr>\n",
       "      <th>std</th>\n",
       "      <td>NaN</td>\n",
       "      <td>31.788106</td>\n",
       "      <td>8.644711</td>\n",
       "    </tr>\n",
       "  </tbody>\n",
       "</table>\n",
       "</div>"
      ],
      "text/plain": [
       "                           Naissance       Capes        Buts\n",
       "count                            736  736.000000  736.000000\n",
       "mean   1990-07-25 02:26:44.347826048   33.745924    4.391304\n",
       "min              1973-01-15 00:00:00    0.000000    0.000000\n",
       "25%              1987-09-20 18:00:00    9.000000    0.000000\n",
       "50%              1990-10-06 12:00:00   23.500000    1.000000\n",
       "75%              1993-04-07 18:00:00   51.000000    5.000000\n",
       "max              1999-01-04 00:00:00  156.000000   81.000000\n",
       "std                              NaN   31.788106    8.644711"
      ]
     },
     "execution_count": 16,
     "metadata": {},
     "output_type": "execute_result"
    }
   ],
   "source": [
    "data2.describe()"
   ]
  },
  {
   "cell_type": "code",
   "execution_count": 17,
   "id": "ac77e5bc-c7e3-4b14-9c1e-4fa321ca0386",
   "metadata": {},
   "outputs": [
    {
     "data": {
      "text/plain": [
       "array(['Egypt', 'Russia', 'Saudi Arabia', 'Uruguay', 'Iran', 'Morocco',\n",
       "       'Portugal', 'Spain', 'Australia', 'Denmark', 'France', 'Peru',\n",
       "       'Argentina', 'Croatia', 'Iceland', 'Nigeria', 'Brazil',\n",
       "       'Costa Rica', 'Serbia', 'Switzerland', 'Germany', 'Mexico',\n",
       "       'South Korea', 'Sweden', 'Belgium', 'England', 'Panama', 'Tunisia',\n",
       "       'Colombia', 'Japan', 'Poland', 'Senegal'], dtype=object)"
      ]
     },
     "execution_count": 17,
     "metadata": {},
     "output_type": "execute_result"
    }
   ],
   "source": [
    "data2.Equipe.unique()"
   ]
  },
  {
   "cell_type": "markdown",
   "id": "682e31b1-463f-48b5-9661-9fcce7d6940a",
   "metadata": {},
   "source": [
    "Premier histogramme affichant le nombre total de joueurs par intervalle de Capes"
   ]
  },
  {
   "cell_type": "code",
   "execution_count": 18,
   "id": "b093ed4d-f117-48b4-aacd-cbd49f535cab",
   "metadata": {},
   "outputs": [
    {
     "data": {
      "text/plain": [
       "<Axes: >"
      ]
     },
     "execution_count": 18,
     "metadata": {},
     "output_type": "execute_result"
    },
    {
     "data": {
      "image/png": "[encoded data removed]",
      "text/plain": [
       "<Figure size 640x480 with 1 Axes>"
      ]
     },
     "metadata": {},
     "output_type": "display_data"
    }
   ],
   "source": [
    "data2.Capes.hist()"
   ]
  },
  {
   "cell_type": "markdown",
   "id": "92355246-2e06-4ad6-9801-cdae602a463e",
   "metadata": {},
   "source": [
    "Décompte du nombre de joueurs par nombre de buts"
   ]
  },
  {
   "cell_type": "code",
   "execution_count": 19,
   "id": "69e948b9-5c3b-4487-a616-45d5aa10d9fa",
   "metadata": {},
   "outputs": [
    {
     "data": {
      "text/plain": [
       "Buts\n",
       "0     307\n",
       "1      94\n",
       "2      64\n",
       "3      52\n",
       "4      29\n",
       "5      24\n",
       "7      21\n",
       "6      19\n",
       "9      16\n",
       "8      13\n",
       "10      9\n",
       "13      9\n",
       "12      9\n",
       "18      8\n",
       "11      8\n",
       "14      6\n",
       "21      4\n",
       "19      4\n",
       "50      3\n",
       "30      3\n",
       "15      3\n",
       "20      2\n",
       "23      2\n",
       "17      2\n",
       "16      2\n",
       "29      2\n",
       "31      2\n",
       "36      2\n",
       "43      2\n",
       "25      1\n",
       "26      1\n",
       "49      1\n",
       "22      1\n",
       "38      1\n",
       "24      1\n",
       "53      1\n",
       "61      1\n",
       "34      1\n",
       "35      1\n",
       "33      1\n",
       "81      1\n",
       "42      1\n",
       "28      1\n",
       "52      1\n",
       "Name: count, dtype: int64"
      ]
     },
     "execution_count": 19,
     "metadata": {},
     "output_type": "execute_result"
    }
   ],
   "source": [
    "data2.Buts.value_counts()"
   ]
  },
  {
   "cell_type": "markdown",
   "id": "4beedbee-e92d-4eed-8485-51f1bb4b4ce0",
   "metadata": {},
   "source": [
    "On dénombre le total de joueurs évoluant à chaque poste"
   ]
  },
  {
   "cell_type": "code",
   "execution_count": 20,
   "id": "e7bbe7be-fd73-4b51-a41a-81f2dccab5b8",
   "metadata": {},
   "outputs": [
    {
     "name": "stdout",
     "output_type": "stream",
     "text": [
      "96 jouent au poste de GK\n",
      "248 jouent au poste de DF\n",
      "250 jouent au poste de MF\n",
      "143 jouent au poste de FW\n"
     ]
    }
   ],
   "source": [
    "Postes = [\"GK\",\"DF\",\"MF\",\"FW\"]\n",
    "for poste in Postes:\n",
    "        count=0\n",
    "        for i in range(737):\n",
    "            if data2.iloc[i-1,2] == poste :\n",
    "                count += 1\n",
    "        print(f\"{count} jouent au poste de {poste}\")"
   ]
  },
  {
   "cell_type": "code",
   "execution_count": 21,
   "id": "460f10f6-14fa-42f4-b5af-ff86f1509434",
   "metadata": {},
   "outputs": [
    {
     "data": {
      "text/plain": [
       "<Axes: >"
      ]
     },
     "execution_count": 21,
     "metadata": {},
     "output_type": "execute_result"
    },
    {
     "data": {
      "image/png": "[encoded data removed]",
      "text/plain": [
       "<Figure size 640x480 with 1 Axes>"
      ]
     },
     "metadata": {},
     "output_type": "display_data"
    }
   ],
   "source": [
    "data2.Buts.hist()"
   ]
  },
  {
   "cell_type": "markdown",
   "id": "26b09cb5-6fa4-431c-9dbe-d63aaed5f60b",
   "metadata": {},
   "source": [
    "Amélioration de la taille de l'histogramme"
   ]
  },
  {
   "cell_type": "code",
   "execution_count": 22,
   "id": "1747a4d7-621e-465a-b221-b6eb663f8fe8",
   "metadata": {},
   "outputs": [
    {
     "data": {
      "text/plain": [
       "<Axes: >"
      ]
     },
     "execution_count": 22,
     "metadata": {},
     "output_type": "execute_result"
    },
    {
     "data": {
      "image/png": "[encoded data removed]",
      "text/plain": [
       "<Figure size 1200x800 with 1 Axes>"
      ]
     },
     "metadata": {},
     "output_type": "display_data"
    }
   ],
   "source": [
    "data2.Buts.hist(figsize=(12, 8))"
   ]
  },
  {
   "cell_type": "markdown",
   "id": "17b4dcc4-0fb0-40fe-bc29-76d8dd7f7fb1",
   "metadata": {},
   "source": [
    "Graphe en nuage de points reliant le nombre de buts marqués au nombre de capes"
   ]
  },
  {
   "cell_type": "code",
   "execution_count": 23,
   "id": "e189d449-3c12-401f-a1a0-1675d54226fb",
   "metadata": {},
   "outputs": [
    {
     "data": {
      "text/plain": [
       "<Axes: xlabel='Capes', ylabel='Buts'>"
      ]
     },
     "execution_count": 23,
     "metadata": {},
     "output_type": "execute_result"
    },
    {
     "data": {
      "image/png": "[encoded data removed]",
      "text/plain": [
       "<Figure size 640x480 with 1 Axes>"
      ]
     },
     "metadata": {},
     "output_type": "display_data"
    }
   ],
   "source": [
    "data2.plot.scatter(x=\"Capes\", y=\"Buts\")\n"
   ]
  },
  {
   "cell_type": "markdown",
   "id": "e622565b-df4c-4c8b-b709-8c5dbfed01de",
   "metadata": {},
   "source": [
    "On va s'intéresser maintenant aux données des joueurs Egyptiens, on vérifie les données puis on trace un graphe affichant le nombre de buts par joueur pour un nombre réduit de joueurs"
   ]
  },
  {
   "cell_type": "code",
   "execution_count": 24,
   "id": "d9e3eac1-8dec-47ee-973e-e352e717eeb7",
   "metadata": {},
   "outputs": [],
   "source": [
    "dfEgypte=data2.query(\"Equipe=='Egypt'\")"
   ]
  },
  {
   "cell_type": "code",
   "execution_count": 25,
   "id": "86778b7c-93a1-4c67-ae14-fb341d6905e9",
   "metadata": {},
   "outputs": [
    {
     "data": {
      "text/html": [
       "<div>\n",
       "<style scoped>\n",
       "    .dataframe tbody tr th:only-of-type {\n",
       "        vertical-align: middle;\n",
       "    }\n",
       "\n",
       "    .dataframe tbody tr th {\n",
       "        vertical-align: top;\n",
       "    }\n",
       "\n",
       "    .dataframe thead th {\n",
       "        text-align: right;\n",
       "    }\n",
       "</style>\n",
       "<table border=\"1\" class=\"dataframe\">\n",
       "  <thead>\n",
       "    <tr style=\"text-align: right;\">\n",
       "      <th></th>\n",
       "      <th>Equipe</th>\n",
       "      <th>Groupe</th>\n",
       "      <th>Poste</th>\n",
       "      <th>Nom</th>\n",
       "      <th>Naissance</th>\n",
       "      <th>Capes</th>\n",
       "      <th>Buts</th>\n",
       "      <th>Pays et Club</th>\n",
       "    </tr>\n",
       "  </thead>\n",
       "  <tbody>\n",
       "    <tr>\n",
       "      <th>18</th>\n",
       "      <td>Egypt</td>\n",
       "      <td>A</td>\n",
       "      <td>MF</td>\n",
       "      <td>Ramadan Sobhi</td>\n",
       "      <td>1997-01-23</td>\n",
       "      <td>21</td>\n",
       "      <td>1</td>\n",
       "      <td>England Stoke City</td>\n",
       "    </tr>\n",
       "    <tr>\n",
       "      <th>19</th>\n",
       "      <td>Egypt</td>\n",
       "      <td>A</td>\n",
       "      <td>MF</td>\n",
       "      <td>Sam Morsy</td>\n",
       "      <td>1991-09-10</td>\n",
       "      <td>3</td>\n",
       "      <td>0</td>\n",
       "      <td>England Wigan Athletic</td>\n",
       "    </tr>\n",
       "    <tr>\n",
       "      <th>20</th>\n",
       "      <td>Egypt</td>\n",
       "      <td>A</td>\n",
       "      <td>MF</td>\n",
       "      <td>Shikabala</td>\n",
       "      <td>1986-03-05</td>\n",
       "      <td>28</td>\n",
       "      <td>2</td>\n",
       "      <td>Saudi Arabia Al Raed</td>\n",
       "    </tr>\n",
       "    <tr>\n",
       "      <th>21</th>\n",
       "      <td>Egypt</td>\n",
       "      <td>A</td>\n",
       "      <td>MF</td>\n",
       "      <td>Tarek Hamed</td>\n",
       "      <td>1988-10-24</td>\n",
       "      <td>19</td>\n",
       "      <td>0</td>\n",
       "      <td>Egypt Zamalek</td>\n",
       "    </tr>\n",
       "    <tr>\n",
       "      <th>22</th>\n",
       "      <td>Egypt</td>\n",
       "      <td>A</td>\n",
       "      <td>MF</td>\n",
       "      <td>Trézéguet</td>\n",
       "      <td>1994-10-01</td>\n",
       "      <td>23</td>\n",
       "      <td>2</td>\n",
       "      <td>Turkey Kasımpaşa</td>\n",
       "    </tr>\n",
       "  </tbody>\n",
       "</table>\n",
       "</div>"
      ],
      "text/plain": [
       "   Equipe Groupe Poste            Nom  Naissance  Capes  Buts  \\\n",
       "18  Egypt      A    MF  Ramadan Sobhi 1997-01-23     21     1   \n",
       "19  Egypt      A    MF      Sam Morsy 1991-09-10      3     0   \n",
       "20  Egypt      A    MF      Shikabala 1986-03-05     28     2   \n",
       "21  Egypt      A    MF    Tarek Hamed 1988-10-24     19     0   \n",
       "22  Egypt      A    MF      Trézéguet 1994-10-01     23     2   \n",
       "\n",
       "              Pays et Club  \n",
       "18      England Stoke City  \n",
       "19  England Wigan Athletic  \n",
       "20    Saudi Arabia Al Raed  \n",
       "21           Egypt Zamalek  \n",
       "22        Turkey Kasımpaşa  "
      ]
     },
     "execution_count": 25,
     "metadata": {},
     "output_type": "execute_result"
    }
   ],
   "source": [
    "dfEgypte.tail()"
   ]
  },
  {
   "cell_type": "code",
   "execution_count": 26,
   "id": "63f34dae-b51c-460d-82e0-e9af2a1c06ff",
   "metadata": {},
   "outputs": [
    {
     "name": "stdout",
     "output_type": "stream",
     "text": [
      "Requirement already satisfied: matplotlib in //miniconda3/lib/python3.11/site-packages (3.7.2)\n",
      "Requirement already satisfied: contourpy>=1.0.1 in //miniconda3/lib/python3.11/site-packages (from matplotlib) (1.1.0)\n",
      "Requirement already satisfied: cycler>=0.10 in //miniconda3/lib/python3.11/site-packages (from matplotlib) (0.11.0)\n",
      "Requirement already satisfied: fonttools>=4.22.0 in //miniconda3/lib/python3.11/site-packages (from matplotlib) (4.42.1)\n",
      "Requirement already satisfied: kiwisolver>=1.0.1 in //miniconda3/lib/python3.11/site-packages (from matplotlib) (1.4.5)\n",
      "Requirement already satisfied: numpy>=1.20 in //miniconda3/lib/python3.11/site-packages (from matplotlib) (1.25.2)\n",
      "Requirement already satisfied: packaging>=20.0 in //miniconda3/lib/python3.11/site-packages (from matplotlib) (23.0)\n",
      "Requirement already satisfied: pillow>=6.2.0 in //miniconda3/lib/python3.11/site-packages (from matplotlib) (10.0.0)\n",
      "Requirement already satisfied: pyparsing<3.1,>=2.3.1 in //miniconda3/lib/python3.11/site-packages (from matplotlib) (3.0.9)\n",
      "Requirement already satisfied: python-dateutil>=2.7 in //miniconda3/lib/python3.11/site-packages (from matplotlib) (2.8.2)\n",
      "Requirement already satisfied: six>=1.5 in //miniconda3/lib/python3.11/site-packages (from python-dateutil>=2.7->matplotlib) (1.16.0)\n",
      "Note: you may need to restart the kernel to use updated packages.\n"
     ]
    }
   ],
   "source": [
    "pip install matplotlib"
   ]
  },
  {
   "cell_type": "code",
   "execution_count": 27,
   "id": "3e54d866-5432-4c71-a9b0-f32714f75e7b",
   "metadata": {},
   "outputs": [],
   "source": [
    "dfEgypte2=dfEgypte.loc[6:10]"
   ]
  },
  {
   "cell_type": "code",
   "execution_count": 28,
   "id": "2e2c81d7-edf1-4589-a46f-13b4699e578b",
   "metadata": {},
   "outputs": [
    {
     "data": {
      "text/html": [
       "<div>\n",
       "<style scoped>\n",
       "    .dataframe tbody tr th:only-of-type {\n",
       "        vertical-align: middle;\n",
       "    }\n",
       "\n",
       "    .dataframe tbody tr th {\n",
       "        vertical-align: top;\n",
       "    }\n",
       "\n",
       "    .dataframe thead th {\n",
       "        text-align: right;\n",
       "    }\n",
       "</style>\n",
       "<table border=\"1\" class=\"dataframe\">\n",
       "  <thead>\n",
       "    <tr style=\"text-align: right;\">\n",
       "      <th></th>\n",
       "      <th>Equipe</th>\n",
       "      <th>Groupe</th>\n",
       "      <th>Poste</th>\n",
       "      <th>Nom</th>\n",
       "      <th>Naissance</th>\n",
       "      <th>Capes</th>\n",
       "      <th>Buts</th>\n",
       "      <th>Pays et Club</th>\n",
       "    </tr>\n",
       "  </thead>\n",
       "  <tbody>\n",
       "    <tr>\n",
       "      <th>6</th>\n",
       "      <td>Egypt</td>\n",
       "      <td>A</td>\n",
       "      <td>DF</td>\n",
       "      <td>Mohamed Abdel-Shafy</td>\n",
       "      <td>1985-07-01</td>\n",
       "      <td>49</td>\n",
       "      <td>1</td>\n",
       "      <td>Saudi Arabia Al Fateh</td>\n",
       "    </tr>\n",
       "    <tr>\n",
       "      <th>7</th>\n",
       "      <td>Egypt</td>\n",
       "      <td>A</td>\n",
       "      <td>DF</td>\n",
       "      <td>Omar Gaber</td>\n",
       "      <td>1992-01-30</td>\n",
       "      <td>23</td>\n",
       "      <td>0</td>\n",
       "      <td>United States Los Angeles FC</td>\n",
       "    </tr>\n",
       "    <tr>\n",
       "      <th>8</th>\n",
       "      <td>Egypt</td>\n",
       "      <td>A</td>\n",
       "      <td>DF</td>\n",
       "      <td>Saad Samir</td>\n",
       "      <td>1989-04-01</td>\n",
       "      <td>10</td>\n",
       "      <td>0</td>\n",
       "      <td>Egypt Al Ahly</td>\n",
       "    </tr>\n",
       "    <tr>\n",
       "      <th>9</th>\n",
       "      <td>Egypt</td>\n",
       "      <td>A</td>\n",
       "      <td>FW</td>\n",
       "      <td>Marwan Mohsen</td>\n",
       "      <td>1989-02-26</td>\n",
       "      <td>22</td>\n",
       "      <td>4</td>\n",
       "      <td>Egypt Al Ahly</td>\n",
       "    </tr>\n",
       "    <tr>\n",
       "      <th>10</th>\n",
       "      <td>Egypt</td>\n",
       "      <td>A</td>\n",
       "      <td>FW</td>\n",
       "      <td>Mohamed Salah</td>\n",
       "      <td>1992-06-15</td>\n",
       "      <td>57</td>\n",
       "      <td>33</td>\n",
       "      <td>England Liverpool</td>\n",
       "    </tr>\n",
       "  </tbody>\n",
       "</table>\n",
       "</div>"
      ],
      "text/plain": [
       "   Equipe Groupe Poste                  Nom  Naissance  Capes  Buts  \\\n",
       "6   Egypt      A    DF  Mohamed Abdel-Shafy 1985-07-01     49     1   \n",
       "7   Egypt      A    DF           Omar Gaber 1992-01-30     23     0   \n",
       "8   Egypt      A    DF           Saad Samir 1989-04-01     10     0   \n",
       "9   Egypt      A    FW        Marwan Mohsen 1989-02-26     22     4   \n",
       "10  Egypt      A    FW        Mohamed Salah 1992-06-15     57    33   \n",
       "\n",
       "                    Pays et Club  \n",
       "6          Saudi Arabia Al Fateh  \n",
       "7   United States Los Angeles FC  \n",
       "8                  Egypt Al Ahly  \n",
       "9                  Egypt Al Ahly  \n",
       "10             England Liverpool  "
      ]
     },
     "execution_count": 28,
     "metadata": {},
     "output_type": "execute_result"
    }
   ],
   "source": [
    "dfEgypte2"
   ]
  },
  {
   "cell_type": "code",
   "execution_count": 29,
   "id": "f0febfb6-d3c5-440a-9aa7-3a1fdb8b400a",
   "metadata": {},
   "outputs": [
    {
     "data": {
      "text/plain": [
       "<Axes: xlabel='Nom des joueurs'>"
      ]
     },
     "execution_count": 29,
     "metadata": {},
     "output_type": "execute_result"
    },
    {
     "data": {
      "image/png": "[encoded data removed]",
      "text/plain": [
       "<Figure size 640x480 with 1 Axes>"
      ]
     },
     "metadata": {},
     "output_type": "display_data"
    }
   ],
   "source": [
    "dfEgypte2.plot(x=\"Nom\", y=\"Buts\", label=\"Nombre de buts par joueur\", color=\"blue\",legend=True, xlabel=\"Nom des joueurs\")"
   ]
  },
  {
   "cell_type": "markdown",
   "id": "2c6fcdf1-4be9-498d-8a27-a47da480200d",
   "metadata": {},
   "source": [
    "On réalise un groupby et on réunit les données par pays"
   ]
  },
  {
   "cell_type": "code",
   "execution_count": 30,
   "id": "2b06ca56-2fd8-4d02-a99f-feaba648403b",
   "metadata": {},
   "outputs": [],
   "source": [
    "groupe = data2.groupby(\"Equipe\")"
   ]
  },
  {
   "cell_type": "code",
   "execution_count": 31,
   "id": "8848e98b-a13e-4845-8692-fdeaa0adb94c",
   "metadata": {},
   "outputs": [
    {
     "data": {
      "text/html": [
       "<div>\n",
       "<style scoped>\n",
       "    .dataframe tbody tr th:only-of-type {\n",
       "        vertical-align: middle;\n",
       "    }\n",
       "\n",
       "    .dataframe tbody tr th {\n",
       "        vertical-align: top;\n",
       "    }\n",
       "\n",
       "    .dataframe thead th {\n",
       "        text-align: right;\n",
       "    }\n",
       "</style>\n",
       "<table border=\"1\" class=\"dataframe\">\n",
       "  <thead>\n",
       "    <tr style=\"text-align: right;\">\n",
       "      <th></th>\n",
       "      <th>Equipe</th>\n",
       "      <th>Groupe</th>\n",
       "      <th>Poste</th>\n",
       "      <th>Nom</th>\n",
       "      <th>Naissance</th>\n",
       "      <th>Capes</th>\n",
       "      <th>Buts</th>\n",
       "      <th>Pays et Club</th>\n",
       "    </tr>\n",
       "  </thead>\n",
       "  <tbody>\n",
       "    <tr>\n",
       "      <th>230</th>\n",
       "      <td>France</td>\n",
       "      <td>C</td>\n",
       "      <td>DF</td>\n",
       "      <td>Adil Rami</td>\n",
       "      <td>1985-12-27</td>\n",
       "      <td>33</td>\n",
       "      <td>1</td>\n",
       "      <td>France Marseille</td>\n",
       "    </tr>\n",
       "    <tr>\n",
       "      <th>231</th>\n",
       "      <td>France</td>\n",
       "      <td>C</td>\n",
       "      <td>DF</td>\n",
       "      <td>Benjamin Mendy</td>\n",
       "      <td>1994-07-17</td>\n",
       "      <td>4</td>\n",
       "      <td>0</td>\n",
       "      <td>England Manchester City</td>\n",
       "    </tr>\n",
       "    <tr>\n",
       "      <th>232</th>\n",
       "      <td>France</td>\n",
       "      <td>C</td>\n",
       "      <td>DF</td>\n",
       "      <td>Benjamin Pavard</td>\n",
       "      <td>1996-03-28</td>\n",
       "      <td>3</td>\n",
       "      <td>0</td>\n",
       "      <td>Germany VfB Stuttgart</td>\n",
       "    </tr>\n",
       "    <tr>\n",
       "      <th>233</th>\n",
       "      <td>France</td>\n",
       "      <td>C</td>\n",
       "      <td>DF</td>\n",
       "      <td>Djibril Sidibé</td>\n",
       "      <td>1992-07-29</td>\n",
       "      <td>15</td>\n",
       "      <td>1</td>\n",
       "      <td>France Monaco</td>\n",
       "    </tr>\n",
       "    <tr>\n",
       "      <th>234</th>\n",
       "      <td>France</td>\n",
       "      <td>C</td>\n",
       "      <td>DF</td>\n",
       "      <td>Lucas Hernández</td>\n",
       "      <td>1996-02-14</td>\n",
       "      <td>2</td>\n",
       "      <td>0</td>\n",
       "      <td>Spain Atlético Madrid</td>\n",
       "    </tr>\n",
       "    <tr>\n",
       "      <th>235</th>\n",
       "      <td>France</td>\n",
       "      <td>C</td>\n",
       "      <td>DF</td>\n",
       "      <td>Presnel Kimpembe</td>\n",
       "      <td>1995-08-13</td>\n",
       "      <td>1</td>\n",
       "      <td>0</td>\n",
       "      <td>France Paris Saint-Germain</td>\n",
       "    </tr>\n",
       "    <tr>\n",
       "      <th>236</th>\n",
       "      <td>France</td>\n",
       "      <td>C</td>\n",
       "      <td>DF</td>\n",
       "      <td>Raphaël Varane</td>\n",
       "      <td>1993-04-25</td>\n",
       "      <td>41</td>\n",
       "      <td>2</td>\n",
       "      <td>Spain Real Madrid</td>\n",
       "    </tr>\n",
       "    <tr>\n",
       "      <th>237</th>\n",
       "      <td>France</td>\n",
       "      <td>C</td>\n",
       "      <td>DF</td>\n",
       "      <td>Samuel Umtiti</td>\n",
       "      <td>1993-11-14</td>\n",
       "      <td>16</td>\n",
       "      <td>1</td>\n",
       "      <td>Spain Barcelona</td>\n",
       "    </tr>\n",
       "    <tr>\n",
       "      <th>238</th>\n",
       "      <td>France</td>\n",
       "      <td>C</td>\n",
       "      <td>FW</td>\n",
       "      <td>Antoine Griezmann</td>\n",
       "      <td>1991-03-21</td>\n",
       "      <td>51</td>\n",
       "      <td>19</td>\n",
       "      <td>Spain Atlético Madrid</td>\n",
       "    </tr>\n",
       "    <tr>\n",
       "      <th>239</th>\n",
       "      <td>France</td>\n",
       "      <td>C</td>\n",
       "      <td>FW</td>\n",
       "      <td>Florian Thauvin</td>\n",
       "      <td>1993-01-26</td>\n",
       "      <td>3</td>\n",
       "      <td>0</td>\n",
       "      <td>France Marseille</td>\n",
       "    </tr>\n",
       "    <tr>\n",
       "      <th>240</th>\n",
       "      <td>France</td>\n",
       "      <td>C</td>\n",
       "      <td>FW</td>\n",
       "      <td>Kylian Mbappé</td>\n",
       "      <td>1998-12-20</td>\n",
       "      <td>12</td>\n",
       "      <td>3</td>\n",
       "      <td>France Paris Saint-Germain</td>\n",
       "    </tr>\n",
       "    <tr>\n",
       "      <th>241</th>\n",
       "      <td>France</td>\n",
       "      <td>C</td>\n",
       "      <td>FW</td>\n",
       "      <td>Nabil Fekir</td>\n",
       "      <td>1993-07-18</td>\n",
       "      <td>10</td>\n",
       "      <td>1</td>\n",
       "      <td>France Lyon</td>\n",
       "    </tr>\n",
       "    <tr>\n",
       "      <th>242</th>\n",
       "      <td>France</td>\n",
       "      <td>C</td>\n",
       "      <td>FW</td>\n",
       "      <td>Olivier Giroud</td>\n",
       "      <td>1986-09-30</td>\n",
       "      <td>71</td>\n",
       "      <td>30</td>\n",
       "      <td>England Chelsea</td>\n",
       "    </tr>\n",
       "    <tr>\n",
       "      <th>243</th>\n",
       "      <td>France</td>\n",
       "      <td>C</td>\n",
       "      <td>FW</td>\n",
       "      <td>Ousmane Dembélé</td>\n",
       "      <td>1997-05-15</td>\n",
       "      <td>9</td>\n",
       "      <td>1</td>\n",
       "      <td>Spain Barcelona</td>\n",
       "    </tr>\n",
       "    <tr>\n",
       "      <th>244</th>\n",
       "      <td>France</td>\n",
       "      <td>C</td>\n",
       "      <td>GK</td>\n",
       "      <td>Alphonse Areola</td>\n",
       "      <td>1993-02-27</td>\n",
       "      <td>0</td>\n",
       "      <td>0</td>\n",
       "      <td>France Paris Saint-Germain</td>\n",
       "    </tr>\n",
       "    <tr>\n",
       "      <th>245</th>\n",
       "      <td>France</td>\n",
       "      <td>C</td>\n",
       "      <td>GK</td>\n",
       "      <td>Hugo Lloris (captain)</td>\n",
       "      <td>1986-12-26</td>\n",
       "      <td>96</td>\n",
       "      <td>0</td>\n",
       "      <td>England Tottenham Hotspur</td>\n",
       "    </tr>\n",
       "    <tr>\n",
       "      <th>246</th>\n",
       "      <td>France</td>\n",
       "      <td>C</td>\n",
       "      <td>GK</td>\n",
       "      <td>Steve Mandanda</td>\n",
       "      <td>1985-03-28</td>\n",
       "      <td>26</td>\n",
       "      <td>0</td>\n",
       "      <td>France Marseille</td>\n",
       "    </tr>\n",
       "    <tr>\n",
       "      <th>247</th>\n",
       "      <td>France</td>\n",
       "      <td>C</td>\n",
       "      <td>MF</td>\n",
       "      <td>Blaise Matuidi</td>\n",
       "      <td>1987-04-09</td>\n",
       "      <td>64</td>\n",
       "      <td>9</td>\n",
       "      <td>Italy Juventus</td>\n",
       "    </tr>\n",
       "    <tr>\n",
       "      <th>248</th>\n",
       "      <td>France</td>\n",
       "      <td>C</td>\n",
       "      <td>MF</td>\n",
       "      <td>Corentin Tolisso</td>\n",
       "      <td>1994-08-03</td>\n",
       "      <td>6</td>\n",
       "      <td>0</td>\n",
       "      <td>Germany Bayern Munich</td>\n",
       "    </tr>\n",
       "    <tr>\n",
       "      <th>249</th>\n",
       "      <td>France</td>\n",
       "      <td>C</td>\n",
       "      <td>MF</td>\n",
       "      <td>N'Golo Kanté</td>\n",
       "      <td>1991-03-29</td>\n",
       "      <td>22</td>\n",
       "      <td>1</td>\n",
       "      <td>England Chelsea</td>\n",
       "    </tr>\n",
       "    <tr>\n",
       "      <th>250</th>\n",
       "      <td>France</td>\n",
       "      <td>C</td>\n",
       "      <td>MF</td>\n",
       "      <td>Paul Pogba</td>\n",
       "      <td>1993-03-15</td>\n",
       "      <td>51</td>\n",
       "      <td>9</td>\n",
       "      <td>England Manchester United</td>\n",
       "    </tr>\n",
       "    <tr>\n",
       "      <th>251</th>\n",
       "      <td>France</td>\n",
       "      <td>C</td>\n",
       "      <td>MF</td>\n",
       "      <td>Steven Nzonzi</td>\n",
       "      <td>1988-12-15</td>\n",
       "      <td>2</td>\n",
       "      <td>0</td>\n",
       "      <td>Spain Sevilla</td>\n",
       "    </tr>\n",
       "    <tr>\n",
       "      <th>252</th>\n",
       "      <td>France</td>\n",
       "      <td>C</td>\n",
       "      <td>MF</td>\n",
       "      <td>Thomas Lemar</td>\n",
       "      <td>1995-11-12</td>\n",
       "      <td>10</td>\n",
       "      <td>3</td>\n",
       "      <td>France Monaco</td>\n",
       "    </tr>\n",
       "  </tbody>\n",
       "</table>\n",
       "</div>"
      ],
      "text/plain": [
       "     Equipe Groupe Poste                    Nom  Naissance  Capes  Buts  \\\n",
       "230  France      C    DF              Adil Rami 1985-12-27     33     1   \n",
       "231  France      C    DF         Benjamin Mendy 1994-07-17      4     0   \n",
       "232  France      C    DF        Benjamin Pavard 1996-03-28      3     0   \n",
       "233  France      C    DF         Djibril Sidibé 1992-07-29     15     1   \n",
       "234  France      C    DF        Lucas Hernández 1996-02-14      2     0   \n",
       "235  France      C    DF       Presnel Kimpembe 1995-08-13      1     0   \n",
       "236  France      C    DF         Raphaël Varane 1993-04-25     41     2   \n",
       "237  France      C    DF          Samuel Umtiti 1993-11-14     16     1   \n",
       "238  France      C    FW      Antoine Griezmann 1991-03-21     51    19   \n",
       "239  France      C    FW        Florian Thauvin 1993-01-26      3     0   \n",
       "240  France      C    FW          Kylian Mbappé 1998-12-20     12     3   \n",
       "241  France      C    FW            Nabil Fekir 1993-07-18     10     1   \n",
       "242  France      C    FW         Olivier Giroud 1986-09-30     71    30   \n",
       "243  France      C    FW        Ousmane Dembélé 1997-05-15      9     1   \n",
       "244  France      C    GK        Alphonse Areola 1993-02-27      0     0   \n",
       "245  France      C    GK  Hugo Lloris (captain) 1986-12-26     96     0   \n",
       "246  France      C    GK         Steve Mandanda 1985-03-28     26     0   \n",
       "247  France      C    MF         Blaise Matuidi 1987-04-09     64     9   \n",
       "248  France      C    MF       Corentin Tolisso 1994-08-03      6     0   \n",
       "249  France      C    MF           N'Golo Kanté 1991-03-29     22     1   \n",
       "250  France      C    MF             Paul Pogba 1993-03-15     51     9   \n",
       "251  France      C    MF          Steven Nzonzi 1988-12-15      2     0   \n",
       "252  France      C    MF           Thomas Lemar 1995-11-12     10     3   \n",
       "\n",
       "                   Pays et Club  \n",
       "230            France Marseille  \n",
       "231     England Manchester City  \n",
       "232       Germany VfB Stuttgart  \n",
       "233               France Monaco  \n",
       "234       Spain Atlético Madrid  \n",
       "235  France Paris Saint-Germain  \n",
       "236           Spain Real Madrid  \n",
       "237             Spain Barcelona  \n",
       "238       Spain Atlético Madrid  \n",
       "239            France Marseille  \n",
       "240  France Paris Saint-Germain  \n",
       "241                 France Lyon  \n",
       "242             England Chelsea  \n",
       "243             Spain Barcelona  \n",
       "244  France Paris Saint-Germain  \n",
       "245   England Tottenham Hotspur  \n",
       "246            France Marseille  \n",
       "247              Italy Juventus  \n",
       "248       Germany Bayern Munich  \n",
       "249             England Chelsea  \n",
       "250   England Manchester United  \n",
       "251               Spain Sevilla  \n",
       "252               France Monaco  "
      ]
     },
     "execution_count": 31,
     "metadata": {},
     "output_type": "execute_result"
    }
   ],
   "source": [
    "groupe.get_group(\"France\")"
   ]
  },
  {
   "cell_type": "code",
   "execution_count": 32,
   "id": "35089238-61af-48d7-bf6c-6c191db9e298",
   "metadata": {},
   "outputs": [
    {
     "data": {
      "text/plain": [
       "Equipe\n",
       "Argentina       61\n",
       "Australia       50\n",
       "Belgium         30\n",
       "Brazil          53\n",
       "Colombia        29\n",
       "Costa Rica      23\n",
       "Croatia         30\n",
       "Denmark         21\n",
       "Egypt           33\n",
       "England         15\n",
       "France          30\n",
       "Germany         38\n",
       "Iceland         18\n",
       "Iran            23\n",
       "Japan           50\n",
       "Mexico          49\n",
       "Morocco         10\n",
       "Nigeria         13\n",
       "Panama          43\n",
       "Peru            34\n",
       "Poland          52\n",
       "Portugal        81\n",
       "Russia          12\n",
       "Saudi Arabia    28\n",
       "Senegal         18\n",
       "Serbia          13\n",
       "South Korea     20\n",
       "Spain           35\n",
       "Sweden          18\n",
       "Switzerland     20\n",
       "Tunisia         12\n",
       "Uruguay         50\n",
       "Name: Buts, dtype: int64"
      ]
     },
     "execution_count": 32,
     "metadata": {},
     "output_type": "execute_result"
    }
   ],
   "source": [
    "groupe[\"Buts\"].max()"
   ]
  },
  {
   "cell_type": "markdown",
   "id": "191d3efd-f537-4504-b16a-b6d97b02b681",
   "metadata": {},
   "source": [
    "Affichage du nombre total de buts marqués par l'ensemble des joueurs d'une équipe au sein de toute leur carrière internationale"
   ]
  },
  {
   "cell_type": "code",
   "execution_count": 33,
   "id": "b689f9ab-22db-4f0b-8a3a-4d5d5c8d2dd2",
   "metadata": {},
   "outputs": [
    {
     "data": {
      "text/plain": [
       "<Axes: xlabel='Equipe'>"
      ]
     },
     "execution_count": 33,
     "metadata": {},
     "output_type": "execute_result"
    },
    {
     "data": {
      "image/png": "[encoded data removed]",
      "text/plain": [
       "<Figure size 640x480 with 1 Axes>"
      ]
     },
     "metadata": {},
     "output_type": "display_data"
    }
   ],
   "source": [
    "data2.groupby(\"Equipe\")[\"Buts\"].sum().plot()"
   ]
  },
  {
   "cell_type": "code",
   "execution_count": null,
   "id": "970f0425-7490-4521-9087-34def726de13",
   "metadata": {},
   "outputs": [],
   "source": []
  }
 ],
 "metadata": {
  "kernelspec": {
   "display_name": "Python 3 (ipykernel)",
   "language": "python",
   "name": "python3"
  },
  "language_info": {
   "codemirror_mode": {
    "name": "ipython",
    "version": 3
   },
   "file_extension": ".py",
   "mimetype": "text/x-python",
   "name": "python",
   "nbconvert_exporter": "python",
   "pygments_lexer": "ipython3",
   "version": "3.11.4"
  }
 },
 "nbformat": 4,
 "nbformat_minor": 5
}
