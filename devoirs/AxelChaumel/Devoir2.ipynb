{
 "cells": [
  {
   "cell_type": "markdown",
   "id": "bf5d9fe1-fd7d-444d-88d6-ed0a09aa9a66",
   "metadata": {},
   "source": [
    "# Traitement des données relatives à tous les joueurs ayant participé à la coupe du monde 2018 de football"
   ]
  },
  {
   "cell_type": "markdown",
   "id": "0e76fcd0-836e-4ac8-86a9-fd66ac75d8dd",
   "metadata": {},
   "source": [
    "### Il s'agira ici de déblayer les nombreuses données relatives à cet évenement mondial afin de tenter de comparer les équipes, les joueurs, et de dégager des tendances d'ensemble."
   ]
  },
  {
   "cell_type": "code",
   "execution_count": 1,
   "id": "d2a497d2-51fa-4611-a6cb-ec11a59f9536",
   "metadata": {},
   "outputs": [
    {
     "name": "stdout",
     "output_type": "stream",
     "text": [
      "Requirement already satisfied: openpyxl in //miniconda3/lib/python3.11/site-packages (3.1.2)\n",
      "Requirement already satisfied: et-xmlfile in //miniconda3/lib/python3.11/site-packages (from openpyxl) (1.1.0)\n",
      "Note: you may need to restart the kernel to use updated packages.\n"
     ]
    }
   ],
   "source": [
    "pip install openpyxl"
   ]
  },
  {
   "cell_type": "code",
   "execution_count": 2,
   "id": "6f53acf3-00a4-48e2-b163-2769de4f194d",
   "metadata": {},
   "outputs": [],
   "source": [
    "import pandas as pd"
   ]
  },
  {
   "cell_type": "code",
   "execution_count": 3,
   "id": "3f261797-ebdf-4466-89f9-a39129a6145c",
   "metadata": {},
   "outputs": [],
   "source": [
    "url = \"https://public.tableau.com/app/sample-data/world_cup_2018_squads.xlsx\"\n",
    "data = pd.read_excel(url)"
   ]
  },
  {
   "cell_type": "markdown",
   "id": "6a695720-85c0-48a3-a564-d54790772f83",
   "metadata": {},
   "source": [
    "##### Première approche des données"
   ]
  },
  {
   "cell_type": "code",
   "execution_count": 4,
   "id": "241d1132-f876-4992-885b-6adc0d72e432",
   "metadata": {},
   "outputs": [
    {
     "data": {
      "text/html": [
       "<div>\n",
       "<style scoped>\n",
       "    .dataframe tbody tr th:only-of-type {\n",
       "        vertical-align: middle;\n",
       "    }\n",
       "\n",
       "    .dataframe tbody tr th {\n",
       "        vertical-align: top;\n",
       "    }\n",
       "\n",
       "    .dataframe thead th {\n",
       "        text-align: right;\n",
       "    }\n",
       "</style>\n",
       "<table border=\"1\" class=\"dataframe\">\n",
       "  <thead>\n",
       "    <tr style=\"text-align: right;\">\n",
       "      <th></th>\n",
       "      <th>Type</th>\n",
       "      <th>Team</th>\n",
       "      <th>Group</th>\n",
       "      <th>Position</th>\n",
       "      <th>Name</th>\n",
       "      <th>DOB</th>\n",
       "      <th>Caps</th>\n",
       "      <th>Goals</th>\n",
       "      <th>Country and Club</th>\n",
       "    </tr>\n",
       "  </thead>\n",
       "  <tbody>\n",
       "    <tr>\n",
       "      <th>0</th>\n",
       "      <td>Age</td>\n",
       "      <td>Egypt</td>\n",
       "      <td>A</td>\n",
       "      <td>DF</td>\n",
       "      <td>Ahmed Elmohamady</td>\n",
       "      <td>1987-09-09</td>\n",
       "      <td>76</td>\n",
       "      <td>2</td>\n",
       "      <td>England Aston Villa</td>\n",
       "    </tr>\n",
       "    <tr>\n",
       "      <th>1</th>\n",
       "      <td>Age</td>\n",
       "      <td>Egypt</td>\n",
       "      <td>A</td>\n",
       "      <td>DF</td>\n",
       "      <td>Ahmed Fathy</td>\n",
       "      <td>1984-11-10</td>\n",
       "      <td>124</td>\n",
       "      <td>3</td>\n",
       "      <td>Egypt Al Ahly</td>\n",
       "    </tr>\n",
       "    <tr>\n",
       "      <th>2</th>\n",
       "      <td>Age</td>\n",
       "      <td>Egypt</td>\n",
       "      <td>A</td>\n",
       "      <td>DF</td>\n",
       "      <td>Ahmed Hegazi</td>\n",
       "      <td>1991-01-25</td>\n",
       "      <td>43</td>\n",
       "      <td>1</td>\n",
       "      <td>England West Bromwich Albion</td>\n",
       "    </tr>\n",
       "    <tr>\n",
       "      <th>3</th>\n",
       "      <td>Age</td>\n",
       "      <td>Egypt</td>\n",
       "      <td>A</td>\n",
       "      <td>DF</td>\n",
       "      <td>Ali Gabr</td>\n",
       "      <td>1993-07-28</td>\n",
       "      <td>20</td>\n",
       "      <td>1</td>\n",
       "      <td>England West Bromwich Albion</td>\n",
       "    </tr>\n",
       "    <tr>\n",
       "      <th>4</th>\n",
       "      <td>Age</td>\n",
       "      <td>Egypt</td>\n",
       "      <td>A</td>\n",
       "      <td>DF</td>\n",
       "      <td>Ayman Ashraf</td>\n",
       "      <td>1991-04-09</td>\n",
       "      <td>4</td>\n",
       "      <td>0</td>\n",
       "      <td>Egypt Al Ahly</td>\n",
       "    </tr>\n",
       "  </tbody>\n",
       "</table>\n",
       "</div>"
      ],
      "text/plain": [
       "  Type   Team Group Position              Name         DOB  Caps  Goals  \\\n",
       "0  Age  Egypt     A       DF  Ahmed Elmohamady  1987-09-09    76      2   \n",
       "1  Age  Egypt     A       DF       Ahmed Fathy  1984-11-10   124      3   \n",
       "2  Age  Egypt     A       DF      Ahmed Hegazi  1991-01-25    43      1   \n",
       "3  Age  Egypt     A       DF          Ali Gabr  1993-07-28    20      1   \n",
       "4  Age  Egypt     A       DF      Ayman Ashraf  1991-04-09     4      0   \n",
       "\n",
       "               Country and Club  \n",
       "0           England Aston Villa  \n",
       "1                 Egypt Al Ahly  \n",
       "2  England West Bromwich Albion  \n",
       "3  England West Bromwich Albion  \n",
       "4                 Egypt Al Ahly  "
      ]
     },
     "execution_count": 4,
     "metadata": {},
     "output_type": "execute_result"
    }
   ],
   "source": [
    "data.head()"
   ]
  },
  {
   "cell_type": "markdown",
   "id": "6fea12ff-26a3-4b4f-92f2-7b3af88f29c2",
   "metadata": {},
   "source": [
    "##### Suppression de la colonne dite 'Type'"
   ]
  },
  {
   "cell_type": "code",
   "execution_count": 5,
   "id": "e73d9082-6e6a-4820-a093-022cda1cddc0",
   "metadata": {},
   "outputs": [],
   "source": [
    "data2=data.drop(columns=\"Type\")"
   ]
  },
  {
   "cell_type": "markdown",
   "id": "79cd33cd-b3f5-4b58-8db6-5925256b1afd",
   "metadata": {},
   "source": [
    "On vérifie la suppression de la colonne"
   ]
  },
  {
   "cell_type": "code",
   "execution_count": 6,
   "id": "5529212a-c964-422d-a352-0e04c053a53b",
   "metadata": {},
   "outputs": [
    {
     "data": {
      "text/html": [
       "<div>\n",
       "<style scoped>\n",
       "    .dataframe tbody tr th:only-of-type {\n",
       "        vertical-align: middle;\n",
       "    }\n",
       "\n",
       "    .dataframe tbody tr th {\n",
       "        vertical-align: top;\n",
       "    }\n",
       "\n",
       "    .dataframe thead th {\n",
       "        text-align: right;\n",
       "    }\n",
       "</style>\n",
       "<table border=\"1\" class=\"dataframe\">\n",
       "  <thead>\n",
       "    <tr style=\"text-align: right;\">\n",
       "      <th></th>\n",
       "      <th>Team</th>\n",
       "      <th>Group</th>\n",
       "      <th>Position</th>\n",
       "      <th>Name</th>\n",
       "      <th>DOB</th>\n",
       "      <th>Caps</th>\n",
       "      <th>Goals</th>\n",
       "      <th>Country and Club</th>\n",
       "    </tr>\n",
       "  </thead>\n",
       "  <tbody>\n",
       "    <tr>\n",
       "      <th>0</th>\n",
       "      <td>Egypt</td>\n",
       "      <td>A</td>\n",
       "      <td>DF</td>\n",
       "      <td>Ahmed Elmohamady</td>\n",
       "      <td>1987-09-09</td>\n",
       "      <td>76</td>\n",
       "      <td>2</td>\n",
       "      <td>England Aston Villa</td>\n",
       "    </tr>\n",
       "    <tr>\n",
       "      <th>1</th>\n",
       "      <td>Egypt</td>\n",
       "      <td>A</td>\n",
       "      <td>DF</td>\n",
       "      <td>Ahmed Fathy</td>\n",
       "      <td>1984-11-10</td>\n",
       "      <td>124</td>\n",
       "      <td>3</td>\n",
       "      <td>Egypt Al Ahly</td>\n",
       "    </tr>\n",
       "    <tr>\n",
       "      <th>2</th>\n",
       "      <td>Egypt</td>\n",
       "      <td>A</td>\n",
       "      <td>DF</td>\n",
       "      <td>Ahmed Hegazi</td>\n",
       "      <td>1991-01-25</td>\n",
       "      <td>43</td>\n",
       "      <td>1</td>\n",
       "      <td>England West Bromwich Albion</td>\n",
       "    </tr>\n",
       "    <tr>\n",
       "      <th>3</th>\n",
       "      <td>Egypt</td>\n",
       "      <td>A</td>\n",
       "      <td>DF</td>\n",
       "      <td>Ali Gabr</td>\n",
       "      <td>1993-07-28</td>\n",
       "      <td>20</td>\n",
       "      <td>1</td>\n",
       "      <td>England West Bromwich Albion</td>\n",
       "    </tr>\n",
       "    <tr>\n",
       "      <th>4</th>\n",
       "      <td>Egypt</td>\n",
       "      <td>A</td>\n",
       "      <td>DF</td>\n",
       "      <td>Ayman Ashraf</td>\n",
       "      <td>1991-04-09</td>\n",
       "      <td>4</td>\n",
       "      <td>0</td>\n",
       "      <td>Egypt Al Ahly</td>\n",
       "    </tr>\n",
       "  </tbody>\n",
       "</table>\n",
       "</div>"
      ],
      "text/plain": [
       "    Team Group Position              Name         DOB  Caps  Goals  \\\n",
       "0  Egypt     A       DF  Ahmed Elmohamady  1987-09-09    76      2   \n",
       "1  Egypt     A       DF       Ahmed Fathy  1984-11-10   124      3   \n",
       "2  Egypt     A       DF      Ahmed Hegazi  1991-01-25    43      1   \n",
       "3  Egypt     A       DF          Ali Gabr  1993-07-28    20      1   \n",
       "4  Egypt     A       DF      Ayman Ashraf  1991-04-09     4      0   \n",
       "\n",
       "               Country and Club  \n",
       "0           England Aston Villa  \n",
       "1                 Egypt Al Ahly  \n",
       "2  England West Bromwich Albion  \n",
       "3  England West Bromwich Albion  \n",
       "4                 Egypt Al Ahly  "
      ]
     },
     "execution_count": 6,
     "metadata": {},
     "output_type": "execute_result"
    }
   ],
   "source": [
    "data2.head()"
   ]
  },
  {
   "cell_type": "markdown",
   "id": "9229e64d-8e10-4d38-bc71-0617d132e51e",
   "metadata": {},
   "source": [
    "##### On vérifie la propreté des données, en particulier la possible absence de données."
   ]
  },
  {
   "cell_type": "code",
   "execution_count": 7,
   "id": "426b26c9-57e8-4cf4-a6ff-5e212d0a1d8e",
   "metadata": {},
   "outputs": [
    {
     "data": {
      "text/plain": [
       "Type                0\n",
       "Team                0\n",
       "Group               0\n",
       "Position            0\n",
       "Name                0\n",
       "DOB                 0\n",
       "Caps                0\n",
       "Goals               0\n",
       "Country and Club    0\n",
       "dtype: int64"
      ]
     },
     "execution_count": 7,
     "metadata": {},
     "output_type": "execute_result"
    }
   ],
   "source": [
    "data.isnull().sum()"
   ]
  },
  {
   "cell_type": "code",
   "execution_count": 8,
   "id": "1a588c29-d0f1-48c8-8393-3b8e9c1d8b9f",
   "metadata": {},
   "outputs": [
    {
     "data": {
      "text/plain": [
       "Team                object\n",
       "Group               object\n",
       "Position            object\n",
       "Name                object\n",
       "DOB                 object\n",
       "Caps                 int64\n",
       "Goals                int64\n",
       "Country and Club    object\n",
       "dtype: object"
      ]
     },
     "execution_count": 8,
     "metadata": {},
     "output_type": "execute_result"
    }
   ],
   "source": [
    "data2.dtypes"
   ]
  },
  {
   "cell_type": "markdown",
   "id": "1b882054-ac78-4004-9d14-321277335de1",
   "metadata": {},
   "source": [
    "##### On réalise un premier tri croissant en fonction du nombre de buts marqués, puis des capes (i.e nombre de matchs internationaux disputés par un joueur)."
   ]
  },
  {
   "cell_type": "code",
   "execution_count": 9,
   "id": "0cc0517f-21a9-4670-9593-426bde749872",
   "metadata": {},
   "outputs": [
    {
     "data": {
      "text/html": [
       "<div>\n",
       "<style scoped>\n",
       "    .dataframe tbody tr th:only-of-type {\n",
       "        vertical-align: middle;\n",
       "    }\n",
       "\n",
       "    .dataframe tbody tr th {\n",
       "        vertical-align: top;\n",
       "    }\n",
       "\n",
       "    .dataframe thead th {\n",
       "        text-align: right;\n",
       "    }\n",
       "</style>\n",
       "<table border=\"1\" class=\"dataframe\">\n",
       "  <thead>\n",
       "    <tr style=\"text-align: right;\">\n",
       "      <th></th>\n",
       "      <th>Team</th>\n",
       "      <th>Group</th>\n",
       "      <th>Position</th>\n",
       "      <th>Name</th>\n",
       "      <th>DOB</th>\n",
       "      <th>Caps</th>\n",
       "      <th>Goals</th>\n",
       "      <th>Country and Club</th>\n",
       "    </tr>\n",
       "  </thead>\n",
       "  <tbody>\n",
       "    <tr>\n",
       "      <th>1071</th>\n",
       "      <td>Iceland</td>\n",
       "      <td>D</td>\n",
       "      <td>GK</td>\n",
       "      <td>Hannes Þór Halldórsson</td>\n",
       "      <td>1984-04-27</td>\n",
       "      <td>48</td>\n",
       "      <td>0</td>\n",
       "      <td>Denmark Randers</td>\n",
       "    </tr>\n",
       "    <tr>\n",
       "      <th>980</th>\n",
       "      <td>France</td>\n",
       "      <td>C</td>\n",
       "      <td>GK</td>\n",
       "      <td>Alphonse Areola</td>\n",
       "      <td>1993-02-27</td>\n",
       "      <td>0</td>\n",
       "      <td>0</td>\n",
       "      <td>France Paris Saint-Germain</td>\n",
       "    </tr>\n",
       "    <tr>\n",
       "      <th>975</th>\n",
       "      <td>France</td>\n",
       "      <td>C</td>\n",
       "      <td>FW</td>\n",
       "      <td>Florian Thauvin</td>\n",
       "      <td>1993-01-26</td>\n",
       "      <td>3</td>\n",
       "      <td>0</td>\n",
       "      <td>France Marseille</td>\n",
       "    </tr>\n",
       "    <tr>\n",
       "      <th>449</th>\n",
       "      <td>Switzerland</td>\n",
       "      <td>E</td>\n",
       "      <td>GK</td>\n",
       "      <td>Roman Bürki</td>\n",
       "      <td>1990-11-14</td>\n",
       "      <td>8</td>\n",
       "      <td>0</td>\n",
       "      <td>Germany Borussia Dortmund</td>\n",
       "    </tr>\n",
       "    <tr>\n",
       "      <th>450</th>\n",
       "      <td>Switzerland</td>\n",
       "      <td>E</td>\n",
       "      <td>GK</td>\n",
       "      <td>Yann Sommer</td>\n",
       "      <td>1988-12-17</td>\n",
       "      <td>34</td>\n",
       "      <td>0</td>\n",
       "      <td>Germany Borussia Mönchengladbach</td>\n",
       "    </tr>\n",
       "    <tr>\n",
       "      <th>...</th>\n",
       "      <td>...</td>\n",
       "      <td>...</td>\n",
       "      <td>...</td>\n",
       "      <td>...</td>\n",
       "      <td>...</td>\n",
       "      <td>...</td>\n",
       "      <td>...</td>\n",
       "      <td>...</td>\n",
       "    </tr>\n",
       "    <tr>\n",
       "      <th>1114</th>\n",
       "      <td>Brazil</td>\n",
       "      <td>E</td>\n",
       "      <td>FW</td>\n",
       "      <td>Neymar</td>\n",
       "      <td>1992-02-05</td>\n",
       "      <td>83</td>\n",
       "      <td>53</td>\n",
       "      <td>France Paris Saint-Germain</td>\n",
       "    </tr>\n",
       "    <tr>\n",
       "      <th>286</th>\n",
       "      <td>Argentina</td>\n",
       "      <td>D</td>\n",
       "      <td>FW</td>\n",
       "      <td>Lionel Messi (captain)</td>\n",
       "      <td>1987-06-24</td>\n",
       "      <td>123</td>\n",
       "      <td>61</td>\n",
       "      <td>Spain Barcelona</td>\n",
       "    </tr>\n",
       "    <tr>\n",
       "      <th>1022</th>\n",
       "      <td>Argentina</td>\n",
       "      <td>D</td>\n",
       "      <td>FW</td>\n",
       "      <td>Lionel Messi (captain)</td>\n",
       "      <td>1987-06-24</td>\n",
       "      <td>123</td>\n",
       "      <td>61</td>\n",
       "      <td>Spain Barcelona</td>\n",
       "    </tr>\n",
       "    <tr>\n",
       "      <th>147</th>\n",
       "      <td>Portugal</td>\n",
       "      <td>B</td>\n",
       "      <td>FW</td>\n",
       "      <td>Cristiano Ronaldo (captain)</td>\n",
       "      <td>1985-02-05</td>\n",
       "      <td>149</td>\n",
       "      <td>81</td>\n",
       "      <td>Spain Real Madrid</td>\n",
       "    </tr>\n",
       "    <tr>\n",
       "      <th>883</th>\n",
       "      <td>Portugal</td>\n",
       "      <td>B</td>\n",
       "      <td>FW</td>\n",
       "      <td>Cristiano Ronaldo (captain)</td>\n",
       "      <td>1985-02-05</td>\n",
       "      <td>149</td>\n",
       "      <td>81</td>\n",
       "      <td>Spain Real Madrid</td>\n",
       "    </tr>\n",
       "  </tbody>\n",
       "</table>\n",
       "<p>1472 rows × 8 columns</p>\n",
       "</div>"
      ],
      "text/plain": [
       "             Team Group Position                         Name         DOB  \\\n",
       "1071      Iceland     D       GK       Hannes Þór Halldórsson  1984-04-27   \n",
       "980        France     C       GK              Alphonse Areola  1993-02-27   \n",
       "975        France     C       FW              Florian Thauvin  1993-01-26   \n",
       "449   Switzerland     E       GK                  Roman Bürki  1990-11-14   \n",
       "450   Switzerland     E       GK                  Yann Sommer  1988-12-17   \n",
       "...           ...   ...      ...                          ...         ...   \n",
       "1114       Brazil     E       FW                       Neymar  1992-02-05   \n",
       "286     Argentina     D       FW       Lionel Messi (captain)  1987-06-24   \n",
       "1022    Argentina     D       FW       Lionel Messi (captain)  1987-06-24   \n",
       "147      Portugal     B       FW  Cristiano Ronaldo (captain)  1985-02-05   \n",
       "883      Portugal     B       FW  Cristiano Ronaldo (captain)  1985-02-05   \n",
       "\n",
       "      Caps  Goals                  Country and Club  \n",
       "1071    48      0                   Denmark Randers  \n",
       "980      0      0        France Paris Saint-Germain  \n",
       "975      3      0                  France Marseille  \n",
       "449      8      0         Germany Borussia Dortmund  \n",
       "450     34      0  Germany Borussia Mönchengladbach  \n",
       "...    ...    ...                               ...  \n",
       "1114    83     53        France Paris Saint-Germain  \n",
       "286    123     61                   Spain Barcelona  \n",
       "1022   123     61                   Spain Barcelona  \n",
       "147    149     81                 Spain Real Madrid  \n",
       "883    149     81                 Spain Real Madrid  \n",
       "\n",
       "[1472 rows x 8 columns]"
      ]
     },
     "execution_count": 9,
     "metadata": {},
     "output_type": "execute_result"
    }
   ],
   "source": [
    "data2.sort_values(by=\"Goals\")"
   ]
  },
  {
   "cell_type": "markdown",
   "id": "62b84010-71fb-4572-80c6-1664f880d6c4",
   "metadata": {},
   "source": [
    "##### On remarque déjà ici que le nombre de buts marqués par joueur prend des valeurs comprises entre 0 et 81 buts (la valeur 0 faisant sens pour des joueurs évoluant à un poste non destiné à inscrire des buts, comme celui de gardien)."
   ]
  },
  {
   "cell_type": "code",
   "execution_count": 10,
   "id": "ce341966-4676-4194-9029-52bbfb200c44",
   "metadata": {},
   "outputs": [
    {
     "data": {
      "text/html": [
       "<div>\n",
       "<style scoped>\n",
       "    .dataframe tbody tr th:only-of-type {\n",
       "        vertical-align: middle;\n",
       "    }\n",
       "\n",
       "    .dataframe tbody tr th {\n",
       "        vertical-align: top;\n",
       "    }\n",
       "\n",
       "    .dataframe thead th {\n",
       "        text-align: right;\n",
       "    }\n",
       "</style>\n",
       "<table border=\"1\" class=\"dataframe\">\n",
       "  <thead>\n",
       "    <tr style=\"text-align: right;\">\n",
       "      <th></th>\n",
       "      <th>Team</th>\n",
       "      <th>Group</th>\n",
       "      <th>Position</th>\n",
       "      <th>Name</th>\n",
       "      <th>DOB</th>\n",
       "      <th>Caps</th>\n",
       "      <th>Goals</th>\n",
       "      <th>Country and Club</th>\n",
       "    </tr>\n",
       "  </thead>\n",
       "  <tbody>\n",
       "    <tr>\n",
       "      <th>244</th>\n",
       "      <td>France</td>\n",
       "      <td>C</td>\n",
       "      <td>GK</td>\n",
       "      <td>Alphonse Areola</td>\n",
       "      <td>1993-02-27</td>\n",
       "      <td>0</td>\n",
       "      <td>0</td>\n",
       "      <td>France Paris Saint-Germain</td>\n",
       "    </tr>\n",
       "    <tr>\n",
       "      <th>92</th>\n",
       "      <td>Iran</td>\n",
       "      <td>B</td>\n",
       "      <td>DF</td>\n",
       "      <td>Majid Hosseini</td>\n",
       "      <td>1996-06-20</td>\n",
       "      <td>0</td>\n",
       "      <td>0</td>\n",
       "      <td>Iran Esteghlal</td>\n",
       "    </tr>\n",
       "    <tr>\n",
       "      <th>451</th>\n",
       "      <td>Switzerland</td>\n",
       "      <td>E</td>\n",
       "      <td>GK</td>\n",
       "      <td>Yvon Mvogo</td>\n",
       "      <td>1994-06-06</td>\n",
       "      <td>0</td>\n",
       "      <td>0</td>\n",
       "      <td>Germany RB Leipzig</td>\n",
       "    </tr>\n",
       "    <tr>\n",
       "      <th>1187</th>\n",
       "      <td>Switzerland</td>\n",
       "      <td>E</td>\n",
       "      <td>GK</td>\n",
       "      <td>Yvon Mvogo</td>\n",
       "      <td>1994-06-06</td>\n",
       "      <td>0</td>\n",
       "      <td>0</td>\n",
       "      <td>Germany RB Leipzig</td>\n",
       "    </tr>\n",
       "    <tr>\n",
       "      <th>1092</th>\n",
       "      <td>Nigeria</td>\n",
       "      <td>D</td>\n",
       "      <td>FW</td>\n",
       "      <td>Simeon Nwankwo</td>\n",
       "      <td>1992-05-07</td>\n",
       "      <td>0</td>\n",
       "      <td>0</td>\n",
       "      <td>Italy Crotone</td>\n",
       "    </tr>\n",
       "    <tr>\n",
       "      <th>...</th>\n",
       "      <td>...</td>\n",
       "      <td>...</td>\n",
       "      <td>...</td>\n",
       "      <td>...</td>\n",
       "      <td>...</td>\n",
       "      <td>...</td>\n",
       "      <td>...</td>\n",
       "      <td>...</td>\n",
       "    </tr>\n",
       "    <tr>\n",
       "      <th>883</th>\n",
       "      <td>Portugal</td>\n",
       "      <td>B</td>\n",
       "      <td>FW</td>\n",
       "      <td>Cristiano Ronaldo (captain)</td>\n",
       "      <td>1985-02-05</td>\n",
       "      <td>149</td>\n",
       "      <td>81</td>\n",
       "      <td>Spain Real Madrid</td>\n",
       "    </tr>\n",
       "    <tr>\n",
       "      <th>168</th>\n",
       "      <td>Spain</td>\n",
       "      <td>B</td>\n",
       "      <td>DF</td>\n",
       "      <td>Sergio Ramos (captain)</td>\n",
       "      <td>1986-03-30</td>\n",
       "      <td>151</td>\n",
       "      <td>13</td>\n",
       "      <td>Spain Real Madrid</td>\n",
       "    </tr>\n",
       "    <tr>\n",
       "      <th>904</th>\n",
       "      <td>Spain</td>\n",
       "      <td>B</td>\n",
       "      <td>DF</td>\n",
       "      <td>Sergio Ramos (captain)</td>\n",
       "      <td>1986-03-30</td>\n",
       "      <td>151</td>\n",
       "      <td>13</td>\n",
       "      <td>Spain Real Madrid</td>\n",
       "    </tr>\n",
       "    <tr>\n",
       "      <th>11</th>\n",
       "      <td>Egypt</td>\n",
       "      <td>A</td>\n",
       "      <td>GK</td>\n",
       "      <td>Essam El-Hadary (captain)</td>\n",
       "      <td>1973-01-15</td>\n",
       "      <td>156</td>\n",
       "      <td>0</td>\n",
       "      <td>Saudi Arabia Al Taawoun</td>\n",
       "    </tr>\n",
       "    <tr>\n",
       "      <th>747</th>\n",
       "      <td>Egypt</td>\n",
       "      <td>A</td>\n",
       "      <td>GK</td>\n",
       "      <td>Essam El-Hadary (captain)</td>\n",
       "      <td>1973-01-15</td>\n",
       "      <td>156</td>\n",
       "      <td>0</td>\n",
       "      <td>Saudi Arabia Al Taawoun</td>\n",
       "    </tr>\n",
       "  </tbody>\n",
       "</table>\n",
       "<p>1472 rows × 8 columns</p>\n",
       "</div>"
      ],
      "text/plain": [
       "             Team Group Position                         Name         DOB  \\\n",
       "244        France     C       GK              Alphonse Areola  1993-02-27   \n",
       "92           Iran     B       DF               Majid Hosseini  1996-06-20   \n",
       "451   Switzerland     E       GK                   Yvon Mvogo  1994-06-06   \n",
       "1187  Switzerland     E       GK                   Yvon Mvogo  1994-06-06   \n",
       "1092      Nigeria     D       FW               Simeon Nwankwo  1992-05-07   \n",
       "...           ...   ...      ...                          ...         ...   \n",
       "883      Portugal     B       FW  Cristiano Ronaldo (captain)  1985-02-05   \n",
       "168         Spain     B       DF       Sergio Ramos (captain)  1986-03-30   \n",
       "904         Spain     B       DF       Sergio Ramos (captain)  1986-03-30   \n",
       "11          Egypt     A       GK    Essam El-Hadary (captain)  1973-01-15   \n",
       "747         Egypt     A       GK    Essam El-Hadary (captain)  1973-01-15   \n",
       "\n",
       "      Caps  Goals            Country and Club  \n",
       "244      0      0  France Paris Saint-Germain  \n",
       "92       0      0              Iran Esteghlal  \n",
       "451      0      0          Germany RB Leipzig  \n",
       "1187     0      0          Germany RB Leipzig  \n",
       "1092     0      0               Italy Crotone  \n",
       "...    ...    ...                         ...  \n",
       "883    149     81           Spain Real Madrid  \n",
       "168    151     13           Spain Real Madrid  \n",
       "904    151     13           Spain Real Madrid  \n",
       "11     156      0     Saudi Arabia Al Taawoun  \n",
       "747    156      0     Saudi Arabia Al Taawoun  \n",
       "\n",
       "[1472 rows x 8 columns]"
      ]
     },
     "execution_count": 10,
     "metadata": {},
     "output_type": "execute_result"
    }
   ],
   "source": [
    "data2.sort_values(by='Caps')"
   ]
  },
  {
   "cell_type": "markdown",
   "id": "e3541280-ef1f-44f6-adde-5ec6f81545de",
   "metadata": {},
   "source": [
    "##### Ici un intervalle qui s'étend de 0 à 156 capes, signifiant que des joueurs participent ici à leur première compétition internationale, tandis que d'autres ont déjà une grande expérience dans l'exercice."
   ]
  },
  {
   "cell_type": "markdown",
   "id": "8a75e7c9-fe70-4d6b-b801-631c98d17087",
   "metadata": {},
   "source": [
    "##### On remet ensuite les données en Français."
   ]
  },
  {
   "cell_type": "code",
   "execution_count": 11,
   "id": "04498ecd-afca-448c-8b2d-f9fb04690051",
   "metadata": {},
   "outputs": [],
   "source": [
    "data2.rename(columns={'Team':'Equipe','Group':'Groupe','Position':'Poste','Name':'Nom','DOB':'Naissance','Caps':'Capes','Goals':'Buts','Country and Club':'Pays et Club'},inplace=True)"
   ]
  },
  {
   "cell_type": "code",
   "execution_count": 12,
   "id": "cb58fd6a-4210-4eee-880f-0601aa631996",
   "metadata": {},
   "outputs": [
    {
     "data": {
      "text/html": [
       "<div>\n",
       "<style scoped>\n",
       "    .dataframe tbody tr th:only-of-type {\n",
       "        vertical-align: middle;\n",
       "    }\n",
       "\n",
       "    .dataframe tbody tr th {\n",
       "        vertical-align: top;\n",
       "    }\n",
       "\n",
       "    .dataframe thead th {\n",
       "        text-align: right;\n",
       "    }\n",
       "</style>\n",
       "<table border=\"1\" class=\"dataframe\">\n",
       "  <thead>\n",
       "    <tr style=\"text-align: right;\">\n",
       "      <th></th>\n",
       "      <th>Equipe</th>\n",
       "      <th>Groupe</th>\n",
       "      <th>Poste</th>\n",
       "      <th>Nom</th>\n",
       "      <th>Naissance</th>\n",
       "      <th>Capes</th>\n",
       "      <th>Buts</th>\n",
       "      <th>Pays et Club</th>\n",
       "    </tr>\n",
       "  </thead>\n",
       "  <tbody>\n",
       "    <tr>\n",
       "      <th>0</th>\n",
       "      <td>Egypt</td>\n",
       "      <td>A</td>\n",
       "      <td>DF</td>\n",
       "      <td>Ahmed Elmohamady</td>\n",
       "      <td>1987-09-09</td>\n",
       "      <td>76</td>\n",
       "      <td>2</td>\n",
       "      <td>England Aston Villa</td>\n",
       "    </tr>\n",
       "    <tr>\n",
       "      <th>1</th>\n",
       "      <td>Egypt</td>\n",
       "      <td>A</td>\n",
       "      <td>DF</td>\n",
       "      <td>Ahmed Fathy</td>\n",
       "      <td>1984-11-10</td>\n",
       "      <td>124</td>\n",
       "      <td>3</td>\n",
       "      <td>Egypt Al Ahly</td>\n",
       "    </tr>\n",
       "    <tr>\n",
       "      <th>2</th>\n",
       "      <td>Egypt</td>\n",
       "      <td>A</td>\n",
       "      <td>DF</td>\n",
       "      <td>Ahmed Hegazi</td>\n",
       "      <td>1991-01-25</td>\n",
       "      <td>43</td>\n",
       "      <td>1</td>\n",
       "      <td>England West Bromwich Albion</td>\n",
       "    </tr>\n",
       "    <tr>\n",
       "      <th>3</th>\n",
       "      <td>Egypt</td>\n",
       "      <td>A</td>\n",
       "      <td>DF</td>\n",
       "      <td>Ali Gabr</td>\n",
       "      <td>1993-07-28</td>\n",
       "      <td>20</td>\n",
       "      <td>1</td>\n",
       "      <td>England West Bromwich Albion</td>\n",
       "    </tr>\n",
       "    <tr>\n",
       "      <th>4</th>\n",
       "      <td>Egypt</td>\n",
       "      <td>A</td>\n",
       "      <td>DF</td>\n",
       "      <td>Ayman Ashraf</td>\n",
       "      <td>1991-04-09</td>\n",
       "      <td>4</td>\n",
       "      <td>0</td>\n",
       "      <td>Egypt Al Ahly</td>\n",
       "    </tr>\n",
       "  </tbody>\n",
       "</table>\n",
       "</div>"
      ],
      "text/plain": [
       "  Equipe Groupe Poste               Nom   Naissance  Capes  Buts  \\\n",
       "0  Egypt      A    DF  Ahmed Elmohamady  1987-09-09     76     2   \n",
       "1  Egypt      A    DF       Ahmed Fathy  1984-11-10    124     3   \n",
       "2  Egypt      A    DF      Ahmed Hegazi  1991-01-25     43     1   \n",
       "3  Egypt      A    DF          Ali Gabr  1993-07-28     20     1   \n",
       "4  Egypt      A    DF      Ayman Ashraf  1991-04-09      4     0   \n",
       "\n",
       "                   Pays et Club  \n",
       "0           England Aston Villa  \n",
       "1                 Egypt Al Ahly  \n",
       "2  England West Bromwich Albion  \n",
       "3  England West Bromwich Albion  \n",
       "4                 Egypt Al Ahly  "
      ]
     },
     "execution_count": 12,
     "metadata": {},
     "output_type": "execute_result"
    }
   ],
   "source": [
    "data2.head()"
   ]
  },
  {
   "cell_type": "markdown",
   "id": "96f0cd8d-c0ab-41c2-84de-48797a43da8a",
   "metadata": {},
   "source": [
    "##### On regarde la moyenne totale de buts au sein de tous les joueurs."
   ]
  },
  {
   "cell_type": "code",
   "execution_count": 13,
   "id": "8d873a6a-31a9-41d2-a234-4b2265be4a9b",
   "metadata": {},
   "outputs": [],
   "source": [
    "mean_goals = data2['Buts'].mean()"
   ]
  },
  {
   "cell_type": "code",
   "execution_count": 14,
   "id": "34a5af1d-9e90-414b-b0b7-30070696fcd9",
   "metadata": {},
   "outputs": [
    {
     "name": "stdout",
     "output_type": "stream",
     "text": [
      "4.391304347826087\n"
     ]
    }
   ],
   "source": [
    "print(mean_goals)"
   ]
  },
  {
   "cell_type": "markdown",
   "id": "22a8760d-35cb-4b9c-ab40-aec79bc15cd1",
   "metadata": {},
   "source": [
    "##### On s'aperçoit que celle-ci est assez basse en raison des nombreux joueurs évoluant à des postes non destinés à marquer des buts i.e défenseurs ou bien gardiens."
   ]
  },
  {
   "cell_type": "markdown",
   "id": "78c596a2-1950-46c4-bc7c-7de3f6a93049",
   "metadata": {},
   "source": [
    "##### On change le type de la donnée 'Naissance' et on vérifie le changement."
   ]
  },
  {
   "cell_type": "code",
   "execution_count": 15,
   "id": "91955efd-c912-4b2e-8496-d17d08b0afa4",
   "metadata": {},
   "outputs": [],
   "source": [
    "data2.Naissance = pd.to_datetime(data2.Naissance)"
   ]
  },
  {
   "cell_type": "code",
   "execution_count": 16,
   "id": "5d98a1da-7f7b-4715-8836-f596d0e1dd79",
   "metadata": {},
   "outputs": [
    {
     "data": {
      "text/plain": [
       "Equipe                  object\n",
       "Groupe                  object\n",
       "Poste                   object\n",
       "Nom                     object\n",
       "Naissance       datetime64[ns]\n",
       "Capes                    int64\n",
       "Buts                     int64\n",
       "Pays et Club            object\n",
       "dtype: object"
      ]
     },
     "execution_count": 16,
     "metadata": {},
     "output_type": "execute_result"
    }
   ],
   "source": [
    "data2.dtypes"
   ]
  },
  {
   "cell_type": "code",
   "execution_count": 17,
   "id": "0d436133-5dc3-414c-a802-cf756b1fdace",
   "metadata": {},
   "outputs": [
    {
     "data": {
      "text/html": [
       "<div>\n",
       "<style scoped>\n",
       "    .dataframe tbody tr th:only-of-type {\n",
       "        vertical-align: middle;\n",
       "    }\n",
       "\n",
       "    .dataframe tbody tr th {\n",
       "        vertical-align: top;\n",
       "    }\n",
       "\n",
       "    .dataframe thead th {\n",
       "        text-align: right;\n",
       "    }\n",
       "</style>\n",
       "<table border=\"1\" class=\"dataframe\">\n",
       "  <thead>\n",
       "    <tr style=\"text-align: right;\">\n",
       "      <th></th>\n",
       "      <th>Naissance</th>\n",
       "      <th>Capes</th>\n",
       "      <th>Buts</th>\n",
       "    </tr>\n",
       "  </thead>\n",
       "  <tbody>\n",
       "    <tr>\n",
       "      <th>count</th>\n",
       "      <td>1472</td>\n",
       "      <td>1472.000000</td>\n",
       "      <td>1472.000000</td>\n",
       "    </tr>\n",
       "    <tr>\n",
       "      <th>mean</th>\n",
       "      <td>1990-07-25 02:26:44.347826048</td>\n",
       "      <td>33.745924</td>\n",
       "      <td>4.391304</td>\n",
       "    </tr>\n",
       "    <tr>\n",
       "      <th>min</th>\n",
       "      <td>1973-01-15 00:00:00</td>\n",
       "      <td>0.000000</td>\n",
       "      <td>0.000000</td>\n",
       "    </tr>\n",
       "    <tr>\n",
       "      <th>25%</th>\n",
       "      <td>1987-09-20 18:00:00</td>\n",
       "      <td>9.000000</td>\n",
       "      <td>0.000000</td>\n",
       "    </tr>\n",
       "    <tr>\n",
       "      <th>50%</th>\n",
       "      <td>1990-10-06 12:00:00</td>\n",
       "      <td>23.500000</td>\n",
       "      <td>1.000000</td>\n",
       "    </tr>\n",
       "    <tr>\n",
       "      <th>75%</th>\n",
       "      <td>1993-04-07 18:00:00</td>\n",
       "      <td>51.000000</td>\n",
       "      <td>5.000000</td>\n",
       "    </tr>\n",
       "    <tr>\n",
       "      <th>max</th>\n",
       "      <td>1999-01-04 00:00:00</td>\n",
       "      <td>156.000000</td>\n",
       "      <td>81.000000</td>\n",
       "    </tr>\n",
       "    <tr>\n",
       "      <th>std</th>\n",
       "      <td>NaN</td>\n",
       "      <td>31.777299</td>\n",
       "      <td>8.641772</td>\n",
       "    </tr>\n",
       "  </tbody>\n",
       "</table>\n",
       "</div>"
      ],
      "text/plain": [
       "                           Naissance        Capes         Buts\n",
       "count                           1472  1472.000000  1472.000000\n",
       "mean   1990-07-25 02:26:44.347826048    33.745924     4.391304\n",
       "min              1973-01-15 00:00:00     0.000000     0.000000\n",
       "25%              1987-09-20 18:00:00     9.000000     0.000000\n",
       "50%              1990-10-06 12:00:00    23.500000     1.000000\n",
       "75%              1993-04-07 18:00:00    51.000000     5.000000\n",
       "max              1999-01-04 00:00:00   156.000000    81.000000\n",
       "std                              NaN    31.777299     8.641772"
      ]
     },
     "execution_count": 17,
     "metadata": {},
     "output_type": "execute_result"
    }
   ],
   "source": [
    "data2.describe()"
   ]
  },
  {
   "cell_type": "code",
   "execution_count": 18,
   "id": "ac77e5bc-c7e3-4b14-9c1e-4fa321ca0386",
   "metadata": {},
   "outputs": [
    {
     "data": {
      "text/plain": [
       "array(['Egypt', 'Russia', 'Saudi Arabia', 'Uruguay', 'Iran', 'Morocco',\n",
       "       'Portugal', 'Spain', 'Australia', 'Denmark', 'France', 'Peru',\n",
       "       'Argentina', 'Croatia', 'Iceland', 'Nigeria', 'Brazil',\n",
       "       'Costa Rica', 'Serbia', 'Switzerland', 'Germany', 'Mexico',\n",
       "       'South Korea', 'Sweden', 'Belgium', 'England', 'Panama', 'Tunisia',\n",
       "       'Colombia', 'Japan', 'Poland', 'Senegal'], dtype=object)"
      ]
     },
     "execution_count": 18,
     "metadata": {},
     "output_type": "execute_result"
    }
   ],
   "source": [
    "data2.Equipe.unique()"
   ]
  },
  {
   "cell_type": "markdown",
   "id": "682e31b1-463f-48b5-9661-9fcce7d6940a",
   "metadata": {},
   "source": [
    "##### Premier histogramme affichant le nombre total de joueurs par intervalle de capes."
   ]
  },
  {
   "cell_type": "code",
   "execution_count": 19,
   "id": "b093ed4d-f117-48b4-aacd-cbd49f535cab",
   "metadata": {},
   "outputs": [
    {
     "data": {
      "text/plain": [
       "<Axes: >"
      ]
     },
     "execution_count": 19,
     "metadata": {},
     "output_type": "execute_result"
    },
    {
     "data": {
      "image/png": "[encoded data removed]",
      "text/plain": [
       "<Figure size 640x480 with 1 Axes>"
      ]
     },
     "metadata": {},
     "output_type": "display_data"
    }
   ],
   "source": [
    "data2.Capes.hist()"
   ]
  },
  {
   "cell_type": "markdown",
   "id": "92355246-2e06-4ad6-9801-cdae602a463e",
   "metadata": {},
   "source": [
    "##### Décompte du nombre de joueurs par nombre de buts."
   ]
  },
  {
   "cell_type": "code",
   "execution_count": 20,
   "id": "69e948b9-5c3b-4487-a616-45d5aa10d9fa",
   "metadata": {},
   "outputs": [
    {
     "data": {
      "text/plain": [
       "Buts\n",
       "0     614\n",
       "1     188\n",
       "2     128\n",
       "3     104\n",
       "4      58\n",
       "5      48\n",
       "7      42\n",
       "6      38\n",
       "9      32\n",
       "8      26\n",
       "10     18\n",
       "13     18\n",
       "12     18\n",
       "18     16\n",
       "11     16\n",
       "14     12\n",
       "21      8\n",
       "19      8\n",
       "50      6\n",
       "30      6\n",
       "15      6\n",
       "20      4\n",
       "23      4\n",
       "17      4\n",
       "16      4\n",
       "29      4\n",
       "31      4\n",
       "36      4\n",
       "43      4\n",
       "25      2\n",
       "26      2\n",
       "49      2\n",
       "22      2\n",
       "38      2\n",
       "24      2\n",
       "53      2\n",
       "61      2\n",
       "34      2\n",
       "35      2\n",
       "33      2\n",
       "81      2\n",
       "42      2\n",
       "28      2\n",
       "52      2\n",
       "Name: count, dtype: int64"
      ]
     },
     "execution_count": 20,
     "metadata": {},
     "output_type": "execute_result"
    }
   ],
   "source": [
    "data2.Buts.value_counts()"
   ]
  },
  {
   "cell_type": "markdown",
   "id": "97bc0f82-ac99-4921-808b-9747dac80d92",
   "metadata": {},
   "source": [
    "##### On s'aperçoit que la majorité des joueurs ont marqué moins de 5 buts, expliquant la faible moyenne calculée précédemment."
   ]
  },
  {
   "cell_type": "markdown",
   "id": "4beedbee-e92d-4eed-8485-51f1bb4b4ce0",
   "metadata": {},
   "source": [
    "##### On dénombre le total de joueurs évoluant à chaque poste."
   ]
  },
  {
   "cell_type": "code",
   "execution_count": 21,
   "id": "e7bbe7be-fd73-4b51-a41a-81f2dccab5b8",
   "metadata": {},
   "outputs": [
    {
     "name": "stdout",
     "output_type": "stream",
     "text": [
      "96 jouent au poste de GK\n",
      "248 jouent au poste de DF\n",
      "250 jouent au poste de MF\n",
      "143 jouent au poste de FW\n"
     ]
    }
   ],
   "source": [
    "Postes = [\"GK\",\"DF\",\"MF\",\"FW\"]\n",
    "for poste in Postes:\n",
    "        count=0\n",
    "        for i in range(737):\n",
    "            if data2.iloc[i-1,2] == poste :\n",
    "                count += 1\n",
    "        print(f\"{count} jouent au poste de {poste}\")"
   ]
  },
  {
   "cell_type": "code",
   "execution_count": 22,
   "id": "460f10f6-14fa-42f4-b5af-ff86f1509434",
   "metadata": {},
   "outputs": [
    {
     "data": {
      "text/plain": [
       "<Axes: >"
      ]
     },
     "execution_count": 22,
     "metadata": {},
     "output_type": "execute_result"
    },
    {
     "data": {
      "image/png": "[encoded data removed]",
      "text/plain": [
       "<Figure size 640x480 with 1 Axes>"
      ]
     },
     "metadata": {},
     "output_type": "display_data"
    }
   ],
   "source": [
    "data2.Buts.hist()"
   ]
  },
  {
   "cell_type": "markdown",
   "id": "26b09cb5-6fa4-431c-9dbe-d63aaed5f60b",
   "metadata": {},
   "source": [
    "##### Amélioration de la taille de l'histogramme"
   ]
  },
  {
   "cell_type": "code",
   "execution_count": 23,
   "id": "1747a4d7-621e-465a-b221-b6eb663f8fe8",
   "metadata": {},
   "outputs": [
    {
     "data": {
      "text/plain": [
       "<Axes: >"
      ]
     },
     "execution_count": 23,
     "metadata": {},
     "output_type": "execute_result"
    },
    {
     "data": {
      "image/png": "[encoded data removed]",
      "text/plain": [
       "<Figure size 1200x800 with 1 Axes>"
      ]
     },
     "metadata": {},
     "output_type": "display_data"
    }
   ],
   "source": [
    "data2.Buts.hist(figsize=(12, 8))"
   ]
  },
  {
   "cell_type": "markdown",
   "id": "17b4dcc4-0fb0-40fe-bc29-76d8dd7f7fb1",
   "metadata": {},
   "source": [
    "##### Graphe en nuage de points reliant le nombre de buts marqués au nombre de capes"
   ]
  },
  {
   "cell_type": "code",
   "execution_count": 24,
   "id": "e189d449-3c12-401f-a1a0-1675d54226fb",
   "metadata": {},
   "outputs": [
    {
     "data": {
      "text/plain": [
       "<Axes: xlabel='Capes', ylabel='Buts'>"
      ]
     },
     "execution_count": 24,
     "metadata": {},
     "output_type": "execute_result"
    },
    {
     "data": {
      "image/png": "[encoded data removed]",
      "text/plain": [
       "<Figure size 640x480 with 1 Axes>"
      ]
     },
     "metadata": {},
     "output_type": "display_data"
    }
   ],
   "source": [
    "data2.plot.scatter(x=\"Capes\", y=\"Buts\")\n"
   ]
  },
  {
   "cell_type": "markdown",
   "id": "e622565b-df4c-4c8b-b709-8c5dbfed01de",
   "metadata": {},
   "source": [
    "##### On va s'intéresser maintenant aux données des joueurs Egyptiens, on vérifie les données puis on trace un graphe affichant le nombre de buts par joueur pour un nombre réduit de joueurs."
   ]
  },
  {
   "cell_type": "code",
   "execution_count": 25,
   "id": "d9e3eac1-8dec-47ee-973e-e352e717eeb7",
   "metadata": {},
   "outputs": [],
   "source": [
    "dfEgypte=data2.query(\"Equipe=='Egypt'\")"
   ]
  },
  {
   "cell_type": "code",
   "execution_count": 26,
   "id": "86778b7c-93a1-4c67-ae14-fb341d6905e9",
   "metadata": {},
   "outputs": [
    {
     "data": {
      "text/html": [
       "<div>\n",
       "<style scoped>\n",
       "    .dataframe tbody tr th:only-of-type {\n",
       "        vertical-align: middle;\n",
       "    }\n",
       "\n",
       "    .dataframe tbody tr th {\n",
       "        vertical-align: top;\n",
       "    }\n",
       "\n",
       "    .dataframe thead th {\n",
       "        text-align: right;\n",
       "    }\n",
       "</style>\n",
       "<table border=\"1\" class=\"dataframe\">\n",
       "  <thead>\n",
       "    <tr style=\"text-align: right;\">\n",
       "      <th></th>\n",
       "      <th>Equipe</th>\n",
       "      <th>Groupe</th>\n",
       "      <th>Poste</th>\n",
       "      <th>Nom</th>\n",
       "      <th>Naissance</th>\n",
       "      <th>Capes</th>\n",
       "      <th>Buts</th>\n",
       "      <th>Pays et Club</th>\n",
       "    </tr>\n",
       "  </thead>\n",
       "  <tbody>\n",
       "    <tr>\n",
       "      <th>754</th>\n",
       "      <td>Egypt</td>\n",
       "      <td>A</td>\n",
       "      <td>MF</td>\n",
       "      <td>Ramadan Sobhi</td>\n",
       "      <td>1997-01-23</td>\n",
       "      <td>21</td>\n",
       "      <td>1</td>\n",
       "      <td>England Stoke City</td>\n",
       "    </tr>\n",
       "    <tr>\n",
       "      <th>755</th>\n",
       "      <td>Egypt</td>\n",
       "      <td>A</td>\n",
       "      <td>MF</td>\n",
       "      <td>Sam Morsy</td>\n",
       "      <td>1991-09-10</td>\n",
       "      <td>3</td>\n",
       "      <td>0</td>\n",
       "      <td>England Wigan Athletic</td>\n",
       "    </tr>\n",
       "    <tr>\n",
       "      <th>756</th>\n",
       "      <td>Egypt</td>\n",
       "      <td>A</td>\n",
       "      <td>MF</td>\n",
       "      <td>Shikabala</td>\n",
       "      <td>1986-03-05</td>\n",
       "      <td>28</td>\n",
       "      <td>2</td>\n",
       "      <td>Saudi Arabia Al Raed</td>\n",
       "    </tr>\n",
       "    <tr>\n",
       "      <th>757</th>\n",
       "      <td>Egypt</td>\n",
       "      <td>A</td>\n",
       "      <td>MF</td>\n",
       "      <td>Tarek Hamed</td>\n",
       "      <td>1988-10-24</td>\n",
       "      <td>19</td>\n",
       "      <td>0</td>\n",
       "      <td>Egypt Zamalek</td>\n",
       "    </tr>\n",
       "    <tr>\n",
       "      <th>758</th>\n",
       "      <td>Egypt</td>\n",
       "      <td>A</td>\n",
       "      <td>MF</td>\n",
       "      <td>Trézéguet</td>\n",
       "      <td>1994-10-01</td>\n",
       "      <td>23</td>\n",
       "      <td>2</td>\n",
       "      <td>Turkey Kasımpaşa</td>\n",
       "    </tr>\n",
       "  </tbody>\n",
       "</table>\n",
       "</div>"
      ],
      "text/plain": [
       "    Equipe Groupe Poste            Nom  Naissance  Capes  Buts  \\\n",
       "754  Egypt      A    MF  Ramadan Sobhi 1997-01-23     21     1   \n",
       "755  Egypt      A    MF      Sam Morsy 1991-09-10      3     0   \n",
       "756  Egypt      A    MF      Shikabala 1986-03-05     28     2   \n",
       "757  Egypt      A    MF    Tarek Hamed 1988-10-24     19     0   \n",
       "758  Egypt      A    MF      Trézéguet 1994-10-01     23     2   \n",
       "\n",
       "               Pays et Club  \n",
       "754      England Stoke City  \n",
       "755  England Wigan Athletic  \n",
       "756    Saudi Arabia Al Raed  \n",
       "757           Egypt Zamalek  \n",
       "758        Turkey Kasımpaşa  "
      ]
     },
     "execution_count": 26,
     "metadata": {},
     "output_type": "execute_result"
    }
   ],
   "source": [
    "dfEgypte.tail()"
   ]
  },
  {
   "cell_type": "code",
   "execution_count": 27,
   "id": "63f34dae-b51c-460d-82e0-e9af2a1c06ff",
   "metadata": {},
   "outputs": [
    {
     "name": "stdout",
     "output_type": "stream",
     "text": [
      "Requirement already satisfied: matplotlib in //miniconda3/lib/python3.11/site-packages (3.7.2)\n",
      "Requirement already satisfied: contourpy>=1.0.1 in //miniconda3/lib/python3.11/site-packages (from matplotlib) (1.1.0)\n",
      "Requirement already satisfied: cycler>=0.10 in //miniconda3/lib/python3.11/site-packages (from matplotlib) (0.11.0)\n",
      "Requirement already satisfied: fonttools>=4.22.0 in //miniconda3/lib/python3.11/site-packages (from matplotlib) (4.42.1)\n",
      "Requirement already satisfied: kiwisolver>=1.0.1 in //miniconda3/lib/python3.11/site-packages (from matplotlib) (1.4.5)\n",
      "Requirement already satisfied: numpy>=1.20 in //miniconda3/lib/python3.11/site-packages (from matplotlib) (1.25.2)\n",
      "Requirement already satisfied: packaging>=20.0 in //miniconda3/lib/python3.11/site-packages (from matplotlib) (23.0)\n",
      "Requirement already satisfied: pillow>=6.2.0 in //miniconda3/lib/python3.11/site-packages (from matplotlib) (10.0.0)\n",
      "Requirement already satisfied: pyparsing<3.1,>=2.3.1 in //miniconda3/lib/python3.11/site-packages (from matplotlib) (3.0.9)\n",
      "Requirement already satisfied: python-dateutil>=2.7 in //miniconda3/lib/python3.11/site-packages (from matplotlib) (2.8.2)\n",
      "Requirement already satisfied: six>=1.5 in //miniconda3/lib/python3.11/site-packages (from python-dateutil>=2.7->matplotlib) (1.16.0)\n",
      "Note: you may need to restart the kernel to use updated packages.\n"
     ]
    }
   ],
   "source": [
    "pip install matplotlib"
   ]
  },
  {
   "cell_type": "code",
   "execution_count": 28,
   "id": "3e54d866-5432-4c71-a9b0-f32714f75e7b",
   "metadata": {},
   "outputs": [],
   "source": [
    "dfEgypte2=dfEgypte.loc[6:10]"
   ]
  },
  {
   "cell_type": "code",
   "execution_count": 29,
   "id": "2e2c81d7-edf1-4589-a46f-13b4699e578b",
   "metadata": {},
   "outputs": [
    {
     "data": {
      "text/html": [
       "<div>\n",
       "<style scoped>\n",
       "    .dataframe tbody tr th:only-of-type {\n",
       "        vertical-align: middle;\n",
       "    }\n",
       "\n",
       "    .dataframe tbody tr th {\n",
       "        vertical-align: top;\n",
       "    }\n",
       "\n",
       "    .dataframe thead th {\n",
       "        text-align: right;\n",
       "    }\n",
       "</style>\n",
       "<table border=\"1\" class=\"dataframe\">\n",
       "  <thead>\n",
       "    <tr style=\"text-align: right;\">\n",
       "      <th></th>\n",
       "      <th>Equipe</th>\n",
       "      <th>Groupe</th>\n",
       "      <th>Poste</th>\n",
       "      <th>Nom</th>\n",
       "      <th>Naissance</th>\n",
       "      <th>Capes</th>\n",
       "      <th>Buts</th>\n",
       "      <th>Pays et Club</th>\n",
       "    </tr>\n",
       "  </thead>\n",
       "  <tbody>\n",
       "    <tr>\n",
       "      <th>6</th>\n",
       "      <td>Egypt</td>\n",
       "      <td>A</td>\n",
       "      <td>DF</td>\n",
       "      <td>Mohamed Abdel-Shafy</td>\n",
       "      <td>1985-07-01</td>\n",
       "      <td>49</td>\n",
       "      <td>1</td>\n",
       "      <td>Saudi Arabia Al Fateh</td>\n",
       "    </tr>\n",
       "    <tr>\n",
       "      <th>7</th>\n",
       "      <td>Egypt</td>\n",
       "      <td>A</td>\n",
       "      <td>DF</td>\n",
       "      <td>Omar Gaber</td>\n",
       "      <td>1992-01-30</td>\n",
       "      <td>23</td>\n",
       "      <td>0</td>\n",
       "      <td>United States Los Angeles FC</td>\n",
       "    </tr>\n",
       "    <tr>\n",
       "      <th>8</th>\n",
       "      <td>Egypt</td>\n",
       "      <td>A</td>\n",
       "      <td>DF</td>\n",
       "      <td>Saad Samir</td>\n",
       "      <td>1989-04-01</td>\n",
       "      <td>10</td>\n",
       "      <td>0</td>\n",
       "      <td>Egypt Al Ahly</td>\n",
       "    </tr>\n",
       "    <tr>\n",
       "      <th>9</th>\n",
       "      <td>Egypt</td>\n",
       "      <td>A</td>\n",
       "      <td>FW</td>\n",
       "      <td>Marwan Mohsen</td>\n",
       "      <td>1989-02-26</td>\n",
       "      <td>22</td>\n",
       "      <td>4</td>\n",
       "      <td>Egypt Al Ahly</td>\n",
       "    </tr>\n",
       "    <tr>\n",
       "      <th>10</th>\n",
       "      <td>Egypt</td>\n",
       "      <td>A</td>\n",
       "      <td>FW</td>\n",
       "      <td>Mohamed Salah</td>\n",
       "      <td>1992-06-15</td>\n",
       "      <td>57</td>\n",
       "      <td>33</td>\n",
       "      <td>England Liverpool</td>\n",
       "    </tr>\n",
       "  </tbody>\n",
       "</table>\n",
       "</div>"
      ],
      "text/plain": [
       "   Equipe Groupe Poste                  Nom  Naissance  Capes  Buts  \\\n",
       "6   Egypt      A    DF  Mohamed Abdel-Shafy 1985-07-01     49     1   \n",
       "7   Egypt      A    DF           Omar Gaber 1992-01-30     23     0   \n",
       "8   Egypt      A    DF           Saad Samir 1989-04-01     10     0   \n",
       "9   Egypt      A    FW        Marwan Mohsen 1989-02-26     22     4   \n",
       "10  Egypt      A    FW        Mohamed Salah 1992-06-15     57    33   \n",
       "\n",
       "                    Pays et Club  \n",
       "6          Saudi Arabia Al Fateh  \n",
       "7   United States Los Angeles FC  \n",
       "8                  Egypt Al Ahly  \n",
       "9                  Egypt Al Ahly  \n",
       "10             England Liverpool  "
      ]
     },
     "execution_count": 29,
     "metadata": {},
     "output_type": "execute_result"
    }
   ],
   "source": [
    "dfEgypte2"
   ]
  },
  {
   "cell_type": "code",
   "execution_count": 30,
   "id": "f0febfb6-d3c5-440a-9aa7-3a1fdb8b400a",
   "metadata": {},
   "outputs": [
    {
     "data": {
      "text/plain": [
       "<Axes: xlabel='Nom des joueurs'>"
      ]
     },
     "execution_count": 30,
     "metadata": {},
     "output_type": "execute_result"
    },
    {
     "data": {
      "image/png": "[encoded data removed]",
      "text/plain": [
       "<Figure size 640x480 with 1 Axes>"
      ]
     },
     "metadata": {},
     "output_type": "display_data"
    }
   ],
   "source": [
    "dfEgypte2.plot(x=\"Nom\", y=\"Buts\", label=\"Nombre de buts par joueur\", color=\"blue\",legend=True, xlabel=\"Nom des joueurs\")"
   ]
  },
  {
   "cell_type": "markdown",
   "id": "2c6fcdf1-4be9-498d-8a27-a47da480200d",
   "metadata": {},
   "source": [
    "##### On réalise un groupby afin de réunir les données par pays."
   ]
  },
  {
   "cell_type": "code",
   "execution_count": 31,
   "id": "2b06ca56-2fd8-4d02-a99f-feaba648403b",
   "metadata": {},
   "outputs": [],
   "source": [
    "groupe = data2.groupby(\"Equipe\")"
   ]
  },
  {
   "cell_type": "markdown",
   "id": "86d44de9-2101-4ed5-878c-9cd9108dd9dd",
   "metadata": {},
   "source": [
    "##### On affiche ici le nombre de buts internationaux marqués par le joueur le plus prolifique de chaque équipe."
   ]
  },
  {
   "cell_type": "code",
   "execution_count": 32,
   "id": "35089238-61af-48d7-bf6c-6c191db9e298",
   "metadata": {},
   "outputs": [
    {
     "data": {
      "text/plain": [
       "Equipe\n",
       "Argentina       61\n",
       "Australia       50\n",
       "Belgium         30\n",
       "Brazil          53\n",
       "Colombia        29\n",
       "Costa Rica      23\n",
       "Croatia         30\n",
       "Denmark         21\n",
       "Egypt           33\n",
       "England         15\n",
       "France          30\n",
       "Germany         38\n",
       "Iceland         18\n",
       "Iran            23\n",
       "Japan           50\n",
       "Mexico          49\n",
       "Morocco         10\n",
       "Nigeria         13\n",
       "Panama          43\n",
       "Peru            34\n",
       "Poland          52\n",
       "Portugal        81\n",
       "Russia          12\n",
       "Saudi Arabia    28\n",
       "Senegal         18\n",
       "Serbia          13\n",
       "South Korea     20\n",
       "Spain           35\n",
       "Sweden          18\n",
       "Switzerland     20\n",
       "Tunisia         12\n",
       "Uruguay         50\n",
       "Name: Buts, dtype: int64"
      ]
     },
     "execution_count": 32,
     "metadata": {},
     "output_type": "execute_result"
    }
   ],
   "source": [
    "groupe[\"Buts\"].max()"
   ]
  },
  {
   "cell_type": "markdown",
   "id": "b7da7cd0-f185-4e1d-b5b0-b97df1ec486b",
   "metadata": {},
   "source": [
    "##### Affichage du nombre de buts marqués en fonction du nombre de capes (ici uniquement sur les joueurs égyptiens pour plus de lisibilité). On remarque ainsi qu'en raison des postes très différents au sein d'une équipe, le nombre de buts marqués n'est pas immédiatement corrélé avec le nombre de capes. De plus, le seul joueur ayant dépassé la barre des 30 buts inscrits n'est pas pour autant le joueur le plus capé."
   ]
  },
  {
   "cell_type": "code",
   "execution_count": 33,
   "id": "fdcba14c-9d71-46c9-93d7-0ed9b97a84f2",
   "metadata": {},
   "outputs": [
    {
     "name": "stderr",
     "output_type": "stream",
     "text": [
      "//miniconda3/lib/python3.11/site-packages/seaborn/axisgrid.py:123: UserWarning: The figure layout has changed to tight\n",
      "  self._figure.tight_layout(*args, **kwargs)\n"
     ]
    },
    {
     "data": {
      "text/plain": [
       "<matplotlib.lines.Line2D at 0x1121fc990>"
      ]
     },
     "execution_count": 33,
     "metadata": {},
     "output_type": "execute_result"
    },
    {
     "data": {
      "image/png": "[encoded data removed]",
      "text/plain": [
       "<Figure size 593.25x500 with 1 Axes>"
      ]
     },
     "metadata": {},
     "output_type": "display_data"
    }
   ],
   "source": [
    "import seaborn as sns\n",
    "sns.set_style('whitegrid')\n",
    "ax=sns.relplot(data=dfEgypte, x='Capes', y='Buts',hue='Equipe',size='Buts')\n",
    "ax.ax.axhline(y=30,color='red')"
   ]
  },
  {
   "cell_type": "markdown",
   "id": "b0795cbd-b99e-4e3f-9820-e6cb96f8b6fe",
   "metadata": {},
   "source": [
    "##### Tracé d'un graphe permettant de visualiser rapidement quelles équipes disposent d'un joueur ayant marqué un nombre très important de buts, comme le Portugal, l'Argentine ou le Brésil."
   ]
  },
  {
   "cell_type": "code",
   "execution_count": 34,
   "id": "749801f9-a917-437b-9494-7da8c39f9d47",
   "metadata": {},
   "outputs": [
    {
     "name": "stderr",
     "output_type": "stream",
     "text": [
      "//miniconda3/lib/python3.11/site-packages/seaborn/axisgrid.py:123: UserWarning: The figure layout has changed to tight\n",
      "  self._figure.tight_layout(*args, **kwargs)\n"
     ]
    },
    {
     "data": {
      "text/plain": [
       "<seaborn.axisgrid.FacetGrid at 0x1138f24d0>"
      ]
     },
     "execution_count": 34,
     "metadata": {},
     "output_type": "execute_result"
    },
    {
     "data": {
      "image/png": "[encoded data removed]",
      "text/plain": [
       "<Figure size 500x500 with 1 Axes>"
      ]
     },
     "metadata": {},
     "output_type": "display_data"
    }
   ],
   "source": [
    "sns.relplot(data=data2,x='Buts',y='Equipe')"
   ]
  }
 ],
 "metadata": {
  "kernelspec": {
   "display_name": "Python 3 (ipykernel)",
   "language": "python",
   "name": "python3"
  },
  "language_info": {
   "codemirror_mode": {
    "name": "ipython",
    "version": 3
   },
   "file_extension": ".py",
   "mimetype": "text/x-python",
   "name": "python",
   "nbconvert_exporter": "python",
   "pygments_lexer": "ipython3",
   "version": "3.11.4"
  }
 },
 "nbformat": 4,
 "nbformat_minor": 5
}
