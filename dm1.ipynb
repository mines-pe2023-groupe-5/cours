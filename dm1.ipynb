{
 "cells": [
  {
   "cell_type": "markdown",
   "id": "0c92857f-6484-44ba-9e27-b6a25fd99c8b",
   "metadata": {},
   "source": [
    "# Rassemblage données sur les arbres à Paris, Mathis Grillot"
   ]
  },
  {
   "cell_type": "code",
   "execution_count": 1,
   "id": "964c8b58-6ae0-401a-a673-7b3db7166e34",
   "metadata": {},
   "outputs": [],
   "source": [
    "import pandas as pd\n",
    "\n",
    "url = \"les-arbres.csv\"\n",
    "df = pd.read_csv(url,sep=';')"
   ]
  },
  {
   "cell_type": "markdown",
   "id": "47237147-b2e2-4ba7-a60f-0c0e52c057f5",
   "metadata": {
    "tags": []
   },
   "source": [
    "#### J'ai enfin réussi à récupérer les données car je n'avais pas mis le fichier csv dans le dossier du jupyter. Je compte faire mon travail sur les arbres à Paris d'après un fichier du gouvernement."
   ]
  },
  {
   "cell_type": "code",
   "execution_count": 2,
   "id": "32478d24-b596-4f95-85d1-3ad774a3718a",
   "metadata": {},
   "outputs": [
    {
     "data": {
      "text/html": [
       "<div>\n",
       "<style scoped>\n",
       "    .dataframe tbody tr th:only-of-type {\n",
       "        vertical-align: middle;\n",
       "    }\n",
       "\n",
       "    .dataframe tbody tr th {\n",
       "        vertical-align: top;\n",
       "    }\n",
       "\n",
       "    .dataframe thead th {\n",
       "        text-align: right;\n",
       "    }\n",
       "</style>\n",
       "<table border=\"1\" class=\"dataframe\">\n",
       "  <thead>\n",
       "    <tr style=\"text-align: right;\">\n",
       "      <th></th>\n",
       "      <th>idbase</th>\n",
       "      <th>typeemplacement</th>\n",
       "      <th>domanialite</th>\n",
       "      <th>arrondissement</th>\n",
       "      <th>complementadresse</th>\n",
       "      <th>numero</th>\n",
       "      <th>adresse</th>\n",
       "      <th>idemplacement</th>\n",
       "      <th>libellefrancais</th>\n",
       "      <th>genre</th>\n",
       "      <th>espece</th>\n",
       "      <th>varieteoucultivar</th>\n",
       "      <th>circonferenceencm</th>\n",
       "      <th>hauteurenm</th>\n",
       "      <th>stadedeveloppement</th>\n",
       "      <th>remarquable</th>\n",
       "      <th>geo_point_2d</th>\n",
       "    </tr>\n",
       "  </thead>\n",
       "  <tbody>\n",
       "    <tr>\n",
       "      <th>0</th>\n",
       "      <td>131979</td>\n",
       "      <td>Arbre</td>\n",
       "      <td>Jardin</td>\n",
       "      <td>PARIS 15E ARRDT</td>\n",
       "      <td>NaN</td>\n",
       "      <td>NaN</td>\n",
       "      <td>PARC OMNISPORT SUZANNE LENGLEN / 7 BOULEVARD D...</td>\n",
       "      <td>000520013</td>\n",
       "      <td>Sequoia</td>\n",
       "      <td>Sequoiadendron</td>\n",
       "      <td>giganteum</td>\n",
       "      <td>NaN</td>\n",
       "      <td>229</td>\n",
       "      <td>0</td>\n",
       "      <td>NaN</td>\n",
       "      <td>NON</td>\n",
       "      <td>48.83092768617471,2.2678132274487957</td>\n",
       "    </tr>\n",
       "    <tr>\n",
       "      <th>1</th>\n",
       "      <td>200510</td>\n",
       "      <td>Arbre</td>\n",
       "      <td>DJS</td>\n",
       "      <td>PARIS 12E ARRDT</td>\n",
       "      <td>NaN</td>\n",
       "      <td>NaN</td>\n",
       "      <td>CENTRE SPORTIF CARNOT / 26 BOULEVARD CARNOT</td>\n",
       "      <td>000103006</td>\n",
       "      <td>Pin</td>\n",
       "      <td>Pinus</td>\n",
       "      <td>nigra</td>\n",
       "      <td>NaN</td>\n",
       "      <td>80</td>\n",
       "      <td>12</td>\n",
       "      <td>Adulte</td>\n",
       "      <td>NON</td>\n",
       "      <td>48.84265994838907,2.4117052215873245</td>\n",
       "    </tr>\n",
       "    <tr>\n",
       "      <th>2</th>\n",
       "      <td>256872</td>\n",
       "      <td>Arbre</td>\n",
       "      <td>Alignement</td>\n",
       "      <td>PARIS 19E ARRDT</td>\n",
       "      <td>NaN</td>\n",
       "      <td>NaN</td>\n",
       "      <td>PLACE DE LA BATAILLE DE STALINGRAD</td>\n",
       "      <td>000101018</td>\n",
       "      <td>Peuplier</td>\n",
       "      <td>Populus</td>\n",
       "      <td>nigra</td>\n",
       "      <td>''Italica''</td>\n",
       "      <td>35</td>\n",
       "      <td>8</td>\n",
       "      <td>Jeune (arbre)</td>\n",
       "      <td>NON</td>\n",
       "      <td>48.88376222166032,2.369139467977494</td>\n",
       "    </tr>\n",
       "    <tr>\n",
       "      <th>3</th>\n",
       "      <td>275585</td>\n",
       "      <td>Arbre</td>\n",
       "      <td>Alignement</td>\n",
       "      <td>PARIS 7E ARRDT</td>\n",
       "      <td>C2</td>\n",
       "      <td>NaN</td>\n",
       "      <td>ESPLANADE DES INVALIDES</td>\n",
       "      <td>000301019</td>\n",
       "      <td>Tilleul</td>\n",
       "      <td>Tilia</td>\n",
       "      <td>tomentosa</td>\n",
       "      <td>NaN</td>\n",
       "      <td>125</td>\n",
       "      <td>11</td>\n",
       "      <td>Adulte</td>\n",
       "      <td>NON</td>\n",
       "      <td>48.86020303977866,2.312202725796723</td>\n",
       "    </tr>\n",
       "    <tr>\n",
       "      <th>4</th>\n",
       "      <td>292397</td>\n",
       "      <td>Arbre</td>\n",
       "      <td>Alignement</td>\n",
       "      <td>PARIS 18E ARRDT</td>\n",
       "      <td>2</td>\n",
       "      <td>NaN</td>\n",
       "      <td>RUE JEAN COCTEAU</td>\n",
       "      <td>000202002</td>\n",
       "      <td>Noisetier de Byzance</td>\n",
       "      <td>Corylus</td>\n",
       "      <td>colurna</td>\n",
       "      <td>NaN</td>\n",
       "      <td>50</td>\n",
       "      <td>7</td>\n",
       "      <td>Jeune (arbre)Adulte</td>\n",
       "      <td>NON</td>\n",
       "      <td>48.89966347627314,2.3520170246569543</td>\n",
       "    </tr>\n",
       "    <tr>\n",
       "      <th>...</th>\n",
       "      <td>...</td>\n",
       "      <td>...</td>\n",
       "      <td>...</td>\n",
       "      <td>...</td>\n",
       "      <td>...</td>\n",
       "      <td>...</td>\n",
       "      <td>...</td>\n",
       "      <td>...</td>\n",
       "      <td>...</td>\n",
       "      <td>...</td>\n",
       "      <td>...</td>\n",
       "      <td>...</td>\n",
       "      <td>...</td>\n",
       "      <td>...</td>\n",
       "      <td>...</td>\n",
       "      <td>...</td>\n",
       "      <td>...</td>\n",
       "    </tr>\n",
       "    <tr>\n",
       "      <th>207644</th>\n",
       "      <td>296485</td>\n",
       "      <td>Arbre</td>\n",
       "      <td>Alignement</td>\n",
       "      <td>PARIS 8E ARRDT</td>\n",
       "      <td>11</td>\n",
       "      <td>NaN</td>\n",
       "      <td>RUE TRONCHET</td>\n",
       "      <td>000101011</td>\n",
       "      <td>Platane</td>\n",
       "      <td>Platanus</td>\n",
       "      <td>x hispanica</td>\n",
       "      <td>NaN</td>\n",
       "      <td>66</td>\n",
       "      <td>11</td>\n",
       "      <td>Adulte</td>\n",
       "      <td>NON</td>\n",
       "      <td>48.871579281361065,2.3254719334691574</td>\n",
       "    </tr>\n",
       "    <tr>\n",
       "      <th>207645</th>\n",
       "      <td>2028059</td>\n",
       "      <td>Arbre</td>\n",
       "      <td>Jardin</td>\n",
       "      <td>PARIS 14E ARRDT</td>\n",
       "      <td>Ravin / Petite ceinture</td>\n",
       "      <td>NaN</td>\n",
       "      <td>PARC MONTSOURIS / 28 BOULEVARD JOURDAN</td>\n",
       "      <td>052804010</td>\n",
       "      <td>Prunus Fleur n. sp.</td>\n",
       "      <td>Prunus</td>\n",
       "      <td>Fleur n. sp.</td>\n",
       "      <td>NaN</td>\n",
       "      <td>0</td>\n",
       "      <td>0</td>\n",
       "      <td>NaN</td>\n",
       "      <td>NON</td>\n",
       "      <td>48.82173111905671,2.33995186952521</td>\n",
       "    </tr>\n",
       "    <tr>\n",
       "      <th>207646</th>\n",
       "      <td>2030741</td>\n",
       "      <td>Arbre</td>\n",
       "      <td>Jardin</td>\n",
       "      <td>PARIS 15E ARRDT</td>\n",
       "      <td>Cirque BORMANN</td>\n",
       "      <td>NaN</td>\n",
       "      <td>SQUARE CARLO SARRABEZOLLES / 1 RUE RENE RAVAUD</td>\n",
       "      <td>000203004</td>\n",
       "      <td>NaN</td>\n",
       "      <td>Pyrus</td>\n",
       "      <td>n. sp.</td>\n",
       "      <td>NaN</td>\n",
       "      <td>10</td>\n",
       "      <td>3</td>\n",
       "      <td>Jeune (arbre)</td>\n",
       "      <td>NON</td>\n",
       "      <td>48.837729897904175,2.2705410466136247</td>\n",
       "    </tr>\n",
       "    <tr>\n",
       "      <th>207647</th>\n",
       "      <td>240859</td>\n",
       "      <td>Arbre</td>\n",
       "      <td>Alignement</td>\n",
       "      <td>PARIS 14E ARRDT</td>\n",
       "      <td>NaN</td>\n",
       "      <td>NaN</td>\n",
       "      <td>BOULEVARD JOURDAN</td>\n",
       "      <td>000903006</td>\n",
       "      <td>Platane</td>\n",
       "      <td>Platanus</td>\n",
       "      <td>x hispanica</td>\n",
       "      <td>NaN</td>\n",
       "      <td>115</td>\n",
       "      <td>11</td>\n",
       "      <td>Jeune (arbre)Adulte</td>\n",
       "      <td>NON</td>\n",
       "      <td>48.82249609005817,2.328181749257706</td>\n",
       "    </tr>\n",
       "    <tr>\n",
       "      <th>207648</th>\n",
       "      <td>114516</td>\n",
       "      <td>Arbre</td>\n",
       "      <td>Jardin</td>\n",
       "      <td>PARIS 18E ARRDT</td>\n",
       "      <td>Lisière ouest</td>\n",
       "      <td>NaN</td>\n",
       "      <td>SQUARE DE LA RUE RENE BINET / 42 RUE RENE BINET</td>\n",
       "      <td>000101003</td>\n",
       "      <td>Tilleul</td>\n",
       "      <td>Tilia</td>\n",
       "      <td>tomentosa</td>\n",
       "      <td>NaN</td>\n",
       "      <td>140</td>\n",
       "      <td>12</td>\n",
       "      <td>Adulte</td>\n",
       "      <td>NON</td>\n",
       "      <td>48.89942456139436,2.3379841087180497</td>\n",
       "    </tr>\n",
       "  </tbody>\n",
       "</table>\n",
       "<p>207649 rows × 17 columns</p>\n",
       "</div>"
      ],
      "text/plain": [
       "         idbase typeemplacement domanialite   arrondissement  \\\n",
       "0        131979           Arbre      Jardin  PARIS 15E ARRDT   \n",
       "1        200510           Arbre         DJS  PARIS 12E ARRDT   \n",
       "2        256872           Arbre  Alignement  PARIS 19E ARRDT   \n",
       "3        275585           Arbre  Alignement   PARIS 7E ARRDT   \n",
       "4        292397           Arbre  Alignement  PARIS 18E ARRDT   \n",
       "...         ...             ...         ...              ...   \n",
       "207644   296485           Arbre  Alignement   PARIS 8E ARRDT   \n",
       "207645  2028059           Arbre      Jardin  PARIS 14E ARRDT   \n",
       "207646  2030741           Arbre      Jardin  PARIS 15E ARRDT   \n",
       "207647   240859           Arbre  Alignement  PARIS 14E ARRDT   \n",
       "207648   114516           Arbre      Jardin  PARIS 18E ARRDT   \n",
       "\n",
       "              complementadresse  numero  \\\n",
       "0                           NaN     NaN   \n",
       "1                           NaN     NaN   \n",
       "2                           NaN     NaN   \n",
       "3                            C2     NaN   \n",
       "4                             2     NaN   \n",
       "...                         ...     ...   \n",
       "207644                       11     NaN   \n",
       "207645  Ravin / Petite ceinture     NaN   \n",
       "207646           Cirque BORMANN     NaN   \n",
       "207647                      NaN     NaN   \n",
       "207648            Lisière ouest     NaN   \n",
       "\n",
       "                                                  adresse idemplacement  \\\n",
       "0       PARC OMNISPORT SUZANNE LENGLEN / 7 BOULEVARD D...     000520013   \n",
       "1             CENTRE SPORTIF CARNOT / 26 BOULEVARD CARNOT     000103006   \n",
       "2                      PLACE DE LA BATAILLE DE STALINGRAD     000101018   \n",
       "3                                 ESPLANADE DES INVALIDES     000301019   \n",
       "4                                        RUE JEAN COCTEAU     000202002   \n",
       "...                                                   ...           ...   \n",
       "207644                                       RUE TRONCHET     000101011   \n",
       "207645             PARC MONTSOURIS / 28 BOULEVARD JOURDAN     052804010   \n",
       "207646     SQUARE CARLO SARRABEZOLLES / 1 RUE RENE RAVAUD     000203004   \n",
       "207647                                  BOULEVARD JOURDAN     000903006   \n",
       "207648    SQUARE DE LA RUE RENE BINET / 42 RUE RENE BINET     000101003   \n",
       "\n",
       "             libellefrancais           genre        espece varieteoucultivar  \\\n",
       "0                    Sequoia  Sequoiadendron     giganteum               NaN   \n",
       "1                        Pin           Pinus         nigra               NaN   \n",
       "2                   Peuplier         Populus         nigra       ''Italica''   \n",
       "3                    Tilleul           Tilia     tomentosa               NaN   \n",
       "4       Noisetier de Byzance         Corylus       colurna               NaN   \n",
       "...                      ...             ...           ...               ...   \n",
       "207644               Platane        Platanus   x hispanica               NaN   \n",
       "207645   Prunus Fleur n. sp.          Prunus  Fleur n. sp.               NaN   \n",
       "207646                   NaN           Pyrus        n. sp.               NaN   \n",
       "207647               Platane        Platanus   x hispanica               NaN   \n",
       "207648               Tilleul           Tilia     tomentosa               NaN   \n",
       "\n",
       "        circonferenceencm  hauteurenm   stadedeveloppement remarquable  \\\n",
       "0                     229           0                  NaN         NON   \n",
       "1                      80          12               Adulte         NON   \n",
       "2                      35           8        Jeune (arbre)         NON   \n",
       "3                     125          11               Adulte         NON   \n",
       "4                      50           7  Jeune (arbre)Adulte         NON   \n",
       "...                   ...         ...                  ...         ...   \n",
       "207644                 66          11               Adulte         NON   \n",
       "207645                  0           0                  NaN         NON   \n",
       "207646                 10           3        Jeune (arbre)         NON   \n",
       "207647                115          11  Jeune (arbre)Adulte         NON   \n",
       "207648                140          12               Adulte         NON   \n",
       "\n",
       "                                 geo_point_2d  \n",
       "0        48.83092768617471,2.2678132274487957  \n",
       "1        48.84265994838907,2.4117052215873245  \n",
       "2         48.88376222166032,2.369139467977494  \n",
       "3         48.86020303977866,2.312202725796723  \n",
       "4        48.89966347627314,2.3520170246569543  \n",
       "...                                       ...  \n",
       "207644  48.871579281361065,2.3254719334691574  \n",
       "207645     48.82173111905671,2.33995186952521  \n",
       "207646  48.837729897904175,2.2705410466136247  \n",
       "207647    48.82249609005817,2.328181749257706  \n",
       "207648   48.89942456139436,2.3379841087180497  \n",
       "\n",
       "[207649 rows x 17 columns]"
      ]
     },
     "execution_count": 2,
     "metadata": {},
     "output_type": "execute_result"
    }
   ],
   "source": [
    "df   "
   ]
  },
  {
   "cell_type": "markdown",
   "id": "dce687d1-a052-4bdb-9bc9-844eae607c7d",
   "metadata": {},
   "source": [
    "#### On peut analyser la structure ici, nous est renseigné les différents arrondissements d'où proviennent les arbres, leur taille et le type d'arbre. On va s'intéresser ici aux localités et à ces tailles, également à l'âge des arbres qui va nous indiquer dans quel quartier assiste-t-on à un renouveau de la végétation."
   ]
  },
  {
   "cell_type": "code",
   "execution_count": 3,
   "id": "8809fb84-f3f7-42ef-bd73-e5507f50f3bb",
   "metadata": {},
   "outputs": [
    {
     "data": {
      "text/html": [
       "<div>\n",
       "<style scoped>\n",
       "    .dataframe tbody tr th:only-of-type {\n",
       "        vertical-align: middle;\n",
       "    }\n",
       "\n",
       "    .dataframe tbody tr th {\n",
       "        vertical-align: top;\n",
       "    }\n",
       "\n",
       "    .dataframe thead th {\n",
       "        text-align: right;\n",
       "    }\n",
       "</style>\n",
       "<table border=\"1\" class=\"dataframe\">\n",
       "  <thead>\n",
       "    <tr style=\"text-align: right;\">\n",
       "      <th></th>\n",
       "      <th>idbase</th>\n",
       "      <th>numero</th>\n",
       "      <th>circonferenceencm</th>\n",
       "      <th>hauteurenm</th>\n",
       "    </tr>\n",
       "  </thead>\n",
       "  <tbody>\n",
       "    <tr>\n",
       "      <th>count</th>\n",
       "      <td>2.076490e+05</td>\n",
       "      <td>0.0</td>\n",
       "      <td>207649.000000</td>\n",
       "      <td>207649.000000</td>\n",
       "    </tr>\n",
       "    <tr>\n",
       "      <th>mean</th>\n",
       "      <td>4.931537e+05</td>\n",
       "      <td>NaN</td>\n",
       "      <td>81.137265</td>\n",
       "      <td>8.820861</td>\n",
       "    </tr>\n",
       "    <tr>\n",
       "      <th>std</th>\n",
       "      <td>6.631098e+05</td>\n",
       "      <td>NaN</td>\n",
       "      <td>63.007294</td>\n",
       "      <td>6.138698</td>\n",
       "    </tr>\n",
       "    <tr>\n",
       "      <th>min</th>\n",
       "      <td>9.987400e+04</td>\n",
       "      <td>NaN</td>\n",
       "      <td>0.000000</td>\n",
       "      <td>0.000000</td>\n",
       "    </tr>\n",
       "    <tr>\n",
       "      <th>25%</th>\n",
       "      <td>1.606150e+05</td>\n",
       "      <td>NaN</td>\n",
       "      <td>30.000000</td>\n",
       "      <td>5.000000</td>\n",
       "    </tr>\n",
       "    <tr>\n",
       "      <th>50%</th>\n",
       "      <td>2.299070e+05</td>\n",
       "      <td>NaN</td>\n",
       "      <td>70.000000</td>\n",
       "      <td>8.000000</td>\n",
       "    </tr>\n",
       "    <tr>\n",
       "      <th>75%</th>\n",
       "      <td>2.850980e+05</td>\n",
       "      <td>NaN</td>\n",
       "      <td>115.000000</td>\n",
       "      <td>12.000000</td>\n",
       "    </tr>\n",
       "    <tr>\n",
       "      <th>max</th>\n",
       "      <td>2.041581e+06</td>\n",
       "      <td>NaN</td>\n",
       "      <td>1680.000000</td>\n",
       "      <td>710.000000</td>\n",
       "    </tr>\n",
       "  </tbody>\n",
       "</table>\n",
       "</div>"
      ],
      "text/plain": [
       "             idbase  numero  circonferenceencm     hauteurenm\n",
       "count  2.076490e+05     0.0      207649.000000  207649.000000\n",
       "mean   4.931537e+05     NaN          81.137265       8.820861\n",
       "std    6.631098e+05     NaN          63.007294       6.138698\n",
       "min    9.987400e+04     NaN           0.000000       0.000000\n",
       "25%    1.606150e+05     NaN          30.000000       5.000000\n",
       "50%    2.299070e+05     NaN          70.000000       8.000000\n",
       "75%    2.850980e+05     NaN         115.000000      12.000000\n",
       "max    2.041581e+06     NaN        1680.000000     710.000000"
      ]
     },
     "execution_count": 3,
     "metadata": {},
     "output_type": "execute_result"
    }
   ],
   "source": [
    "df.describe()"
   ]
  },
  {
   "cell_type": "markdown",
   "id": "9a438158-dd5d-4e89-9cb9-7c61f0b040f3",
   "metadata": {},
   "source": [
    "#### On fait ici une première vision rapide et on remarque particulièrement la moyenne et les max des tailles. On voit un prolbème sur la hauteur max : 710 mètres parait très invraisemblable. On va donc supprimer la ligne."
   ]
  },
  {
   "cell_type": "code",
   "execution_count": 4,
   "id": "58ee97d0-1a28-4b93-ac7c-d44edeaf35a6",
   "metadata": {
    "tags": []
   },
   "outputs": [
    {
     "data": {
      "text/html": [
       "<div>\n",
       "<style scoped>\n",
       "    .dataframe tbody tr th:only-of-type {\n",
       "        vertical-align: middle;\n",
       "    }\n",
       "\n",
       "    .dataframe tbody tr th {\n",
       "        vertical-align: top;\n",
       "    }\n",
       "\n",
       "    .dataframe thead th {\n",
       "        text-align: right;\n",
       "    }\n",
       "</style>\n",
       "<table border=\"1\" class=\"dataframe\">\n",
       "  <thead>\n",
       "    <tr style=\"text-align: right;\">\n",
       "      <th></th>\n",
       "      <th>idbase</th>\n",
       "      <th>typeemplacement</th>\n",
       "      <th>domanialite</th>\n",
       "      <th>arrondissement</th>\n",
       "      <th>complementadresse</th>\n",
       "      <th>numero</th>\n",
       "      <th>adresse</th>\n",
       "      <th>idemplacement</th>\n",
       "      <th>libellefrancais</th>\n",
       "      <th>genre</th>\n",
       "      <th>espece</th>\n",
       "      <th>varieteoucultivar</th>\n",
       "      <th>circonferenceencm</th>\n",
       "      <th>hauteurenm</th>\n",
       "      <th>stadedeveloppement</th>\n",
       "      <th>remarquable</th>\n",
       "      <th>geo_point_2d</th>\n",
       "    </tr>\n",
       "  </thead>\n",
       "  <tbody>\n",
       "    <tr>\n",
       "      <th>65886</th>\n",
       "      <td>221137</td>\n",
       "      <td>Arbre</td>\n",
       "      <td>Alignement</td>\n",
       "      <td>PARIS 15E ARRDT</td>\n",
       "      <td>78</td>\n",
       "      <td>NaN</td>\n",
       "      <td>AVENUE DE BRETEUIL</td>\n",
       "      <td>000504002</td>\n",
       "      <td>Platane</td>\n",
       "      <td>Platanus</td>\n",
       "      <td>x hispanica</td>\n",
       "      <td>NaN</td>\n",
       "      <td>70</td>\n",
       "      <td>710</td>\n",
       "      <td>Jeune (arbre)Adulte</td>\n",
       "      <td>NON</td>\n",
       "      <td>48.846749081334885,2.3112479619465374</td>\n",
       "    </tr>\n",
       "  </tbody>\n",
       "</table>\n",
       "</div>"
      ],
      "text/plain": [
       "       idbase typeemplacement domanialite   arrondissement complementadresse  \\\n",
       "65886  221137           Arbre  Alignement  PARIS 15E ARRDT                78   \n",
       "\n",
       "       numero             adresse idemplacement libellefrancais     genre  \\\n",
       "65886     NaN  AVENUE DE BRETEUIL     000504002         Platane  Platanus   \n",
       "\n",
       "            espece varieteoucultivar  circonferenceencm  hauteurenm  \\\n",
       "65886  x hispanica               NaN                 70         710   \n",
       "\n",
       "        stadedeveloppement remarquable                           geo_point_2d  \n",
       "65886  Jeune (arbre)Adulte         NON  48.846749081334885,2.3112479619465374  "
      ]
     },
     "execution_count": 4,
     "metadata": {},
     "output_type": "execute_result"
    }
   ],
   "source": [
    "h=df.groupby(by='hauteurenm')\n",
    "h.get_group(710)  ##on cherche d'abord la ligne correspondante (on aurait pu directement supprimer mais cela nous donne l'info)"
   ]
  },
  {
   "cell_type": "code",
   "execution_count": 5,
   "id": "c27f2920-f8bd-4e36-b869-334cc38a4977",
   "metadata": {
    "tags": []
   },
   "outputs": [],
   "source": [
    "df.drop(df.loc[df['hauteurenm']==710].index, inplace=True)  ##on utilise un drop pour cela puis on vérifie"
   ]
  },
  {
   "cell_type": "code",
   "execution_count": 6,
   "id": "a74473ea-dbc4-4614-9317-2fc141f079b1",
   "metadata": {
    "tags": []
   },
   "outputs": [
    {
     "data": {
      "text/html": [
       "<div>\n",
       "<style scoped>\n",
       "    .dataframe tbody tr th:only-of-type {\n",
       "        vertical-align: middle;\n",
       "    }\n",
       "\n",
       "    .dataframe tbody tr th {\n",
       "        vertical-align: top;\n",
       "    }\n",
       "\n",
       "    .dataframe thead th {\n",
       "        text-align: right;\n",
       "    }\n",
       "</style>\n",
       "<table border=\"1\" class=\"dataframe\">\n",
       "  <thead>\n",
       "    <tr style=\"text-align: right;\">\n",
       "      <th></th>\n",
       "      <th>idbase</th>\n",
       "      <th>numero</th>\n",
       "      <th>circonferenceencm</th>\n",
       "      <th>hauteurenm</th>\n",
       "    </tr>\n",
       "  </thead>\n",
       "  <tbody>\n",
       "    <tr>\n",
       "      <th>count</th>\n",
       "      <td>2.076480e+05</td>\n",
       "      <td>0.0</td>\n",
       "      <td>207648.000000</td>\n",
       "      <td>207648.000000</td>\n",
       "    </tr>\n",
       "    <tr>\n",
       "      <th>mean</th>\n",
       "      <td>4.931550e+05</td>\n",
       "      <td>NaN</td>\n",
       "      <td>81.137319</td>\n",
       "      <td>8.817484</td>\n",
       "    </tr>\n",
       "    <tr>\n",
       "      <th>std</th>\n",
       "      <td>6.631112e+05</td>\n",
       "      <td>NaN</td>\n",
       "      <td>63.007441</td>\n",
       "      <td>5.942731</td>\n",
       "    </tr>\n",
       "    <tr>\n",
       "      <th>min</th>\n",
       "      <td>9.987400e+04</td>\n",
       "      <td>NaN</td>\n",
       "      <td>0.000000</td>\n",
       "      <td>0.000000</td>\n",
       "    </tr>\n",
       "    <tr>\n",
       "      <th>25%</th>\n",
       "      <td>1.606148e+05</td>\n",
       "      <td>NaN</td>\n",
       "      <td>30.000000</td>\n",
       "      <td>5.000000</td>\n",
       "    </tr>\n",
       "    <tr>\n",
       "      <th>50%</th>\n",
       "      <td>2.299075e+05</td>\n",
       "      <td>NaN</td>\n",
       "      <td>70.000000</td>\n",
       "      <td>8.000000</td>\n",
       "    </tr>\n",
       "    <tr>\n",
       "      <th>75%</th>\n",
       "      <td>2.850982e+05</td>\n",
       "      <td>NaN</td>\n",
       "      <td>115.000000</td>\n",
       "      <td>12.000000</td>\n",
       "    </tr>\n",
       "    <tr>\n",
       "      <th>max</th>\n",
       "      <td>2.041581e+06</td>\n",
       "      <td>NaN</td>\n",
       "      <td>1680.000000</td>\n",
       "      <td>119.000000</td>\n",
       "    </tr>\n",
       "  </tbody>\n",
       "</table>\n",
       "</div>"
      ],
      "text/plain": [
       "             idbase  numero  circonferenceencm     hauteurenm\n",
       "count  2.076480e+05     0.0      207648.000000  207648.000000\n",
       "mean   4.931550e+05     NaN          81.137319       8.817484\n",
       "std    6.631112e+05     NaN          63.007441       5.942731\n",
       "min    9.987400e+04     NaN           0.000000       0.000000\n",
       "25%    1.606148e+05     NaN          30.000000       5.000000\n",
       "50%    2.299075e+05     NaN          70.000000       8.000000\n",
       "75%    2.850982e+05     NaN         115.000000      12.000000\n",
       "max    2.041581e+06     NaN        1680.000000     119.000000"
      ]
     },
     "execution_count": 6,
     "metadata": {},
     "output_type": "execute_result"
    }
   ],
   "source": [
    "df.describe() "
   ]
  },
  {
   "cell_type": "markdown",
   "id": "1a5561df-a663-4b0e-89d9-2ec0d66b974b",
   "metadata": {},
   "source": [
    "#### Encore une erreur dans la data car 119 mètres..."
   ]
  },
  {
   "cell_type": "code",
   "execution_count": 7,
   "id": "87f49bc4-64ee-4bc8-91ed-2ca106b91f07",
   "metadata": {},
   "outputs": [
    {
     "data": {
      "text/html": [
       "<div>\n",
       "<style scoped>\n",
       "    .dataframe tbody tr th:only-of-type {\n",
       "        vertical-align: middle;\n",
       "    }\n",
       "\n",
       "    .dataframe tbody tr th {\n",
       "        vertical-align: top;\n",
       "    }\n",
       "\n",
       "    .dataframe thead th {\n",
       "        text-align: right;\n",
       "    }\n",
       "</style>\n",
       "<table border=\"1\" class=\"dataframe\">\n",
       "  <thead>\n",
       "    <tr style=\"text-align: right;\">\n",
       "      <th></th>\n",
       "      <th>idbase</th>\n",
       "      <th>numero</th>\n",
       "      <th>circonferenceencm</th>\n",
       "      <th>hauteurenm</th>\n",
       "    </tr>\n",
       "  </thead>\n",
       "  <tbody>\n",
       "    <tr>\n",
       "      <th>count</th>\n",
       "      <td>2.076470e+05</td>\n",
       "      <td>0.0</td>\n",
       "      <td>207647.000000</td>\n",
       "      <td>207647.000000</td>\n",
       "    </tr>\n",
       "    <tr>\n",
       "      <th>mean</th>\n",
       "      <td>4.931566e+05</td>\n",
       "      <td>NaN</td>\n",
       "      <td>81.136501</td>\n",
       "      <td>8.816954</td>\n",
       "    </tr>\n",
       "    <tr>\n",
       "      <th>std</th>\n",
       "      <td>6.631123e+05</td>\n",
       "      <td>NaN</td>\n",
       "      <td>63.006490</td>\n",
       "      <td>5.937824</td>\n",
       "    </tr>\n",
       "    <tr>\n",
       "      <th>min</th>\n",
       "      <td>9.987400e+04</td>\n",
       "      <td>NaN</td>\n",
       "      <td>0.000000</td>\n",
       "      <td>0.000000</td>\n",
       "    </tr>\n",
       "    <tr>\n",
       "      <th>25%</th>\n",
       "      <td>1.606155e+05</td>\n",
       "      <td>NaN</td>\n",
       "      <td>30.000000</td>\n",
       "      <td>5.000000</td>\n",
       "    </tr>\n",
       "    <tr>\n",
       "      <th>50%</th>\n",
       "      <td>2.299080e+05</td>\n",
       "      <td>NaN</td>\n",
       "      <td>70.000000</td>\n",
       "      <td>8.000000</td>\n",
       "    </tr>\n",
       "    <tr>\n",
       "      <th>75%</th>\n",
       "      <td>2.850985e+05</td>\n",
       "      <td>NaN</td>\n",
       "      <td>115.000000</td>\n",
       "      <td>12.000000</td>\n",
       "    </tr>\n",
       "    <tr>\n",
       "      <th>max</th>\n",
       "      <td>2.041581e+06</td>\n",
       "      <td>NaN</td>\n",
       "      <td>1680.000000</td>\n",
       "      <td>116.000000</td>\n",
       "    </tr>\n",
       "  </tbody>\n",
       "</table>\n",
       "</div>"
      ],
      "text/plain": [
       "             idbase  numero  circonferenceencm     hauteurenm\n",
       "count  2.076470e+05     0.0      207647.000000  207647.000000\n",
       "mean   4.931566e+05     NaN          81.136501       8.816954\n",
       "std    6.631123e+05     NaN          63.006490       5.937824\n",
       "min    9.987400e+04     NaN           0.000000       0.000000\n",
       "25%    1.606155e+05     NaN          30.000000       5.000000\n",
       "50%    2.299080e+05     NaN          70.000000       8.000000\n",
       "75%    2.850985e+05     NaN         115.000000      12.000000\n",
       "max    2.041581e+06     NaN        1680.000000     116.000000"
      ]
     },
     "execution_count": 7,
     "metadata": {},
     "output_type": "execute_result"
    }
   ],
   "source": [
    "df.drop(df.loc[df['hauteurenm']==119].index, inplace=True)\n",
    "df.describe()  ##même problème obtenu... On va refaire l'opération. (il y aurait plus rapide on pourrait regarder combien il y en a)"
   ]
  },
  {
   "cell_type": "code",
   "execution_count": 8,
   "id": "2ee03ae0-9f0c-4400-8f3a-3b9e77f625e0",
   "metadata": {
    "tags": []
   },
   "outputs": [
    {
     "data": {
      "text/html": [
       "<div>\n",
       "<style scoped>\n",
       "    .dataframe tbody tr th:only-of-type {\n",
       "        vertical-align: middle;\n",
       "    }\n",
       "\n",
       "    .dataframe tbody tr th {\n",
       "        vertical-align: top;\n",
       "    }\n",
       "\n",
       "    .dataframe thead th {\n",
       "        text-align: right;\n",
       "    }\n",
       "</style>\n",
       "<table border=\"1\" class=\"dataframe\">\n",
       "  <thead>\n",
       "    <tr style=\"text-align: right;\">\n",
       "      <th></th>\n",
       "      <th>idbase</th>\n",
       "      <th>numero</th>\n",
       "      <th>circonferenceencm</th>\n",
       "      <th>hauteurenm</th>\n",
       "    </tr>\n",
       "  </thead>\n",
       "  <tbody>\n",
       "    <tr>\n",
       "      <th>count</th>\n",
       "      <td>2.076460e+05</td>\n",
       "      <td>0.0</td>\n",
       "      <td>207646.000000</td>\n",
       "      <td>207646.000000</td>\n",
       "    </tr>\n",
       "    <tr>\n",
       "      <th>mean</th>\n",
       "      <td>4.931583e+05</td>\n",
       "      <td>NaN</td>\n",
       "      <td>81.136140</td>\n",
       "      <td>8.816438</td>\n",
       "    </tr>\n",
       "    <tr>\n",
       "      <th>std</th>\n",
       "      <td>6.631135e+05</td>\n",
       "      <td>NaN</td>\n",
       "      <td>63.006428</td>\n",
       "      <td>5.933178</td>\n",
       "    </tr>\n",
       "    <tr>\n",
       "      <th>min</th>\n",
       "      <td>9.987400e+04</td>\n",
       "      <td>NaN</td>\n",
       "      <td>0.000000</td>\n",
       "      <td>0.000000</td>\n",
       "    </tr>\n",
       "    <tr>\n",
       "      <th>25%</th>\n",
       "      <td>1.606162e+05</td>\n",
       "      <td>NaN</td>\n",
       "      <td>30.000000</td>\n",
       "      <td>5.000000</td>\n",
       "    </tr>\n",
       "    <tr>\n",
       "      <th>50%</th>\n",
       "      <td>2.299085e+05</td>\n",
       "      <td>NaN</td>\n",
       "      <td>70.000000</td>\n",
       "      <td>8.000000</td>\n",
       "    </tr>\n",
       "    <tr>\n",
       "      <th>75%</th>\n",
       "      <td>2.850988e+05</td>\n",
       "      <td>NaN</td>\n",
       "      <td>115.000000</td>\n",
       "      <td>12.000000</td>\n",
       "    </tr>\n",
       "    <tr>\n",
       "      <th>max</th>\n",
       "      <td>2.041581e+06</td>\n",
       "      <td>NaN</td>\n",
       "      <td>1680.000000</td>\n",
       "      <td>78.000000</td>\n",
       "    </tr>\n",
       "  </tbody>\n",
       "</table>\n",
       "</div>"
      ],
      "text/plain": [
       "             idbase  numero  circonferenceencm     hauteurenm\n",
       "count  2.076460e+05     0.0      207646.000000  207646.000000\n",
       "mean   4.931583e+05     NaN          81.136140       8.816438\n",
       "std    6.631135e+05     NaN          63.006428       5.933178\n",
       "min    9.987400e+04     NaN           0.000000       0.000000\n",
       "25%    1.606162e+05     NaN          30.000000       5.000000\n",
       "50%    2.299085e+05     NaN          70.000000       8.000000\n",
       "75%    2.850988e+05     NaN         115.000000      12.000000\n",
       "max    2.041581e+06     NaN        1680.000000      78.000000"
      ]
     },
     "execution_count": 8,
     "metadata": {},
     "output_type": "execute_result"
    }
   ],
   "source": [
    "df.drop(df.loc[df['hauteurenm']==116].index, inplace=True)\n",
    "df.describe() "
   ]
  },
  {
   "cell_type": "markdown",
   "id": "961b97aa-7d5e-4f6a-9074-bf3b82a694b0",
   "metadata": {},
   "source": [
    "#### C'est déjà mieux même si cela reste aberrant. Cependant on verra plus tard qu'il y a peu de tailles faussées donc cela ne va pas changer grand chose."
   ]
  },
  {
   "cell_type": "code",
   "execution_count": 9,
   "id": "adb14c9b-3e3b-46a4-b957-96ebfc46a5e3",
   "metadata": {
    "tags": []
   },
   "outputs": [
    {
     "data": {
      "text/plain": [
       "idbase                  int64\n",
       "typeemplacement        object\n",
       "domanialite            object\n",
       "arrondissement         object\n",
       "complementadresse      object\n",
       "numero                float64\n",
       "adresse                object\n",
       "idemplacement          object\n",
       "libellefrancais        object\n",
       "genre                  object\n",
       "espece                 object\n",
       "varieteoucultivar      object\n",
       "circonferenceencm       int64\n",
       "hauteurenm              int64\n",
       "stadedeveloppement     object\n",
       "remarquable            object\n",
       "geo_point_2d           object\n",
       "dtype: object"
      ]
     },
     "execution_count": 9,
     "metadata": {},
     "output_type": "execute_result"
    }
   ],
   "source": [
    "df.dtypes  ##nous aide dans la manipulation des objets plus tard"
   ]
  },
  {
   "cell_type": "code",
   "execution_count": 10,
   "id": "8147385c-623e-4001-a56e-0e34ede91558",
   "metadata": {
    "tags": []
   },
   "outputs": [],
   "source": [
    "by_arrondissement = df.groupby(by='arrondissement')\n",
    "by_age = df.groupby(by='stadedeveloppement')  ##on rassemble en groupe selon arrondissement et âge pour visualiser le nombre. On aurait pu raisonner simplement sur les colonnes. "
   ]
  },
  {
   "cell_type": "code",
   "execution_count": 11,
   "id": "7bf57703-1d46-45c6-81e5-6785ce470e3a",
   "metadata": {
    "tags": []
   },
   "outputs": [
    {
     "data": {
      "text/plain": [
       "arrondissement\n",
       "PARIS 2E ARRDT         551\n",
       "PARIS 3E ARRDT        1271\n",
       "PARIS 9E ARRDT        1375\n",
       "PARIS 1ER ARRDT       1630\n",
       "PARIS 6E ARRDT        1787\n",
       "PARIS 5E ARRDT        2643\n",
       "PARIS 4E ARRDT        2765\n",
       "PARIS 10E ARRDT       3609\n",
       "BOIS DE BOULOGNE      4133\n",
       "HAUTS-DE-SEINE        5338\n",
       "PARIS 11E ARRDT       6032\n",
       "PARIS 8E ARRDT        7476\n",
       "VAL-DE-MARNE          7579\n",
       "PARIS 7E ARRDT        8731\n",
       "PARIS 18E ARRDT      10688\n",
       "PARIS 14E ARRDT      11593\n",
       "PARIS 17E ARRDT      11750\n",
       "BOIS DE VINCENNES    11850\n",
       "SEINE-SAINT-DENIS    12134\n",
       "PARIS 12E ARRDT      12840\n",
       "PARIS 19E ARRDT      14899\n",
       "PARIS 20E ARRDT      15606\n",
       "PARIS 13E ARRDT      17018\n",
       "PARIS 16E ARRDT      17094\n",
       "PARIS 15E ARRDT      17254\n",
       "dtype: int64"
      ]
     },
     "execution_count": 11,
     "metadata": {},
     "output_type": "execute_result"
    }
   ],
   "source": [
    "by_arrondissement.size().sort_values() ##on affiche les données dans l'ordre croissant pour plus de visibilité"
   ]
  },
  {
   "cell_type": "code",
   "execution_count": 12,
   "id": "abefde86-4575-4eb5-a676-70d2f8c98ae3",
   "metadata": {
    "tags": []
   },
   "outputs": [
    {
     "data": {
      "text/plain": [
       "<Axes: xlabel='arrondissement'>"
      ]
     },
     "execution_count": 12,
     "metadata": {},
     "output_type": "execute_result"
    },
    {
     "data": {
      "image/png": "[encoded data removed]",
      "text/plain": [
       "<Figure size 640x480 with 1 Axes>"
      ]
     },
     "metadata": {},
     "output_type": "display_data"
    }
   ],
   "source": [
    "df.arrondissement.value_counts().plot(kind='bar') ##on trace ici les données "
   ]
  },
  {
   "cell_type": "markdown",
   "id": "2d05cfde-8647-4f1d-886d-166c13d20aec",
   "metadata": {},
   "source": [
    "#### On voit que ce sont plutôt les quartiers résidentiels qui abritent le plus grand nombre d'arbres alors que les quartiers plus historiques comme le marais abritent moins d'arbres. Il faut néanmoins prendre en compte la taille des arrondissements. Pour cela on va joindre un autre fichier csv. De plus on aurait pu croire que les bois de Boulogne et de Vincennes abriteraient plus d'arbres."
   ]
  },
  {
   "cell_type": "code",
   "execution_count": 13,
   "id": "5e195dd8-cf38-4d59-a02a-533a64a842f9",
   "metadata": {
    "tags": []
   },
   "outputs": [],
   "source": [
    "url2 = \"arrondissements-3.csv\"\n",
    "df2 = pd.read_csv(url2, sep=';')  "
   ]
  },
  {
   "cell_type": "code",
   "execution_count": 14,
   "id": "ba789bc5-30d9-4a7f-b5d4-9af296474f48",
   "metadata": {
    "tags": []
   },
   "outputs": [
    {
     "data": {
      "text/html": [
       "<div>\n",
       "<style scoped>\n",
       "    .dataframe tbody tr th:only-of-type {\n",
       "        vertical-align: middle;\n",
       "    }\n",
       "\n",
       "    .dataframe tbody tr th {\n",
       "        vertical-align: top;\n",
       "    }\n",
       "\n",
       "    .dataframe thead th {\n",
       "        text-align: right;\n",
       "    }\n",
       "</style>\n",
       "<table border=\"1\" class=\"dataframe\">\n",
       "  <thead>\n",
       "    <tr style=\"text-align: right;\">\n",
       "      <th></th>\n",
       "      <th>n_sq_ar</th>\n",
       "      <th>c_ar</th>\n",
       "      <th>c_arinsee</th>\n",
       "      <th>l_ar</th>\n",
       "      <th>l_aroff</th>\n",
       "      <th>n_sq_co</th>\n",
       "      <th>surface</th>\n",
       "      <th>perimetre</th>\n",
       "      <th>geom_x_y</th>\n",
       "      <th>geom</th>\n",
       "    </tr>\n",
       "  </thead>\n",
       "  <tbody>\n",
       "    <tr>\n",
       "      <th>0</th>\n",
       "      <td>750000003</td>\n",
       "      <td>3.0</td>\n",
       "      <td>75103.0</td>\n",
       "      <td>3√®me Ardt</td>\n",
       "      <td>Temple</td>\n",
       "      <td>750001537.0</td>\n",
       "      <td>1.170883e+06</td>\n",
       "      <td>4519.263648</td>\n",
       "      <td>48.862872380016924,2.360000985897691</td>\n",
       "      <td>{\"coordinates\": [[[2.3638280960629254, 48.8675...</td>\n",
       "    </tr>\n",
       "    <tr>\n",
       "      <th>1</th>\n",
       "      <td>750000009</td>\n",
       "      <td>9.0</td>\n",
       "      <td>75109.0</td>\n",
       "      <td>9√®me Ardt</td>\n",
       "      <td>Op√©ra</td>\n",
       "      <td>750001537.0</td>\n",
       "      <td>2.178303e+06</td>\n",
       "      <td>6471.588290</td>\n",
       "      <td>48.877163517328796,2.337457543482544</td>\n",
       "      <td>{\"coordinates\": [[[2.3397765430833624, 48.8820...</td>\n",
       "    </tr>\n",
       "    <tr>\n",
       "      <th>2</th>\n",
       "      <td>750000005</td>\n",
       "      <td>5.0</td>\n",
       "      <td>75105.0</td>\n",
       "      <td>5√®me Ardt</td>\n",
       "      <td>Panth√©on</td>\n",
       "      <td>750001537.0</td>\n",
       "      <td>2.539375e+06</td>\n",
       "      <td>6239.195396</td>\n",
       "      <td>48.844443150532726,2.3507146095752596</td>\n",
       "      <td>{\"coordinates\": [[[2.364433128355796, 48.84614...</td>\n",
       "    </tr>\n",
       "    <tr>\n",
       "      <th>3</th>\n",
       "      <td>750000019</td>\n",
       "      <td>19.0</td>\n",
       "      <td>75119.0</td>\n",
       "      <td>19√®me Ardt</td>\n",
       "      <td>Buttes-Chaumont</td>\n",
       "      <td>750001537.0</td>\n",
       "      <td>6.792651e+06</td>\n",
       "      <td>11253.182479</td>\n",
       "      <td>48.8870759965725,2.384820960152513</td>\n",
       "      <td>{\"coordinates\": [[[2.3894286961321605, 48.9012...</td>\n",
       "    </tr>\n",
       "    <tr>\n",
       "      <th>4</th>\n",
       "      <td>750000001</td>\n",
       "      <td>1.0</td>\n",
       "      <td>75101.0</td>\n",
       "      <td>1er Ardt</td>\n",
       "      <td>Louvre</td>\n",
       "      <td>750001537.0</td>\n",
       "      <td>1.824613e+06</td>\n",
       "      <td>6054.936862</td>\n",
       "      <td>48.86256270183607,2.3364433620533878</td>\n",
       "      <td>{\"coordinates\": [[[2.328007329038849, 48.86991...</td>\n",
       "    </tr>\n",
       "  </tbody>\n",
       "</table>\n",
       "</div>"
      ],
      "text/plain": [
       "     n_sq_ar  c_ar  c_arinsee         l_ar          l_aroff      n_sq_co  \\\n",
       "0  750000003   3.0    75103.0   3√®me Ardt           Temple  750001537.0   \n",
       "1  750000009   9.0    75109.0   9√®me Ardt           Op√©ra  750001537.0   \n",
       "2  750000005   5.0    75105.0   5√®me Ardt        Panth√©on  750001537.0   \n",
       "3  750000019  19.0    75119.0  19√®me Ardt  Buttes-Chaumont  750001537.0   \n",
       "4  750000001   1.0    75101.0     1er Ardt           Louvre  750001537.0   \n",
       "\n",
       "        surface     perimetre                               geom_x_y  \\\n",
       "0  1.170883e+06   4519.263648   48.862872380016924,2.360000985897691   \n",
       "1  2.178303e+06   6471.588290   48.877163517328796,2.337457543482544   \n",
       "2  2.539375e+06   6239.195396  48.844443150532726,2.3507146095752596   \n",
       "3  6.792651e+06  11253.182479     48.8870759965725,2.384820960152513   \n",
       "4  1.824613e+06   6054.936862   48.86256270183607,2.3364433620533878   \n",
       "\n",
       "                                                geom  \n",
       "0  {\"coordinates\": [[[2.3638280960629254, 48.8675...  \n",
       "1  {\"coordinates\": [[[2.3397765430833624, 48.8820...  \n",
       "2  {\"coordinates\": [[[2.364433128355796, 48.84614...  \n",
       "3  {\"coordinates\": [[[2.3894286961321605, 48.9012...  \n",
       "4  {\"coordinates\": [[[2.328007329038849, 48.86991...  "
      ]
     },
     "execution_count": 14,
     "metadata": {},
     "output_type": "execute_result"
    }
   ],
   "source": [
    "df2.head()"
   ]
  },
  {
   "cell_type": "markdown",
   "id": "6e45202d-6da8-470f-94a7-be0f744bc2cc",
   "metadata": {},
   "source": [
    "### On gardera les erreurs d'orthographe car on veut seulement les surfaces."
   ]
  },
  {
   "cell_type": "code",
   "execution_count": 15,
   "id": "a94aac4a-3afb-46b2-bef6-55ed28fbf8bd",
   "metadata": {
    "tags": []
   },
   "outputs": [
    {
     "data": {
      "text/plain": [
       "l_ar\n",
       "2√®me Ardt     9.911537e+05\n",
       "3√®me Ardt     1.170883e+06\n",
       "4√®me Ardt     1.600586e+06\n",
       "1er Ardt       1.824613e+06\n",
       "6√®me Ardt     2.153096e+06\n",
       "9√®me Ardt     2.178303e+06\n",
       "5√®me Ardt     2.539375e+06\n",
       "10√®me Ardt    2.891739e+06\n",
       "11√®me Ardt    3.665442e+06\n",
       "8√®me Ardt     3.880036e+06\n",
       "7√®me Ardt     4.090057e+06\n",
       "14√®me Ardt    5.614877e+06\n",
       "17√®me Ardt    5.668835e+06\n",
       "20√®me Ardt    5.983446e+06\n",
       "18√®me Ardt    5.996051e+06\n",
       "19√®me Ardt    6.792651e+06\n",
       "13√®me Ardt    7.149311e+06\n",
       "15√®me Ardt    8.494994e+06\n",
       "12√®me Ardt    1.631478e+07\n",
       "16√®me Ardt    1.637254e+07\n",
       "NaN                     NaN\n",
       "Name: surface, dtype: float64"
      ]
     },
     "execution_count": 15,
     "metadata": {},
     "output_type": "execute_result"
    }
   ],
   "source": [
    "df2 = df2.set_index(\"l_ar\")\n",
    "df2.surface.sort_values()"
   ]
  },
  {
   "cell_type": "markdown",
   "id": "faa2a355-2632-4db2-9e99-5a4835d5dbdc",
   "metadata": {},
   "source": [
    "#### On voit bien ici qu'il y a un lien direct entre les surfaces les plus grandes et le nombre d'arbres. "
   ]
  },
  {
   "cell_type": "code",
   "execution_count": 16,
   "id": "5e2329cc-3915-4ad1-963e-a419705b318b",
   "metadata": {
    "tags": []
   },
   "outputs": [
    {
     "data": {
      "text/plain": [
       "207646"
      ]
     },
     "execution_count": 16,
     "metadata": {},
     "output_type": "execute_result"
    }
   ],
   "source": [
    "sum(by_arrondissement.size()) ##on cherche ici le nombre total d'arbres à Paris "
   ]
  },
  {
   "cell_type": "code",
   "execution_count": 17,
   "id": "3bb54f25-9ef2-471f-99c1-3c6852517350",
   "metadata": {
    "tags": []
   },
   "outputs": [
    {
     "data": {
      "text/plain": [
       "stadedeveloppement\n",
       "Adulte                 78516\n",
       "Jeune (arbre)          36442\n",
       "Jeune (arbre)Adulte    38515\n",
       "Mature                  7414\n",
       "dtype: int64"
      ]
     },
     "execution_count": 17,
     "metadata": {},
     "output_type": "execute_result"
    }
   ],
   "source": [
    "by_age.size() "
   ]
  },
  {
   "cell_type": "markdown",
   "id": "fdfe0cd3-c0b4-4096-ab5c-911f91e0b8e3",
   "metadata": {},
   "source": [
    "#### On travaille maintenant sur l'âge des arbres dans sa globalité puis dans chaque quartier. Il y a majoritairement des arbres adultes."
   ]
  },
  {
   "cell_type": "code",
   "execution_count": 18,
   "id": "210fe2ad-8554-49f9-a1ee-882fc3ac6962",
   "metadata": {
    "tags": []
   },
   "outputs": [
    {
     "data": {
      "text/plain": [
       "genre\n",
       "Abelia               1\n",
       "Enkianthus           1\n",
       "Euscaphis            1\n",
       "Exochorda            1\n",
       "Garrya               1\n",
       "                 ...  \n",
       "Styphnolobium    11588\n",
       "Acer             19272\n",
       "Tilia            22128\n",
       "Aesculus         24857\n",
       "Platanus         42621\n",
       "Length: 182, dtype: int64"
      ]
     },
     "execution_count": 18,
     "metadata": {},
     "output_type": "execute_result"
    }
   ],
   "source": [
    "by_genre = df.groupby(by='genre')\n",
    "by_genre.size().sort_values()   ##permet de trier dans l'ordre croissant les valeurs voulues"
   ]
  },
  {
   "cell_type": "code",
   "execution_count": 19,
   "id": "2aa4225f-4c79-49e0-9c31-b894cf472ffb",
   "metadata": {
    "tags": []
   },
   "outputs": [
    {
     "data": {
      "text/plain": [
       "genre\n",
       "Platanus         42621\n",
       "Aesculus         24857\n",
       "Tilia            22128\n",
       "Acer             19272\n",
       "Styphnolobium    11588\n",
       "                 ...  \n",
       "Genista              1\n",
       "Acca                 1\n",
       "Stachyurus           1\n",
       "Argyrocytisus        1\n",
       "Idesia               1\n",
       "Name: count, Length: 182, dtype: int64"
      ]
     },
     "execution_count": 19,
     "metadata": {},
     "output_type": "execute_result"
    }
   ],
   "source": [
    "df.genre.value_counts() ##même opération que précédemment mais cette fois-ci on travaille directement sur la colonne."
   ]
  },
  {
   "cell_type": "markdown",
   "id": "38a797e3-5ca4-47f7-8a52-86dcca8d445f",
   "metadata": {},
   "source": [
    "#### Je ne sais pas trop quoi tirer des espèces d'arbres..."
   ]
  },
  {
   "cell_type": "code",
   "execution_count": 20,
   "id": "83f49c07-9b25-462f-a7c3-72334b93237f",
   "metadata": {
    "tags": []
   },
   "outputs": [
    {
     "name": "stdout",
     "output_type": "stream",
     "text": [
      "1680 0\n"
     ]
    }
   ],
   "source": [
    "print(df['circonferenceencm'].max(),df['circonferenceencm'].min())"
   ]
  },
  {
   "cell_type": "code",
   "execution_count": 21,
   "id": "e97a3eca-9cee-474e-bb83-6e10183a556d",
   "metadata": {
    "tags": []
   },
   "outputs": [
    {
     "name": "stdout",
     "output_type": "stream",
     "text": [
      "16.8 0.0\n"
     ]
    }
   ],
   "source": [
    "df['circonferenceenm']=df.circonferenceencm/100\n",
    "print(df['circonferenceenm'].max(),df['circonferenceenm'].min())"
   ]
  },
  {
   "cell_type": "markdown",
   "id": "1505368d-3859-4376-a462-c60025e3bc52",
   "metadata": {},
   "source": [
    "#### J'ai aussi transformé la circonférence en m pour une meilleure vision. On voit que certains arbres qui viennent d'être plantés ont une taille nulle, ce qui est logique. \n"
   ]
  },
  {
   "cell_type": "code",
   "execution_count": 22,
   "id": "010992c7-4232-4c41-9ff4-fdefbdf27888",
   "metadata": {
    "tags": []
   },
   "outputs": [
    {
     "name": "stdout",
     "output_type": "stream",
     "text": [
      "78 0\n"
     ]
    }
   ],
   "source": [
    "print(df['hauteurenm'].max(),df['hauteurenm'].min())"
   ]
  },
  {
   "cell_type": "code",
   "execution_count": 23,
   "id": "c72edfae-6542-408e-8908-a49c03b9aebc",
   "metadata": {
    "tags": []
   },
   "outputs": [
    {
     "data": {
      "text/plain": [
       "<Axes: xlabel='hauteurenm'>"
      ]
     },
     "execution_count": 23,
     "metadata": {},
     "output_type": "execute_result"
    },
    {
     "data": {
      "image/png": "[encoded data removed]",
      "text/plain": [
       "<Figure size 640x480 with 1 Axes>"
      ]
     },
     "metadata": {},
     "output_type": "display_data"
    }
   ],
   "source": [
    "df.hauteurenm.value_counts().plot() "
   ]
  },
  {
   "cell_type": "code",
   "execution_count": 24,
   "id": "e38884ce-1693-4551-ad51-7d63d7dfcfdb",
   "metadata": {
    "tags": []
   },
   "outputs": [
    {
     "data": {
      "text/plain": [
       "<Axes: xlabel='hauteurenm'>"
      ]
     },
     "execution_count": 24,
     "metadata": {},
     "output_type": "execute_result"
    },
    {
     "data": {
      "image/png": "[encoded data removed]",
      "text/plain": [
       "<Figure size 640x480 with 1 Axes>"
      ]
     },
     "metadata": {},
     "output_type": "display_data"
    }
   ],
   "source": [
    "df.hauteurenm.value_counts().plot(kind='bar') "
   ]
  },
  {
   "cell_type": "markdown",
   "id": "b8572b33-79c0-4ef0-8853-e101fa26eba2",
   "metadata": {},
   "source": [
    "#### J'ai tracé le graphe en bâtons premièrement mais l'échelle de l'abscisse n'était pas très visible. On se rend mieux compte du phénomène avec le graphe classique : plus la taille est petite plus il y a d'arbres. Idem pour la circonférence ci-dessous."
   ]
  },
  {
   "cell_type": "code",
   "execution_count": 25,
   "id": "e045a4f9-4982-451e-a7a7-c96d4c2ffc10",
   "metadata": {
    "tags": []
   },
   "outputs": [
    {
     "data": {
      "text/plain": [
       "<Axes: xlabel='circonferenceenm'>"
      ]
     },
     "execution_count": 25,
     "metadata": {},
     "output_type": "execute_result"
    },
    {
     "data": {
      "image/png": "[encoded data removed]",
      "text/plain": [
       "<Figure size 640x480 with 1 Axes>"
      ]
     },
     "metadata": {},
     "output_type": "display_data"
    }
   ],
   "source": [
    "df.circonferenceenm.value_counts().plot() "
   ]
  },
  {
   "cell_type": "code",
   "execution_count": 26,
   "id": "3636b6c2-c15c-4015-af37-1c94ff1e3a30",
   "metadata": {
    "tags": []
   },
   "outputs": [
    {
     "data": {
      "text/plain": [
       "<Axes: title={'center': \"Circonférence dans l'ordre croissant\"}, xlabel='circonferenceencm'>"
      ]
     },
     "execution_count": 26,
     "metadata": {},
     "output_type": "execute_result"
    },
    {
     "data": {
      "image/png": "[encoded data removed]",
      "text/plain": [
       "<Figure size 640x480 with 1 Axes>"
      ]
     },
     "metadata": {},
     "output_type": "display_data"
    }
   ],
   "source": [
    "df.circonferenceencm.value_counts().plot(kind='bar',title=\"Circonférence dans l'ordre croissant\")   ##on voit que majorité de petits arbres "
   ]
  },
  {
   "cell_type": "code",
   "execution_count": 27,
   "id": "d817445a-6274-41f2-927e-773f3d7eea73",
   "metadata": {
    "tags": []
   },
   "outputs": [
    {
     "data": {
      "text/plain": [
       "0         False\n",
       "1         False\n",
       "2         False\n",
       "3         False\n",
       "4         False\n",
       "          ...  \n",
       "207644    False\n",
       "207645    False\n",
       "207646    False\n",
       "207647    False\n",
       "207648    False\n",
       "Name: hauteurenm, Length: 207646, dtype: bool"
      ]
     },
     "execution_count": 27,
     "metadata": {},
     "output_type": "execute_result"
    }
   ],
   "source": [
    "df.hauteurenm==20"
   ]
  },
  {
   "cell_type": "markdown",
   "id": "8428af6e-cc13-46d5-8268-6dc9d5b1d448",
   "metadata": {},
   "source": [
    "#### On va maintenant chercher à voir quel quartier possède les arbres les plus grands."
   ]
  },
  {
   "cell_type": "code",
   "execution_count": 28,
   "id": "acc2feb0-125c-40b5-802f-fbb15c29b262",
   "metadata": {
    "tags": []
   },
   "outputs": [],
   "source": [
    "df['taille']=pd.cut(df['hauteurenm'],bins=[ -1,10, 100],labels=['petit', ' grand'])  ##on sépare en 2 nos valeurs, en considérant grand un arbre de plus de 10 mètres"
   ]
  },
  {
   "cell_type": "code",
   "execution_count": 29,
   "id": "faaea439-9351-4f6a-b027-70667e9e70e1",
   "metadata": {
    "tags": []
   },
   "outputs": [
    {
     "data": {
      "text/html": [
       "<div>\n",
       "<style scoped>\n",
       "    .dataframe tbody tr th:only-of-type {\n",
       "        vertical-align: middle;\n",
       "    }\n",
       "\n",
       "    .dataframe tbody tr th {\n",
       "        vertical-align: top;\n",
       "    }\n",
       "\n",
       "    .dataframe thead th {\n",
       "        text-align: right;\n",
       "    }\n",
       "</style>\n",
       "<table border=\"1\" class=\"dataframe\">\n",
       "  <thead>\n",
       "    <tr style=\"text-align: right;\">\n",
       "      <th></th>\n",
       "      <th>idbase</th>\n",
       "      <th>typeemplacement</th>\n",
       "      <th>domanialite</th>\n",
       "      <th>arrondissement</th>\n",
       "      <th>complementadresse</th>\n",
       "      <th>numero</th>\n",
       "      <th>adresse</th>\n",
       "      <th>idemplacement</th>\n",
       "      <th>libellefrancais</th>\n",
       "      <th>genre</th>\n",
       "      <th>espece</th>\n",
       "      <th>varieteoucultivar</th>\n",
       "      <th>circonferenceencm</th>\n",
       "      <th>hauteurenm</th>\n",
       "      <th>stadedeveloppement</th>\n",
       "      <th>remarquable</th>\n",
       "      <th>geo_point_2d</th>\n",
       "      <th>circonferenceenm</th>\n",
       "      <th>taille</th>\n",
       "    </tr>\n",
       "  </thead>\n",
       "  <tbody>\n",
       "    <tr>\n",
       "      <th>0</th>\n",
       "      <td>131979</td>\n",
       "      <td>Arbre</td>\n",
       "      <td>Jardin</td>\n",
       "      <td>PARIS 15E ARRDT</td>\n",
       "      <td>NaN</td>\n",
       "      <td>NaN</td>\n",
       "      <td>PARC OMNISPORT SUZANNE LENGLEN / 7 BOULEVARD D...</td>\n",
       "      <td>000520013</td>\n",
       "      <td>Sequoia</td>\n",
       "      <td>Sequoiadendron</td>\n",
       "      <td>giganteum</td>\n",
       "      <td>NaN</td>\n",
       "      <td>229</td>\n",
       "      <td>0</td>\n",
       "      <td>NaN</td>\n",
       "      <td>NON</td>\n",
       "      <td>48.83092768617471,2.2678132274487957</td>\n",
       "      <td>2.29</td>\n",
       "      <td>petit</td>\n",
       "    </tr>\n",
       "    <tr>\n",
       "      <th>1</th>\n",
       "      <td>200510</td>\n",
       "      <td>Arbre</td>\n",
       "      <td>DJS</td>\n",
       "      <td>PARIS 12E ARRDT</td>\n",
       "      <td>NaN</td>\n",
       "      <td>NaN</td>\n",
       "      <td>CENTRE SPORTIF CARNOT / 26 BOULEVARD CARNOT</td>\n",
       "      <td>000103006</td>\n",
       "      <td>Pin</td>\n",
       "      <td>Pinus</td>\n",
       "      <td>nigra</td>\n",
       "      <td>NaN</td>\n",
       "      <td>80</td>\n",
       "      <td>12</td>\n",
       "      <td>Adulte</td>\n",
       "      <td>NON</td>\n",
       "      <td>48.84265994838907,2.4117052215873245</td>\n",
       "      <td>0.80</td>\n",
       "      <td>grand</td>\n",
       "    </tr>\n",
       "    <tr>\n",
       "      <th>2</th>\n",
       "      <td>256872</td>\n",
       "      <td>Arbre</td>\n",
       "      <td>Alignement</td>\n",
       "      <td>PARIS 19E ARRDT</td>\n",
       "      <td>NaN</td>\n",
       "      <td>NaN</td>\n",
       "      <td>PLACE DE LA BATAILLE DE STALINGRAD</td>\n",
       "      <td>000101018</td>\n",
       "      <td>Peuplier</td>\n",
       "      <td>Populus</td>\n",
       "      <td>nigra</td>\n",
       "      <td>''Italica''</td>\n",
       "      <td>35</td>\n",
       "      <td>8</td>\n",
       "      <td>Jeune (arbre)</td>\n",
       "      <td>NON</td>\n",
       "      <td>48.88376222166032,2.369139467977494</td>\n",
       "      <td>0.35</td>\n",
       "      <td>petit</td>\n",
       "    </tr>\n",
       "    <tr>\n",
       "      <th>3</th>\n",
       "      <td>275585</td>\n",
       "      <td>Arbre</td>\n",
       "      <td>Alignement</td>\n",
       "      <td>PARIS 7E ARRDT</td>\n",
       "      <td>C2</td>\n",
       "      <td>NaN</td>\n",
       "      <td>ESPLANADE DES INVALIDES</td>\n",
       "      <td>000301019</td>\n",
       "      <td>Tilleul</td>\n",
       "      <td>Tilia</td>\n",
       "      <td>tomentosa</td>\n",
       "      <td>NaN</td>\n",
       "      <td>125</td>\n",
       "      <td>11</td>\n",
       "      <td>Adulte</td>\n",
       "      <td>NON</td>\n",
       "      <td>48.86020303977866,2.312202725796723</td>\n",
       "      <td>1.25</td>\n",
       "      <td>grand</td>\n",
       "    </tr>\n",
       "    <tr>\n",
       "      <th>4</th>\n",
       "      <td>292397</td>\n",
       "      <td>Arbre</td>\n",
       "      <td>Alignement</td>\n",
       "      <td>PARIS 18E ARRDT</td>\n",
       "      <td>2</td>\n",
       "      <td>NaN</td>\n",
       "      <td>RUE JEAN COCTEAU</td>\n",
       "      <td>000202002</td>\n",
       "      <td>Noisetier de Byzance</td>\n",
       "      <td>Corylus</td>\n",
       "      <td>colurna</td>\n",
       "      <td>NaN</td>\n",
       "      <td>50</td>\n",
       "      <td>7</td>\n",
       "      <td>Jeune (arbre)Adulte</td>\n",
       "      <td>NON</td>\n",
       "      <td>48.89966347627314,2.3520170246569543</td>\n",
       "      <td>0.50</td>\n",
       "      <td>petit</td>\n",
       "    </tr>\n",
       "  </tbody>\n",
       "</table>\n",
       "</div>"
      ],
      "text/plain": [
       "   idbase typeemplacement domanialite   arrondissement complementadresse  \\\n",
       "0  131979           Arbre      Jardin  PARIS 15E ARRDT               NaN   \n",
       "1  200510           Arbre         DJS  PARIS 12E ARRDT               NaN   \n",
       "2  256872           Arbre  Alignement  PARIS 19E ARRDT               NaN   \n",
       "3  275585           Arbre  Alignement   PARIS 7E ARRDT                C2   \n",
       "4  292397           Arbre  Alignement  PARIS 18E ARRDT                 2   \n",
       "\n",
       "   numero                                            adresse idemplacement  \\\n",
       "0     NaN  PARC OMNISPORT SUZANNE LENGLEN / 7 BOULEVARD D...     000520013   \n",
       "1     NaN        CENTRE SPORTIF CARNOT / 26 BOULEVARD CARNOT     000103006   \n",
       "2     NaN                 PLACE DE LA BATAILLE DE STALINGRAD     000101018   \n",
       "3     NaN                            ESPLANADE DES INVALIDES     000301019   \n",
       "4     NaN                                   RUE JEAN COCTEAU     000202002   \n",
       "\n",
       "        libellefrancais           genre     espece varieteoucultivar  \\\n",
       "0               Sequoia  Sequoiadendron  giganteum               NaN   \n",
       "1                   Pin           Pinus      nigra               NaN   \n",
       "2              Peuplier         Populus      nigra       ''Italica''   \n",
       "3               Tilleul           Tilia  tomentosa               NaN   \n",
       "4  Noisetier de Byzance         Corylus    colurna               NaN   \n",
       "\n",
       "   circonferenceencm  hauteurenm   stadedeveloppement remarquable  \\\n",
       "0                229           0                  NaN         NON   \n",
       "1                 80          12               Adulte         NON   \n",
       "2                 35           8        Jeune (arbre)         NON   \n",
       "3                125          11               Adulte         NON   \n",
       "4                 50           7  Jeune (arbre)Adulte         NON   \n",
       "\n",
       "                           geo_point_2d  circonferenceenm  taille  \n",
       "0  48.83092768617471,2.2678132274487957              2.29   petit  \n",
       "1  48.84265994838907,2.4117052215873245              0.80   grand  \n",
       "2   48.88376222166032,2.369139467977494              0.35   petit  \n",
       "3   48.86020303977866,2.312202725796723              1.25   grand  \n",
       "4  48.89966347627314,2.3520170246569543              0.50   petit  "
      ]
     },
     "execution_count": 29,
     "metadata": {},
     "output_type": "execute_result"
    }
   ],
   "source": [
    "df.head()"
   ]
  },
  {
   "cell_type": "code",
   "execution_count": 30,
   "id": "f4274d93-9532-4e35-8278-863bb5dfd2f5",
   "metadata": {
    "tags": []
   },
   "outputs": [],
   "source": [
    "by_taille=df.groupby(by='taille')"
   ]
  },
  {
   "cell_type": "code",
   "execution_count": 31,
   "id": "1ea420ce-f2d5-48b4-a30c-068b407b7430",
   "metadata": {
    "tags": []
   },
   "outputs": [
    {
     "data": {
      "text/plain": [
       "taille\n",
       "petit     142274\n",
       " grand     65372\n",
       "dtype: int64"
      ]
     },
     "execution_count": 31,
     "metadata": {},
     "output_type": "execute_result"
    }
   ],
   "source": [
    "by_taille.size()"
   ]
  },
  {
   "cell_type": "code",
   "execution_count": 32,
   "id": "08df0813-c663-4690-8518-fd0c45b4cf03",
   "metadata": {
    "tags": []
   },
   "outputs": [
    {
     "data": {
      "text/html": [
       "<div>\n",
       "<style scoped>\n",
       "    .dataframe tbody tr th:only-of-type {\n",
       "        vertical-align: middle;\n",
       "    }\n",
       "\n",
       "    .dataframe tbody tr th {\n",
       "        vertical-align: top;\n",
       "    }\n",
       "\n",
       "    .dataframe thead th {\n",
       "        text-align: right;\n",
       "    }\n",
       "</style>\n",
       "<table border=\"1\" class=\"dataframe\">\n",
       "  <thead>\n",
       "    <tr style=\"text-align: right;\">\n",
       "      <th></th>\n",
       "      <th>idbase</th>\n",
       "      <th>typeemplacement</th>\n",
       "      <th>domanialite</th>\n",
       "      <th>arrondissement</th>\n",
       "      <th>complementadresse</th>\n",
       "      <th>numero</th>\n",
       "      <th>adresse</th>\n",
       "      <th>idemplacement</th>\n",
       "      <th>libellefrancais</th>\n",
       "      <th>genre</th>\n",
       "      <th>espece</th>\n",
       "      <th>varieteoucultivar</th>\n",
       "      <th>circonferenceencm</th>\n",
       "      <th>hauteurenm</th>\n",
       "      <th>stadedeveloppement</th>\n",
       "      <th>remarquable</th>\n",
       "      <th>geo_point_2d</th>\n",
       "      <th>circonferenceenm</th>\n",
       "      <th>taille</th>\n",
       "    </tr>\n",
       "  </thead>\n",
       "  <tbody>\n",
       "  </tbody>\n",
       "</table>\n",
       "</div>"
      ],
      "text/plain": [
       "Empty DataFrame\n",
       "Columns: [idbase, typeemplacement, domanialite, arrondissement, complementadresse, numero, adresse, idemplacement, libellefrancais, genre, espece, varieteoucultivar, circonferenceencm, hauteurenm, stadedeveloppement, remarquable, geo_point_2d, circonferenceenm, taille]\n",
       "Index: []"
      ]
     },
     "execution_count": 32,
     "metadata": {},
     "output_type": "execute_result"
    }
   ],
   "source": [
    "df_grand = df[df.taille==\"grand\"].copy()\n",
    "df_grand.head()   ##ça n'a pas marché alors que ça avait marché pour le covid..."
   ]
  },
  {
   "cell_type": "code",
   "execution_count": 33,
   "id": "c0983e57-b11b-4261-af1d-576671997682",
   "metadata": {
    "tags": []
   },
   "outputs": [],
   "source": [
    "#df_grand.arrondissement.value_counts().plot(kind='bar')"
   ]
  },
  {
   "cell_type": "code",
   "execution_count": 34,
   "id": "0d040ce3-4eb7-4932-b945-55da538a41d5",
   "metadata": {
    "tags": []
   },
   "outputs": [
    {
     "data": {
      "text/plain": [
       "<Axes: xlabel='typeemplacement'>"
      ]
     },
     "execution_count": 34,
     "metadata": {},
     "output_type": "execute_result"
    },
    {
     "data": {
      "image/png": "[encoded data removed]",
      "text/plain": [
       "<Figure size 640x480 with 1 Axes>"
      ]
     },
     "metadata": {},
     "output_type": "display_data"
    }
   ],
   "source": [
    "df.typeemplacement.value_counts().plot(kind='bar')  ##que des arbres "
   ]
  },
  {
   "cell_type": "markdown",
   "id": "711ce44c-b08b-40dc-b140-d4ef5150610f",
   "metadata": {},
   "source": [
    "#### On va maintenant regarder la part des arbres jeunes dans chaque quartier."
   ]
  },
  {
   "cell_type": "code",
   "execution_count": 35,
   "id": "ec472257-93af-4b79-9737-9b0be934de2d",
   "metadata": {
    "tags": []
   },
   "outputs": [],
   "source": [
    "by_arrondissement_developpement = df.groupby(['arrondissement', 'stadedeveloppement'])  "
   ]
  },
  {
   "cell_type": "code",
   "execution_count": 36,
   "id": "7c25753f-a89a-4a00-8d95-e5f4d5f98ca7",
   "metadata": {
    "tags": []
   },
   "outputs": [
    {
     "data": {
      "text/plain": [
       "arrondissement     stadedeveloppement \n",
       "BOIS DE BOULOGNE   Adulte                 1916\n",
       "                   Jeune (arbre)           710\n",
       "                   Jeune (arbre)Adulte     937\n",
       "                   Mature                  183\n",
       "BOIS DE VINCENNES  Adulte                 4440\n",
       "                                          ... \n",
       "SEINE-SAINT-DENIS  Mature                  465\n",
       "VAL-DE-MARNE       Adulte                 1743\n",
       "                   Jeune (arbre)           543\n",
       "                   Jeune (arbre)Adulte     694\n",
       "                   Mature                  564\n",
       "Length: 100, dtype: int64"
      ]
     },
     "execution_count": 36,
     "metadata": {},
     "output_type": "execute_result"
    }
   ],
   "source": [
    "by_arrondissement_developpement.size()"
   ]
  },
  {
   "cell_type": "code",
   "execution_count": 37,
   "id": "91170b54-013d-4f11-9379-943f417afe16",
   "metadata": {
    "tags": []
   },
   "outputs": [
    {
     "name": "stdout",
     "output_type": "stream",
     "text": [
      "there were 1916 Adulte in class BOIS DE BOULOGNE \n",
      "there were 710 Jeune (arbre) in class BOIS DE BOULOGNE \n",
      "there were 937 Jeune (arbre)Adulte in class BOIS DE BOULOGNE \n",
      "there were 183 Mature in class BOIS DE BOULOGNE \n",
      "there were 4440 Adulte in class BOIS DE VINCENNES \n",
      "there were 2822 Jeune (arbre) in class BOIS DE VINCENNES \n",
      "there were 1642 Jeune (arbre)Adulte in class BOIS DE VINCENNES \n",
      "there were 238 Mature in class BOIS DE VINCENNES \n",
      "there were 342 Adulte in class HAUTS-DE-SEINE \n",
      "there were 108 Jeune (arbre) in class HAUTS-DE-SEINE \n",
      "there were 236 Jeune (arbre)Adulte in class HAUTS-DE-SEINE \n",
      "there were 41 Mature in class HAUTS-DE-SEINE \n",
      "there were 1822 Adulte in class PARIS 10E ARRDT \n",
      "there were 519 Jeune (arbre) in class PARIS 10E ARRDT \n",
      "there were 569 Jeune (arbre)Adulte in class PARIS 10E ARRDT \n",
      "there were 287 Mature in class PARIS 10E ARRDT \n",
      "there were 2246 Adulte in class PARIS 11E ARRDT \n",
      "there were 1054 Jeune (arbre) in class PARIS 11E ARRDT \n",
      "there were 1584 Jeune (arbre)Adulte in class PARIS 11E ARRDT \n",
      "there were 14 Mature in class PARIS 11E ARRDT \n",
      "there were 5825 Adulte in class PARIS 12E ARRDT \n",
      "there were 1406 Jeune (arbre) in class PARIS 12E ARRDT \n",
      "there were 3203 Jeune (arbre)Adulte in class PARIS 12E ARRDT \n",
      "there were 111 Mature in class PARIS 12E ARRDT \n",
      "there were 5056 Adulte in class PARIS 13E ARRDT \n",
      "there were 3520 Jeune (arbre) in class PARIS 13E ARRDT \n",
      "there were 4149 Jeune (arbre)Adulte in class PARIS 13E ARRDT \n",
      "there were 537 Mature in class PARIS 13E ARRDT \n",
      "there were 2617 Adulte in class PARIS 14E ARRDT \n",
      "there were 4108 Jeune (arbre) in class PARIS 14E ARRDT \n",
      "there were 3358 Jeune (arbre)Adulte in class PARIS 14E ARRDT \n",
      "there were 425 Mature in class PARIS 14E ARRDT \n",
      "there were 6495 Adulte in class PARIS 15E ARRDT \n",
      "there were 1047 Jeune (arbre) in class PARIS 15E ARRDT \n",
      "there were 2259 Jeune (arbre)Adulte in class PARIS 15E ARRDT \n",
      "there were 133 Mature in class PARIS 15E ARRDT \n",
      "there were 7577 Adulte in class PARIS 16E ARRDT \n",
      "there were 2901 Jeune (arbre) in class PARIS 16E ARRDT \n",
      "there were 3302 Jeune (arbre)Adulte in class PARIS 16E ARRDT \n",
      "there were 1230 Mature in class PARIS 16E ARRDT \n",
      "there were 4783 Adulte in class PARIS 17E ARRDT \n",
      "there were 3677 Jeune (arbre) in class PARIS 17E ARRDT \n",
      "there were 2295 Jeune (arbre)Adulte in class PARIS 17E ARRDT \n",
      "there were 433 Mature in class PARIS 17E ARRDT \n",
      "there were 3728 Adulte in class PARIS 18E ARRDT \n",
      "there were 2778 Jeune (arbre) in class PARIS 18E ARRDT \n",
      "there were 2649 Jeune (arbre)Adulte in class PARIS 18E ARRDT \n",
      "there were 685 Mature in class PARIS 18E ARRDT \n",
      "there were 4766 Adulte in class PARIS 19E ARRDT \n",
      "there were 2839 Jeune (arbre) in class PARIS 19E ARRDT \n",
      "there were 2346 Jeune (arbre)Adulte in class PARIS 19E ARRDT \n",
      "there were 643 Mature in class PARIS 19E ARRDT \n",
      "there were 654 Adulte in class PARIS 1ER ARRDT \n",
      "there were 178 Jeune (arbre) in class PARIS 1ER ARRDT \n",
      "there were 652 Jeune (arbre)Adulte in class PARIS 1ER ARRDT \n",
      "there were 7 Mature in class PARIS 1ER ARRDT \n",
      "there were 8342 Adulte in class PARIS 20E ARRDT \n",
      "there were 2706 Jeune (arbre) in class PARIS 20E ARRDT \n",
      "there were 3386 Jeune (arbre)Adulte in class PARIS 20E ARRDT \n",
      "there were 264 Mature in class PARIS 20E ARRDT \n",
      "there were 354 Adulte in class PARIS 2E ARRDT \n",
      "there were 73 Jeune (arbre) in class PARIS 2E ARRDT \n",
      "there were 77 Jeune (arbre)Adulte in class PARIS 2E ARRDT \n",
      "there were 17 Mature in class PARIS 2E ARRDT \n",
      "there were 710 Adulte in class PARIS 3E ARRDT \n",
      "there were 200 Jeune (arbre) in class PARIS 3E ARRDT \n",
      "there were 281 Jeune (arbre)Adulte in class PARIS 3E ARRDT \n",
      "there were 42 Mature in class PARIS 3E ARRDT \n",
      "there were 1264 Adulte in class PARIS 4E ARRDT \n",
      "there were 405 Jeune (arbre) in class PARIS 4E ARRDT \n",
      "there were 560 Jeune (arbre)Adulte in class PARIS 4E ARRDT \n",
      "there were 27 Mature in class PARIS 4E ARRDT \n",
      "there were 987 Adulte in class PARIS 5E ARRDT \n",
      "there were 537 Jeune (arbre) in class PARIS 5E ARRDT \n",
      "there were 337 Jeune (arbre)Adulte in class PARIS 5E ARRDT \n",
      "there were 161 Mature in class PARIS 5E ARRDT \n",
      "there were 696 Adulte in class PARIS 6E ARRDT \n",
      "there were 472 Jeune (arbre) in class PARIS 6E ARRDT \n",
      "there were 424 Jeune (arbre)Adulte in class PARIS 6E ARRDT \n",
      "there were 106 Mature in class PARIS 6E ARRDT \n",
      "there were 4786 Adulte in class PARIS 7E ARRDT \n",
      "there were 1536 Jeune (arbre) in class PARIS 7E ARRDT \n",
      "there were 1562 Jeune (arbre)Adulte in class PARIS 7E ARRDT \n",
      "there were 322 Mature in class PARIS 7E ARRDT \n",
      "there were 4435 Adulte in class PARIS 8E ARRDT \n",
      "there were 1111 Jeune (arbre) in class PARIS 8E ARRDT \n",
      "there were 1263 Jeune (arbre)Adulte in class PARIS 8E ARRDT \n",
      "there were 446 Mature in class PARIS 8E ARRDT \n",
      "there were 771 Adulte in class PARIS 9E ARRDT \n",
      "there were 293 Jeune (arbre) in class PARIS 9E ARRDT \n",
      "there were 131 Jeune (arbre)Adulte in class PARIS 9E ARRDT \n",
      "there were 33 Mature in class PARIS 9E ARRDT \n",
      "there were 2161 Adulte in class SEINE-SAINT-DENIS \n",
      "there were 899 Jeune (arbre) in class SEINE-SAINT-DENIS \n",
      "there were 619 Jeune (arbre)Adulte in class SEINE-SAINT-DENIS \n",
      "there were 465 Mature in class SEINE-SAINT-DENIS \n",
      "there were 1743 Adulte in class VAL-DE-MARNE \n",
      "there were 543 Jeune (arbre) in class VAL-DE-MARNE \n",
      "there were 694 Jeune (arbre)Adulte in class VAL-DE-MARNE \n",
      "there were 564 Mature in class VAL-DE-MARNE \n"
     ]
    }
   ],
   "source": [
    "for (arrondissement, developpement), subdf in by_arrondissement_developpement:\n",
    "    print(f\"there were {len(subdf)} {developpement} in class {arrondissement} \")"
   ]
  },
  {
   "cell_type": "markdown",
   "id": "8bcaabe7-3a14-457d-9c93-73b9fe675839",
   "metadata": {
    "tags": []
   },
   "source": [
    "#### Pour conclure, on a pu voir qu'une majorité des arbres présents étaient adultes, que la majorité des arbres se trouvaient dans les quartiers résidentiels. De plus, on a pu explorer la taille de ces arbres."
   ]
  },
  {
   "cell_type": "markdown",
   "id": "d40f87bc-7b81-4142-b3ad-74f3d87ee273",
   "metadata": {},
   "source": [
    "## FIN"
   ]
  }
 ],
 "metadata": {
  "kernelspec": {
   "display_name": "Python 3 (ipykernel)",
   "language": "python",
   "name": "python3"
  },
  "language_info": {
   "codemirror_mode": {
    "name": "ipython",
    "version": 3
   },
   "file_extension": ".py",
   "mimetype": "text/x-python",
   "name": "python",
   "nbconvert_exporter": "python",
   "pygments_lexer": "ipython3",
   "version": "3.11.5"
  }
 },
 "nbformat": 4,
 "nbformat_minor": 5
}
